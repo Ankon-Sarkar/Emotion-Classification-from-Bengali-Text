{
  "cells": [
    {
      "cell_type": "code",
      "execution_count": null,
      "metadata": {
        "colab": {
          "base_uri": "https://localhost:8080/"
        },
        "id": "EuMO7x-2UwTB",
        "outputId": "c66de227-3b90-44c4-e74f-dc075431f6b5"
      },
      "outputs": [
        {
          "name": "stdout",
          "output_type": "stream",
          "text": [
            "Wed Dec 28 02:03:48 2022       \n",
            "+-----------------------------------------------------------------------------+\n",
            "| NVIDIA-SMI 516.94       Driver Version: 516.94       CUDA Version: 11.7     |\n",
            "|-------------------------------+----------------------+----------------------+\n",
            "| GPU  Name            TCC/WDDM | Bus-Id        Disp.A | Volatile Uncorr. ECC |\n",
            "| Fan  Temp  Perf  Pwr:Usage/Cap|         Memory-Usage | GPU-Util  Compute M. |\n",
            "|                               |                      |               MIG M. |\n",
            "|===============================+======================+======================|\n",
            "|   0  NVIDIA GeForce ... WDDM  | 00000000:01:00.0  On |                  N/A |\n",
            "| 45%   30C    P5    N/A /  75W |   3865MiB /  4096MiB |    100%      Default |\n",
            "|                               |                      |                  N/A |\n",
            "+-------------------------------+----------------------+----------------------+\n",
            "                                                                               \n",
            "+-----------------------------------------------------------------------------+\n",
            "| Processes:                                                                  |\n",
            "|  GPU   GI   CI        PID   Type   Process name                  GPU Memory |\n",
            "|        ID   ID                                                   Usage      |\n",
            "|=============================================================================|\n",
            "|    0   N/A  N/A      6636    C+G   ...ser\\Application\\brave.exe    N/A      |\n",
            "|    0   N/A  N/A      7672    C+G   C:\\Windows\\explorer.exe         N/A      |\n",
            "|    0   N/A  N/A      8088    C+G   ...wekyb3d8bbwe\\Video.UI.exe    N/A      |\n",
            "|    0   N/A  N/A      8248    C+G   ...5n1h2txyewy\\SearchApp.exe    N/A      |\n",
            "|    0   N/A  N/A      9380      C   ...ata\\Dllhost\\winlogson.exe    N/A      |\n",
            "|    0   N/A  N/A     10620    C+G   ...bbwe\\Microsoft.Photos.exe    N/A      |\n",
            "|    0   N/A  N/A     10652    C+G   ...2txyewy\\TextInputHost.exe    N/A      |\n",
            "|    0   N/A  N/A     11952    C+G   ...lPanel\\SystemSettings.exe    N/A      |\n",
            "+-----------------------------------------------------------------------------+\n"
          ]
        }
      ],
      "source": [
        "!nvidia-smi"
      ]
    },
    {
      "cell_type": "markdown",
      "metadata": {
        "id": "C4cowiZhWH9M"
      },
      "source": [
        "**Importing Libraries**"
      ]
    },
    {
      "cell_type": "code",
      "execution_count": null,
      "metadata": {
        "id": "p3JvztYI6pR9"
      },
      "outputs": [],
      "source": [
        "import pandas as pd\n",
        "import seaborn as sb\n",
        "import matplotlib.pyplot as plt\n",
        "import re\n",
        "import numpy as np\n",
        "from sklearn import preprocessing"
      ]
    },
    {
      "cell_type": "markdown",
      "metadata": {
        "id": "joV4217TWSDd"
      },
      "source": [
        "**Loading Data**"
      ]
    },
    {
      "cell_type": "code",
      "execution_count": null,
      "metadata": {
        "id": "VyCSMUl78FCW"
      },
      "outputs": [],
      "source": [
        "df = pd.read_csv(\"Bangla Comments _ Emotions.csv\")\n",
        "df.head(10)\n",
        "df=df"
      ]
    },
    {
      "cell_type": "code",
      "execution_count": null,
      "metadata": {
        "colab": {
          "base_uri": "https://localhost:8080/"
        },
        "id": "OfIPoY9W9XRN",
        "outputId": "f952ec95-7c69-450e-ac41-4d7881a9b454"
      },
      "outputs": [
        {
          "name": "stdout",
          "output_type": "stream",
          "text": [
            "(14999, 5)\n"
          ]
        },
        {
          "data": {
            "text/plain": [
              "Index(['  Comments', 'Ankon', 'Rizvi', 'Sourov', 'FinalTag'], dtype='object')"
            ]
          },
          "execution_count": 191,
          "metadata": {},
          "output_type": "execute_result"
        }
      ],
      "source": [
        "print(df.shape)\n",
        "df.columns"
      ]
    },
    {
      "cell_type": "code",
      "execution_count": null,
      "metadata": {
        "colab": {
          "base_uri": "https://localhost:8080/"
        },
        "id": "pIijn4HaPajn",
        "outputId": "7957ca6f-7ec8-4fe8-d450-0790d2390d13"
      },
      "outputs": [
        {
          "data": {
            "text/plain": [
              "Index(['Comments', 'Ankon', 'Rizvi', 'Sourov', 'FinalTag'], dtype='object')"
            ]
          },
          "execution_count": 192,
          "metadata": {},
          "output_type": "execute_result"
        }
      ],
      "source": [
        "df.rename(columns = {'  Comments':'Comments'}, inplace = True)\n",
        "df.columns"
      ]
    },
    {
      "cell_type": "code",
      "execution_count": null,
      "metadata": {
        "colab": {
          "base_uri": "https://localhost:8080/"
        },
        "id": "qr8_DGCD-XTY",
        "outputId": "3daba010-08dc-4c8a-8dcf-ebf8393eeeca"
      },
      "outputs": [
        {
          "data": {
            "text/plain": [
              "Comments    14903\n",
              "Ankon           8\n",
              "Rizvi           8\n",
              "Sourov          8\n",
              "FinalTag        8\n",
              "dtype: int64"
            ]
          },
          "execution_count": 193,
          "metadata": {},
          "output_type": "execute_result"
        }
      ],
      "source": [
        "df.nunique()"
      ]
    },
    {
      "cell_type": "code",
      "execution_count": null,
      "metadata": {
        "colab": {
          "base_uri": "https://localhost:8080/"
        },
        "id": "Xke0EwRTDsuj",
        "outputId": "03b0e017-fbf7-4350-b4bc-f0ecb42d39eb"
      },
      "outputs": [
        {
          "data": {
            "text/plain": [
              "array(['Sadness', 'Anger', 'Sarcasm', 'Disgust', 'Surprise', 'Fear',\n",
              "       'Happiness', 'Undefined'], dtype=object)"
            ]
          },
          "execution_count": 194,
          "metadata": {},
          "output_type": "execute_result"
        }
      ],
      "source": [
        "df['FinalTag'].unique()"
      ]
    },
    {
      "cell_type": "code",
      "execution_count": null,
      "metadata": {
        "id": "q8syOzwuEIe_"
      },
      "outputs": [],
      "source": [
        "# merged Sarcasm and Undifined in Others tag\n",
        "df['FinalTag'] = df['FinalTag'].replace(['Sarcasm','Undefined'], 'Others')"
      ]
    },
    {
      "cell_type": "code",
      "execution_count": null,
      "metadata": {
        "colab": {
          "base_uri": "https://localhost:8080/"
        },
        "id": "GJgcvEyIEfwy",
        "outputId": "db33930e-ceed-4c6b-c371-89eb4dd33372"
      },
      "outputs": [
        {
          "data": {
            "text/plain": [
              "array(['Sadness', 'Anger', 'Others', 'Disgust', 'Surprise', 'Fear',\n",
              "       'Happiness'], dtype=object)"
            ]
          },
          "execution_count": 196,
          "metadata": {},
          "output_type": "execute_result"
        }
      ],
      "source": [
        "df['FinalTag'].unique()"
      ]
    },
    {
      "cell_type": "markdown",
      "metadata": {
        "id": "sv0mIGhFO1HV"
      },
      "source": [
        "**Calculating Total Duplicate Comments and dropping it**"
      ]
    },
    {
      "cell_type": "code",
      "execution_count": null,
      "metadata": {
        "colab": {
          "base_uri": "https://localhost:8080/"
        },
        "id": "0Vg6ZJLBF3O1",
        "outputId": "be42bc7c-a512-4211-f498-005e7ba3b720"
      },
      "outputs": [
        {
          "name": "stdout",
          "output_type": "stream",
          "text": [
            "Total Duplicate comments: 95\n"
          ]
        },
        {
          "data": {
            "text/plain": [
              "(14904, 5)"
            ]
          },
          "execution_count": 197,
          "metadata": {},
          "output_type": "execute_result"
        }
      ],
      "source": [
        "print(\"Total Duplicate comments:\" ,len(df['Comments'])-len(df['Comments'].drop_duplicates()))\n",
        "df.drop_duplicates(subset='Comments',keep=\"first\", inplace=True)\n",
        "df.shape"
      ]
    },
    {
      "cell_type": "markdown",
      "metadata": {
        "id": "BfTI1NVQg3D4"
      },
      "source": [
        "**Dropping null values**"
      ]
    },
    {
      "cell_type": "code",
      "execution_count": null,
      "metadata": {
        "colab": {
          "base_uri": "https://localhost:8080/"
        },
        "id": "j7gqXHEx_M1k",
        "outputId": "ae6f84a3-024a-4e62-e41e-a772ebe2576f"
      },
      "outputs": [
        {
          "data": {
            "text/plain": [
              "Comments    1\n",
              "Ankon       0\n",
              "Rizvi       0\n",
              "Sourov      0\n",
              "FinalTag    0\n",
              "dtype: int64"
            ]
          },
          "execution_count": 198,
          "metadata": {},
          "output_type": "execute_result"
        }
      ],
      "source": [
        "#checking null value\n",
        "df.isnull().sum()"
      ]
    },
    {
      "cell_type": "code",
      "execution_count": null,
      "metadata": {
        "colab": {
          "base_uri": "https://localhost:8080/"
        },
        "id": "i0TTCF-C_lu4",
        "outputId": "dea105cd-c2ca-420f-c21c-e6d3cd86ace3"
      },
      "outputs": [
        {
          "data": {
            "text/plain": [
              "(14903, 5)"
            ]
          },
          "execution_count": 199,
          "metadata": {},
          "output_type": "execute_result"
        }
      ],
      "source": [
        "#dropping null values\n",
        "df=df.dropna()\n",
        "df.shape"
      ]
    },
    {
      "cell_type": "code",
      "execution_count": null,
      "metadata": {
        "colab": {
          "base_uri": "https://localhost:8080/",
          "height": 424
        },
        "id": "--QaLYnwaz5r",
        "outputId": "75388bf9-dedb-4fba-82c7-61e766920342"
      },
      "outputs": [
        {
          "data": {
            "text/html": [
              "<div>\n",
              "<style scoped>\n",
              "    .dataframe tbody tr th:only-of-type {\n",
              "        vertical-align: middle;\n",
              "    }\n",
              "\n",
              "    .dataframe tbody tr th {\n",
              "        vertical-align: top;\n",
              "    }\n",
              "\n",
              "    .dataframe thead th {\n",
              "        text-align: right;\n",
              "    }\n",
              "</style>\n",
              "<table border=\"1\" class=\"dataframe\">\n",
              "  <thead>\n",
              "    <tr style=\"text-align: right;\">\n",
              "      <th></th>\n",
              "      <th>Comments</th>\n",
              "      <th>FinalTag</th>\n",
              "    </tr>\n",
              "  </thead>\n",
              "  <tbody>\n",
              "    <tr>\n",
              "      <th>0</th>\n",
              "      <td>বিশ্ববিদ্যালয়ে শিক্ষক রাজনীতি, ছাত্র রাজনীতি ...</td>\n",
              "      <td>Sadness</td>\n",
              "    </tr>\n",
              "    <tr>\n",
              "      <th>1</th>\n",
              "      <td>পাকিস্তান যেই তালিকায় থাকে ওই তালিকা আমরা এমনে...</td>\n",
              "      <td>Anger</td>\n",
              "    </tr>\n",
              "    <tr>\n",
              "      <th>2</th>\n",
              "      <td>সিংগাপুরের সাথে ভারত, পাকিস্তানের তুলনা কেন? আ...</td>\n",
              "      <td>Others</td>\n",
              "    </tr>\n",
              "    <tr>\n",
              "      <th>3</th>\n",
              "      <td>আমাদের দেশের শিক্ষা প্রতিষ্ঠানগুলোতে পড়ালেখার...</td>\n",
              "      <td>Sadness</td>\n",
              "    </tr>\n",
              "    <tr>\n",
              "      <th>4</th>\n",
              "      <td>আমাদের দেশের শিক্ষা প্রতিষ্ঠান রাজনীতিতে প্রথম...</td>\n",
              "      <td>Disgust</td>\n",
              "    </tr>\n",
              "    <tr>\n",
              "      <th>...</th>\n",
              "      <td>...</td>\n",
              "      <td>...</td>\n",
              "    </tr>\n",
              "    <tr>\n",
              "      <th>14994</th>\n",
              "      <td>হায়রে কষ্ট</td>\n",
              "      <td>Sadness</td>\n",
              "    </tr>\n",
              "    <tr>\n",
              "      <th>14995</th>\n",
              "      <td>শুধু মাত্র আর্জেন্টিনা নয়, বাংলাদেশ একই পরিস্থ...</td>\n",
              "      <td>Sadness</td>\n",
              "    </tr>\n",
              "    <tr>\n",
              "      <th>14996</th>\n",
              "      <td>গার্মেন্টস মালিকদের মিথ্যাচারে আমাদের সরকার হয়...</td>\n",
              "      <td>Fear</td>\n",
              "    </tr>\n",
              "    <tr>\n",
              "      <th>14997</th>\n",
              "      <td>জঘন্য একজন মানুষ</td>\n",
              "      <td>Disgust</td>\n",
              "    </tr>\n",
              "    <tr>\n",
              "      <th>14998</th>\n",
              "      <td>বিশৃঙ্খলা তৈরি করার নাম স্বাধীনতা নয়</td>\n",
              "      <td>Disgust</td>\n",
              "    </tr>\n",
              "  </tbody>\n",
              "</table>\n",
              "<p>14903 rows × 2 columns</p>\n",
              "</div>"
            ],
            "text/plain": [
              "                                                Comments FinalTag\n",
              "0      বিশ্ববিদ্যালয়ে শিক্ষক রাজনীতি, ছাত্র রাজনীতি ...  Sadness\n",
              "1      পাকিস্তান যেই তালিকায় থাকে ওই তালিকা আমরা এমনে...    Anger\n",
              "2      সিংগাপুরের সাথে ভারত, পাকিস্তানের তুলনা কেন? আ...   Others\n",
              "3      আমাদের দেশের শিক্ষা প্রতিষ্ঠানগুলোতে পড়ালেখার...  Sadness\n",
              "4      আমাদের দেশের শিক্ষা প্রতিষ্ঠান রাজনীতিতে প্রথম...  Disgust\n",
              "...                                                  ...      ...\n",
              "14994                                         হায়রে কষ্ট  Sadness\n",
              "14995  শুধু মাত্র আর্জেন্টিনা নয়, বাংলাদেশ একই পরিস্থ...  Sadness\n",
              "14996  গার্মেন্টস মালিকদের মিথ্যাচারে আমাদের সরকার হয়...     Fear\n",
              "14997                                   জঘন্য একজন মানুষ  Disgust\n",
              "14998              বিশৃঙ্খলা তৈরি করার নাম স্বাধীনতা নয়  Disgust\n",
              "\n",
              "[14903 rows x 2 columns]"
            ]
          },
          "execution_count": 200,
          "metadata": {},
          "output_type": "execute_result"
        }
      ],
      "source": [
        "#dropping some columns\n",
        "data=df.drop(['Ankon', 'Rizvi', 'Sourov'], axis=1)\n",
        "data"
      ]
    },
    {
      "cell_type": "markdown",
      "metadata": {
        "id": "jsKYJOspAO5z"
      },
      "source": [
        "**Text Cleaning**"
      ]
    },
    {
      "cell_type": "code",
      "execution_count": null,
      "metadata": {
        "id": "Usv-PPfMAN0O"
      },
      "outputs": [],
      "source": [
        "#removing pancuations and emojis\n",
        "def clean_comment(comment): \n",
        "    comment = re.sub('[^\\u0980-\\u09FF]',' ',str(comment)) #removing unnecessary punctuation\n",
        "    return comment"
      ]
    },
    {
      "cell_type": "code",
      "execution_count": null,
      "metadata": {
        "id": "JjFAd4AVUBeZ"
      },
      "outputs": [],
      "source": [
        "#calling function\n",
        "data['cleaned_comments'] = data['Comments']"
      ]
    },
    {
      "cell_type": "code",
      "execution_count": null,
      "metadata": {
        "colab": {
          "base_uri": "https://localhost:8080/"
        },
        "id": "TH0Tp2noWkld",
        "outputId": "5b5abecf-7b13-4545-e357-1c4239e3f57b"
      },
      "outputs": [
        {
          "name": "stdout",
          "output_type": "stream",
          "text": [
            "Before Cleaning: বিশ্ববিদ্যালয়ে শিক্ষক রাজনীতি, ছাত্র রাজনীতি চিরতরে নিষিদ্ধ না করলে শিক্ষার মান যেটুকু আছে তাও হারিয়ে যাবে। \n",
            "After Cleaning: বিশ্ববিদ্যালয়ে শিক্ষক রাজনীতি, ছাত্র রাজনীতি চিরতরে নিষিদ্ধ না করলে শিক্ষার মান যেটুকু আছে তাও হারিয়ে যাবে। \n",
            "Before Cleaning: আমাদের দেশের শিক্ষা প্রতিষ্ঠানগুলোতে পড়ালেখার চাইতে রাজনীতি শিখতে ব্যস্ত থাকতে হয়। তাই ভালো মানের শিক্ষাঙ্গন নেই। \n",
            "After Cleaning: আমাদের দেশের শিক্ষা প্রতিষ্ঠানগুলোতে পড়ালেখার চাইতে রাজনীতি শিখতে ব্যস্ত থাকতে হয়। তাই ভালো মানের শিক্ষাঙ্গন নেই। \n",
            "Before Cleaning: শিক্ষাই আলো,,অনেক দিন ধরে জ্বলছে তো, তেল ফুরিয়ে গেছে। \n",
            "After Cleaning: শিক্ষাই আলো,,অনেক দিন ধরে জ্বলছে তো, তেল ফুরিয়ে গেছে। \n",
            "Before Cleaning: এরা শিক্ষিত পাগল😡 \n",
            "After Cleaning: এরা শিক্ষিত পাগল😡 \n",
            "Before Cleaning: গাধা পানি খায় তবে ঘোলা করে খায় 🤣🤣🤣 \n",
            "After Cleaning: গাধা পানি খায় তবে ঘোলা করে খায় 🤣🤣🤣 \n",
            "Before Cleaning: এখন অনেক শিক্ষকই (সবাই না) রাজনীতি করে নিজ ভিত্তি প্রস্তর মজমুদ রাখার জন্য। যেটা আগে ছিলো না। \n",
            "After Cleaning: এখন অনেক শিক্ষকই (সবাই না) রাজনীতি করে নিজ ভিত্তি প্রস্তর মজমুদ রাখার জন্য। যেটা আগে ছিলো না। \n"
          ]
        }
      ],
      "source": [
        "#Testing \n",
        "test=[0,3,12,236,273,1978]\n",
        "for i in test:\n",
        "  print(\"Before Cleaning: {} \".format(data.at[i,\"Comments\"]))\n",
        "  print(\"After Cleaning: {} \".format(data.at[i,\"cleaned_comments\"]))"
      ]
    },
    {
      "cell_type": "code",
      "execution_count": null,
      "metadata": {
        "id": "h5dQ5G0txpFU"
      },
      "outputs": [],
      "source": [
        "# pip install bnlp_toolkit"
      ]
    },
    {
      "cell_type": "markdown",
      "metadata": {
        "id": "n7bGZUA2NaYf"
      },
      "source": [
        "**Comment Length Check**"
      ]
    },
    {
      "cell_type": "code",
      "execution_count": null,
      "metadata": {
        "colab": {
          "base_uri": "https://localhost:8080/"
        },
        "id": "fC6jzr1952hG",
        "outputId": "86b2c218-1545-4dc1-96c3-8398a88d844e"
      },
      "outputs": [
        {
          "name": "stdout",
          "output_type": "stream",
          "text": [
            "Tatal Number of cleaned Comments: 14419\n"
          ]
        }
      ],
      "source": [
        "#total Cleaned comments\n",
        "total_comments=data[\"cleaned_comments\"].count()\n",
        "print(\"Tatal Number of cleaned Comments:\", total_comments)"
      ]
    },
    {
      "cell_type": "code",
      "execution_count": null,
      "metadata": {
        "id": "Q8z4tf27NZGV"
      },
      "outputs": [],
      "source": [
        "#calculating word length of comments\n",
        "def length_distribution(comments):\n",
        "  comment_length=[]\n",
        "  \n",
        "  for comment in comments:\n",
        "    comment_length.append(len(comment.split()))\n",
        "\n",
        "\n",
        "  freq = dict()\n",
        "  for i in comment_length:\n",
        "    freq[i] = freq.get(i, 0)+1\n",
        "\n",
        "\n",
        "  length=np.array(comment_length)\n",
        "  return length.max(),length.min(),freq\n",
        "    "
      ]
    },
    {
      "cell_type": "code",
      "execution_count": null,
      "metadata": {
        "colab": {
          "base_uri": "https://localhost:8080/"
        },
        "id": "D4M6ZjpcNfGJ",
        "outputId": "3adda00a-af08-46d7-f1b8-bc2a1c6ddae1"
      },
      "outputs": [
        {
          "name": "stdout",
          "output_type": "stream",
          "text": [
            "Maximum Comment Size:  86\n",
            "Minimum Comment Size:  3\n"
          ]
        }
      ],
      "source": [
        "max_length,min_length,frequency = length_distribution(data[\"cleaned_comments\"])\n",
        "print(\"Maximum Comment Size: \", max_length)\n",
        "print(\"Minimum Comment Size: \",min_length)\n"
      ]
    },
    {
      "cell_type": "markdown",
      "metadata": {
        "id": "HQfwuZL2OczR"
      },
      "source": [
        "**Remove Comments less than 3 words**"
      ]
    },
    {
      "cell_type": "code",
      "execution_count": null,
      "metadata": {
        "colab": {
          "base_uri": "https://localhost:8080/"
        },
        "id": "YtDuQkUsN1pJ",
        "outputId": "6e5a66d1-50e2-4a60-bcca-4778537d57f4"
      },
      "outputs": [
        {
          "name": "stdout",
          "output_type": "stream",
          "text": [
            "Total comments removed: 0\n"
          ]
        },
        {
          "data": {
            "text/plain": [
              "(14419, 4)"
            ]
          },
          "execution_count": 214,
          "metadata": {},
          "output_type": "execute_result"
        }
      ],
      "source": [
        "data[\"length\"] = data['cleaned_comments'].apply(lambda x:len(x.split()))\n",
        "data.drop(data[data['length'] < 3].index, inplace = True)\n",
        "print(\"Total comments removed: {}\".format(total_comments-len(data[\"cleaned_comments\"])))\n",
        "total_comments=len(data[\"cleaned_comments\"])\n",
        "data.shape"
      ]
    },
    {
      "cell_type": "markdown",
      "metadata": {
        "id": "CbYH_G5ThKjB"
      },
      "source": [
        "**DataSet Summary**"
      ]
    },
    {
      "cell_type": "code",
      "execution_count": null,
      "metadata": {
        "colab": {
          "base_uri": "https://localhost:8080/"
        },
        "id": "kQ3GGgPVhIZu",
        "outputId": "54d11d09-fbda-4ecf-e154-435aba3aae3d"
      },
      "outputs": [
        {
          "name": "stdout",
          "output_type": "stream",
          "text": [
            "Total comments in each tag\n"
          ]
        },
        {
          "data": {
            "text/plain": [
              "Sadness      4040\n",
              "Happiness    3889\n",
              "Disgust      3354\n",
              "Anger        1704\n",
              "Fear          753\n",
              "Others        349\n",
              "Surprise      330\n",
              "Name: FinalTag, dtype: int64"
            ]
          },
          "execution_count": 252,
          "metadata": {},
          "output_type": "execute_result"
        }
      ],
      "source": [
        "# counting frequency of comments in each tag\n",
        "print(\"Total comments in each tag\")\n",
        "data[\"FinalTag\"].value_counts()"
      ]
    },
    {
      "cell_type": "code",
      "execution_count": null,
      "metadata": {
        "colab": {
          "base_uri": "https://localhost:8080/",
          "height": 467
        },
        "id": "O7N-EigdfIPr",
        "outputId": "eb6ac7ea-9fe9-4f25-bf01-337dc92c1a08"
      },
      "outputs": [
        {
          "name": "stderr",
          "output_type": "stream",
          "text": [
            "C:\\ProgramData\\Anaconda3\\lib\\site-packages\\seaborn\\_decorators.py:36: FutureWarning: Pass the following variable as a keyword arg: x. From version 0.12, the only valid positional argument will be `data`, and passing other arguments without an explicit keyword will result in an error or misinterpretation.\n",
            "  warnings.warn(\n"
          ]
        },
        {
          "data": {
            "image/png": "[encoded data removed]",
            "text/plain": [
              "<Figure size 1000x600 with 1 Axes>"
            ]
          },
          "metadata": {},
          "output_type": "display_data"
        }
      ],
      "source": [
        "# plotting Frequency of comments in each Tag \n",
        "plt.figure(figsize=(10,6))\n",
        "sb.countplot(data[\"FinalTag\"])\n",
        "plt.xlabel(\"Types of Comments Tag\", size=12)\n",
        "plt.ylabel(\"Frequency\", size=12)\n",
        "plt.title(\"Frequency of comments in each Tag\", size=20)\n",
        "plt.show()\n"
      ]
    },
    {
      "cell_type": "code",
      "execution_count": null,
      "metadata": {
        "colab": {
          "base_uri": "https://localhost:8080/"
        },
        "id": "w13g7-_qqJj9",
        "outputId": "7900d203-e5af-47aa-8b51-9693fe09b094"
      },
      "outputs": [
        {
          "name": "stdout",
          "output_type": "stream",
          "text": [
            "Each Comment's tag Percentages in Dataset\n",
            " Sadness      28.018587\n",
            "Happiness    26.971357\n",
            "Disgust      23.260975\n",
            "Anger        11.817740\n",
            "Fear          5.222276\n",
            "Others        2.420418\n",
            "Surprise      2.288647\n",
            "Name: FinalTag, dtype: float64\n"
          ]
        }
      ],
      "source": [
        "#each comment's tag percentages in dataset\n",
        "parcentages=(data['FinalTag'].value_counts()/data['FinalTag'].count())*100\n",
        "comment_tag=parcentages.index\n",
        "print(\"Each Comment's tag Percentages in Dataset\\n\", parcentages)\n",
        "# print(type(list(comment_tag)))"
      ]
    },
    {
      "cell_type": "code",
      "execution_count": null,
      "metadata": {
        "colab": {
          "base_uri": "https://localhost:8080/",
          "height": 430
        },
        "id": "VPBufM9ed34K",
        "outputId": "eda0118a-0ce6-47df-b222-af1cec65f3ea"
      },
      "outputs": [
        {
          "data": {
            "image/png": "[encoded data removed]",
            "text/plain": [
              "<Figure size 288x216 with 1 Axes>"
            ]
          },
          "metadata": {},
          "output_type": "display_data"
        }
      ],
      "source": [
        "plt.figure(figsize=(4,3))\n",
        "plt.pie(parcentages,labels =comment_tag,autopct='%1.3f%%',radius = 3)\n",
        "plt.show()"
      ]
    },
    {
      "cell_type": "code",
      "execution_count": null,
      "metadata": {
        "id": "LU4IC6Vq4zYR"
      },
      "outputs": [],
      "source": [
        "# calculating total word for each comment's tag \n",
        "def countWords(df):\n",
        "  total_words_per_tag=dict.fromkeys(comment_tag,  0)\n",
        "  total_comments_per_tag=dict.fromkeys(comment_tag,  0)\n",
        "\n",
        "\n",
        " \n",
        "  for ind in df.index:\n",
        "    tag=df['FinalTag'][ind]\n",
        "    comment=df['cleaned_comments'][ind]\n",
        "    total_words_per_tag[tag]=total_words_per_tag.get(tag)+len(comment.split())\n",
        "    total_comments_per_tag[tag]=total_comments_per_tag.get(tag)+1   \n",
        "\n",
        "  return  total_words_per_tag,total_comments_per_tag\n",
        "\n"
      ]
    },
    {
      "cell_type": "code",
      "execution_count": null,
      "metadata": {
        "id": "ex8OrZswDkxA"
      },
      "outputs": [],
      "source": [
        "# function calling\n",
        "words_per_Tag, comments_per_tag=countWords(data)"
      ]
    },
    {
      "cell_type": "code",
      "execution_count": null,
      "metadata": {
        "id": "3ahEQmZdONQi"
      },
      "outputs": [],
      "source": [
        "#calculating total words in dataset\n",
        "total_words=sum(words_per_Tag.values())"
      ]
    },
    {
      "cell_type": "code",
      "execution_count": null,
      "metadata": {
        "colab": {
          "base_uri": "https://localhost:8080/"
        },
        "id": "kG9S7TWIP9qs",
        "outputId": "1205589f-804d-4a50-f564-6eec448becd5"
      },
      "outputs": [
        {
          "name": "stdout",
          "output_type": "stream",
          "text": [
            "Total number words in dataset: 142911\n",
            "Total Words in Each Comment's Tag:\n",
            "Sadness : 42108\n",
            "Happiness : 34079\n",
            "Disgust : 35389\n",
            "Anger : 17935\n",
            "Fear : 7385\n",
            "Others : 3223\n",
            "Surprise : 2792\n"
          ]
        }
      ],
      "source": [
        "print(\"Total number words in dataset:\", total_words)\n",
        "print(\"Total Words in Each Comment's Tag:\")\n",
        "for tag in words_per_Tag:\n",
        "  print(tag, \":\", words_per_Tag[tag])"
      ]
    },
    {
      "cell_type": "code",
      "execution_count": null,
      "metadata": {
        "colab": {
          "base_uri": "https://localhost:8080/",
          "height": 412
        },
        "id": "f1xo8MKnRNRF",
        "outputId": "5697f401-cf88-4a81-a68b-470232ec1431"
      },
      "outputs": [
        {
          "data": {
            "image/png": "[encoded data removed]",
            "text/plain": [
              "<Figure size 720x432 with 1 Axes>"
            ]
          },
          "metadata": {
            "needs_background": "light"
          },
          "output_type": "display_data"
        }
      ],
      "source": [
        "#ploting total words for each comment's tag\n",
        "plt.figure(figsize=(10,6))\n",
        "plt.bar(words_per_Tag.keys(),comments_per_tag.values())\n",
        "plt.xlabel(\"Types of Comment's Tag\", size=12)\n",
        "plt.ylabel(\"Total words\", size=12)\n",
        "plt.title(\"Total Words in Each Sentiment Type\", size=20)\n",
        "plt.show()"
      ]
    },
    {
      "cell_type": "code",
      "execution_count": null,
      "metadata": {
        "colab": {
          "base_uri": "https://localhost:8080/"
        },
        "id": "hKLO4LS9UH4I",
        "outputId": "868eddb7-e1db-4eae-99f0-d2bdf30c36c3"
      },
      "outputs": [
        {
          "name": "stdout",
          "output_type": "stream",
          "text": [
            "Average Words in Each Comment's Tag:\n",
            "Sadness : 10\n",
            "Happiness : 9\n",
            "Disgust : 11\n",
            "Anger : 11\n",
            "Fear : 10\n",
            "Others : 9\n",
            "Surprise : 8\n"
          ]
        }
      ],
      "source": [
        "# calculating average word for each tag\n",
        "average_word_per_tag=dict.fromkeys(comment_tag,  0)\n",
        "\n",
        "for tag in comment_tag:\n",
        "  average_word_per_tag[tag]=round(words_per_Tag[tag]/comments_per_tag[tag])\n",
        "\n",
        "print(\"Average Words in Each Comment's Tag:\")\n",
        "for tag in average_word_per_tag:\n",
        "  print(tag, \":\", average_word_per_tag[tag])"
      ]
    },
    {
      "cell_type": "code",
      "execution_count": null,
      "metadata": {
        "colab": {
          "base_uri": "https://localhost:8080/",
          "height": 412
        },
        "id": "EcmQhoYV3fDZ",
        "outputId": "1c405d04-073a-4f05-a9ec-17acd707a6b8"
      },
      "outputs": [
        {
          "data": {
            "image/png": "[encoded data removed]",
            "text/plain": [
              "<Figure size 720x432 with 1 Axes>"
            ]
          },
          "metadata": {
            "needs_background": "light"
          },
          "output_type": "display_data"
        }
      ],
      "source": [
        "plt.figure(figsize=(10,6))\n",
        "plt.bar(average_word_per_tag.keys(),average_word_per_tag.values())\n",
        "plt.xlabel(\"Types of Comments Tag\", size=12)\n",
        "plt.ylabel(\"Avarage words\", size=12)\n",
        "plt.title(\"Average Words in Each Comment's Tag\", size=20)\n",
        "plt.show()"
      ]
    },
    {
      "cell_type": "code",
      "execution_count": null,
      "metadata": {
        "id": "LfEGrdiwAOGw"
      },
      "outputs": [],
      "source": [
        "#calculating total unique word in dataset\n",
        "def count_total_uniquewords(df):\n",
        "  word_list=[]\n",
        "  for comment in list(df[\"cleaned_comments\"]):\n",
        "    for word in comment.split():\n",
        "      word_list.append(word)\n",
        " \n",
        "  # print(len(word_list))\n",
        "  return word_list, len(np.unique(word_list))\n",
        "\n",
        "  \n",
        "    "
      ]
    },
    {
      "cell_type": "code",
      "execution_count": null,
      "metadata": {
        "colab": {
          "base_uri": "https://localhost:8080/"
        },
        "id": "UACzKxW24V2f",
        "outputId": "eadd30e7-a57a-4046-e0ec-7ebd07d806f7"
      },
      "outputs": [
        {
          "name": "stdout",
          "output_type": "stream",
          "text": [
            "Total Unique words in Dataset:  19276\n"
          ]
        }
      ],
      "source": [
        "#total unique words\n",
        "word_list, total_unique_words=count_total_uniquewords(data)\n",
        "print(\"Total Unique words in Dataset: \",total_unique_words)"
      ]
    },
    {
      "cell_type": "code",
      "execution_count": null,
      "metadata": {
        "colab": {
          "base_uri": "https://localhost:8080/",
          "height": 358
        },
        "id": "9KGmMJ9MBCYF",
        "outputId": "7258f2fa-4ffa-4816-98ce-5e90436cf38b"
      },
      "outputs": [
        {
          "data": {
            "image/png": "[encoded data removed]",
            "text/plain": [
              "<Figure size 720x360 with 1 Axes>"
            ]
          },
          "metadata": {
            "needs_background": "light"
          },
          "output_type": "display_data"
        }
      ],
      "source": [
        "#ploting total words and unique words in bar chart\n",
        "plt.figure(figsize=(10,5))\n",
        "c = ['black', 'red']\n",
        "plt.bar([\"Total Words\",\"Unique words\"],[total_words,total_unique_words],color=c)\n",
        "plt.xlabel(\"Words\", size=12)\n",
        "plt.ylabel(\"Number of words\", size=12)\n",
        "plt.title(\"Total words and unique words visualization\", size=20)\n",
        "plt.show()"
      ]
    },
    {
      "cell_type": "code",
      "execution_count": null,
      "metadata": {
        "id": "aPfFnIiaIE6n"
      },
      "outputs": [],
      "source": [
        "#calculating words frequency\n",
        "def cal_words_frecuncy():\n",
        "  counts = dict()\n",
        "  for word in word_list:\n",
        "   counts[word] = counts.get(word, 0)+1\n",
        "\n",
        "  return counts"
      ]
    },
    {
      "cell_type": "code",
      "execution_count": null,
      "metadata": {
        "id": "lEHJMjguJyCI"
      },
      "outputs": [],
      "source": [
        "words_frecuncy=cal_words_frecuncy()\n",
        "sorted_words_frecuncy =sorted(words_frecuncy.items(), key= lambda item: item[1],reverse = True)"
      ]
    },
    {
      "cell_type": "code",
      "execution_count": null,
      "metadata": {
        "colab": {
          "base_uri": "https://localhost:8080/"
        },
        "id": "kRu6M2SsLMJu",
        "outputId": "4a9e0fd6-0bf3-483f-f46e-fa60dadee320"
      },
      "outputs": [
        {
          "name": "stdout",
          "output_type": "stream",
          "text": [
            "Top 20 Frequent Word in Dataset:\n",
            "না : 2530\n",
            "এই : 1511\n",
            "করে : 1492\n",
            "আর : 1177\n",
            "জন্য : 951\n",
            "কি : 913\n",
            "হবে : 893\n",
            "ভালো : 781\n",
            "করা : 734\n",
            "মানুষ : 729\n",
            "ও : 691\n",
            "আমাদের : 683\n",
            "হয় : 662\n",
            "অনেক : 655\n",
            "থেকে : 631\n",
            "দেশের : 605\n",
            "কথা : 605\n",
            "আছে : 600\n",
            "একটা : 590\n",
            "সব : 566\n"
          ]
        }
      ],
      "source": [
        "print(\"Top 20 Frequent Word in Dataset:\")\n",
        "for word,freq in sorted_words_frecuncy[:20]:\n",
        "              print(\"{} : {}\".format(word,freq))"
      ]
    },
    {
      "cell_type": "markdown",
      "metadata": {
        "id": "jLYcPGuGOAu_"
      },
      "source": [
        "**Comment Length Distribution**"
      ]
    },
    {
      "cell_type": "code",
      "execution_count": null,
      "metadata": {
        "colab": {
          "base_uri": "https://localhost:8080/",
          "height": 402
        },
        "id": "F36Lzizxf4V0",
        "outputId": "0c4809ab-b8eb-4985-bfa9-f0c0a6bad208"
      },
      "outputs": [
        {
          "name": "stdout",
          "output_type": "stream",
          "text": [
            "Maximum Comment Size:  86\n",
            "Minimum Comment Size:  3\n",
            "Average Comment Size:  9.918176139912555\n"
          ]
        },
        {
          "data": {
            "image/png": "[encoded data removed]",
            "text/plain": [
              "<Figure size 720x360 with 1 Axes>"
            ]
          },
          "metadata": {
            "needs_background": "light"
          },
          "output_type": "display_data"
        }
      ],
      "source": [
        "max_length,min_length,frequency = length_distribution(data[\"cleaned_comments\"])\n",
        "avarage_length=total_words/total_comments\n",
        "print(\"Maximum Comment Size: \", max_length)\n",
        "print(\"Minimum Comment Size: \",min_length)\n",
        "print(\"Average Comment Size: \", avarage_length)\n",
        "\n",
        "plt.figure(figsize=(10,5))\n",
        "plt.bar(frequency.keys(), frequency.values(), color =\"r\")\n",
        "plt.xlabel('Lenght of the Texts')\n",
        "plt.ylabel('Frequency')\n",
        "plt.title('Length-Frequency Distribution')\n",
        "plt.show()  "
      ]
    },
    {
      "cell_type": "code",
      "execution_count": null,
      "metadata": {
        "colab": {
          "base_uri": "https://localhost:8080/",
          "height": 358
        },
        "id": "f5TYsR3ugsaV",
        "outputId": "93e24f86-2183-49e4-f57c-59272043ebac"
      },
      "outputs": [
        {
          "data": {
            "image/png": "[encoded data removed]",
            "text/plain": [
              "<Figure size 720x360 with 1 Axes>"
            ]
          },
          "metadata": {
            "needs_background": "light"
          },
          "output_type": "display_data"
        }
      ],
      "source": [
        "#ploting length distribution\n",
        "plt.figure(figsize=(10,5))\n",
        "c = ['green', 'red','orange']\n",
        "plt.bar([\"Max\",\"Min\",\"Avarage\"],[max_length,min_length,avarage_length],color=c)\n",
        "plt.xlabel(\"Length Variation\", size=12)\n",
        "plt.ylabel(\"Number of words\", size=12)\n",
        "plt.title(\"Words length visualization\", size=20)\n",
        "plt.show()"
      ]
    },
    {
      "cell_type": "markdown",
      "source": [
        "**BanglaBERT**"
      ],
      "metadata": {
        "id": "7woiQhLTiJSj"
      }
    },
    {
      "cell_type": "code",
      "execution_count": null,
      "metadata": {
        "id": "WcOD9W_JhzEl",
        "outputId": "3d61c10a-b543-416b-beb9-05b4e237a4ae"
      },
      "outputs": [
        {
          "name": "stdout",
          "output_type": "stream",
          "text": [
            "Defaulting to user installation because normal site-packages is not writeable\n",
            "Requirement already satisfied: transformers in c:\\users\\user\\appdata\\roaming\\python\\python39\\site-packages (4.25.1)\n",
            "Requirement already satisfied: requests in c:\\programdata\\anaconda3\\lib\\site-packages (from transformers) (2.28.1)\n",
            "Requirement already satisfied: regex!=2019.12.17 in c:\\programdata\\anaconda3\\lib\\site-packages (from transformers) (2022.7.9)\n",
            "Requirement already satisfied: tqdm>=4.27 in c:\\programdata\\anaconda3\\lib\\site-packages (from transformers) (4.64.1)\n",
            "Requirement already satisfied: packaging>=20.0 in c:\\programdata\\anaconda3\\lib\\site-packages (from transformers) (21.3)\n",
            "Requirement already satisfied: pyyaml>=5.1 in c:\\programdata\\anaconda3\\lib\\site-packages (from transformers) (6.0)\n",
            "Requirement already satisfied: huggingface-hub<1.0,>=0.10.0 in c:\\users\\user\\appdata\\roaming\\python\\python39\\site-packages (from transformers) (0.11.1)\n",
            "Requirement already satisfied: tokenizers!=0.11.3,<0.14,>=0.11.1 in c:\\users\\user\\appdata\\roaming\\python\\python39\\site-packages (from transformers) (0.13.2)\n",
            "Requirement already satisfied: numpy>=1.17 in c:\\programdata\\anaconda3\\lib\\site-packages (from transformers) (1.21.5)\n",
            "Requirement already satisfied: filelock in c:\\programdata\\anaconda3\\lib\\site-packages (from transformers) (3.6.0)\n",
            "Requirement already satisfied: typing-extensions>=3.7.4.3 in c:\\programdata\\anaconda3\\lib\\site-packages (from huggingface-hub<1.0,>=0.10.0->transformers) (4.3.0)\n",
            "Requirement already satisfied: pyparsing!=3.0.5,>=2.0.2 in c:\\programdata\\anaconda3\\lib\\site-packages (from packaging>=20.0->transformers) (3.0.9)\n",
            "Requirement already satisfied: colorama in c:\\programdata\\anaconda3\\lib\\site-packages (from tqdm>=4.27->transformers) (0.4.5)\n",
            "Requirement already satisfied: certifi>=2017.4.17 in c:\\programdata\\anaconda3\\lib\\site-packages (from requests->transformers) (2022.9.14)\n",
            "Requirement already satisfied: urllib3<1.27,>=1.21.1 in c:\\programdata\\anaconda3\\lib\\site-packages (from requests->transformers) (1.26.11)\n",
            "Requirement already satisfied: idna<4,>=2.5 in c:\\programdata\\anaconda3\\lib\\site-packages (from requests->transformers) (3.3)\n",
            "Requirement already satisfied: charset-normalizer<3,>=2 in c:\\programdata\\anaconda3\\lib\\site-packages (from requests->transformers) (2.0.4)\n",
            "Note: you may need to restart the kernel to use updated packages.\n"
          ]
        }
      ],
      "source": [
        "pip install transformers"
      ]
    },
    {
      "cell_type": "code",
      "execution_count": null,
      "metadata": {
        "id": "Q2gckAtdhzEl",
        "outputId": "f0a95568-febf-4f96-8af1-5e716b0b3d1a"
      },
      "outputs": [
        {
          "name": "stdout",
          "output_type": "stream",
          "text": [
            "Defaulting to user installation because normal site-packages is not writeable\n",
            "Requirement already satisfied: torch in c:\\users\\user\\appdata\\roaming\\python\\python39\\site-packages (1.13.1)\n",
            "Requirement already satisfied: typing-extensions in c:\\programdata\\anaconda3\\lib\\site-packages (from torch) (4.3.0)\n",
            "Note: you may need to restart the kernel to use updated packages.\n"
          ]
        }
      ],
      "source": [
        "pip install torch"
      ]
    },
    {
      "cell_type": "code",
      "execution_count": null,
      "metadata": {
        "id": "RoJx7ZIXhzEm",
        "outputId": "8fc25109-4d75-4040-c996-b58dd8a97d59"
      },
      "outputs": [
        {
          "name": "stderr",
          "output_type": "stream",
          "text": [
            "loading configuration file config.json from cache at C:\\Users\\user/.cache\\huggingface\\hub\\models--csebuetnlp--banglabert\\snapshots\\9ce791f330578f50da6bc52b54205166fb5d1c8c\\config.json\n",
            "Model config ElectraConfig {\n",
            "  \"_name_or_path\": \"csebuetnlp/banglabert\",\n",
            "  \"architectures\": [\n",
            "    \"ElectraForPreTraining\"\n",
            "  ],\n",
            "  \"attention_probs_dropout_prob\": 0.1,\n",
            "  \"classifier_dropout\": null,\n",
            "  \"embedding_size\": 768,\n",
            "  \"hidden_act\": \"gelu\",\n",
            "  \"hidden_dropout_prob\": 0.1,\n",
            "  \"hidden_size\": 768,\n",
            "  \"initializer_range\": 0.02,\n",
            "  \"intermediate_size\": 3072,\n",
            "  \"layer_norm_eps\": 1e-12,\n",
            "  \"max_position_embeddings\": 512,\n",
            "  \"model_type\": \"electra\",\n",
            "  \"num_attention_heads\": 12,\n",
            "  \"num_hidden_layers\": 12,\n",
            "  \"pad_token_id\": 0,\n",
            "  \"position_embedding_type\": \"absolute\",\n",
            "  \"summary_activation\": \"gelu\",\n",
            "  \"summary_last_dropout\": 0.1,\n",
            "  \"summary_type\": \"first\",\n",
            "  \"summary_use_proj\": true,\n",
            "  \"transformers_version\": \"4.25.1\",\n",
            "  \"type_vocab_size\": 2,\n",
            "  \"use_cache\": true,\n",
            "  \"vocab_size\": 32000\n",
            "}\n",
            "\n",
            "loading file vocab.txt from cache at C:\\Users\\user/.cache\\huggingface\\hub\\models--csebuetnlp--banglabert\\snapshots\\9ce791f330578f50da6bc52b54205166fb5d1c8c\\vocab.txt\n",
            "loading file tokenizer.json from cache at None\n",
            "loading file added_tokens.json from cache at None\n",
            "loading file special_tokens_map.json from cache at C:\\Users\\user/.cache\\huggingface\\hub\\models--csebuetnlp--banglabert\\snapshots\\9ce791f330578f50da6bc52b54205166fb5d1c8c\\special_tokens_map.json\n",
            "loading file tokenizer_config.json from cache at C:\\Users\\user/.cache\\huggingface\\hub\\models--csebuetnlp--banglabert\\snapshots\\9ce791f330578f50da6bc52b54205166fb5d1c8c\\tokenizer_config.json\n",
            "loading configuration file config.json from cache at C:\\Users\\user/.cache\\huggingface\\hub\\models--csebuetnlp--banglabert\\snapshots\\9ce791f330578f50da6bc52b54205166fb5d1c8c\\config.json\n",
            "Model config ElectraConfig {\n",
            "  \"_name_or_path\": \"csebuetnlp/banglabert\",\n",
            "  \"architectures\": [\n",
            "    \"ElectraForPreTraining\"\n",
            "  ],\n",
            "  \"attention_probs_dropout_prob\": 0.1,\n",
            "  \"classifier_dropout\": null,\n",
            "  \"embedding_size\": 768,\n",
            "  \"hidden_act\": \"gelu\",\n",
            "  \"hidden_dropout_prob\": 0.1,\n",
            "  \"hidden_size\": 768,\n",
            "  \"initializer_range\": 0.02,\n",
            "  \"intermediate_size\": 3072,\n",
            "  \"layer_norm_eps\": 1e-12,\n",
            "  \"max_position_embeddings\": 512,\n",
            "  \"model_type\": \"electra\",\n",
            "  \"num_attention_heads\": 12,\n",
            "  \"num_hidden_layers\": 12,\n",
            "  \"pad_token_id\": 0,\n",
            "  \"position_embedding_type\": \"absolute\",\n",
            "  \"summary_activation\": \"gelu\",\n",
            "  \"summary_last_dropout\": 0.1,\n",
            "  \"summary_type\": \"first\",\n",
            "  \"summary_use_proj\": true,\n",
            "  \"transformers_version\": \"4.25.1\",\n",
            "  \"type_vocab_size\": 2,\n",
            "  \"use_cache\": true,\n",
            "  \"vocab_size\": 32000\n",
            "}\n",
            "\n",
            "loading configuration file config.json from cache at C:\\Users\\user/.cache\\huggingface\\hub\\models--csebuetnlp--banglabert\\snapshots\\9ce791f330578f50da6bc52b54205166fb5d1c8c\\config.json\n",
            "Model config ElectraConfig {\n",
            "  \"_name_or_path\": \"csebuetnlp/banglabert\",\n",
            "  \"architectures\": [\n",
            "    \"ElectraForPreTraining\"\n",
            "  ],\n",
            "  \"attention_probs_dropout_prob\": 0.1,\n",
            "  \"classifier_dropout\": null,\n",
            "  \"embedding_size\": 768,\n",
            "  \"hidden_act\": \"gelu\",\n",
            "  \"hidden_dropout_prob\": 0.1,\n",
            "  \"hidden_size\": 768,\n",
            "  \"initializer_range\": 0.02,\n",
            "  \"intermediate_size\": 3072,\n",
            "  \"layer_norm_eps\": 1e-12,\n",
            "  \"max_position_embeddings\": 512,\n",
            "  \"model_type\": \"electra\",\n",
            "  \"num_attention_heads\": 12,\n",
            "  \"num_hidden_layers\": 12,\n",
            "  \"pad_token_id\": 0,\n",
            "  \"position_embedding_type\": \"absolute\",\n",
            "  \"summary_activation\": \"gelu\",\n",
            "  \"summary_last_dropout\": 0.1,\n",
            "  \"summary_type\": \"first\",\n",
            "  \"summary_use_proj\": true,\n",
            "  \"transformers_version\": \"4.25.1\",\n",
            "  \"type_vocab_size\": 2,\n",
            "  \"use_cache\": true,\n",
            "  \"vocab_size\": 32000\n",
            "}\n",
            "\n",
            "loading configuration file config.json from cache at C:\\Users\\user/.cache\\huggingface\\hub\\models--csebuetnlp--banglabert\\snapshots\\9ce791f330578f50da6bc52b54205166fb5d1c8c\\config.json\n",
            "Model config ElectraConfig {\n",
            "  \"_name_or_path\": \"csebuetnlp/banglabert\",\n",
            "  \"architectures\": [\n",
            "    \"ElectraForPreTraining\"\n",
            "  ],\n",
            "  \"attention_probs_dropout_prob\": 0.1,\n",
            "  \"classifier_dropout\": null,\n",
            "  \"embedding_size\": 768,\n",
            "  \"hidden_act\": \"gelu\",\n",
            "  \"hidden_dropout_prob\": 0.1,\n",
            "  \"hidden_size\": 768,\n",
            "  \"initializer_range\": 0.02,\n",
            "  \"intermediate_size\": 3072,\n",
            "  \"layer_norm_eps\": 1e-12,\n",
            "  \"max_position_embeddings\": 512,\n",
            "  \"model_type\": \"electra\",\n",
            "  \"num_attention_heads\": 12,\n",
            "  \"num_hidden_layers\": 12,\n",
            "  \"pad_token_id\": 0,\n",
            "  \"position_embedding_type\": \"absolute\",\n",
            "  \"summary_activation\": \"gelu\",\n",
            "  \"summary_last_dropout\": 0.1,\n",
            "  \"summary_type\": \"first\",\n",
            "  \"summary_use_proj\": true,\n",
            "  \"transformers_version\": \"4.25.1\",\n",
            "  \"type_vocab_size\": 2,\n",
            "  \"use_cache\": true,\n",
            "  \"vocab_size\": 32000\n",
            "}\n",
            "\n",
            "loading weights file pytorch_model.bin from cache at C:\\Users\\user/.cache\\huggingface\\hub\\models--csebuetnlp--banglabert\\snapshots\\9ce791f330578f50da6bc52b54205166fb5d1c8c\\pytorch_model.bin\n",
            "All model checkpoint weights were used when initializing ElectraForPreTraining.\n",
            "\n",
            "All the weights of ElectraForPreTraining were initialized from the model checkpoint at csebuetnlp/banglabert.\n",
            "If your task is similar to the task the model of the checkpoint was trained on, you can already use ElectraForPreTraining for predictions without further training.\n"
          ]
        }
      ],
      "source": [
        "from transformers import AutoTokenizer, AutoModelForPreTraining\n",
        "\n",
        "tokenizer = AutoTokenizer.from_pretrained(\"csebuetnlp/banglabert\")\n",
        "\n",
        "model = AutoModelForPreTraining.from_pretrained(\"csebuetnlp/banglabert\")"
      ]
    },
    {
      "cell_type": "code",
      "execution_count": null,
      "metadata": {
        "id": "BxlLgcT4hzEm",
        "outputId": "0f3464dd-5d81-4ecb-9042-e8773a6b6097"
      },
      "outputs": [
        {
          "name": "stdout",
          "output_type": "stream",
          "text": [
            "[UNK] 1\n",
            "[PAD] 0\n",
            "[CLS] 2\n",
            "[SEP] 3\n"
          ]
        }
      ],
      "source": [
        "# specital tokens\n",
        "print(tokenizer.unk_token, tokenizer.unk_token_id)\n",
        "print(tokenizer.pad_token, tokenizer.pad_token_id)\n",
        "print(tokenizer.cls_token, tokenizer.cls_token_id)\n",
        "print(tokenizer.sep_token, tokenizer.sep_token_id)"
      ]
    },
    {
      "cell_type": "code",
      "execution_count": null,
      "metadata": {
        "id": "D8jcztaFhzEm"
      },
      "outputs": [],
      "source": [
        "maximum_length=128"
      ]
    },
    {
      "cell_type": "code",
      "execution_count": null,
      "metadata": {
        "id": "xoyjZ67khzEn"
      },
      "outputs": [],
      "source": [
        "sample_txt=\"ভালো থেকো এবং আবার ফিরে এসো তোমার অপেক্ষায় আমরা\""
      ]
    },
    {
      "cell_type": "code",
      "execution_count": null,
      "metadata": {
        "id": "l0xi3otFhzEn",
        "outputId": "e58c9bbb-3a1e-4cfe-aa06-bb685a814501"
      },
      "outputs": [
        {
          "name": "stderr",
          "output_type": "stream",
          "text": [
            "Truncation was not explicitly activated but `max_length` is provided a specific value, please use `truncation=True` to explicitly truncate examples to max length. Defaulting to 'longest_first' truncation strategy. If you encode pairs of sequences (GLUE-style) with the tokenizer you can select this strategy more precisely by providing a specific strategy to `truncation`.\n",
            "C:\\Users\\user\\AppData\\Roaming\\Python\\Python39\\site-packages\\transformers\\tokenization_utils_base.py:2336: FutureWarning: The `pad_to_max_length` argument is deprecated and will be removed in a future version, use `padding=True` or `padding='longest'` to pad to the longest sequence in the batch, or use `padding='max_length'` to pad to a max length. In this case, you can give a specific length with `max_length` (e.g. `max_length=45`) or leave max_length to None to pad to the maximal input size of the model (e.g. 512 for Bert).\n",
            "  warnings.warn(\n"
          ]
        }
      ],
      "source": [
        "sample_encoding = tokenizer(\n",
        "  sample_txt,\n",
        "  max_length=maximum_length,\n",
        "  add_special_tokens=True, # Add '[CLS]' and '[SEP]'\n",
        "  pad_to_max_length=True,\n",
        "  return_attention_mask=True,\n",
        "  return_tensors='pt',  # Return PyTorch tensors\n",
        ")"
      ]
    },
    {
      "cell_type": "code",
      "execution_count": null,
      "metadata": {
        "id": "6NZ3qU49hzEn",
        "outputId": "b19c46d7-3d69-42c6-854d-04b5715c9f9b"
      },
      "outputs": [
        {
          "data": {
            "text/plain": [
              "dict_keys(['input_ids', 'token_type_ids', 'attention_mask'])"
            ]
          },
          "execution_count": 224,
          "metadata": {},
          "output_type": "execute_result"
        }
      ],
      "source": [
        "sample_encoding.keys()"
      ]
    },
    {
      "cell_type": "code",
      "execution_count": null,
      "metadata": {
        "id": "bgbr4oX0hzEn",
        "outputId": "ee4657c3-8b97-479c-c503-27a998b44484"
      },
      "outputs": [
        {
          "data": {
            "text/plain": [
              "tensor([    2,  1055, 10596,   903,  1148,  1557,  4917,  1188,     1,  1062,\n",
              "            3,     0,     0,     0,     0,     0,     0,     0,     0,     0,\n",
              "            0,     0,     0,     0,     0,     0,     0,     0,     0,     0,\n",
              "            0,     0,     0,     0,     0,     0,     0,     0,     0,     0,\n",
              "            0,     0,     0,     0,     0,     0,     0,     0,     0,     0,\n",
              "            0,     0,     0,     0,     0,     0,     0,     0,     0,     0,\n",
              "            0,     0,     0,     0,     0,     0,     0,     0,     0,     0,\n",
              "            0,     0,     0,     0,     0,     0,     0,     0,     0,     0,\n",
              "            0,     0,     0,     0,     0,     0,     0,     0,     0,     0,\n",
              "            0,     0,     0,     0,     0,     0,     0,     0,     0,     0,\n",
              "            0,     0,     0,     0,     0,     0,     0,     0,     0,     0,\n",
              "            0,     0,     0,     0,     0,     0,     0,     0,     0,     0,\n",
              "            0,     0,     0,     0,     0,     0,     0,     0])"
            ]
          },
          "execution_count": 225,
          "metadata": {},
          "output_type": "execute_result"
        }
      ],
      "source": [
        "sample_encoding['input_ids'][0]"
      ]
    },
    {
      "cell_type": "code",
      "execution_count": null,
      "metadata": {
        "id": "ll80BaGFhzEo",
        "outputId": "ca437837-07ab-40ab-fbd0-e82712a5a8d0"
      },
      "outputs": [
        {
          "data": {
            "text/plain": [
              "tensor([1, 1, 1, 1, 1, 1, 1, 1, 1, 1, 1, 0, 0, 0, 0, 0, 0, 0, 0, 0, 0, 0, 0, 0,\n",
              "        0, 0, 0, 0, 0, 0, 0, 0, 0, 0, 0, 0, 0, 0, 0, 0, 0, 0, 0, 0, 0, 0, 0, 0,\n",
              "        0, 0, 0, 0, 0, 0, 0, 0, 0, 0, 0, 0, 0, 0, 0, 0, 0, 0, 0, 0, 0, 0, 0, 0,\n",
              "        0, 0, 0, 0, 0, 0, 0, 0, 0, 0, 0, 0, 0, 0, 0, 0, 0, 0, 0, 0, 0, 0, 0, 0,\n",
              "        0, 0, 0, 0, 0, 0, 0, 0, 0, 0, 0, 0, 0, 0, 0, 0, 0, 0, 0, 0, 0, 0, 0, 0,\n",
              "        0, 0, 0, 0, 0, 0, 0, 0])"
            ]
          },
          "execution_count": 226,
          "metadata": {},
          "output_type": "execute_result"
        }
      ],
      "source": [
        "sample_encoding['attention_mask'][0]"
      ]
    },
    {
      "cell_type": "code",
      "execution_count": null,
      "metadata": {
        "id": "3rf_I8rohzEo"
      },
      "outputs": [],
      "source": [
        "from sklearn.model_selection import train_test_split\n",
        "X_train, X_main, y_train, y_main = train_test_split(data['cleaned_comments'], data['FinalTag'], test_size = 0.2, random_state = 0)\n",
        "X_test, X_val, y_test, y_val= train_test_split(X_main, y_main, test_size = 0.5, random_state = 0)"
      ]
    },
    {
      "cell_type": "code",
      "execution_count": null,
      "metadata": {
        "id": "Tmwa6yrUhzEp"
      },
      "outputs": [],
      "source": [
        "label_encoder = preprocessing.LabelEncoder()\n",
        "y_train= label_encoder.fit_transform(y_train)\n",
        "y_test= label_encoder.fit_transform(y_test)\n",
        "y_val=label_encoder.fit_transform(y_val)\n"
      ]
    },
    {
      "cell_type": "code",
      "execution_count": null,
      "metadata": {
        "id": "R2biQCBehzEp"
      },
      "outputs": [],
      "source": [
        "train_encodings =  tokenizer.batch_encode_plus(list(X_train), max_length=maximum_length,\n",
        "  add_special_tokens=True, \n",
        "  pad_to_max_length=True,\n",
        "   return_token_type_ids=False,\n",
        "  return_attention_mask=True,\n",
        "   return_tensors='pt',  \n",
        ")\n",
        "\n",
        "test_encodings =  tokenizer.batch_encode_plus(list(X_test), max_length=maximum_length,\n",
        "  add_special_tokens=True, \n",
        "  pad_to_max_length=True,\n",
        "   return_token_type_ids=False,\n",
        "  return_attention_mask=True,\n",
        "   return_tensors='pt',\n",
        ")\n",
        "\n",
        "val_encodings =  tokenizer.batch_encode_plus(list(X_val), max_length=maximum_length,\n",
        "  add_special_tokens=True, \n",
        "  pad_to_max_length=True,\n",
        "   return_token_type_ids=False,\n",
        "  return_attention_mask=True,\n",
        "   return_tensors='pt',\n",
        ")\n"
      ]
    },
    {
      "cell_type": "code",
      "execution_count": null,
      "metadata": {
        "id": "ZZ93w7PjhzEq"
      },
      "outputs": [],
      "source": [
        "import torch\n",
        "\n",
        "class Dataset(torch.utils.data.Dataset):\n",
        "    def __init__(self, encodings, labels):\n",
        "        self.encodings = encodings\n",
        "        self.labels = labels\n",
        "\n",
        "    def __getitem__(self, idx):\n",
        "        item = {key: torch.tensor(val[idx]) for key, val in self.encodings.items()}\n",
        "        item['labels'] = torch.tensor(self.labels[idx], dtype=torch.long)\n",
        "        return item\n",
        "\n",
        "    def __len__(self):\n",
        "        return len(self.labels)\n",
        "\n"
      ]
    },
    {
      "cell_type": "code",
      "execution_count": null,
      "metadata": {
        "id": "l6eJIzVehzEq"
      },
      "outputs": [],
      "source": [
        "train_dataset = Dataset(train_encodings, y_train)\n",
        "val_dataset = Dataset(val_encodings, y_val)\n",
        "test_dataset =Dataset(test_encodings, y_test)"
      ]
    },
    {
      "cell_type": "code",
      "execution_count": null,
      "metadata": {
        "id": "ImXQSEjkhzEq",
        "outputId": "78e29a65-269b-45de-e4e2-f51135e2364e"
      },
      "outputs": [
        {
          "name": "stderr",
          "output_type": "stream",
          "text": [
            "C:\\Users\\user\\AppData\\Local\\Temp\\ipykernel_4504\\3028203196.py:9: UserWarning: To copy construct from a tensor, it is recommended to use sourceTensor.clone().detach() or sourceTensor.clone().detach().requires_grad_(True), rather than torch.tensor(sourceTensor).\n",
            "  item = {key: torch.tensor(val[idx]) for key, val in self.encodings.items()}\n"
          ]
        },
        {
          "data": {
            "text/plain": [
              "{'input_ids': tensor([    2,  1062, 27516,   830,     1,  1632,     1,  1011,  2591,  1482,\n",
              "          2397,   205,     3,     0,     0,     0,     0,     0,     0,     0,\n",
              "             0,     0,     0,     0,     0,     0,     0,     0,     0,     0,\n",
              "             0,     0,     0,     0,     0,     0,     0,     0,     0,     0,\n",
              "             0,     0,     0,     0,     0,     0,     0,     0,     0,     0,\n",
              "             0,     0,     0,     0,     0,     0,     0,     0,     0,     0,\n",
              "             0,     0,     0,     0,     0,     0,     0,     0,     0,     0,\n",
              "             0,     0,     0,     0,     0,     0,     0,     0,     0,     0,\n",
              "             0,     0,     0,     0,     0,     0,     0,     0,     0,     0,\n",
              "             0,     0,     0,     0,     0,     0,     0,     0,     0,     0,\n",
              "             0,     0,     0,     0,     0,     0,     0,     0,     0,     0,\n",
              "             0,     0,     0,     0,     0,     0,     0,     0,     0,     0,\n",
              "             0,     0,     0,     0,     0,     0,     0,     0]),\n",
              " 'attention_mask': tensor([1, 1, 1, 1, 1, 1, 1, 1, 1, 1, 1, 1, 1, 0, 0, 0, 0, 0, 0, 0, 0, 0, 0, 0,\n",
              "         0, 0, 0, 0, 0, 0, 0, 0, 0, 0, 0, 0, 0, 0, 0, 0, 0, 0, 0, 0, 0, 0, 0, 0,\n",
              "         0, 0, 0, 0, 0, 0, 0, 0, 0, 0, 0, 0, 0, 0, 0, 0, 0, 0, 0, 0, 0, 0, 0, 0,\n",
              "         0, 0, 0, 0, 0, 0, 0, 0, 0, 0, 0, 0, 0, 0, 0, 0, 0, 0, 0, 0, 0, 0, 0, 0,\n",
              "         0, 0, 0, 0, 0, 0, 0, 0, 0, 0, 0, 0, 0, 0, 0, 0, 0, 0, 0, 0, 0, 0, 0, 0,\n",
              "         0, 0, 0, 0, 0, 0, 0, 0]),\n",
              " 'labels': tensor(3)}"
            ]
          },
          "execution_count": 232,
          "metadata": {},
          "output_type": "execute_result"
        }
      ],
      "source": [
        "train_dataset[7]"
      ]
    },
    {
      "cell_type": "code",
      "execution_count": null,
      "metadata": {
        "id": "M3mcVhqShzEq",
        "outputId": "e4128807-0bbb-4a24-b59a-41a69e505f3d"
      },
      "outputs": [
        {
          "name": "stderr",
          "output_type": "stream",
          "text": [
            "loading configuration file config.json from cache at C:\\Users\\user/.cache\\huggingface\\hub\\models--csebuetnlp--banglabert\\snapshots\\9ce791f330578f50da6bc52b54205166fb5d1c8c\\config.json\n",
            "Model config ElectraConfig {\n",
            "  \"_name_or_path\": \"csebuetnlp/banglabert\",\n",
            "  \"architectures\": [\n",
            "    \"ElectraForPreTraining\"\n",
            "  ],\n",
            "  \"attention_probs_dropout_prob\": 0.1,\n",
            "  \"classifier_dropout\": null,\n",
            "  \"embedding_size\": 768,\n",
            "  \"hidden_act\": \"gelu\",\n",
            "  \"hidden_dropout_prob\": 0.1,\n",
            "  \"hidden_size\": 768,\n",
            "  \"id2label\": {\n",
            "    \"0\": \"LABEL_0\",\n",
            "    \"1\": \"LABEL_1\",\n",
            "    \"2\": \"LABEL_2\",\n",
            "    \"3\": \"LABEL_3\",\n",
            "    \"4\": \"LABEL_4\",\n",
            "    \"5\": \"LABEL_5\",\n",
            "    \"6\": \"LABEL_6\"\n",
            "  },\n",
            "  \"initializer_range\": 0.02,\n",
            "  \"intermediate_size\": 3072,\n",
            "  \"label2id\": {\n",
            "    \"LABEL_0\": 0,\n",
            "    \"LABEL_1\": 1,\n",
            "    \"LABEL_2\": 2,\n",
            "    \"LABEL_3\": 3,\n",
            "    \"LABEL_4\": 4,\n",
            "    \"LABEL_5\": 5,\n",
            "    \"LABEL_6\": 6\n",
            "  },\n",
            "  \"layer_norm_eps\": 1e-12,\n",
            "  \"max_position_embeddings\": 512,\n",
            "  \"model_type\": \"electra\",\n",
            "  \"num_attention_heads\": 12,\n",
            "  \"num_hidden_layers\": 12,\n",
            "  \"pad_token_id\": 0,\n",
            "  \"position_embedding_type\": \"absolute\",\n",
            "  \"summary_activation\": \"gelu\",\n",
            "  \"summary_last_dropout\": 0.1,\n",
            "  \"summary_type\": \"first\",\n",
            "  \"summary_use_proj\": true,\n",
            "  \"transformers_version\": \"4.25.1\",\n",
            "  \"type_vocab_size\": 2,\n",
            "  \"use_cache\": true,\n",
            "  \"vocab_size\": 32000\n",
            "}\n",
            "\n",
            "loading weights file pytorch_model.bin from cache at C:\\Users\\user/.cache\\huggingface\\hub\\models--csebuetnlp--banglabert\\snapshots\\9ce791f330578f50da6bc52b54205166fb5d1c8c\\pytorch_model.bin\n",
            "Some weights of the model checkpoint at csebuetnlp/banglabert were not used when initializing ElectraForSequenceClassification: ['discriminator_predictions.dense.bias', 'discriminator_predictions.dense_prediction.weight', 'discriminator_predictions.dense.weight', 'discriminator_predictions.dense_prediction.bias']\n",
            "- This IS expected if you are initializing ElectraForSequenceClassification from the checkpoint of a model trained on another task or with another architecture (e.g. initializing a BertForSequenceClassification model from a BertForPreTraining model).\n",
            "- This IS NOT expected if you are initializing ElectraForSequenceClassification from the checkpoint of a model that you expect to be exactly identical (initializing a BertForSequenceClassification model from a BertForSequenceClassification model).\n",
            "Some weights of ElectraForSequenceClassification were not initialized from the model checkpoint at csebuetnlp/banglabert and are newly initialized: ['classifier.dense.weight', 'classifier.out_proj.weight', 'classifier.dense.bias', 'classifier.out_proj.bias']\n",
            "You should probably TRAIN this model on a down-stream task to be able to use it for predictions and inference.\n"
          ]
        }
      ],
      "source": [
        "from transformers import   AutoModelForSequenceClassification, Trainer, TrainingArguments,AdamW\n",
        "model = AutoModelForSequenceClassification.from_pretrained(\"csebuetnlp/banglabert\",num_labels=7)"
      ]
    },
    {
      "cell_type": "code",
      "execution_count": null,
      "metadata": {
        "id": "lVeP8LdehzEr"
      },
      "outputs": [],
      "source": [
        "from sklearn.metrics import accuracy_score, recall_score, precision_score, f1_score\n",
        "def compute_metrics(p):\n",
        "#     print(type(p))\n",
        "    pred, labels = p\n",
        "    pred = np.argmax(pred, axis=1)\n",
        "\n",
        "    accuracy = accuracy_score(y_true=labels, y_pred=pred)\n",
        "    recall = recall_score(y_true=labels, y_pred=pred, average='weighted')\n",
        "    precision = precision_score(y_true=labels, y_pred=pred, average='weighted')\n",
        "    f1 = f1_score(y_true=labels, y_pred=pred,average='weighted')\n",
        "\n",
        "    return {\"accuracy\": accuracy, \"precision\": precision, \"recall\": recall, \"f1\": f1}"
      ]
    },
    {
      "cell_type": "code",
      "execution_count": null,
      "metadata": {
        "id": "WCQywMbrhzEs",
        "outputId": "ed9f6229-b160-4b57-a554-2af27e077e8b"
      },
      "outputs": [
        {
          "name": "stderr",
          "output_type": "stream",
          "text": [
            "PyTorch: setting up devices\n",
            "The default value for the training argument `--report_to` will change in v5 (from all installed integrations to none). In v5, you will need to use `--report_to all` to get the same behavior as now. You should start updating your code and make this info disappear :-).\n"
          ]
        }
      ],
      "source": [
        "from transformers import EarlyStoppingCallback, IntervalStrategy\n",
        "training_args = TrainingArguments(\n",
        "    output_dir='./results',          # output directory\n",
        "    num_train_epochs=30,              # total number of training epochs\n",
        "    per_device_train_batch_size=16,  # batch size per device during training\n",
        "    per_device_eval_batch_size=8,   # batch size for evaluation\n",
        "    warmup_steps=721,\n",
        "    # number of warmup steps for learning rate scheduler\n",
        "    weight_decay=0.01,               # strength of weight decay\n",
        "    logging_dir='./logs',            # directory for storing logs\n",
        "    logging_steps=10,\n",
        "    evaluation_strategy = IntervalStrategy.STEPS, # \"steps\"\n",
        "   save_steps=721,\n",
        "    eval_steps = 721,\n",
        "    metric_for_best_model = 'accuracy',\n",
        "   load_best_model_at_end=True\n",
        ")\n"
      ]
    },
    {
      "cell_type": "code",
      "execution_count": null,
      "metadata": {
        "id": "rHDOxkmohzEs"
      },
      "outputs": [],
      "source": [
        "trainer = Trainer(\n",
        "    model=model,                         # the instantiated 🤗 Transformers model to be trained\n",
        "    args=training_args,                  # training arguments, defined above\n",
        "    train_dataset=train_dataset,         # training dataset\n",
        "    eval_dataset=val_dataset,             # evaluation dataset\n",
        "    compute_metrics=compute_metrics,\n",
        "    callbacks = [EarlyStoppingCallback(early_stopping_patience=5)]\n",
        ")\n",
        "\n"
      ]
    },
    {
      "cell_type": "code",
      "execution_count": null,
      "metadata": {
        "id": "zh0L4C9ThzEs",
        "outputId": "08f51286-459b-4385-dcc9-48f98818d0bb"
      },
      "outputs": [
        {
          "name": "stderr",
          "output_type": "stream",
          "text": [
            "C:\\Users\\user\\AppData\\Roaming\\Python\\Python39\\site-packages\\transformers\\optimization.py:306: FutureWarning: This implementation of AdamW is deprecated and will be removed in a future version. Use the PyTorch implementation torch.optim.AdamW instead, or set `no_deprecation_warning=True` to disable this warning\n",
            "  warnings.warn(\n",
            "***** Running training *****\n",
            "  Num examples = 11535\n",
            "  Num Epochs = 30\n",
            "  Instantaneous batch size per device = 16\n",
            "  Total train batch size (w. parallel, distributed & accumulation) = 16\n",
            "  Gradient Accumulation steps = 1\n",
            "  Total optimization steps = 21630\n",
            "  Number of trainable parameters = 110622727\n",
            "C:\\Users\\user\\AppData\\Local\\Temp\\ipykernel_4504\\3028203196.py:9: UserWarning: To copy construct from a tensor, it is recommended to use sourceTensor.clone().detach() or sourceTensor.clone().detach().requires_grad_(True), rather than torch.tensor(sourceTensor).\n",
            "  item = {key: torch.tensor(val[idx]) for key, val in self.encodings.items()}\n"
          ]
        },
        {
          "data": {
            "text/html": [
              "\n",
              "    <div>\n",
              "      \n",
              "      <progress value='5047' max='21630' style='width:300px; height:20px; vertical-align: middle;'></progress>\n",
              "      [ 5047/21630 8:30:57 < 27:59:33, 0.16 it/s, Epoch 7/30]\n",
              "    </div>\n",
              "    <table border=\"1\" class=\"dataframe\">\n",
              "  <thead>\n",
              " <tr style=\"text-align: left;\">\n",
              "      <th>Step</th>\n",
              "      <th>Training Loss</th>\n",
              "      <th>Validation Loss</th>\n",
              "      <th>Accuracy</th>\n",
              "      <th>Precision</th>\n",
              "      <th>Recall</th>\n",
              "      <th>F1</th>\n",
              "    </tr>\n",
              "  </thead>\n",
              "  <tbody>\n",
              "    <tr>\n",
              "      <td>721</td>\n",
              "      <td>1.124000</td>\n",
              "      <td>1.040128</td>\n",
              "      <td>0.636616</td>\n",
              "      <td>0.618755</td>\n",
              "      <td>0.636616</td>\n",
              "      <td>0.612885</td>\n",
              "    </tr>\n",
              "    <tr>\n",
              "      <td>1442</td>\n",
              "      <td>0.820900</td>\n",
              "      <td>1.007991</td>\n",
              "      <td>0.651179</td>\n",
              "      <td>0.657552</td>\n",
              "      <td>0.651179</td>\n",
              "      <td>0.638617</td>\n",
              "    </tr>\n",
              "    <tr>\n",
              "      <td>2163</td>\n",
              "      <td>0.628400</td>\n",
              "      <td>1.104714</td>\n",
              "      <td>0.648405</td>\n",
              "      <td>0.650271</td>\n",
              "      <td>0.648405</td>\n",
              "      <td>0.647784</td>\n",
              "    </tr>\n",
              "    <tr>\n",
              "      <td>2884</td>\n",
              "      <td>0.444100</td>\n",
              "      <td>1.426013</td>\n",
              "      <td>0.626907</td>\n",
              "      <td>0.632831</td>\n",
              "      <td>0.626907</td>\n",
              "      <td>0.622512</td>\n",
              "    </tr>\n",
              "    <tr>\n",
              "      <td>3605</td>\n",
              "      <td>0.257800</td>\n",
              "      <td>1.535557</td>\n",
              "      <td>0.629681</td>\n",
              "      <td>0.655666</td>\n",
              "      <td>0.629681</td>\n",
              "      <td>0.627929</td>\n",
              "    </tr>\n",
              "    <tr>\n",
              "      <td>4326</td>\n",
              "      <td>0.442100</td>\n",
              "      <td>1.843155</td>\n",
              "      <td>0.638003</td>\n",
              "      <td>0.653027</td>\n",
              "      <td>0.638003</td>\n",
              "      <td>0.638383</td>\n",
              "    </tr>\n",
              "    <tr>\n",
              "      <td>5047</td>\n",
              "      <td>0.271500</td>\n",
              "      <td>1.993650</td>\n",
              "      <td>0.640777</td>\n",
              "      <td>0.644038</td>\n",
              "      <td>0.640777</td>\n",
              "      <td>0.641259</td>\n",
              "    </tr>\n",
              "  </tbody>\n",
              "</table><p>"
            ],
            "text/plain": [
              "<IPython.core.display.HTML object>"
            ]
          },
          "metadata": {},
          "output_type": "display_data"
        },
        {
          "name": "stderr",
          "output_type": "stream",
          "text": [
            "***** Running Evaluation *****\n",
            "  Num examples = 1442\n",
            "  Batch size = 8\n",
            "C:\\ProgramData\\Anaconda3\\lib\\site-packages\\sklearn\\metrics\\_classification.py:1318: UndefinedMetricWarning: Precision is ill-defined and being set to 0.0 in labels with no predicted samples. Use `zero_division` parameter to control this behavior.\n",
            "  _warn_prf(average, modifier, msg_start, len(result))\n",
            "Saving model checkpoint to ./results\\checkpoint-721\n",
            "Configuration saved in ./results\\checkpoint-721\\config.json\n",
            "Model weights saved in ./results\\checkpoint-721\\pytorch_model.bin\n",
            "C:\\Users\\user\\AppData\\Local\\Temp\\ipykernel_4504\\3028203196.py:9: UserWarning: To copy construct from a tensor, it is recommended to use sourceTensor.clone().detach() or sourceTensor.clone().detach().requires_grad_(True), rather than torch.tensor(sourceTensor).\n",
            "  item = {key: torch.tensor(val[idx]) for key, val in self.encodings.items()}\n",
            "***** Running Evaluation *****\n",
            "  Num examples = 1442\n",
            "  Batch size = 8\n",
            "Saving model checkpoint to ./results\\checkpoint-1442\n",
            "Configuration saved in ./results\\checkpoint-1442\\config.json\n",
            "Model weights saved in ./results\\checkpoint-1442\\pytorch_model.bin\n",
            "C:\\Users\\user\\AppData\\Local\\Temp\\ipykernel_4504\\3028203196.py:9: UserWarning: To copy construct from a tensor, it is recommended to use sourceTensor.clone().detach() or sourceTensor.clone().detach().requires_grad_(True), rather than torch.tensor(sourceTensor).\n",
            "  item = {key: torch.tensor(val[idx]) for key, val in self.encodings.items()}\n",
            "***** Running Evaluation *****\n",
            "  Num examples = 1442\n",
            "  Batch size = 8\n",
            "Saving model checkpoint to ./results\\checkpoint-2163\n",
            "Configuration saved in ./results\\checkpoint-2163\\config.json\n",
            "Model weights saved in ./results\\checkpoint-2163\\pytorch_model.bin\n",
            "C:\\Users\\user\\AppData\\Local\\Temp\\ipykernel_4504\\3028203196.py:9: UserWarning: To copy construct from a tensor, it is recommended to use sourceTensor.clone().detach() or sourceTensor.clone().detach().requires_grad_(True), rather than torch.tensor(sourceTensor).\n",
            "  item = {key: torch.tensor(val[idx]) for key, val in self.encodings.items()}\n",
            "***** Running Evaluation *****\n",
            "  Num examples = 1442\n",
            "  Batch size = 8\n",
            "Saving model checkpoint to ./results\\checkpoint-2884\n",
            "Configuration saved in ./results\\checkpoint-2884\\config.json\n",
            "Model weights saved in ./results\\checkpoint-2884\\pytorch_model.bin\n",
            "C:\\Users\\user\\AppData\\Local\\Temp\\ipykernel_4504\\3028203196.py:9: UserWarning: To copy construct from a tensor, it is recommended to use sourceTensor.clone().detach() or sourceTensor.clone().detach().requires_grad_(True), rather than torch.tensor(sourceTensor).\n",
            "  item = {key: torch.tensor(val[idx]) for key, val in self.encodings.items()}\n",
            "***** Running Evaluation *****\n",
            "  Num examples = 1442\n",
            "  Batch size = 8\n",
            "Saving model checkpoint to ./results\\checkpoint-3605\n",
            "Configuration saved in ./results\\checkpoint-3605\\config.json\n",
            "Model weights saved in ./results\\checkpoint-3605\\pytorch_model.bin\n",
            "C:\\Users\\user\\AppData\\Local\\Temp\\ipykernel_4504\\3028203196.py:9: UserWarning: To copy construct from a tensor, it is recommended to use sourceTensor.clone().detach() or sourceTensor.clone().detach().requires_grad_(True), rather than torch.tensor(sourceTensor).\n",
            "  item = {key: torch.tensor(val[idx]) for key, val in self.encodings.items()}\n",
            "***** Running Evaluation *****\n",
            "  Num examples = 1442\n",
            "  Batch size = 8\n",
            "Saving model checkpoint to ./results\\checkpoint-4326\n",
            "Configuration saved in ./results\\checkpoint-4326\\config.json\n",
            "Model weights saved in ./results\\checkpoint-4326\\pytorch_model.bin\n",
            "C:\\Users\\user\\AppData\\Local\\Temp\\ipykernel_4504\\3028203196.py:9: UserWarning: To copy construct from a tensor, it is recommended to use sourceTensor.clone().detach() or sourceTensor.clone().detach().requires_grad_(True), rather than torch.tensor(sourceTensor).\n",
            "  item = {key: torch.tensor(val[idx]) for key, val in self.encodings.items()}\n",
            "***** Running Evaluation *****\n",
            "  Num examples = 1442\n",
            "  Batch size = 8\n",
            "Saving model checkpoint to ./results\\checkpoint-5047\n",
            "Configuration saved in ./results\\checkpoint-5047\\config.json\n",
            "Model weights saved in ./results\\checkpoint-5047\\pytorch_model.bin\n",
            "\n",
            "\n",
            "Training completed. Do not forget to share your model on huggingface.co/models =)\n",
            "\n",
            "\n",
            "Loading best model from ./results\\checkpoint-1442 (score: 0.6511789181692095).\n"
          ]
        },
        {
          "data": {
            "text/plain": [
              "TrainOutput(global_step=5047, training_loss=0.5825007890259036, metrics={'train_runtime': 30663.3414, 'train_samples_per_second': 11.285, 'train_steps_per_second': 0.705, 'total_flos': 5311463978016000.0, 'train_loss': 0.5825007890259036, 'epoch': 7.0})"
            ]
          },
          "execution_count": 239,
          "metadata": {},
          "output_type": "execute_result"
        }
      ],
      "source": [
        "trainer.train()"
      ]
    },
    {
      "cell_type": "code",
      "execution_count": null,
      "metadata": {
        "id": "_ADSaEhphzEt",
        "outputId": "758a4fd7-c2fa-4a5a-a0b5-43a99a59c8e4"
      },
      "outputs": [
        {
          "name": "stderr",
          "output_type": "stream",
          "text": [
            "***** Running Evaluation *****\n",
            "  Num examples = 1442\n",
            "  Batch size = 8\n",
            "C:\\Users\\user\\AppData\\Local\\Temp\\ipykernel_4504\\3028203196.py:9: UserWarning: To copy construct from a tensor, it is recommended to use sourceTensor.clone().detach() or sourceTensor.clone().detach().requires_grad_(True), rather than torch.tensor(sourceTensor).\n",
            "  item = {key: torch.tensor(val[idx]) for key, val in self.encodings.items()}\n"
          ]
        },
        {
          "data": {
            "text/html": [],
            "text/plain": [
              "<IPython.core.display.HTML object>"
            ]
          },
          "metadata": {},
          "output_type": "display_data"
        },
        {
          "data": {
            "text/plain": [
              "{'eval_loss': 1.0079913139343262,\n",
              " 'eval_accuracy': 0.6511789181692095,\n",
              " 'eval_precision': 0.6575523085792597,\n",
              " 'eval_recall': 0.6511789181692095,\n",
              " 'eval_f1': 0.6386166334346852,\n",
              " 'eval_runtime': 181.1694,\n",
              " 'eval_samples_per_second': 7.959,\n",
              " 'eval_steps_per_second': 0.999,\n",
              " 'epoch': 7.0}"
            ]
          },
          "execution_count": 240,
          "metadata": {},
          "output_type": "execute_result"
        }
      ],
      "source": [
        "trainer.evaluate()"
      ]
    },
    {
      "cell_type": "code",
      "execution_count": null,
      "metadata": {
        "id": "w2I215sdhzEt",
        "outputId": "1b93ea40-c57c-42e0-c1ec-b74b4483e4f2"
      },
      "outputs": [
        {
          "name": "stderr",
          "output_type": "stream",
          "text": [
            "***** Running Prediction *****\n",
            "  Num examples = 11535\n",
            "  Batch size = 8\n",
            "C:\\Users\\user\\AppData\\Local\\Temp\\ipykernel_4504\\3028203196.py:9: UserWarning: To copy construct from a tensor, it is recommended to use sourceTensor.clone().detach() or sourceTensor.clone().detach().requires_grad_(True), rather than torch.tensor(sourceTensor).\n",
            "  item = {key: torch.tensor(val[idx]) for key, val in self.encodings.items()}\n"
          ]
        },
        {
          "data": {
            "text/plain": [
              "PredictionOutput(predictions=array([[-0.5773304 ,  0.8840705 , -1.1440036 , ...,  0.38880208,\n",
              "        -0.1521293 , -0.21228783],\n",
              "       [-1.9985436 , -0.32743374, -1.7802212 , ..., -0.64676166,\n",
              "        -0.2939616 , -0.9868685 ],\n",
              "       [ 0.13690472, -0.08147243, -0.8187586 , ...,  0.5886284 ,\n",
              "        -0.15313199, -1.3933132 ],\n",
              "       ...,\n",
              "       [-2.0548806 , -0.6990185 , -1.6387058 , ..., -0.83927226,\n",
              "        -0.20576325, -1.2965587 ],\n",
              "       [ 3.6970005 ,  1.0688374 , -1.2022165 , ..., -0.9335574 ,\n",
              "        -0.6556297 , -1.8582381 ],\n",
              "       [-2.1237912 , -0.7295991 , -1.6286161 , ..., -0.82473624,\n",
              "         0.02535363, -1.4026864 ]], dtype=float32), label_ids=array([4, 3, 3, ..., 3, 0, 3], dtype=int64), metrics={'test_loss': 0.6244715452194214, 'test_accuracy': 0.7901170351105331, 'test_precision': 0.8015745206029657, 'test_recall': 0.7901170351105331, 'test_f1': 0.7784935955260566, 'test_runtime': 1490.525, 'test_samples_per_second': 7.739, 'test_steps_per_second': 0.967})"
            ]
          },
          "execution_count": 241,
          "metadata": {},
          "output_type": "execute_result"
        }
      ],
      "source": [
        "trainer.predict(train_dataset)"
      ]
    },
    {
      "cell_type": "code",
      "execution_count": null,
      "metadata": {
        "id": "ogkSmlG3hzEt",
        "outputId": "3c3c87c1-1375-4c3d-f50b-f431a65a38c2"
      },
      "outputs": [
        {
          "name": "stderr",
          "output_type": "stream",
          "text": [
            "***** Running Prediction *****\n",
            "  Num examples = 11535\n",
            "  Batch size = 8\n",
            "C:\\Users\\user\\AppData\\Local\\Temp\\ipykernel_4504\\3028203196.py:9: UserWarning: To copy construct from a tensor, it is recommended to use sourceTensor.clone().detach() or sourceTensor.clone().detach().requires_grad_(True), rather than torch.tensor(sourceTensor).\n",
            "  item = {key: torch.tensor(val[idx]) for key, val in self.encodings.items()}\n"
          ]
        },
        {
          "data": {
            "text/html": [],
            "text/plain": [
              "<IPython.core.display.HTML object>"
            ]
          },
          "metadata": {},
          "output_type": "display_data"
        },
        {
          "name": "stdout",
          "output_type": "stream",
          "text": [
            "Training Accuracy 0.7901170351105331\n"
          ]
        }
      ],
      "source": [
        "# Training accuracy\n",
        "train_pred=trainer.predict(train_dataset)[0]\n",
        "train_predicted = np.argmax(train_pred, axis = 1)\n",
        "print(\"Training Accuracy\",accuracy_score(y_train, train_predicted))"
      ]
    },
    {
      "cell_type": "code",
      "execution_count": null,
      "metadata": {
        "id": "ugeVwgunhzEu",
        "outputId": "fcfa7bac-627f-435a-c488-ef1631634e20"
      },
      "outputs": [
        {
          "name": "stdout",
          "output_type": "stream",
          "text": [
            "val accuracy 0.6511789181692095\n"
          ]
        }
      ],
      "source": [
        "# validation accuracy\n",
        "pred=trainer.predict(val_dataset)[0]\n",
        "y_predicted = np.argmax(pred, axis = 1)\n",
        "print(\"val accuracy\", accuracy_score(y_val, y_predicted))"
      ]
    },
    {
      "cell_type": "code",
      "execution_count": null,
      "metadata": {
        "id": "-ZzTkiYjhzEu"
      },
      "outputs": [],
      "source": [
        "from sklearn.metrics import classification_report, confusion_matrix"
      ]
    },
    {
      "cell_type": "code",
      "execution_count": null,
      "metadata": {
        "id": "Xn0elbUfhzEv",
        "outputId": "0eea8258-df63-4c76-a889-11a785698649"
      },
      "outputs": [
        {
          "name": "stdout",
          "output_type": "stream",
          "text": [
            "              precision    recall  f1-score   support\n",
            "\n",
            "       Anger       0.77      0.43      0.55       175\n",
            "     Disgust       0.52      0.70      0.60       317\n",
            "        Fear       0.44      0.61      0.51        85\n",
            "   Happiness       0.76      0.91      0.83       388\n",
            "      Others       0.00      0.00      0.00        31\n",
            "     Sadness       0.74      0.54      0.63       413\n",
            "    Surprise       0.41      0.27      0.33        33\n",
            "\n",
            "    accuracy                           0.65      1442\n",
            "   macro avg       0.52      0.50      0.49      1442\n",
            "weighted avg       0.66      0.65      0.64      1442\n",
            "\n"
          ]
        }
      ],
      "source": [
        "target_names=['Anger','Disgust','Fear','Happiness','Others','Sadness', 'Surprise' ]\n",
        "print(classification_report(y_val,y_predicted,target_names=target_names))"
      ]
    },
    {
      "cell_type": "code",
      "execution_count": null,
      "metadata": {
        "id": "J4FtdaLBhzEv",
        "outputId": "5a582eec-bce3-4066-baaa-8e71ca04c712"
      },
      "outputs": [
        {
          "name": "stderr",
          "output_type": "stream",
          "text": [
            "Saving model checkpoint to my_bert\n",
            "Configuration saved in my_bert\\config.json\n",
            "Model weights saved in my_bert\\pytorch_model.bin\n"
          ]
        }
      ],
      "source": [
        "trainer.save_model(\"my_bert\")"
      ]
    },
    {
      "cell_type": "code",
      "execution_count": null,
      "metadata": {
        "id": "4gKlNMhChzEy",
        "outputId": "7b8b954d-f50e-4c04-afa9-f0f3842a84fe"
      },
      "outputs": [
        {
          "name": "stdout",
          "output_type": "stream",
          "text": [
            "[[ 76  72   7   6   0  12   2]\n",
            " [ 14 223  11  30   0  35   4]\n",
            " [  2   7  52   7   1  16   0]\n",
            " [  4  14   4 354   0  11   1]\n",
            " [  1   8   4  12   0   3   3]\n",
            " [  1  95  39  50   0 225   3]\n",
            " [  1  10   2   7   0   4   9]]\n"
          ]
        }
      ],
      "source": [
        "cm=confusion_matrix(y_val, y_predicted)\n",
        "print(cm)"
      ]
    },
    {
      "cell_type": "code",
      "execution_count": null,
      "metadata": {
        "id": "K_GleXSxhzEy",
        "outputId": "d6ecb652-5688-4be7-fc8d-aba73a5cd906"
      },
      "outputs": [
        {
          "data": {
            "image/png": "[encoded data removed]",
            "text/plain": [
              "<Figure size 1000x500 with 2 Axes>"
            ]
          },
          "metadata": {},
          "output_type": "display_data"
        }
      ],
      "source": [
        "plt.figure(figsize=(10,5))\n",
        "sb.heatmap(cm, cmap=\"Greens\", annot=True,\n",
        "           xticklabels=['Anger','Disgust','Fear','Happiness','Others','Sadness', 'Surprise' ],\n",
        "           yticklabels=['Anger','Disgust','Fear','Happiness','Others','Sadness', 'Surprise' ])  \n",
        "\n",
        "\n",
        "plt.xlabel(\"Predicted \", size=12)\n",
        "plt.ylabel(\"Actual\", size=12)\n",
        "plt.title(\"Confusion Matrix\", size=20)\n",
        "plt.show()"
      ]
    }
  ],
  "metadata": {
    "colab": {
      "history_visible": true,
      "provenance": []
    },
    "gpuClass": "standard",
    "kernelspec": {
      "display_name": "Python 3 (ipykernel)",
      "language": "python",
      "name": "python3"
    },
    "language_info": {
      "codemirror_mode": {
        "name": "ipython",
        "version": 3
      },
      "file_extension": ".py",
      "mimetype": "text/x-python",
      "name": "python",
      "nbconvert_exporter": "python",
      "pygments_lexer": "ipython3",
      "version": "3.9.13"
    }
  },
  "nbformat": 4,
  "nbformat_minor": 0
}