{
 "cells": [
  {
   "cell_type": "code",
   "execution_count": null,
   "metadata": {
    "colab": {
     "base_uri": "https://localhost:8080/"
    },
    "id": "MGedCZRK6d3-",
    "outputId": "04247fc3-26fe-4888-b5af-0d8a4d222c5c"
   },
   "outputs": [
    {
     "name": "stdout",
     "output_type": "stream",
     "text": [
      "Sat Jan  7 21:34:40 2023       \n",
      "+-----------------------------------------------------------------------------+\n",
      "| NVIDIA-SMI 526.98       Driver Version: 526.98       CUDA Version: 12.0     |\n",
      "|-------------------------------+----------------------+----------------------+\n",
      "| GPU  Name            TCC/WDDM | Bus-Id        Disp.A | Volatile Uncorr. ECC |\n",
      "| Fan  Temp  Perf  Pwr:Usage/Cap|         Memory-Usage | GPU-Util  Compute M. |\n",
      "|                               |                      |               MIG M. |\n",
      "|===============================+======================+======================|\n",
      "|   0  NVIDIA GeForce ... WDDM  | 00000000:2D:00.0  On |                  N/A |\n",
      "|  0%   52C    P8    33W / 350W |    408MiB / 12288MiB |      3%      Default |\n",
      "|                               |                      |                  N/A |\n",
      "+-------------------------------+----------------------+----------------------+\n",
      "                                                                               \n",
      "+-----------------------------------------------------------------------------+\n",
      "| Processes:                                                                  |\n",
      "|  GPU   GI   CI        PID   Type   Process name                  GPU Memory |\n",
      "|        ID   ID                                                   Usage      |\n",
      "|=============================================================================|\n",
      "|    0   N/A  N/A      4960    C+G   ...bbwe\\Microsoft.Photos.exe    N/A      |\n",
      "|    0   N/A  N/A      7436    C+G   C:\\Windows\\explorer.exe         N/A      |\n",
      "|    0   N/A  N/A      7580    C+G   ...5n1h2txyewy\\SearchApp.exe    N/A      |\n",
      "|    0   N/A  N/A      8268    C+G   ...5n1h2txyewy\\SearchApp.exe    N/A      |\n",
      "|    0   N/A  N/A      8732    C+G   ...cw5n1h2txyewy\\LockApp.exe    N/A      |\n",
      "|    0   N/A  N/A     10592    C+G   ...e\\PhoneExperienceHost.exe    N/A      |\n",
      "|    0   N/A  N/A     11948    C+G   ...ge\\Application\\msedge.exe    N/A      |\n",
      "|    0   N/A  N/A     12316    C+G   ...y\\ShellExperienceHost.exe    N/A      |\n",
      "|    0   N/A  N/A     13132    C+G   ...2txyewy\\TextInputHost.exe    N/A      |\n",
      "|    0   N/A  N/A     13288    C+G   ...lPanel\\SystemSettings.exe    N/A      |\n",
      "+-----------------------------------------------------------------------------+\n"
     ]
    }
   ],
   "source": [
    "!nvidia-smi"
   ]
  },
  {
   "cell_type": "markdown",
   "metadata": {
    "id": "C4cowiZhWH9M"
   },
   "source": [
    "**Importing Libraries**"
   ]
  },
  {
   "cell_type": "code",
   "execution_count": 321,
   "metadata": {
    "id": "p3JvztYI6pR9"
   },
   "outputs": [],
   "source": [
    "import pandas as pd\n",
    "import seaborn as sb\n",
    "import matplotlib.pyplot as plt\n",
    "import re\n",
    "import numpy as np\n",
    "from sklearn import preprocessing"
   ]
  },
  {
   "cell_type": "markdown",
   "metadata": {
    "id": "joV4217TWSDd"
   },
   "source": [
    "**Loading Data**"
   ]
  },
  {
   "cell_type": "code",
   "execution_count": 322,
   "metadata": {
    "colab": {
     "base_uri": "https://localhost:8080/",
     "height": 363
    },
    "id": "VyCSMUl78FCW",
    "outputId": "7e92b066-d51d-4c9b-89d3-d79feb031728"
   },
   "outputs": [
    {
     "data": {
      "text/html": [
       "<div>\n",
       "<style scoped>\n",
       "    .dataframe tbody tr th:only-of-type {\n",
       "        vertical-align: middle;\n",
       "    }\n",
       "\n",
       "    .dataframe tbody tr th {\n",
       "        vertical-align: top;\n",
       "    }\n",
       "\n",
       "    .dataframe thead th {\n",
       "        text-align: right;\n",
       "    }\n",
       "</style>\n",
       "<table border=\"1\" class=\"dataframe\">\n",
       "  <thead>\n",
       "    <tr style=\"text-align: right;\">\n",
       "      <th></th>\n",
       "      <th>Comments</th>\n",
       "      <th>Ankon</th>\n",
       "      <th>Rizvi</th>\n",
       "      <th>Sourov</th>\n",
       "      <th>FinalTag</th>\n",
       "    </tr>\n",
       "  </thead>\n",
       "  <tbody>\n",
       "    <tr>\n",
       "      <th>0</th>\n",
       "      <td>বিশ্ববিদ্যালয়ে শিক্ষক রাজনীতি, ছাত্র রাজনীতি ...</td>\n",
       "      <td>Sadness</td>\n",
       "      <td>Sadness</td>\n",
       "      <td>Sadness</td>\n",
       "      <td>Sadness</td>\n",
       "    </tr>\n",
       "    <tr>\n",
       "      <th>1</th>\n",
       "      <td>পাকিস্তান যেই তালিকায় থাকে ওই তালিকা আমরা এমনে...</td>\n",
       "      <td>Anger</td>\n",
       "      <td>Anger</td>\n",
       "      <td>Anger</td>\n",
       "      <td>Anger</td>\n",
       "    </tr>\n",
       "    <tr>\n",
       "      <th>2</th>\n",
       "      <td>সিংগাপুরের সাথে ভারত, পাকিস্তানের তুলনা কেন? আ...</td>\n",
       "      <td>Sarcasm</td>\n",
       "      <td>Sarcasm</td>\n",
       "      <td>Sarcasm</td>\n",
       "      <td>Sarcasm</td>\n",
       "    </tr>\n",
       "    <tr>\n",
       "      <th>3</th>\n",
       "      <td>আমাদের দেশের শিক্ষা প্রতিষ্ঠানগুলোতে পড়ালেখার...</td>\n",
       "      <td>Sadness</td>\n",
       "      <td>Sadness</td>\n",
       "      <td>Sadness</td>\n",
       "      <td>Sadness</td>\n",
       "    </tr>\n",
       "    <tr>\n",
       "      <th>4</th>\n",
       "      <td>আমাদের দেশের শিক্ষা প্রতিষ্ঠান রাজনীতিতে প্রথম...</td>\n",
       "      <td>Disgust</td>\n",
       "      <td>Disgust</td>\n",
       "      <td>Disgust</td>\n",
       "      <td>Disgust</td>\n",
       "    </tr>\n",
       "    <tr>\n",
       "      <th>5</th>\n",
       "      <td>দুঃখজনক হলেও সত্য যে আমাদের দেশের বিশ্ববিদ্যাল...</td>\n",
       "      <td>Sadness</td>\n",
       "      <td>Sadness</td>\n",
       "      <td>Sadness</td>\n",
       "      <td>Sadness</td>\n",
       "    </tr>\n",
       "    <tr>\n",
       "      <th>6</th>\n",
       "      <td>আমারা এই দুই দেশ থেকে নিরাপদ দূরত্বে থাকতেই পছ...</td>\n",
       "      <td>Happiness</td>\n",
       "      <td>Sarcasm</td>\n",
       "      <td>Sarcasm</td>\n",
       "      <td>Sarcasm</td>\n",
       "    </tr>\n",
       "    <tr>\n",
       "      <th>7</th>\n",
       "      <td>বিশ্ববিদ্যালয়ের তালিকায় বাংলাদেশের বিশ্ববিদ্...</td>\n",
       "      <td>Surprise</td>\n",
       "      <td>Surprise</td>\n",
       "      <td>Surprise</td>\n",
       "      <td>Surprise</td>\n",
       "    </tr>\n",
       "    <tr>\n",
       "      <th>8</th>\n",
       "      <td>আমাদের তুলনা হবে কানাডা , আমেরিকার সাথে ! ভারত...</td>\n",
       "      <td>Sarcasm</td>\n",
       "      <td>Sarcasm</td>\n",
       "      <td>Sarcasm</td>\n",
       "      <td>Sarcasm</td>\n",
       "    </tr>\n",
       "    <tr>\n",
       "      <th>9</th>\n",
       "      <td>আগে পেটে ভাত তারপরে রিসার্চ। বাংলাদেশের মানুষে...</td>\n",
       "      <td>Disgust</td>\n",
       "      <td>Disgust</td>\n",
       "      <td>Disgust</td>\n",
       "      <td>Disgust</td>\n",
       "    </tr>\n",
       "  </tbody>\n",
       "</table>\n",
       "</div>"
      ],
      "text/plain": [
       "                                            Comments      Ankon     Rizvi  \\\n",
       "0  বিশ্ববিদ্যালয়ে শিক্ষক রাজনীতি, ছাত্র রাজনীতি ...    Sadness   Sadness   \n",
       "1  পাকিস্তান যেই তালিকায় থাকে ওই তালিকা আমরা এমনে...      Anger     Anger   \n",
       "2  সিংগাপুরের সাথে ভারত, পাকিস্তানের তুলনা কেন? আ...    Sarcasm   Sarcasm   \n",
       "3  আমাদের দেশের শিক্ষা প্রতিষ্ঠানগুলোতে পড়ালেখার...    Sadness   Sadness   \n",
       "4  আমাদের দেশের শিক্ষা প্রতিষ্ঠান রাজনীতিতে প্রথম...    Disgust   Disgust   \n",
       "5  দুঃখজনক হলেও সত্য যে আমাদের দেশের বিশ্ববিদ্যাল...    Sadness   Sadness   \n",
       "6  আমারা এই দুই দেশ থেকে নিরাপদ দূরত্বে থাকতেই পছ...  Happiness   Sarcasm   \n",
       "7  বিশ্ববিদ্যালয়ের তালিকায় বাংলাদেশের বিশ্ববিদ্...   Surprise  Surprise   \n",
       "8  আমাদের তুলনা হবে কানাডা , আমেরিকার সাথে ! ভারত...    Sarcasm   Sarcasm   \n",
       "9  আগে পেটে ভাত তারপরে রিসার্চ। বাংলাদেশের মানুষে...    Disgust   Disgust   \n",
       "\n",
       "     Sourov  FinalTag  \n",
       "0   Sadness   Sadness  \n",
       "1     Anger     Anger  \n",
       "2   Sarcasm   Sarcasm  \n",
       "3   Sadness   Sadness  \n",
       "4   Disgust   Disgust  \n",
       "5   Sadness   Sadness  \n",
       "6   Sarcasm   Sarcasm  \n",
       "7  Surprise  Surprise  \n",
       "8   Sarcasm   Sarcasm  \n",
       "9   Disgust   Disgust  "
      ]
     },
     "execution_count": 322,
     "metadata": {},
     "output_type": "execute_result"
    }
   ],
   "source": [
    "df = pd.read_csv(\"Bangla Comments _ Emotions.csv\")\n",
    "df.head(10)"
   ]
  },
  {
   "cell_type": "code",
   "execution_count": 323,
   "metadata": {
    "colab": {
     "base_uri": "https://localhost:8080/"
    },
    "id": "OfIPoY9W9XRN",
    "outputId": "50712879-7c33-4c60-c29b-ed8c4af0c717"
   },
   "outputs": [
    {
     "name": "stdout",
     "output_type": "stream",
     "text": [
      "(14999, 5)\n"
     ]
    },
    {
     "data": {
      "text/plain": [
       "Index(['  Comments', 'Ankon', 'Rizvi', 'Sourov', 'FinalTag'], dtype='object')"
      ]
     },
     "execution_count": 323,
     "metadata": {},
     "output_type": "execute_result"
    }
   ],
   "source": [
    "print(df.shape)\n",
    "df.columns"
   ]
  },
  {
   "cell_type": "code",
   "execution_count": 324,
   "metadata": {
    "colab": {
     "base_uri": "https://localhost:8080/"
    },
    "id": "pIijn4HaPajn",
    "outputId": "2ea7ad6d-e15e-4d25-8e84-a656c5c70817"
   },
   "outputs": [
    {
     "data": {
      "text/plain": [
       "Index(['Comments', 'Ankon', 'Rizvi', 'Sourov', 'FinalTag'], dtype='object')"
      ]
     },
     "execution_count": 324,
     "metadata": {},
     "output_type": "execute_result"
    }
   ],
   "source": [
    "df.rename(columns = {'  Comments':'Comments'}, inplace = True)\n",
    "df.columns"
   ]
  },
  {
   "cell_type": "code",
   "execution_count": 325,
   "metadata": {
    "colab": {
     "base_uri": "https://localhost:8080/"
    },
    "id": "qr8_DGCD-XTY",
    "outputId": "379006a8-35e2-4be7-dde2-8d282e08fad0"
   },
   "outputs": [
    {
     "data": {
      "text/plain": [
       "Comments    14903\n",
       "Ankon           8\n",
       "Rizvi           8\n",
       "Sourov          8\n",
       "FinalTag        8\n",
       "dtype: int64"
      ]
     },
     "execution_count": 325,
     "metadata": {},
     "output_type": "execute_result"
    }
   ],
   "source": [
    "df.nunique()"
   ]
  },
  {
   "cell_type": "code",
   "execution_count": 326,
   "metadata": {
    "colab": {
     "base_uri": "https://localhost:8080/"
    },
    "id": "Xke0EwRTDsuj",
    "outputId": "d29af5ab-f68f-4c84-d7a3-88594411075b"
   },
   "outputs": [
    {
     "data": {
      "text/plain": [
       "array(['Sadness', 'Anger', 'Sarcasm', 'Disgust', 'Surprise', 'Fear',\n",
       "       'Happiness', 'Undefined'], dtype=object)"
      ]
     },
     "execution_count": 326,
     "metadata": {},
     "output_type": "execute_result"
    }
   ],
   "source": [
    "df['FinalTag'].unique()"
   ]
  },
  {
   "cell_type": "code",
   "execution_count": 327,
   "metadata": {
    "id": "q8syOzwuEIe_"
   },
   "outputs": [],
   "source": [
    "# merged Sarcasm and Undifined in Others tag\n",
    "df['FinalTag'] = df['FinalTag'].replace(['Sarcasm','Undefined','Surprise'], 'Others')"
   ]
  },
  {
   "cell_type": "code",
   "execution_count": 328,
   "metadata": {
    "colab": {
     "base_uri": "https://localhost:8080/"
    },
    "id": "GJgcvEyIEfwy",
    "outputId": "5446e452-fd59-414d-a988-60e111507eae"
   },
   "outputs": [
    {
     "data": {
      "text/plain": [
       "array(['Sadness', 'Anger', 'Others', 'Disgust', 'Fear', 'Happiness'],\n",
       "      dtype=object)"
      ]
     },
     "execution_count": 328,
     "metadata": {},
     "output_type": "execute_result"
    }
   ],
   "source": [
    "df['FinalTag'].unique()"
   ]
  },
  {
   "cell_type": "markdown",
   "metadata": {
    "id": "sv0mIGhFO1HV"
   },
   "source": [
    "**Calculating Total Duplicate Comments and dropping it**"
   ]
  },
  {
   "cell_type": "code",
   "execution_count": 329,
   "metadata": {
    "colab": {
     "base_uri": "https://localhost:8080/"
    },
    "id": "0Vg6ZJLBF3O1",
    "outputId": "e798d5ab-83ed-4b9e-86db-30b48ecd8d93"
   },
   "outputs": [
    {
     "name": "stdout",
     "output_type": "stream",
     "text": [
      "Total Duplicate comments: 95\n"
     ]
    },
    {
     "data": {
      "text/plain": [
       "(14904, 5)"
      ]
     },
     "execution_count": 329,
     "metadata": {},
     "output_type": "execute_result"
    }
   ],
   "source": [
    "print(\"Total Duplicate comments:\" ,len(df['Comments'])-len(df['Comments'].drop_duplicates()))\n",
    "df.drop_duplicates(subset='Comments',keep=\"first\", inplace=True)\n",
    "df.shape"
   ]
  },
  {
   "cell_type": "markdown",
   "metadata": {
    "id": "BfTI1NVQg3D4"
   },
   "source": [
    "**Dropping null values**"
   ]
  },
  {
   "cell_type": "code",
   "execution_count": 330,
   "metadata": {
    "colab": {
     "base_uri": "https://localhost:8080/"
    },
    "id": "j7gqXHEx_M1k",
    "outputId": "3bea8a29-2e83-4eba-8c8e-6a6a384bc0c1"
   },
   "outputs": [
    {
     "data": {
      "text/plain": [
       "Comments    1\n",
       "Ankon       0\n",
       "Rizvi       0\n",
       "Sourov      0\n",
       "FinalTag    0\n",
       "dtype: int64"
      ]
     },
     "execution_count": 330,
     "metadata": {},
     "output_type": "execute_result"
    }
   ],
   "source": [
    "#checking null value\n",
    "df.isnull().sum()"
   ]
  },
  {
   "cell_type": "code",
   "execution_count": 331,
   "metadata": {
    "colab": {
     "base_uri": "https://localhost:8080/"
    },
    "id": "i0TTCF-C_lu4",
    "outputId": "a13b6e27-3451-4ff6-a7b1-068f68e7e52d"
   },
   "outputs": [
    {
     "data": {
      "text/plain": [
       "(14903, 5)"
      ]
     },
     "execution_count": 331,
     "metadata": {},
     "output_type": "execute_result"
    }
   ],
   "source": [
    "#dropping null values\n",
    "df=df.dropna()\n",
    "df.shape"
   ]
  },
  {
   "cell_type": "code",
   "execution_count": 332,
   "metadata": {
    "colab": {
     "base_uri": "https://localhost:8080/",
     "height": 423
    },
    "id": "--QaLYnwaz5r",
    "outputId": "c0bc0b02-0807-481d-8c9a-55f6dd454b98"
   },
   "outputs": [
    {
     "data": {
      "text/html": [
       "<div>\n",
       "<style scoped>\n",
       "    .dataframe tbody tr th:only-of-type {\n",
       "        vertical-align: middle;\n",
       "    }\n",
       "\n",
       "    .dataframe tbody tr th {\n",
       "        vertical-align: top;\n",
       "    }\n",
       "\n",
       "    .dataframe thead th {\n",
       "        text-align: right;\n",
       "    }\n",
       "</style>\n",
       "<table border=\"1\" class=\"dataframe\">\n",
       "  <thead>\n",
       "    <tr style=\"text-align: right;\">\n",
       "      <th></th>\n",
       "      <th>Comments</th>\n",
       "      <th>FinalTag</th>\n",
       "    </tr>\n",
       "  </thead>\n",
       "  <tbody>\n",
       "    <tr>\n",
       "      <th>0</th>\n",
       "      <td>বিশ্ববিদ্যালয়ে শিক্ষক রাজনীতি, ছাত্র রাজনীতি ...</td>\n",
       "      <td>Sadness</td>\n",
       "    </tr>\n",
       "    <tr>\n",
       "      <th>1</th>\n",
       "      <td>পাকিস্তান যেই তালিকায় থাকে ওই তালিকা আমরা এমনে...</td>\n",
       "      <td>Anger</td>\n",
       "    </tr>\n",
       "    <tr>\n",
       "      <th>2</th>\n",
       "      <td>সিংগাপুরের সাথে ভারত, পাকিস্তানের তুলনা কেন? আ...</td>\n",
       "      <td>Others</td>\n",
       "    </tr>\n",
       "    <tr>\n",
       "      <th>3</th>\n",
       "      <td>আমাদের দেশের শিক্ষা প্রতিষ্ঠানগুলোতে পড়ালেখার...</td>\n",
       "      <td>Sadness</td>\n",
       "    </tr>\n",
       "    <tr>\n",
       "      <th>4</th>\n",
       "      <td>আমাদের দেশের শিক্ষা প্রতিষ্ঠান রাজনীতিতে প্রথম...</td>\n",
       "      <td>Disgust</td>\n",
       "    </tr>\n",
       "    <tr>\n",
       "      <th>...</th>\n",
       "      <td>...</td>\n",
       "      <td>...</td>\n",
       "    </tr>\n",
       "    <tr>\n",
       "      <th>14994</th>\n",
       "      <td>হায়রে কষ্ট</td>\n",
       "      <td>Sadness</td>\n",
       "    </tr>\n",
       "    <tr>\n",
       "      <th>14995</th>\n",
       "      <td>শুধু মাত্র আর্জেন্টিনা নয়, বাংলাদেশ একই পরিস্থ...</td>\n",
       "      <td>Sadness</td>\n",
       "    </tr>\n",
       "    <tr>\n",
       "      <th>14996</th>\n",
       "      <td>গার্মেন্টস মালিকদের মিথ্যাচারে আমাদের সরকার হয়...</td>\n",
       "      <td>Fear</td>\n",
       "    </tr>\n",
       "    <tr>\n",
       "      <th>14997</th>\n",
       "      <td>জঘন্য একজন মানুষ</td>\n",
       "      <td>Disgust</td>\n",
       "    </tr>\n",
       "    <tr>\n",
       "      <th>14998</th>\n",
       "      <td>বিশৃঙ্খলা তৈরি করার নাম স্বাধীনতা নয়</td>\n",
       "      <td>Disgust</td>\n",
       "    </tr>\n",
       "  </tbody>\n",
       "</table>\n",
       "<p>14903 rows × 2 columns</p>\n",
       "</div>"
      ],
      "text/plain": [
       "                                                Comments FinalTag\n",
       "0      বিশ্ববিদ্যালয়ে শিক্ষক রাজনীতি, ছাত্র রাজনীতি ...  Sadness\n",
       "1      পাকিস্তান যেই তালিকায় থাকে ওই তালিকা আমরা এমনে...    Anger\n",
       "2      সিংগাপুরের সাথে ভারত, পাকিস্তানের তুলনা কেন? আ...   Others\n",
       "3      আমাদের দেশের শিক্ষা প্রতিষ্ঠানগুলোতে পড়ালেখার...  Sadness\n",
       "4      আমাদের দেশের শিক্ষা প্রতিষ্ঠান রাজনীতিতে প্রথম...  Disgust\n",
       "...                                                  ...      ...\n",
       "14994                                         হায়রে কষ্ট  Sadness\n",
       "14995  শুধু মাত্র আর্জেন্টিনা নয়, বাংলাদেশ একই পরিস্থ...  Sadness\n",
       "14996  গার্মেন্টস মালিকদের মিথ্যাচারে আমাদের সরকার হয়...     Fear\n",
       "14997                                   জঘন্য একজন মানুষ  Disgust\n",
       "14998              বিশৃঙ্খলা তৈরি করার নাম স্বাধীনতা নয়  Disgust\n",
       "\n",
       "[14903 rows x 2 columns]"
      ]
     },
     "execution_count": 332,
     "metadata": {},
     "output_type": "execute_result"
    }
   ],
   "source": [
    "#dropping some columns\n",
    "data=df.drop(['Ankon', 'Rizvi', 'Sourov'], axis=1)\n",
    "data"
   ]
  },
  {
   "cell_type": "markdown",
   "metadata": {
    "id": "jsKYJOspAO5z"
   },
   "source": [
    "**Text Cleaning**"
   ]
  },
  {
   "cell_type": "code",
   "execution_count": 333,
   "metadata": {
    "id": "Usv-PPfMAN0O"
   },
   "outputs": [],
   "source": [
    "#removing pancuations and emojis\n",
    "def clean_comment(comment): \n",
    "    comment = re.sub('[^\\u0980-\\u09FF]',' ',str(comment)) #removing unnecessary punctuation\n",
    "    return comment"
   ]
  },
  {
   "cell_type": "code",
   "execution_count": 334,
   "metadata": {
    "id": "JjFAd4AVUBeZ"
   },
   "outputs": [],
   "source": [
    "#calling function\n",
    "data['cleaned_comments'] = data['Comments'].apply(clean_comment)"
   ]
  },
  {
   "cell_type": "code",
   "execution_count": 335,
   "metadata": {
    "colab": {
     "base_uri": "https://localhost:8080/"
    },
    "id": "TH0Tp2noWkld",
    "outputId": "2a7f0e75-a141-4e8c-d191-59a48daf19b0"
   },
   "outputs": [
    {
     "name": "stdout",
     "output_type": "stream",
     "text": [
      "Before Cleaning: বিশ্ববিদ্যালয়ে শিক্ষক রাজনীতি, ছাত্র রাজনীতি চিরতরে নিষিদ্ধ না করলে শিক্ষার মান যেটুকু আছে তাও হারিয়ে যাবে। \n",
      "After Cleaning: বিশ্ববিদ্যালয়ে শিক্ষক রাজনীতি  ছাত্র রাজনীতি চিরতরে নিষিদ্ধ না করলে শিক্ষার মান যেটুকু আছে তাও হারিয়ে যাবে  \n",
      "Before Cleaning: আমাদের দেশের শিক্ষা প্রতিষ্ঠানগুলোতে পড়ালেখার চাইতে রাজনীতি শিখতে ব্যস্ত থাকতে হয়। তাই ভালো মানের শিক্ষাঙ্গন নেই। \n",
      "After Cleaning: আমাদের দেশের শিক্ষা প্রতিষ্ঠানগুলোতে পড়ালেখার চাইতে রাজনীতি শিখতে ব্যস্ত থাকতে হয়  তাই ভালো মানের শিক্ষাঙ্গন নেই  \n",
      "Before Cleaning: শিক্ষাই আলো,,অনেক দিন ধরে জ্বলছে তো, তেল ফুরিয়ে গেছে। \n",
      "After Cleaning: শিক্ষাই আলো  অনেক দিন ধরে জ্বলছে তো  তেল ফুরিয়ে গেছে  \n",
      "Before Cleaning: এরা শিক্ষিত পাগল😡 \n",
      "After Cleaning: এরা শিক্ষিত পাগল  \n",
      "Before Cleaning: গাধা পানি খায় তবে ঘোলা করে খায় 🤣🤣🤣 \n",
      "After Cleaning: গাধা পানি খায় তবে ঘোলা করে খায়     \n",
      "Before Cleaning: হাওয়ার আনন্দ বইছে পুরো দেশে | যত বার গানটি শুনছি মন ভোরে যাচ্ছে । \n",
      "After Cleaning: হাওয়ার আনন্দ বইছে পুরো দেশে   যত বার গানটি শুনছি মন ভোরে যাচ্ছে   \n",
      "Before Cleaning: এখন অনেক শিক্ষকই (সবাই না) রাজনীতি করে নিজ ভিত্তি প্রস্তর মজমুদ রাখার জন্য। যেটা আগে ছিলো না। \n",
      "After Cleaning: এখন অনেক শিক্ষকই  সবাই না  রাজনীতি করে নিজ ভিত্তি প্রস্তর মজমুদ রাখার জন্য  যেটা আগে ছিলো না  \n"
     ]
    }
   ],
   "source": [
    "#Testing \n",
    "test=[0,3,12,236,273,12715,1978]\n",
    "for i in test:\n",
    "  print(\"Before Cleaning: {} \".format(data.at[i,\"Comments\"]))\n",
    "  print(\"After Cleaning: {} \".format(data.at[i,\"cleaned_comments\"]))"
   ]
  },
  {
   "cell_type": "code",
   "execution_count": 336,
   "metadata": {
    "id": "h5dQ5G0txpFU"
   },
   "outputs": [],
   "source": [
    "# pip install bnlp_toolkit"
   ]
  },
  {
   "cell_type": "markdown",
   "metadata": {
    "id": "n7bGZUA2NaYf"
   },
   "source": [
    "**Comment Length Check**"
   ]
  },
  {
   "cell_type": "code",
   "execution_count": 337,
   "metadata": {
    "colab": {
     "base_uri": "https://localhost:8080/"
    },
    "id": "fC6jzr1952hG",
    "outputId": "0fe7f152-2d95-4007-db00-c040954b9966"
   },
   "outputs": [
    {
     "name": "stdout",
     "output_type": "stream",
     "text": [
      "Tatal Number of cleaned Comments: 14903\n"
     ]
    }
   ],
   "source": [
    "#total Cleaned comments\n",
    "total_comments=data[\"cleaned_comments\"].count()\n",
    "print(\"Tatal Number of cleaned Comments:\", total_comments)"
   ]
  },
  {
   "cell_type": "code",
   "execution_count": 338,
   "metadata": {
    "id": "Q8z4tf27NZGV"
   },
   "outputs": [],
   "source": [
    "#calculating word length of comments\n",
    "def length_distribution(comments):\n",
    "  comment_length=[]\n",
    "  \n",
    "  for comment in comments:\n",
    "    comment_length.append(len(comment.split()))\n",
    "\n",
    "\n",
    "  freq = dict()\n",
    "  for i in comment_length:\n",
    "    freq[i] = freq.get(i, 0)+1\n",
    "\n",
    "\n",
    "  length=np.array(comment_length)\n",
    "  return length.max(),length.min(),freq\n",
    "    "
   ]
  },
  {
   "cell_type": "code",
   "execution_count": 339,
   "metadata": {
    "colab": {
     "base_uri": "https://localhost:8080/"
    },
    "id": "D4M6ZjpcNfGJ",
    "outputId": "8a125637-033b-43b1-ac29-29b596da5f24"
   },
   "outputs": [
    {
     "name": "stdout",
     "output_type": "stream",
     "text": [
      "Maximum Comment Size:  86\n",
      "Minimum Comment Size:  1\n"
     ]
    }
   ],
   "source": [
    "max_length,min_length,frequency = length_distribution(data[\"cleaned_comments\"])\n",
    "print(\"Maximum Comment Size: \", max_length)\n",
    "print(\"Minimum Comment Size: \",min_length)\n"
   ]
  },
  {
   "cell_type": "markdown",
   "metadata": {
    "id": "HQfwuZL2OczR"
   },
   "source": [
    "**Remove Comments less than 3 words**"
   ]
  },
  {
   "cell_type": "code",
   "execution_count": 340,
   "metadata": {
    "colab": {
     "base_uri": "https://localhost:8080/"
    },
    "id": "YtDuQkUsN1pJ",
    "outputId": "10ea90ac-39fd-40e2-f2a4-7519762eb91f"
   },
   "outputs": [
    {
     "name": "stdout",
     "output_type": "stream",
     "text": [
      "Total comments removed: 494\n"
     ]
    },
    {
     "data": {
      "text/plain": [
       "(14409, 4)"
      ]
     },
     "execution_count": 340,
     "metadata": {},
     "output_type": "execute_result"
    }
   ],
   "source": [
    "data[\"length\"] = data['cleaned_comments'].apply(lambda x:len(x.split()))\n",
    "data.drop(data[data['length'] < 3].index, inplace = True)\n",
    "print(\"Total comments removed: {}\".format(total_comments-len(data[\"cleaned_comments\"])))\n",
    "total_comments=len(data[\"cleaned_comments\"])\n",
    "data.shape"
   ]
  },
  {
   "cell_type": "markdown",
   "metadata": {
    "id": "CbYH_G5ThKjB"
   },
   "source": [
    "**DataSet Summary**"
   ]
  },
  {
   "cell_type": "code",
   "execution_count": 341,
   "metadata": {
    "colab": {
     "base_uri": "https://localhost:8080/"
    },
    "id": "kQ3GGgPVhIZu",
    "outputId": "80057d8c-6c29-44d3-a7f4-b5ec688cce38"
   },
   "outputs": [
    {
     "name": "stdout",
     "output_type": "stream",
     "text": [
      "Total comments in each tag\n"
     ]
    },
    {
     "data": {
      "text/plain": [
       "Sadness      4035\n",
       "Happiness    3886\n",
       "Disgust      3354\n",
       "Anger        1703\n",
       "Fear          752\n",
       "Others        679\n",
       "Name: FinalTag, dtype: int64"
      ]
     },
     "execution_count": 341,
     "metadata": {},
     "output_type": "execute_result"
    }
   ],
   "source": [
    "# counting frequency of comments in each tag\n",
    "print(\"Total comments in each tag\")\n",
    "data[\"FinalTag\"].value_counts()"
   ]
  },
  {
   "cell_type": "code",
   "execution_count": 221,
   "metadata": {
    "colab": {
     "base_uri": "https://localhost:8080/",
     "height": 467
    },
    "id": "O7N-EigdfIPr",
    "outputId": "5666f3f5-3c54-4e78-f372-ce8752b08797"
   },
   "outputs": [
    {
     "name": "stderr",
     "output_type": "stream",
     "text": [
      "C:\\Users\\iaman\\anaconda3\\lib\\site-packages\\seaborn\\_decorators.py:36: FutureWarning: Pass the following variable as a keyword arg: x. From version 0.12, the only valid positional argument will be `data`, and passing other arguments without an explicit keyword will result in an error or misinterpretation.\n",
      "  warnings.warn(\n"
     ]
    },
    {
     "data": {
      "image/png": "[encoded data removed]",
      "text/plain": [
       "<Figure size 720x432 with 1 Axes>"
      ]
     },
     "metadata": {
      "needs_background": "light"
     },
     "output_type": "display_data"
    }
   ],
   "source": [
    "# plotting Frequency of comments in each Tag \n",
    "plt.figure(figsize=(10,6))\n",
    "sb.countplot(data[\"FinalTag\"])\n",
    "plt.xlabel(\"Types of Comments Tag\", size=12)\n",
    "plt.ylabel(\"Frequency\", size=12)\n",
    "plt.title(\"Frequency of comments in each Tag\", size=20)\n",
    "plt.show()\n"
   ]
  },
  {
   "cell_type": "code",
   "execution_count": 222,
   "metadata": {
    "colab": {
     "base_uri": "https://localhost:8080/"
    },
    "id": "w13g7-_qqJj9",
    "outputId": "da0a9600-4b64-4c45-a5f8-34282065643a"
   },
   "outputs": [
    {
     "name": "stdout",
     "output_type": "stream",
     "text": [
      "Each Comment's tag Percentages in Dataset\n",
      " Sadness      28.003331\n",
      "Happiness    26.969255\n",
      "Disgust      23.277118\n",
      "Anger        11.819002\n",
      "Fear          5.218960\n",
      "Others        4.712333\n",
      "Name: FinalTag, dtype: float64\n"
     ]
    }
   ],
   "source": [
    "#each comment's tag percentages in dataset\n",
    "parcentages=(data['FinalTag'].value_counts()/data['FinalTag'].count())*100\n",
    "comment_tag=parcentages.index\n",
    "print(\"Each Comment's tag Percentages in Dataset\\n\", parcentages)\n",
    "# print(type(list(comment_tag)))"
   ]
  },
  {
   "cell_type": "code",
   "execution_count": null,
   "metadata": {
    "colab": {
     "base_uri": "https://localhost:8080/",
     "height": 430
    },
    "id": "VPBufM9ed34K",
    "outputId": "426a1ae1-dacf-4c6f-f05a-2118eacdce40"
   },
   "outputs": [
    {
     "data": {
      "image/png": "[encoded data removed]",
      "text/plain": [
       "<Figure size 400x300 with 1 Axes>"
      ]
     },
     "metadata": {},
     "output_type": "display_data"
    }
   ],
   "source": [
    "plt.figure(figsize=(4,3))\n",
    "plt.pie(parcentages,labels =comment_tag,autopct='%1.3f%%',radius = 3)\n",
    "plt.show()"
   ]
  },
  {
   "cell_type": "code",
   "execution_count": null,
   "metadata": {
    "id": "LU4IC6Vq4zYR"
   },
   "outputs": [],
   "source": [
    "# calculating total word for each comment's tag \n",
    "def countWords(df):\n",
    "  total_words_per_tag=dict.fromkeys(comment_tag,  0)\n",
    "  total_comments_per_tag=dict.fromkeys(comment_tag,  0)\n",
    "\n",
    "\n",
    " \n",
    "  for ind in df.index:\n",
    "    tag=df['FinalTag'][ind]\n",
    "    comment=df['cleaned_comments'][ind]\n",
    "    total_words_per_tag[tag]=total_words_per_tag.get(tag)+len(comment.split())\n",
    "    total_comments_per_tag[tag]=total_comments_per_tag.get(tag)+1   \n",
    "\n",
    "  return  total_words_per_tag,total_comments_per_tag\n",
    "\n"
   ]
  },
  {
   "cell_type": "code",
   "execution_count": null,
   "metadata": {
    "id": "ex8OrZswDkxA"
   },
   "outputs": [],
   "source": [
    "# function calling\n",
    "words_per_Tag, comments_per_tag=countWords(data)"
   ]
  },
  {
   "cell_type": "code",
   "execution_count": null,
   "metadata": {
    "id": "3ahEQmZdONQi"
   },
   "outputs": [],
   "source": [
    "#calculating total words in dataset\n",
    "total_words=sum(words_per_Tag.values())"
   ]
  },
  {
   "cell_type": "code",
   "execution_count": null,
   "metadata": {
    "colab": {
     "base_uri": "https://localhost:8080/"
    },
    "id": "kG9S7TWIP9qs",
    "outputId": "99adb6a8-97fb-4144-f2ca-b3c1164fa9d4"
   },
   "outputs": [
    {
     "name": "stdout",
     "output_type": "stream",
     "text": [
      "Total number words in dataset: 142911\n",
      "Total Words in Each Comment's Tag:\n",
      "Sadness : 42108\n",
      "Happiness : 34079\n",
      "Disgust : 35389\n",
      "Anger : 17935\n",
      "Fear : 7385\n",
      "Others : 6015\n"
     ]
    }
   ],
   "source": [
    "print(\"Total number words in dataset:\", total_words)\n",
    "print(\"Total Words in Each Comment's Tag:\")\n",
    "for tag in words_per_Tag:\n",
    "  print(tag, \":\", words_per_Tag[tag])"
   ]
  },
  {
   "cell_type": "code",
   "execution_count": null,
   "metadata": {
    "colab": {
     "base_uri": "https://localhost:8080/",
     "height": 412
    },
    "id": "f1xo8MKnRNRF",
    "outputId": "2511916a-20f3-44b9-ba64-31824e2e8fb3"
   },
   "outputs": [
    {
     "data": {
      "image/png": "[encoded data removed]",
      "text/plain": [
       "<Figure size 1000x600 with 1 Axes>"
      ]
     },
     "metadata": {},
     "output_type": "display_data"
    }
   ],
   "source": [
    "#ploting total words for each comment's tag\n",
    "plt.figure(figsize=(10,6))\n",
    "plt.bar(words_per_Tag.keys(),comments_per_tag.values())\n",
    "plt.xlabel(\"Types of Comment's Tag\", size=12)\n",
    "plt.ylabel(\"Total words\", size=12)\n",
    "plt.title(\"Total Words in Each Sentiment Type\", size=20)\n",
    "plt.show()"
   ]
  },
  {
   "cell_type": "code",
   "execution_count": null,
   "metadata": {
    "colab": {
     "base_uri": "https://localhost:8080/"
    },
    "id": "hKLO4LS9UH4I",
    "outputId": "9d978c45-cd9d-4aeb-acad-02eee9f80a19"
   },
   "outputs": [
    {
     "name": "stdout",
     "output_type": "stream",
     "text": [
      "Average Words in Each Comment's Tag:\n",
      "Sadness : 10\n",
      "Happiness : 9\n",
      "Disgust : 11\n",
      "Anger : 11\n",
      "Fear : 10\n",
      "Others : 9\n"
     ]
    }
   ],
   "source": [
    "# calculating average word for each tag\n",
    "average_word_per_tag=dict.fromkeys(comment_tag,  0)\n",
    "\n",
    "for tag in comment_tag:\n",
    "  average_word_per_tag[tag]=round(words_per_Tag[tag]/comments_per_tag[tag])\n",
    "\n",
    "print(\"Average Words in Each Comment's Tag:\")\n",
    "for tag in average_word_per_tag:\n",
    "  print(tag, \":\", average_word_per_tag[tag])"
   ]
  },
  {
   "cell_type": "code",
   "execution_count": null,
   "metadata": {
    "colab": {
     "base_uri": "https://localhost:8080/",
     "height": 412
    },
    "id": "EcmQhoYV3fDZ",
    "outputId": "b2d1fc0d-1c4c-4269-8093-e90a77f30f2b"
   },
   "outputs": [
    {
     "data": {
      "image/png": "[encoded data removed]",
      "text/plain": [
       "<Figure size 1000x600 with 1 Axes>"
      ]
     },
     "metadata": {},
     "output_type": "display_data"
    }
   ],
   "source": [
    "plt.figure(figsize=(10,6))\n",
    "plt.bar(average_word_per_tag.keys(),average_word_per_tag.values())\n",
    "plt.xlabel(\"Types of Comments Tag\", size=12)\n",
    "plt.ylabel(\"Avarage words\", size=12)\n",
    "plt.title(\"Average Words in Each Comment's Tag\", size=20)\n",
    "plt.show()"
   ]
  },
  {
   "cell_type": "code",
   "execution_count": null,
   "metadata": {
    "id": "LfEGrdiwAOGw"
   },
   "outputs": [],
   "source": [
    "#calculating total unique word in dataset\n",
    "def count_total_uniquewords(df):\n",
    "  word_list=[]\n",
    "  for comment in list(df[\"cleaned_comments\"]):\n",
    "    for word in comment.split():\n",
    "      word_list.append(word)\n",
    " \n",
    "  # print(len(word_list))\n",
    "  return word_list, len(np.unique(word_list))\n",
    "\n",
    "  \n",
    "    "
   ]
  },
  {
   "cell_type": "code",
   "execution_count": null,
   "metadata": {
    "colab": {
     "base_uri": "https://localhost:8080/"
    },
    "id": "UACzKxW24V2f",
    "outputId": "3f76f550-2490-4021-9a0f-01615831a02d"
   },
   "outputs": [
    {
     "name": "stdout",
     "output_type": "stream",
     "text": [
      "Total Unique words in Dataset:  19276\n"
     ]
    }
   ],
   "source": [
    "#total unique words\n",
    "word_list, total_unique_words=count_total_uniquewords(data)\n",
    "print(\"Total Unique words in Dataset: \",total_unique_words)"
   ]
  },
  {
   "cell_type": "code",
   "execution_count": null,
   "metadata": {
    "colab": {
     "base_uri": "https://localhost:8080/",
     "height": 358
    },
    "id": "9KGmMJ9MBCYF",
    "outputId": "59403c5c-c4ee-4da7-d9fc-0d204beb6d14"
   },
   "outputs": [
    {
     "data": {
      "image/png": "[encoded data removed]",
      "text/plain": [
       "<Figure size 1000x500 with 1 Axes>"
      ]
     },
     "metadata": {},
     "output_type": "display_data"
    }
   ],
   "source": [
    "#ploting total words and unique words in bar chart\n",
    "plt.figure(figsize=(10,5))\n",
    "c = ['black', 'red']\n",
    "plt.bar([\"Total Words\",\"Unique words\"],[total_words,total_unique_words],color=c)\n",
    "plt.xlabel(\"Words\", size=12)\n",
    "plt.ylabel(\"Number of words\", size=12)\n",
    "plt.title(\"Total words and unique words visualization\", size=20)\n",
    "plt.show()"
   ]
  },
  {
   "cell_type": "code",
   "execution_count": null,
   "metadata": {
    "id": "aPfFnIiaIE6n"
   },
   "outputs": [],
   "source": [
    "#calculating words frequency\n",
    "def cal_words_frecuncy():\n",
    "  counts = dict()\n",
    "  for word in word_list:\n",
    "   counts[word] = counts.get(word, 0)+1\n",
    "\n",
    "  return counts"
   ]
  },
  {
   "cell_type": "code",
   "execution_count": null,
   "metadata": {
    "id": "lEHJMjguJyCI"
   },
   "outputs": [],
   "source": [
    "words_frecuncy=cal_words_frecuncy()\n",
    "sorted_words_frecuncy =sorted(words_frecuncy.items(), key= lambda item: item[1],reverse = True)"
   ]
  },
  {
   "cell_type": "code",
   "execution_count": null,
   "metadata": {
    "colab": {
     "base_uri": "https://localhost:8080/"
    },
    "id": "kRu6M2SsLMJu",
    "outputId": "21929866-e70c-4e9a-fff7-1cd823526bae"
   },
   "outputs": [
    {
     "name": "stdout",
     "output_type": "stream",
     "text": [
      "Top 20 Frequent Word in Dataset:\n",
      "না : 2530\n",
      "এই : 1511\n",
      "করে : 1492\n",
      "আর : 1177\n",
      "জন্য : 951\n",
      "কি : 913\n",
      "হবে : 893\n",
      "ভালো : 781\n",
      "করা : 734\n",
      "মানুষ : 729\n",
      "ও : 691\n",
      "আমাদের : 683\n",
      "হয় : 662\n",
      "অনেক : 655\n",
      "থেকে : 631\n",
      "দেশের : 605\n",
      "কথা : 605\n",
      "আছে : 600\n",
      "একটা : 590\n",
      "সব : 566\n"
     ]
    }
   ],
   "source": [
    "print(\"Top 20 Frequent Word in Dataset:\")\n",
    "for word,freq in sorted_words_frecuncy[:20]:\n",
    "              print(\"{} : {}\".format(word,freq))"
   ]
  },
  {
   "cell_type": "markdown",
   "metadata": {
    "id": "jLYcPGuGOAu_"
   },
   "source": [
    "**Comment Length Distribution**"
   ]
  },
  {
   "cell_type": "code",
   "execution_count": null,
   "metadata": {
    "colab": {
     "base_uri": "https://localhost:8080/",
     "height": 403
    },
    "id": "F36Lzizxf4V0",
    "outputId": "9f807737-ffec-4269-b97f-1851b2b0f7b1"
   },
   "outputs": [
    {
     "name": "stdout",
     "output_type": "stream",
     "text": [
      "Maximum Comment Size:  86\n",
      "Minimum Comment Size:  3\n",
      "Average Comment Size:  9.918176139912555\n"
     ]
    },
    {
     "data": {
      "image/png": "[encoded data removed]",
      "text/plain": [
       "<Figure size 1000x500 with 1 Axes>"
      ]
     },
     "metadata": {},
     "output_type": "display_data"
    }
   ],
   "source": [
    "max_length,min_length,frequency = length_distribution(data[\"cleaned_comments\"])\n",
    "avarage_length=total_words/total_comments\n",
    "print(\"Maximum Comment Size: \", max_length)\n",
    "print(\"Minimum Comment Size: \",min_length)\n",
    "print(\"Average Comment Size: \", avarage_length)\n",
    "\n",
    "plt.figure(figsize=(10,5))\n",
    "plt.bar(frequency.keys(), frequency.values(), color =\"r\")\n",
    "plt.xlabel('Lenght of the Texts')\n",
    "plt.ylabel('Frequency')\n",
    "plt.title('Length-Frequency Distribution')\n",
    "plt.show()  "
   ]
  },
  {
   "cell_type": "code",
   "execution_count": null,
   "metadata": {
    "colab": {
     "base_uri": "https://localhost:8080/",
     "height": 358
    },
    "id": "f5TYsR3ugsaV",
    "outputId": "1537713b-67f2-4c4e-b7ba-2b89aeb8102b"
   },
   "outputs": [
    {
     "data": {
      "image/png": "[encoded data removed]",
      "text/plain": [
       "<Figure size 1000x500 with 1 Axes>"
      ]
     },
     "metadata": {},
     "output_type": "display_data"
    }
   ],
   "source": [
    "#ploting length distribution\n",
    "plt.figure(figsize=(10,5))\n",
    "c = ['green', 'red','orange']\n",
    "plt.bar([\"Max\",\"Min\",\"Avarage\"],[max_length,min_length,avarage_length],color=c)\n",
    "plt.xlabel(\"Length Variation\", size=12)\n",
    "plt.ylabel(\"Number of words\", size=12)\n",
    "plt.title(\"Words length visualization\", size=20)\n",
    "plt.show()"
   ]
  },
  {
   "cell_type": "markdown",
   "metadata": {
    "id": "T2gObvRFn1oq"
   },
   "source": [
    "**Removing comments having less than 3 words**"
   ]
  },
  {
   "cell_type": "markdown",
   "metadata": {
    "id": "GoZLV2Rjyr3Z"
   },
   "source": [
    "**Lebel Encoding**"
   ]
  },
  {
   "cell_type": "code",
   "execution_count": null,
   "metadata": {
    "colab": {
     "base_uri": "https://localhost:8080/",
     "height": 458
    },
    "id": "2AjbRZMQs9D0",
    "outputId": "6d93c8e7-f86f-40e5-f281-5a00222c47c5"
   },
   "outputs": [
    {
     "name": "stdout",
     "output_type": "stream",
     "text": [
      "[5 0 4 1 6 2 3]\n",
      "['Sadness' 'Anger' 'Others' 'Disgust' 'Surprise' 'Fear' 'Happiness']\n"
     ]
    },
    {
     "data": {
      "text/html": [
       "\n",
       "  <div id=\"df-11b02fcc-ec03-4fe6-8a64-50df4690f0bc\">\n",
       "    <div class=\"colab-df-container\">\n",
       "      <div>\n",
       "<style scoped>\n",
       "    .dataframe tbody tr th:only-of-type {\n",
       "        vertical-align: middle;\n",
       "    }\n",
       "\n",
       "    .dataframe tbody tr th {\n",
       "        vertical-align: top;\n",
       "    }\n",
       "\n",
       "    .dataframe thead th {\n",
       "        text-align: right;\n",
       "    }\n",
       "</style>\n",
       "<table border=\"1\" class=\"dataframe\">\n",
       "  <thead>\n",
       "    <tr style=\"text-align: right;\">\n",
       "      <th></th>\n",
       "      <th>Comments</th>\n",
       "      <th>FinalTag</th>\n",
       "      <th>cleaned_comments</th>\n",
       "      <th>length</th>\n",
       "      <th>encoded_tag</th>\n",
       "    </tr>\n",
       "  </thead>\n",
       "  <tbody>\n",
       "    <tr>\n",
       "      <th>0</th>\n",
       "      <td>বিশ্ববিদ্যালয়ে শিক্ষক রাজনীতি, ছাত্র রাজনীতি ...</td>\n",
       "      <td>Sadness</td>\n",
       "      <td>বিশ্ববিদ্যালয়ে শিক্ষক রাজনীতি  ছাত্র রাজনীতি ...</td>\n",
       "      <td>16</td>\n",
       "      <td>5</td>\n",
       "    </tr>\n",
       "    <tr>\n",
       "      <th>1</th>\n",
       "      <td>পাকিস্তান যেই তালিকায় থাকে ওই তালিকা আমরা এমনে...</td>\n",
       "      <td>Anger</td>\n",
       "      <td>পাকিস্তান যেই তালিকায় থাকে ওই তালিকা আমরা এমনে...</td>\n",
       "      <td>10</td>\n",
       "      <td>0</td>\n",
       "    </tr>\n",
       "    <tr>\n",
       "      <th>2</th>\n",
       "      <td>সিংগাপুরের সাথে ভারত, পাকিস্তানের তুলনা কেন? আ...</td>\n",
       "      <td>Others</td>\n",
       "      <td>সিংগাপুরের সাথে ভারত  পাকিস্তানের তুলনা কেন  আ...</td>\n",
       "      <td>20</td>\n",
       "      <td>4</td>\n",
       "    </tr>\n",
       "    <tr>\n",
       "      <th>3</th>\n",
       "      <td>আমাদের দেশের শিক্ষা প্রতিষ্ঠানগুলোতে পড়ালেখার...</td>\n",
       "      <td>Sadness</td>\n",
       "      <td>আমাদের দেশের শিক্ষা প্রতিষ্ঠানগুলোতে পড়ালেখার...</td>\n",
       "      <td>16</td>\n",
       "      <td>5</td>\n",
       "    </tr>\n",
       "    <tr>\n",
       "      <th>4</th>\n",
       "      <td>আমাদের দেশের শিক্ষা প্রতিষ্ঠান রাজনীতিতে প্রথম...</td>\n",
       "      <td>Disgust</td>\n",
       "      <td>আমাদের দেশের শিক্ষা প্রতিষ্ঠান রাজনীতিতে প্রথম...</td>\n",
       "      <td>12</td>\n",
       "      <td>1</td>\n",
       "    </tr>\n",
       "    <tr>\n",
       "      <th>...</th>\n",
       "      <td>...</td>\n",
       "      <td>...</td>\n",
       "      <td>...</td>\n",
       "      <td>...</td>\n",
       "      <td>...</td>\n",
       "    </tr>\n",
       "    <tr>\n",
       "      <th>14993</th>\n",
       "      <td>আহারে জীবন কত কঠিন</td>\n",
       "      <td>Sadness</td>\n",
       "      <td>আহারে জীবন কত কঠিন</td>\n",
       "      <td>4</td>\n",
       "      <td>5</td>\n",
       "    </tr>\n",
       "    <tr>\n",
       "      <th>14995</th>\n",
       "      <td>শুধু মাত্র আর্জেন্টিনা নয়, বাংলাদেশ একই পরিস্থ...</td>\n",
       "      <td>Sadness</td>\n",
       "      <td>শুধু মাত্র আর্জেন্টিনা নয়  বাংলাদেশ একই পরিস্থ...</td>\n",
       "      <td>7</td>\n",
       "      <td>5</td>\n",
       "    </tr>\n",
       "    <tr>\n",
       "      <th>14996</th>\n",
       "      <td>গার্মেন্টস মালিকদের মিথ্যাচারে আমাদের সরকার হয়...</td>\n",
       "      <td>Fear</td>\n",
       "      <td>গার্মেন্টস মালিকদের মিথ্যাচারে আমাদের সরকার হয়...</td>\n",
       "      <td>9</td>\n",
       "      <td>2</td>\n",
       "    </tr>\n",
       "    <tr>\n",
       "      <th>14997</th>\n",
       "      <td>জঘন্য একজন মানুষ</td>\n",
       "      <td>Disgust</td>\n",
       "      <td>জঘন্য একজন মানুষ</td>\n",
       "      <td>3</td>\n",
       "      <td>1</td>\n",
       "    </tr>\n",
       "    <tr>\n",
       "      <th>14998</th>\n",
       "      <td>বিশৃঙ্খলা তৈরি করার নাম স্বাধীনতা নয়</td>\n",
       "      <td>Disgust</td>\n",
       "      <td>বিশৃঙ্খলা তৈরি করার নাম স্বাধীনতা নয়</td>\n",
       "      <td>6</td>\n",
       "      <td>1</td>\n",
       "    </tr>\n",
       "  </tbody>\n",
       "</table>\n",
       "<p>14409 rows × 5 columns</p>\n",
       "</div>\n",
       "      <button class=\"colab-df-convert\" onclick=\"convertToInteractive('df-11b02fcc-ec03-4fe6-8a64-50df4690f0bc')\"\n",
       "              title=\"Convert this dataframe to an interactive table.\"\n",
       "              style=\"display:none;\">\n",
       "        \n",
       "  <svg xmlns=\"http://www.w3.org/2000/svg\" height=\"24px\"viewBox=\"0 0 24 24\"\n",
       "       width=\"24px\">\n",
       "    <path d=\"M0 0h24v24H0V0z\" fill=\"none\"/>\n",
       "    <path d=\"M18.56 5.44l.94 2.06.94-2.06 2.06-.94-2.06-.94-.94-2.06-.94 2.06-2.06.94zm-11 1L8.5 8.5l.94-2.06 2.06-.94-2.06-.94L8.5 2.5l-.94 2.06-2.06.94zm10 10l.94 2.06.94-2.06 2.06-.94-2.06-.94-.94-2.06-.94 2.06-2.06.94z\"/><path d=\"M17.41 7.96l-1.37-1.37c-.4-.4-.92-.59-1.43-.59-.52 0-1.04.2-1.43.59L10.3 9.45l-7.72 7.72c-.78.78-.78 2.05 0 2.83L4 21.41c.39.39.9.59 1.41.59.51 0 1.02-.2 1.41-.59l7.78-7.78 2.81-2.81c.8-.78.8-2.07 0-2.86zM5.41 20L4 18.59l7.72-7.72 1.47 1.35L5.41 20z\"/>\n",
       "  </svg>\n",
       "      </button>\n",
       "      \n",
       "  <style>\n",
       "    .colab-df-container {\n",
       "      display:flex;\n",
       "      flex-wrap:wrap;\n",
       "      gap: 12px;\n",
       "    }\n",
       "\n",
       "    .colab-df-convert {\n",
       "      background-color: #E8F0FE;\n",
       "      border: none;\n",
       "      border-radius: 50%;\n",
       "      cursor: pointer;\n",
       "      display: none;\n",
       "      fill: #1967D2;\n",
       "      height: 32px;\n",
       "      padding: 0 0 0 0;\n",
       "      width: 32px;\n",
       "    }\n",
       "\n",
       "    .colab-df-convert:hover {\n",
       "      background-color: #E2EBFA;\n",
       "      box-shadow: 0px 1px 2px rgba(60, 64, 67, 0.3), 0px 1px 3px 1px rgba(60, 64, 67, 0.15);\n",
       "      fill: #174EA6;\n",
       "    }\n",
       "\n",
       "    [theme=dark] .colab-df-convert {\n",
       "      background-color: #3B4455;\n",
       "      fill: #D2E3FC;\n",
       "    }\n",
       "\n",
       "    [theme=dark] .colab-df-convert:hover {\n",
       "      background-color: #434B5C;\n",
       "      box-shadow: 0px 1px 3px 1px rgba(0, 0, 0, 0.15);\n",
       "      filter: drop-shadow(0px 1px 2px rgba(0, 0, 0, 0.3));\n",
       "      fill: #FFFFFF;\n",
       "    }\n",
       "  </style>\n",
       "\n",
       "      <script>\n",
       "        const buttonEl =\n",
       "          document.querySelector('#df-11b02fcc-ec03-4fe6-8a64-50df4690f0bc button.colab-df-convert');\n",
       "        buttonEl.style.display =\n",
       "          google.colab.kernel.accessAllowed ? 'block' : 'none';\n",
       "\n",
       "        async function convertToInteractive(key) {\n",
       "          const element = document.querySelector('#df-11b02fcc-ec03-4fe6-8a64-50df4690f0bc');\n",
       "          const dataTable =\n",
       "            await google.colab.kernel.invokeFunction('convertToInteractive',\n",
       "                                                     [key], {});\n",
       "          if (!dataTable) return;\n",
       "\n",
       "          const docLinkHtml = 'Like what you see? Visit the ' +\n",
       "            '<a target=\"_blank\" href=https://colab.research.google.com/notebooks/data_table.ipynb>data table notebook</a>'\n",
       "            + ' to learn more about interactive tables.';\n",
       "          element.innerHTML = '';\n",
       "          dataTable['output_type'] = 'display_data';\n",
       "          await google.colab.output.renderOutput(dataTable, element);\n",
       "          const docLink = document.createElement('div');\n",
       "          docLink.innerHTML = docLinkHtml;\n",
       "          element.appendChild(docLink);\n",
       "        }\n",
       "      </script>\n",
       "    </div>\n",
       "  </div>\n",
       "  "
      ],
      "text/plain": [
       "                                                Comments FinalTag  \\\n",
       "0      বিশ্ববিদ্যালয়ে শিক্ষক রাজনীতি, ছাত্র রাজনীতি ...  Sadness   \n",
       "1      পাকিস্তান যেই তালিকায় থাকে ওই তালিকা আমরা এমনে...    Anger   \n",
       "2      সিংগাপুরের সাথে ভারত, পাকিস্তানের তুলনা কেন? আ...   Others   \n",
       "3      আমাদের দেশের শিক্ষা প্রতিষ্ঠানগুলোতে পড়ালেখার...  Sadness   \n",
       "4      আমাদের দেশের শিক্ষা প্রতিষ্ঠান রাজনীতিতে প্রথম...  Disgust   \n",
       "...                                                  ...      ...   \n",
       "14993                                 আহারে জীবন কত কঠিন  Sadness   \n",
       "14995  শুধু মাত্র আর্জেন্টিনা নয়, বাংলাদেশ একই পরিস্থ...  Sadness   \n",
       "14996  গার্মেন্টস মালিকদের মিথ্যাচারে আমাদের সরকার হয়...     Fear   \n",
       "14997                                   জঘন্য একজন মানুষ  Disgust   \n",
       "14998              বিশৃঙ্খলা তৈরি করার নাম স্বাধীনতা নয়  Disgust   \n",
       "\n",
       "                                        cleaned_comments  length  encoded_tag  \n",
       "0      বিশ্ববিদ্যালয়ে শিক্ষক রাজনীতি  ছাত্র রাজনীতি ...      16            5  \n",
       "1      পাকিস্তান যেই তালিকায় থাকে ওই তালিকা আমরা এমনে...      10            0  \n",
       "2      সিংগাপুরের সাথে ভারত  পাকিস্তানের তুলনা কেন  আ...      20            4  \n",
       "3      আমাদের দেশের শিক্ষা প্রতিষ্ঠানগুলোতে পড়ালেখার...      16            5  \n",
       "4      আমাদের দেশের শিক্ষা প্রতিষ্ঠান রাজনীতিতে প্রথম...      12            1  \n",
       "...                                                  ...     ...          ...  \n",
       "14993                                 আহারে জীবন কত কঠিন       4            5  \n",
       "14995  শুধু মাত্র আর্জেন্টিনা নয়  বাংলাদেশ একই পরিস্থ...       7            5  \n",
       "14996  গার্মেন্টস মালিকদের মিথ্যাচারে আমাদের সরকার হয়...       9            2  \n",
       "14997                                   জঘন্য একজন মানুষ       3            1  \n",
       "14998              বিশৃঙ্খলা তৈরি করার নাম স্বাধীনতা নয়       6            1  \n",
       "\n",
       "[14409 rows x 5 columns]"
      ]
     },
     "execution_count": 71,
     "metadata": {},
     "output_type": "execute_result"
    }
   ],
   "source": [
    "# not necessary\n",
    "label_encoder = preprocessing.LabelEncoder()\n",
    "\n",
    "data['encoded_tag']= label_encoder.fit_transform(data['FinalTag'])\n",
    "print(data['encoded_tag'].unique())\n",
    "print(data['FinalTag'].unique())\n",
    "data"
   ]
  },
  {
   "cell_type": "markdown",
   "metadata": {
    "id": "_KdbYroBMg89"
   },
   "source": [
    "**Bag of Words**"
   ]
  },
  {
   "cell_type": "code",
   "execution_count": 157,
   "metadata": {
    "id": "61aajZeg7eMw"
   },
   "outputs": [],
   "source": [
    "#train: validation: test = 80: 10: 10\n",
    "from sklearn.model_selection import train_test_split\n",
    "X_train, X_main, y_train, y_main = train_test_split(data['cleaned_comments'], data['FinalTag'], test_size = 0.2, random_state = 0)\n",
    "X_test, X_val, y_test, y_val= train_test_split(X_main, y_main, test_size = 0.5, random_state = 0)"
   ]
  },
  {
   "cell_type": "code",
   "execution_count": 158,
   "metadata": {},
   "outputs": [
    {
     "data": {
      "text/plain": [
       "Sadness      3225\n",
       "Happiness    3125\n",
       "Disgust      2667\n",
       "Anger        1359\n",
       "Fear          601\n",
       "Others        550\n",
       "Name: FinalTag, dtype: int64"
      ]
     },
     "execution_count": 158,
     "metadata": {},
     "output_type": "execute_result"
    }
   ],
   "source": [
    "y_train.value_counts()"
   ]
  },
  {
   "cell_type": "code",
   "execution_count": 159,
   "metadata": {
    "colab": {
     "base_uri": "https://localhost:8080/",
     "height": 497
    },
    "id": "LyA-h6qIpHnl",
    "outputId": "d57a1a5d-372e-495f-a053-650ddcd4b051"
   },
   "outputs": [
    {
     "name": "stdout",
     "output_type": "stream",
     "text": [
      "17068\n"
     ]
    },
    {
     "data": {
      "text/html": [
       "<div>\n",
       "<style scoped>\n",
       "    .dataframe tbody tr th:only-of-type {\n",
       "        vertical-align: middle;\n",
       "    }\n",
       "\n",
       "    .dataframe tbody tr th {\n",
       "        vertical-align: top;\n",
       "    }\n",
       "\n",
       "    .dataframe thead th {\n",
       "        text-align: right;\n",
       "    }\n",
       "</style>\n",
       "<table border=\"1\" class=\"dataframe\">\n",
       "  <thead>\n",
       "    <tr style=\"text-align: right;\">\n",
       "      <th></th>\n",
       "      <th>অ</th>\n",
       "      <th>অংক</th>\n",
       "      <th>অংশ</th>\n",
       "      <th>অংশগ্রহণ</th>\n",
       "      <th>অংশগ্রহন</th>\n",
       "      <th>অংশটি</th>\n",
       "      <th>অংশটুকু</th>\n",
       "      <th>অংশীদার</th>\n",
       "      <th>অংশে</th>\n",
       "      <th>অংশের</th>\n",
       "      <th>...</th>\n",
       "      <th>৮০</th>\n",
       "      <th>৮০০</th>\n",
       "      <th>৮৮</th>\n",
       "      <th>৯</th>\n",
       "      <th>৯টায়</th>\n",
       "      <th>৯বছরে</th>\n",
       "      <th>৯০</th>\n",
       "      <th>৯৫</th>\n",
       "      <th>৯৯</th>\n",
       "      <th>৯৯৯</th>\n",
       "    </tr>\n",
       "  </thead>\n",
       "  <tbody>\n",
       "    <tr>\n",
       "      <th>0</th>\n",
       "      <td>0</td>\n",
       "      <td>0</td>\n",
       "      <td>0</td>\n",
       "      <td>0</td>\n",
       "      <td>0</td>\n",
       "      <td>0</td>\n",
       "      <td>0</td>\n",
       "      <td>0</td>\n",
       "      <td>0</td>\n",
       "      <td>0</td>\n",
       "      <td>...</td>\n",
       "      <td>0</td>\n",
       "      <td>0</td>\n",
       "      <td>0</td>\n",
       "      <td>0</td>\n",
       "      <td>0</td>\n",
       "      <td>0</td>\n",
       "      <td>0</td>\n",
       "      <td>0</td>\n",
       "      <td>0</td>\n",
       "      <td>0</td>\n",
       "    </tr>\n",
       "    <tr>\n",
       "      <th>1</th>\n",
       "      <td>0</td>\n",
       "      <td>0</td>\n",
       "      <td>0</td>\n",
       "      <td>0</td>\n",
       "      <td>0</td>\n",
       "      <td>0</td>\n",
       "      <td>0</td>\n",
       "      <td>0</td>\n",
       "      <td>0</td>\n",
       "      <td>0</td>\n",
       "      <td>...</td>\n",
       "      <td>0</td>\n",
       "      <td>0</td>\n",
       "      <td>0</td>\n",
       "      <td>0</td>\n",
       "      <td>0</td>\n",
       "      <td>0</td>\n",
       "      <td>0</td>\n",
       "      <td>0</td>\n",
       "      <td>0</td>\n",
       "      <td>0</td>\n",
       "    </tr>\n",
       "    <tr>\n",
       "      <th>2</th>\n",
       "      <td>0</td>\n",
       "      <td>0</td>\n",
       "      <td>0</td>\n",
       "      <td>0</td>\n",
       "      <td>0</td>\n",
       "      <td>0</td>\n",
       "      <td>0</td>\n",
       "      <td>0</td>\n",
       "      <td>0</td>\n",
       "      <td>0</td>\n",
       "      <td>...</td>\n",
       "      <td>0</td>\n",
       "      <td>0</td>\n",
       "      <td>0</td>\n",
       "      <td>0</td>\n",
       "      <td>0</td>\n",
       "      <td>0</td>\n",
       "      <td>0</td>\n",
       "      <td>0</td>\n",
       "      <td>0</td>\n",
       "      <td>0</td>\n",
       "    </tr>\n",
       "    <tr>\n",
       "      <th>3</th>\n",
       "      <td>0</td>\n",
       "      <td>0</td>\n",
       "      <td>0</td>\n",
       "      <td>0</td>\n",
       "      <td>0</td>\n",
       "      <td>0</td>\n",
       "      <td>0</td>\n",
       "      <td>0</td>\n",
       "      <td>0</td>\n",
       "      <td>0</td>\n",
       "      <td>...</td>\n",
       "      <td>0</td>\n",
       "      <td>0</td>\n",
       "      <td>0</td>\n",
       "      <td>0</td>\n",
       "      <td>0</td>\n",
       "      <td>0</td>\n",
       "      <td>0</td>\n",
       "      <td>0</td>\n",
       "      <td>0</td>\n",
       "      <td>0</td>\n",
       "    </tr>\n",
       "    <tr>\n",
       "      <th>4</th>\n",
       "      <td>0</td>\n",
       "      <td>0</td>\n",
       "      <td>0</td>\n",
       "      <td>0</td>\n",
       "      <td>0</td>\n",
       "      <td>0</td>\n",
       "      <td>0</td>\n",
       "      <td>0</td>\n",
       "      <td>0</td>\n",
       "      <td>0</td>\n",
       "      <td>...</td>\n",
       "      <td>0</td>\n",
       "      <td>0</td>\n",
       "      <td>0</td>\n",
       "      <td>0</td>\n",
       "      <td>0</td>\n",
       "      <td>0</td>\n",
       "      <td>0</td>\n",
       "      <td>0</td>\n",
       "      <td>0</td>\n",
       "      <td>0</td>\n",
       "    </tr>\n",
       "    <tr>\n",
       "      <th>...</th>\n",
       "      <td>...</td>\n",
       "      <td>...</td>\n",
       "      <td>...</td>\n",
       "      <td>...</td>\n",
       "      <td>...</td>\n",
       "      <td>...</td>\n",
       "      <td>...</td>\n",
       "      <td>...</td>\n",
       "      <td>...</td>\n",
       "      <td>...</td>\n",
       "      <td>...</td>\n",
       "      <td>...</td>\n",
       "      <td>...</td>\n",
       "      <td>...</td>\n",
       "      <td>...</td>\n",
       "      <td>...</td>\n",
       "      <td>...</td>\n",
       "      <td>...</td>\n",
       "      <td>...</td>\n",
       "      <td>...</td>\n",
       "      <td>...</td>\n",
       "    </tr>\n",
       "    <tr>\n",
       "      <th>11522</th>\n",
       "      <td>0</td>\n",
       "      <td>0</td>\n",
       "      <td>0</td>\n",
       "      <td>0</td>\n",
       "      <td>0</td>\n",
       "      <td>0</td>\n",
       "      <td>0</td>\n",
       "      <td>0</td>\n",
       "      <td>0</td>\n",
       "      <td>0</td>\n",
       "      <td>...</td>\n",
       "      <td>0</td>\n",
       "      <td>0</td>\n",
       "      <td>0</td>\n",
       "      <td>0</td>\n",
       "      <td>0</td>\n",
       "      <td>0</td>\n",
       "      <td>0</td>\n",
       "      <td>0</td>\n",
       "      <td>0</td>\n",
       "      <td>0</td>\n",
       "    </tr>\n",
       "    <tr>\n",
       "      <th>11523</th>\n",
       "      <td>0</td>\n",
       "      <td>0</td>\n",
       "      <td>0</td>\n",
       "      <td>0</td>\n",
       "      <td>0</td>\n",
       "      <td>0</td>\n",
       "      <td>0</td>\n",
       "      <td>0</td>\n",
       "      <td>0</td>\n",
       "      <td>0</td>\n",
       "      <td>...</td>\n",
       "      <td>0</td>\n",
       "      <td>0</td>\n",
       "      <td>0</td>\n",
       "      <td>0</td>\n",
       "      <td>0</td>\n",
       "      <td>0</td>\n",
       "      <td>0</td>\n",
       "      <td>0</td>\n",
       "      <td>0</td>\n",
       "      <td>0</td>\n",
       "    </tr>\n",
       "    <tr>\n",
       "      <th>11524</th>\n",
       "      <td>0</td>\n",
       "      <td>0</td>\n",
       "      <td>0</td>\n",
       "      <td>0</td>\n",
       "      <td>0</td>\n",
       "      <td>0</td>\n",
       "      <td>0</td>\n",
       "      <td>0</td>\n",
       "      <td>0</td>\n",
       "      <td>0</td>\n",
       "      <td>...</td>\n",
       "      <td>0</td>\n",
       "      <td>0</td>\n",
       "      <td>0</td>\n",
       "      <td>0</td>\n",
       "      <td>0</td>\n",
       "      <td>0</td>\n",
       "      <td>0</td>\n",
       "      <td>0</td>\n",
       "      <td>0</td>\n",
       "      <td>0</td>\n",
       "    </tr>\n",
       "    <tr>\n",
       "      <th>11525</th>\n",
       "      <td>0</td>\n",
       "      <td>0</td>\n",
       "      <td>0</td>\n",
       "      <td>0</td>\n",
       "      <td>0</td>\n",
       "      <td>0</td>\n",
       "      <td>0</td>\n",
       "      <td>0</td>\n",
       "      <td>0</td>\n",
       "      <td>0</td>\n",
       "      <td>...</td>\n",
       "      <td>0</td>\n",
       "      <td>0</td>\n",
       "      <td>0</td>\n",
       "      <td>0</td>\n",
       "      <td>0</td>\n",
       "      <td>0</td>\n",
       "      <td>0</td>\n",
       "      <td>0</td>\n",
       "      <td>0</td>\n",
       "      <td>0</td>\n",
       "    </tr>\n",
       "    <tr>\n",
       "      <th>11526</th>\n",
       "      <td>0</td>\n",
       "      <td>0</td>\n",
       "      <td>0</td>\n",
       "      <td>0</td>\n",
       "      <td>0</td>\n",
       "      <td>0</td>\n",
       "      <td>0</td>\n",
       "      <td>0</td>\n",
       "      <td>0</td>\n",
       "      <td>0</td>\n",
       "      <td>...</td>\n",
       "      <td>0</td>\n",
       "      <td>0</td>\n",
       "      <td>0</td>\n",
       "      <td>0</td>\n",
       "      <td>0</td>\n",
       "      <td>0</td>\n",
       "      <td>0</td>\n",
       "      <td>0</td>\n",
       "      <td>0</td>\n",
       "      <td>0</td>\n",
       "    </tr>\n",
       "  </tbody>\n",
       "</table>\n",
       "<p>11527 rows × 17068 columns</p>\n",
       "</div>"
      ],
      "text/plain": [
       "       অ  অংক  অংশ  অংশগ্রহণ  অংশগ্রহন  অংশটি  অংশটুকু  অংশীদার  অংশে  অংশের  \\\n",
       "0      0    0    0         0         0      0        0        0     0      0   \n",
       "1      0    0    0         0         0      0        0        0     0      0   \n",
       "2      0    0    0         0         0      0        0        0     0      0   \n",
       "3      0    0    0         0         0      0        0        0     0      0   \n",
       "4      0    0    0         0         0      0        0        0     0      0   \n",
       "...   ..  ...  ...       ...       ...    ...      ...      ...   ...    ...   \n",
       "11522  0    0    0         0         0      0        0        0     0      0   \n",
       "11523  0    0    0         0         0      0        0        0     0      0   \n",
       "11524  0    0    0         0         0      0        0        0     0      0   \n",
       "11525  0    0    0         0         0      0        0        0     0      0   \n",
       "11526  0    0    0         0         0      0        0        0     0      0   \n",
       "\n",
       "       ...  ৮০  ৮০০  ৮৮  ৯  ৯টায়  ৯বছরে  ৯০  ৯৫  ৯৯  ৯৯৯  \n",
       "0      ...   0    0   0  0     0      0   0   0   0    0  \n",
       "1      ...   0    0   0  0     0      0   0   0   0    0  \n",
       "2      ...   0    0   0  0     0      0   0   0   0    0  \n",
       "3      ...   0    0   0  0     0      0   0   0   0    0  \n",
       "4      ...   0    0   0  0     0      0   0   0   0    0  \n",
       "...    ...  ..  ...  .. ..   ...    ...  ..  ..  ..  ...  \n",
       "11522  ...   0    0   0  0     0      0   0   0   0    0  \n",
       "11523  ...   0    0   0  0     0      0   0   0   0    0  \n",
       "11524  ...   0    0   0  0     0      0   0   0   0    0  \n",
       "11525  ...   0    0   0  0     0      0   0   0   0    0  \n",
       "11526  ...   0    0   0  0     0      0   0   0   0    0  \n",
       "\n",
       "[11527 rows x 17068 columns]"
      ]
     },
     "execution_count": 159,
     "metadata": {},
     "output_type": "execute_result"
    }
   ],
   "source": [
    "from sklearn.feature_extraction.text import CountVectorizer\n",
    "cv = CountVectorizer(analyzer='word', min_df=1, lowercase=False,\n",
    "                                          token_pattern=u'[\\S]+', tokenizer=None)\n",
    "\n",
    "X_train=cv.fit_transform(X_train).toarray()\n",
    "X_test=cv.transform(X_test).toarray()\n",
    "X_val=cv.transform(X_val).toarray()\n",
    "# print(X_train.shape)\n",
    "# print(x.shape)\n",
    "# print(y.shape)\n",
    "print(len(cv.get_feature_names()))\n",
    "# # print(x)\n",
    "df = pd.DataFrame(data=X_train,columns = cv.get_feature_names())\n",
    "df"
   ]
  },
  {
   "cell_type": "markdown",
   "metadata": {
    "id": "MfWdC43Jqedy"
   },
   "source": [
    "**Implementing Naive Bayes**"
   ]
  },
  {
   "cell_type": "code",
   "execution_count": 160,
   "metadata": {
    "colab": {
     "base_uri": "https://localhost:8080/"
    },
    "id": "4DG8H_8OlxjW",
    "outputId": "664bc076-ff6a-4820-b43b-39f5f1efb9a4"
   },
   "outputs": [
    {
     "name": "stdout",
     "output_type": "stream",
     "text": [
      "(11527, 17068)\n",
      "(11527,)\n",
      "(1441, 17068)\n",
      "(1441,)\n",
      "(1441, 17068)\n",
      "(1441,)\n"
     ]
    }
   ],
   "source": [
    "print(X_train.shape)\n",
    "print(y_train.shape)\n",
    "print(X_val.shape)\n",
    "print(y_val.shape)\n",
    "print(X_test.shape)\n",
    "print(y_test.shape)"
   ]
  },
  {
   "cell_type": "code",
   "execution_count": 161,
   "metadata": {
    "colab": {
     "base_uri": "https://localhost:8080/"
    },
    "id": "1Kny2Q0FgShq",
    "outputId": "4298d6ef-e353-425a-c6f4-cc8ad5519544"
   },
   "outputs": [
    {
     "data": {
      "text/plain": [
       "MultinomialNB()"
      ]
     },
     "execution_count": 161,
     "metadata": {},
     "output_type": "execute_result"
    }
   ],
   "source": [
    "# from sklearn.model_selection import train_test_split\n",
    "# X_train, X_test, y_train, y_test = train_test_split(x, y, test_size = 0.2, random_state = 0)\n",
    "from sklearn.naive_bayes import MultinomialNB\n",
    "model = MultinomialNB()\n",
    "model.fit(X_train,y_train)\n",
    "\n"
   ]
  },
  {
   "cell_type": "markdown",
   "metadata": {
    "id": "lqP6zigHmwv-"
   },
   "source": [
    "**Test Score**"
   ]
  },
  {
   "cell_type": "code",
   "execution_count": 171,
   "metadata": {
    "colab": {
     "base_uri": "https://localhost:8080/"
    },
    "id": "q2YUv91TNk_y",
    "outputId": "87fe92f0-6356-4acb-f707-67f691f6e833"
   },
   "outputs": [
    {
     "name": "stdout",
     "output_type": "stream",
     "text": [
      "Test Accuracy:  0.5454545454545454\n",
      "Test Pression:  0.5751657522064738\n",
      "Test F1 Score:  0.5200550102121908\n",
      "Test Recall:  0.5454545454545454\n"
     ]
    }
   ],
   "source": [
    "test_pred = model.predict(X_test)\n",
    "bow_test_accuracy_nb= accuracy_score(y_test, test_pred)\n",
    "bow_test_pressicion_nb=precision_score(y_test, test_pred, average='weighted')\n",
    "bow_test_f1_score_nb=f1_score(y_test, test_pred,average='weighted')\n",
    "bow_test_recall_nb=recall_score(y_test, test_pred, average='weighted')\n",
    "\n",
    "print(\"Test Accuracy: \",bow_test_accuracy_nb)\n",
    "print(\"Test Pression: \",bow_test_pressicion_nb)\n",
    "print(\"Test F1 Score: \",bow_test_f1_score_nb)\n",
    "print(\"Test Recall: \",bow_test_recall_nb)\n",
    "\n"
   ]
  },
  {
   "cell_type": "code",
   "execution_count": 172,
   "metadata": {
    "colab": {
     "base_uri": "https://localhost:8080/"
    },
    "id": "5kPO5cPowh6K",
    "outputId": "fc100eb4-4095-4219-a92d-0a6fed182ef0",
    "scrolled": true
   },
   "outputs": [
    {
     "name": "stdout",
     "output_type": "stream",
     "text": [
      "Multinomial Naive Bayes Classification Report on Test Data: \n",
      "               precision    recall  f1-score   support\n",
      "\n",
      "       Anger       0.52      0.22      0.31       169\n",
      "     Disgust       0.46      0.53      0.49       350\n",
      "        Fear       0.62      0.07      0.12        76\n",
      "   Happiness       0.73      0.72      0.73       395\n",
      "      Others       1.00      0.04      0.07        52\n",
      "     Sadness       0.48      0.68      0.56       399\n",
      "\n",
      "    accuracy                           0.55      1441\n",
      "   macro avg       0.64      0.38      0.38      1441\n",
      "weighted avg       0.58      0.55      0.52      1441\n",
      "\n"
     ]
    }
   ],
   "source": [
    "print(\"Multinomial Naive Bayes Classification Report on Test Data: \\n\",classification_report(y_test, test_pred))"
   ]
  },
  {
   "cell_type": "code",
   "execution_count": 33,
   "metadata": {
    "colab": {
     "base_uri": "https://localhost:8080/"
    },
    "id": "8ca7jCDBxbS0",
    "outputId": "6fc9ebe0-0307-45e9-e1e0-101c62b04f77"
   },
   "outputs": [
    {
     "name": "stdout",
     "output_type": "stream",
     "text": [
      "[[ 38  68   1  13   0  49]\n",
      " [ 13 187   1  29   0 120]\n",
      " [  3  18   5   8   0  42]\n",
      " [  9  38   0 284   0  64]\n",
      " [  2  20   1   8   2  19]\n",
      " [  8  75   0  46   0 270]]\n"
     ]
    }
   ],
   "source": [
    "cm=confusion_matrix(y_test, test_pred)\n",
    "print(cm)"
   ]
  },
  {
   "cell_type": "code",
   "execution_count": 173,
   "metadata": {
    "colab": {
     "base_uri": "https://localhost:8080/",
     "height": 358
    },
    "id": "JqeLQtEKx9F2",
    "outputId": "5502f678-9f5c-480a-f35c-a7eb0cbd8c1b"
   },
   "outputs": [
    {
     "data": {
      "image/png": "[encoded data removed]",
      "text/plain": [
       "<Figure size 720x432 with 2 Axes>"
      ]
     },
     "metadata": {
      "needs_background": "light"
     },
     "output_type": "display_data"
    }
   ],
   "source": [
    "plt.figure(figsize=(10,6))\n",
    "sb.heatmap(cm, cmap=\"Greens\", annot=True,\n",
    "           xticklabels=['Anger','Disgust','Fear',' Happiness','Others','Sadness' ],\n",
    "           yticklabels=['Anger','Disgust','Fear',' Happiness','Others','Sadness'],fmt='d')  \n",
    "\n",
    "\n",
    "plt.xlabel(\"Predicted \", size=12)\n",
    "plt.ylabel(\"Actual\", size=12)\n",
    "plt.title(\"Confusion Matrix\", size=20)\n",
    "plt.show()"
   ]
  },
  {
   "cell_type": "markdown",
   "metadata": {
    "id": "C_eweh5vggwX"
   },
   "source": [
    "**SVM on Bag of Words**"
   ]
  },
  {
   "cell_type": "code",
   "execution_count": null,
   "metadata": {
    "id": "2qVkFRQi1aOM"
   },
   "outputs": [],
   "source": [
    "from sklearn.svm import SVC\n",
    "svm_model = SVC(kernel = 'rbf', gamma=0.1,C= 1000)\n",
    "svm_model.fit(X_train,y_train)\n",
    "\n"
   ]
  },
  {
   "cell_type": "code",
   "execution_count": 174,
   "metadata": {},
   "outputs": [
    {
     "name": "stderr",
     "output_type": "stream",
     "text": [
      "C:\\Users\\iaman\\anaconda3\\lib\\site-packages\\sklearn\\base.py:310: UserWarning: Trying to unpickle estimator SVC from version 1.0.2 when using version 0.24.1. This might lead to breaking code or invalid results. Use at your own risk.\n",
      "  warnings.warn(\n"
     ]
    }
   ],
   "source": [
    "import pickle\n",
    "with open('ML_Models/svm_bow_pickle','rb') as f:\n",
    " svm_model= pickle.load(f) "
   ]
  },
  {
   "cell_type": "markdown",
   "metadata": {
    "id": "-vgzDhzbzy3u"
   },
   "source": [
    "**Test Score**"
   ]
  },
  {
   "cell_type": "code",
   "execution_count": 179,
   "metadata": {
    "colab": {
     "base_uri": "https://localhost:8080/"
    },
    "id": "j2Btl0qvz6z3",
    "outputId": "45cc65ad-120b-4cf6-8247-0f63494fdf9e"
   },
   "outputs": [
    {
     "name": "stdout",
     "output_type": "stream",
     "text": [
      "Test Accuracy:  0.5322692574600971\n",
      "Test Pression:  0.53922333358562\n",
      "Test F1 Score:  0.5212220089594778\n",
      "Test Recall:  0.5322692574600971\n"
     ]
    }
   ],
   "source": [
    "test_pred = svm_model.predict(X_test)\n",
    "bow_test_accuracy_svm= accuracy_score(y_test, test_pred)\n",
    "bow_test_pressicion_svm =precision_score(y_test, test_pred, average='weighted')\n",
    "bow_test_f1_score_svm=f1_score(y_test, test_pred,average='weighted')\n",
    "bow_test_recall_svm=recall_score(y_test, test_pred, average='weighted')\n",
    "\n",
    "print(\"Test Accuracy: \",bow_test_accuracy_svm)\n",
    "print(\"Test Pression: \",bow_test_pressicion_svm)\n",
    "print(\"Test F1 Score: \",bow_test_f1_score_svm)\n",
    "print(\"Test Recall: \",bow_test_recall_svm)"
   ]
  },
  {
   "cell_type": "code",
   "execution_count": 180,
   "metadata": {
    "colab": {
     "base_uri": "https://localhost:8080/"
    },
    "id": "Nik4ldlA2br1",
    "outputId": "70962927-123a-4b9c-f38e-dce37af5dd36"
   },
   "outputs": [
    {
     "name": "stdout",
     "output_type": "stream",
     "text": [
      "SVM Classification Report on Test Data: \n",
      "               precision    recall  f1-score   support\n",
      "\n",
      "       Anger       0.48      0.33      0.39       169\n",
      "     Disgust       0.45      0.49      0.47       350\n",
      "        Fear       0.61      0.14      0.23        76\n",
      "   Happiness       0.72      0.70      0.71       395\n",
      "      Others       0.39      0.13      0.20        52\n",
      "     Sadness       0.47      0.61      0.53       399\n",
      "\n",
      "    accuracy                           0.53      1441\n",
      "   macro avg       0.52      0.40      0.42      1441\n",
      "weighted avg       0.54      0.53      0.52      1441\n",
      "\n"
     ]
    }
   ],
   "source": [
    "print(\"SVM Classification Report on Test Data: \\n\",classification_report(y_test, test_pred))"
   ]
  },
  {
   "cell_type": "code",
   "execution_count": 181,
   "metadata": {
    "colab": {
     "base_uri": "https://localhost:8080/"
    },
    "id": "xD5E40hX3ZqE",
    "outputId": "44a83829-1e0a-4734-db67-e16ff9f58a99"
   },
   "outputs": [
    {
     "name": "stdout",
     "output_type": "stream",
     "text": [
      "[[ 55  55   1  20   0  38]\n",
      " [ 30 173   1  31   4 111]\n",
      " [  6   8  11   9   0  42]\n",
      " [  8  45   0 276   2  64]\n",
      " [  2  17   0   4   7  22]\n",
      " [ 14  88   5  42   5 245]]\n"
     ]
    }
   ],
   "source": [
    "cm=confusion_matrix(y_test, test_pred)\n",
    "print(cm)"
   ]
  },
  {
   "cell_type": "code",
   "execution_count": 182,
   "metadata": {
    "colab": {
     "base_uri": "https://localhost:8080/",
     "height": 358
    },
    "id": "N8T1_1pD3sYM",
    "outputId": "a5c756b7-06e2-418e-841b-e8e928574f58"
   },
   "outputs": [
    {
     "data": {
      "image/png": "[encoded data removed]",
      "text/plain": [
       "<Figure size 720x432 with 2 Axes>"
      ]
     },
     "metadata": {
      "needs_background": "light"
     },
     "output_type": "display_data"
    }
   ],
   "source": [
    "plt.figure(figsize=(10,6))\n",
    "sb.heatmap(cm, cmap=\"Greens\", annot=True,\n",
    "           xticklabels=['Anger','Disgust','Fear',' Happiness','Others','Sadness' ],\n",
    "           yticklabels=['Anger','Disgust','Fear',' Happiness','Others','Sadness'],fmt='d')  \n",
    "\n",
    "\n",
    "plt.xlabel(\"Predicted \", size=12)\n",
    "plt.ylabel(\"Actual\", size=12)\n",
    "plt.title(\"Confusion Matrix\", size=20)\n",
    "plt.show()"
   ]
  },
  {
   "cell_type": "code",
   "execution_count": null,
   "metadata": {
    "colab": {
     "base_uri": "https://localhost:8080/",
     "height": 350
    },
    "id": "V9iIjyirL_nP",
    "outputId": "e8ab2d03-896d-4cd9-c4bc-a634a1920890"
   },
   "outputs": [
    {
     "data": {
      "image/png": "[encoded data removed]",
      "text/plain": [
       "<Figure size 1000x500 with 1 Axes>"
      ]
     },
     "metadata": {},
     "output_type": "display_data"
    }
   ],
   "source": [
    "#bar chart using matplotlib\n",
    "x_axis = ['Multinomial Niave Bayes', 'SVM']\n",
    "y_axis = [bow_test_accuracy_nb, bow_test_accuracy_svm]\n",
    "\n",
    "fig = plt.figure(figsize=(10, 5))\n",
    "\n",
    "c=['blue','orange']\n",
    "plt.bar(x_axis, y_axis, color=c,\n",
    "        width=.5)\n",
    "plt.xlabel(\"Model Name\")\n",
    "plt.ylabel(\"Accuracy\")\n",
    "plt.title(\"Accuracy Comparision\")\n",
    "plt.show()"
   ]
  },
  {
   "cell_type": "code",
   "execution_count": null,
   "metadata": {
    "id": "fmXJU_XNzHkM"
   },
   "outputs": [],
   "source": [
    "import pickle\n",
    "with open('ML_Models/svm_bow_pickle','wb') as f:\n",
    "  pickle.dump(svm_model,f)  "
   ]
  },
  {
   "cell_type": "markdown",
   "metadata": {
    "id": "moGIwL52HkWr"
   },
   "source": [
    "**TF-IDF**"
   ]
  },
  {
   "cell_type": "code",
   "execution_count": 347,
   "metadata": {
    "id": "U3zCJ4tV6n3S"
   },
   "outputs": [],
   "source": [
    "#train: validation: test = 80: 10: 10\n",
    "from sklearn.model_selection import train_test_split\n",
    "X_train, X_main, y_train, y_main = train_test_split(data['cleaned_comments'], data['FinalTag'], test_size = 0.2, random_state = 0)\n",
    "X_test, X_val, y_test, y_val= train_test_split(X_main, y_main, test_size = 0.5, random_state = 0)"
   ]
  },
  {
   "cell_type": "code",
   "execution_count": 348,
   "metadata": {
    "colab": {
     "base_uri": "https://localhost:8080/",
     "height": 514
    },
    "id": "uK91f-BzS7U-",
    "outputId": "46b8c9b5-0e0d-4109-c9d8-453834b2426b"
   },
   "outputs": [
    {
     "name": "stdout",
     "output_type": "stream",
     "text": [
      "(11527, 17068)\n",
      "['অ', 'অংক', 'অংশ', 'অংশগ্রহণ', 'অংশগ্রহন', 'অংশটি', 'অংশটুকু', 'অংশীদার', 'অংশে', 'অংশের', 'অই', 'অকটেন', 'অকটেনের', 'অকথ্য', 'অকপটে', 'অকল্পনীয়', 'অকল্পনীয়', 'অকাজ', 'অকাজের', 'অকার্যকর', 'অকাল', 'অকালে', 'অকৃতজ্ঞ', 'অকৃতজ্ঞতার', 'অকৃত্রিম', 'অকৃপণ', 'অকে', 'অকেজো', 'অকেটন', 'অক্লান্ত', 'অক্ষয়', 'অক্ষরে', 'অক্ষুন্ন', 'অক্সাইড', 'অক্সিজেন', 'অখন্ড', 'অখন্ডতা', 'অখাদ্য', 'অখ্রিষ্টান', 'অগণিত', 'অগনিত', 'অগোছালো', 'অগ্নিকাণ্ডের', 'অগ্নিকান্ডে', 'অগ্নিকান্ডের', 'অগ্নিয়াস্ত্র', 'অগ্নিসংযোগ', 'অগ্রগতি', 'অগ্রগতির', 'অগ্রযাত্রাকে', 'অগ্রসর', 'অগ্রহণযোগ্য', 'অগ্রহনযোগ্য', 'অগ্রাধিকার', 'অগ্রাহ্য', 'অগ্লি', 'অঘোষিত', 'অঙ্গনে', 'অঙ্গীকার', 'অঙ্গে', 'অচল', 'অচিরে', 'অচিরেই', 'অচেনা', 'অচ্যতার', 'অজস্র', 'অজানা', 'অজানায়', 'অজান্তে', 'অজান্তেই', 'অজারকতা', 'অজুহাত', 'অজুহাতে', 'অজুহাতের', 'অজ্ঞ', 'অজ্ঞতা', 'অজ্ঞান', 'অঝোরে', 'অঞ্চল', 'অঞ্চলে', 'অঞ্চলের', 'অটল', 'অটুট', 'অটো', 'অটোপাশ', 'অটোপাস', 'অটোমেটিক', 'অটোরিকশা', 'অডার', 'অঢেল', 'অত', 'অতন্ত', 'অতন্ত্য', 'অতবা', 'অতরিক্ত', 'অতল', 'অতলে', 'অতি', 'অতিউৎসাহী', 'অতিক্রম', 'অতিক্রমের', 'অতিক্ষুদ্র', 'অতিত', 'অতিতগুলোকে', 'অতিথি', 'অতিদ্রুত', 'অতিবাহিত', 'অতিবৃষ্টি', 'অতিমিষ্টি', 'অতিরক্ত', 'অতিরঞ্জিত', 'অতিরিক্ত', 'অতিলোভী', 'অতিলোভের', 'অতিষ্ঠ', 'অতিসত্তর', 'অতিসত্বর', 'অতিসাধারণ', 'অতীত', 'অতীতে', 'অতীতের', 'অতুলনীয়', 'অতৃপ্ত', 'অতৃপ্তি', 'অত্যচার', 'অত্যন্ত', 'অত্যাচার', 'অত্যাচারিত', 'অত্যাচারী', 'অত্যাচারীদের', 'অত্যাচারে', 'অত্যাচারের', 'অত্যাধিক', 'অত্যাধুনিক', 'অত্যান্ত', 'অত্যাবশ্যক', 'অথ', 'অথচ', 'অথব', 'অথবা', 'অথরিটির', 'অথর্ব', 'অথর্বের', 'অদক্ষ', 'অদক্ষতা', 'অদক্ষতার', 'অদম', 'অদুর', 'অদূরদর্শী', 'অদৃশ্য', 'অদ্ভুত', 'অদ্ভূত', 'অদ্যাবধি', 'অধঃপতন', 'অধপতন', 'অধপতনের', 'অধমকে', 'অধার্মিক', 'অধিক', 'অধিকাংশ', 'অধিকাংশই', 'অধিকার', 'অধিকারটাই', 'অধিকারি', 'অধিকারী', 'অধিকারে', 'অধিকারের', 'অধিদপতর', 'অধিদপ্তর', 'অধিন', 'অধিনায়ক', 'অধিনায়কত্বের', 'অধিনায়ক', 'অধিনায়কই', 'অধিবেশন', 'অধীকার', 'অধীনে', 'অধীনের', 'অধ্যক্ষ', 'অধ্যক্ষকেও', 'অধ্যক্ষের', 'অধ্যাপক', 'অধ্যায়', 'অধ্যায়', 'অন', 'অনকে', 'অনটনের', 'অনতিবিলম্ব', 'অনতিবিলম্বে', 'অনন্ত', 'অনন্তকাল', 'অনন্য', 'অনবদ্য', 'অনবরত', 'অনযায়ি', 'অনর্থক', 'অনর্থের', 'অনলাইন', 'অনলাইনে', 'অনলাইনের', 'অনশন', 'অনাকাঙ্ক্ষিত', 'অনাচার', 'অনান্য', 'অনিচ্ছায়', 'অনিচ্ছায়', 'অনিবার্য', 'অনিমেষ', 'অনিমেস', 'অনিয়ম', 'অনিরাপদ', 'অনির্দিষ্টকালের', 'অনির্বাচিত', 'অনিশ্চিত', 'অনিহা', 'অনিয়ম', 'অনিয়মের', 'অনুগ্রহ', 'অনুদানে', 'অনুদানের', 'অনুধাবন', 'অনুপযোগী', 'অনুপাতে', 'অনুপ্রানিত', 'অনুপ্রেরণা', 'অনুভব', 'অনুভু', 'অনুভুতি', 'অনুভূত', 'অনুভূতি', 'অনুভূতিই', 'অনুভূতিগুলো', 'অনুভূতিটাই', 'অনুভূতির', 'অনুভূতিরও', 'অনুভূতিশূন্য', 'অনুমতি', 'অনুমেয়', 'অনুমোদন', 'অনুযায়ী', 'অনুযায়ী', 'অনুরাগ', 'অনুরোধ', 'অনুশীলন', 'অনুষদ', 'অনুষ্ঠান', 'অনুষ্ঠানটা', 'অনুষ্ঠানটি', 'অনুষ্ঠানে', 'অনুষ্ঠানের', 'অনুসন্ধা', 'অনুসন্ধান', 'অনুসন্ধানে', 'অনুসরণ', 'অনুসারী', 'অনুসারে', 'অনূভুতি', 'অনেক', 'অনেকই', 'অনেককিছু', 'অনেককে', 'অনেককেই', 'অনেকগুন', 'অনেকগুলো', 'অনেকটা', 'অনেকটাই', 'অনেকদিন', 'অনেকবার', 'অনেকসময়', 'অনেকাংশে', 'অনেকে', 'অনেকেই', 'অনেকের', 'অনেকেরই', 'অনেস্ট', 'অনৈতিক', 'অন্তঃস্থল', 'অন্তত', 'অন্তর', 'অন্তরায়', 'অন্তরে', 'অন্তরের', 'অন্তর্নিহিত', 'অন্তস্তল', 'অন্তস্থল', 'অন্তহীন', 'অন্তিম', 'অন্ধ', 'অন্ধকার', 'অন্ধকারে', 'অন্ধকারের', 'অন্ধভক্তদের', 'অন্ধের', 'অন্নের', 'অন্য', 'অন্যকিছু', 'অন্যকে', 'অন্যকোনো', 'অন্যটার', 'অন্যতম', 'অন্যদিকে', 'অন্যদের', 'অন্যদেরও', 'অন্যদেরকে', 'অন্যদেশ', 'অন্যদেশের', 'অন্যন্যা', 'অন্যভাবেও', 'অন্যর', 'অন্যরকম', 'অন্যরা', 'অন্যরাও', 'অন্যান্য', 'অন্যায়', 'অন্যায়ভাবে', 'অন্যায়ের', 'অন্যায্য', 'অন্যার', 'অন্যায়', 'অন্যায়ই', 'অন্যায়কারী', 'অন্যায়ের', 'অন্যের', 'অপ', 'অপকর্ম', 'অপকর্মটি', 'অপকর্মে', 'অপকর্মের', 'অপগাতে', 'অপঘাতের', 'অপচয়', 'অপচয়কারী', 'অপচয়ের', 'অপচেষ্টা', 'অপচয়', 'অপচয়ের', 'অপছন্দের', 'অপজিট', 'অপদস্ত', 'অপদার্থ', 'অপদার্থদের', 'অপপ্রচার', 'অপবাদ', 'অপব্যবহার', 'অপব্যবহারের', 'অপমান', 'অপমানকর', 'অপমানি', 'অপমানিত', 'অপর', 'অপরচিত', 'অপরদিকে', 'অপরাজনীতি', 'অপরাধ', 'অপরাধকে', 'অপরাধগুলো', 'অপরাধটা', 'অপরাধটাকে', 'অপরাধি', 'অপরাধিকে', 'অপরাধী', 'অপরাধীও', 'অপরাধীকে', 'অপরাধীদের', 'অপরাধীর', 'অপরাধীরা', 'অপরাধে', 'অপরাধের', 'অপরিকল্পিত', 'অপরিণত', 'অপরিপক্কতাকেই', 'অপরিবর্তনশীল', 'অপরিমানে', 'অপরিশোধিত', 'অপরিহার্য', 'অপরুপ', 'অপরূপ', 'অপশক্তি', 'অপশন', 'অপশনই', 'অপশাসন', 'অপসংগঠন', 'অপসংস্কৃতি', 'অপসারণ', 'অপসারন', 'অপার', 'অপারাটারদেরই', 'অপারেট', 'অপারেটরাই', 'অপারেটরেই', 'অপারেটরের', 'অপার্সনালি', 'অপুর', 'অপূর্ণ', 'অপূর্নতাতেই', 'অপূর্ব', 'অপেক্খায়', 'অপেক্ষা', 'অপেক্ষাই', 'অপেক্ষায়', 'অপেক্ষার', 'অপেক্ষায়', 'অপেনার', 'অপেশাদারিত্ব', 'অপ্রতিরোধ্য', 'অপ্রত্যাশিত', 'অপ্রয়োজনীয়', 'অপ্রাসংগিক', 'অপ্রাসঙ্গিক', 'অপ্রয়োজন', 'অপ্রয়োজনীয়', 'অফ', 'অফকোর্স', 'অফলাইনে', 'অফারের', 'অফিস', 'অফিসগুলোতে', 'অফিসসমূহের', 'অফিসার', 'অফিসারকে', 'অফিসারদের', 'অফিসার্স', 'অফিসিয়ালি', 'অফিসে', 'অফিসের', 'অফুরন্ত', 'অব', 'অবকাঠামো', 'অবকাঠামোতো', 'অবকাঠামোর', 'অবক্ষয়', 'অবক্ষয়', 'অবক্ষয়ে', 'অবক্ষয়ের', 'অবজ্ঞা', 'অবদান', 'অবধারিত', 'অবধি', 'অবনতি', 'অবনতির', 'অবমাননা', 'অবমাননাকর', 'অবমাননার', 'অবমূল্যায়ন', 'অবমূল্যায়ন', 'অবরোধ', 'অবরোধের', 'অবর্ননীয়', 'অবলম্বন', 'অবলম্বনের', 'অবলা', 'অবলীলায়', 'অবশিষ্ট', 'অবশেষে', 'অবশ্য', 'অবশ্যই', 'অবসর', 'অবসরপ্রাপ্ত', 'অবসরে', 'অবসান', 'অবস্তা', 'অবস্থা', 'অবস্থাই', 'অবস্থাও', 'অবস্থাটা', 'অবস্থান', 'অবস্থানে', 'অবস্থানের', 'অবস্থার', 'অবস্থায়', 'অবস্হা', 'অবস্হান', 'অবহেলা', 'অবহেলাজনিত', 'অবহেলার', 'অবহেলায়', 'অবহেলিত', 'অবাক', 'অবাধ', 'অবাধ্য', 'অবান্তর', 'অবারিত', 'অবাস্তব', 'অবিচল', 'অবিচার', 'অবিচারের', 'অবিনাশী', 'অবিবেকহীন', 'অবিবেচক', 'অবিবেচকের', 'অবিভক্ত', 'অবিভাবকরা', 'অবিরাম', 'অবিলম্বে', 'অবিশ্বস্ত', 'অবিশ্বাস', 'অবিশ্বাস্য', 'অবুঝ', 'অবেলায়', 'অবৈদিক', 'অবৈধ', 'অবৈধভাবে', 'অবৈধ্য', 'অব্ধি', 'অব্যবস্থাপণা', 'অব্যবস্থাপনা', 'অব্যবস্থাপনার', 'অব্যাবস্তাপনার', 'অব্যাহত', 'অবয়দো', 'অভদ্র', 'অভব্য', 'অভাগা', 'অভাব', 'অভাবে', 'অভাবেই', 'অভাবের', 'অভিজান', 'অভিজ্ঞতা', 'অভিধানে', 'অভিনন্দন', 'অভিনয়', 'অভিনয়গুলো', 'অভিনয়ে', 'অভিনেতা', 'অভিনেতাই', 'অভিনেতাএইটা', 'অভিনেতারা', 'অভিনেত্রী', 'অভিনয়', 'অভিনয়টা', 'অভিনয়যুক্ত', 'অভিনয়ের', 'অভিবাদন', 'অভিব্যক্তি', 'অভিভাবক', 'অভিভাবকদের', 'অভিভাবকহীন', 'অভিভূত', 'অভিমত', 'অভিমান', 'অভিমানের', 'অভিযান', 'অভিযানে', 'অভিযুক্ত', 'অভিযোগ', 'অভিযোগকারী', 'অভিযোগে', 'অভিযোগের', 'অভিযোজন', 'অভিরুচি', 'অভিশপ্ত', 'অভিশাপ', 'অভিশাপে', 'অভিশাপের', 'অভিষেক', 'অভীষাপ', 'অভুক্ত', 'অভ্যন্তরীণ', 'অভ্যস্ত', 'অভ্যাস', 'অভ্যেসটা', 'অমনোযোগী', 'অমর', 'অমানবিক', 'অমানবিকতার', 'অমানুষ', 'অমানুষকে', 'অমানুষগুলোর', 'অমানুষদের', 'অমানুষিক', 'অমানুষিকে', 'অমানুষে', 'অমানুষের', 'অমান্য', 'অমান্যকারী', 'অমায়িক', 'অমুক', 'অমুল্য', 'অমুসলিম', 'অমূল্য', 'অমৃত', 'অমেরুদণ্ডী', 'অম্ভব', 'অযত্ন', 'অযত্নে', 'অযথা', 'অযুক্তিক', 'অযুহাত', 'অযুহাতে', 'অযোগ্য', 'অযোগ্যদের', 'অযৌক্তিক', 'অরণ্যে', 'অরাজকতা', 'অরাজকতার', 'অরাজনৈতি', 'অরিজিনাল', 'অর্ক', 'অর্ককে', 'অর্কদা', 'অর্কদার', 'অর্জন', 'অর্জনের', 'অর্জিত', 'অর্ণব', 'অর্ণবদা', 'অর্থ', 'অর্থগুলো', 'অর্থনীতি', 'অর্থনীতিও', 'অর্থনীতিতে', 'অর্থনীতির', 'অর্থনৈতিক', 'অর্থনৈতিকের', 'অর্থবহ', 'অর্থমন্ত্রী', 'অর্থমন্ত্রীর', 'অর্থা', 'অর্থায়ন', 'অর্থায়নের', 'অর্থাৎ', 'অর্থায়নে', 'অর্থায়নেই', 'অর্থে', 'অর্থেই', 'অর্থের', 'অর্ধেক', 'অর্ধেকের', 'অর্নব', 'অর্বাচীন', 'অল', 'অলংকার', 'অলটাইম', 'অলরাউন্ডার', 'অলরাউন্ডারের', 'অলরেডি', 'অলস', 'অলাভজনক', 'অলৌকিক', 'অল্প', 'অল্পতেই', 'অশনিসংকেত', 'অশান্ত', 'অশান্তি', 'অশান্তিতে', 'অশান্তির', 'অশালীন', 'অশালীননতা', 'অশালীনভাবে', 'অশিক্ষা', 'অশিক্ষিত', 'অশিক্ষিতদের', 'অশিক্ষিতর', 'অশিক্ষিতের', 'অশিনী', 'অশুদ্ধ', 'অশেষ', 'অশ্বেতাঙ্গ', 'অশ্রদ্ধার', 'অশ্রু', 'অশ্লীল', 'অশ্লীলতা', 'অশ্লীলতার', 'অশ্লীলয়তা', 'অষ্টম', 'অসংখ্য', 'অসংগতি', 'অসখ্য', 'অসচেতনতা', 'অসত্য', 'অসধারণ', 'অসনি', 'অসন্তোষ', 'অসন্মান', 'অসভ্য', 'অসভ্যটা', 'অসভ্যতা', 'অসভ্যতার', 'অসমতা', 'অসমর্থন', 'অসম্ভব', 'অসম্ভবকে', 'অসম্মান', 'অসময়', 'অসময়ে', 'অসর্তকতা', 'অসস্থা', 'অসহনীয়', 'অসহায়', 'অসহায়দের', 'অসহায়', 'অসহায়ত্ব', 'অসহায়ত্বের', 'অসহায়দের', 'অসহায়ের', 'অসহ্য', 'অসাধরন', 'অসাধানর', 'অসাধারণ', 'অসাধারন', 'অসাধু', 'অসামাজিক', 'অসামান্যভাবে', 'অসাম্প্রদায়িক', 'অসাম্প্রদায়িক', 'অসাম্প্রদায়িকতা', 'অসীম', 'অসীমে', 'অসুখ', 'অসুবিধা', 'অসুবিধার', 'অসুস্থ', 'অসুস্থতা', 'অসুস্থভাবে', 'অসৌজন্যমূলক', 'অস্ট্রেলিয়াকে', 'অস্ট্রেলিয়ার', 'অস্ট্রেলীয়া', 'অস্তিত্ব', 'অস্তিত্বের', 'অস্ত্র', 'অস্ত্রই', 'অস্ত্রাঘাতের', 'অস্ত্রের', 'অস্থায়ী', 'অস্থিতিশীল', 'অস্থির', 'অস্থিরতা', 'অস্থিরতার', 'অস্প্রদায়িক', 'অস্বস্তিকর', 'অস্বস্তিবোধের', 'অস্বাভাবিক', 'অস্বাস্থকর', 'অস্বীকার', 'অসৎ', 'অহংকার', 'অহংকারি', 'অহংকারে', 'অহিংস', 'অহিংসতাই', 'অহেতুক', 'অাইন', 'অাগে', 'অাজম', 'অাপনি', 'অাবেগ', 'অামরা', 'অামার', 'অাল্লাহ', 'অাশায়', 'অাসছে', 'অ্যাকাউন্ট', 'অ্যাটাক', 'অ্যাপ', 'অ্যাপটা', 'অ্যাপটাকে', 'অ্যাপার্টমেন্ট', 'অ্যাপের', 'অ্যামেজিং', 'অ্যারেস্ট', 'অ্যাসোসিয়েশনও', 'আ', 'আঁকাবাকা', 'আঁকড়ে', 'আঁচড়ন', 'আঁনাচে', 'আংগুল', 'আংশিক', 'আঃ', 'আই', 'আইএমএফ', 'আইএমএফের', 'আইএসের', 'আইওয়াশ', 'আইক্কা', 'আইছে', 'আইডি', 'আইডিয়া', 'আইতাছে', 'আইন', 'আইনকে', 'আইনগত', 'আইনজীবিদের', 'আইনজীবী', 'আইনজীবীর', 'আইনজীবীরা', 'আইনটা', 'আইনত', 'আইননুসারে', 'আইনব্যবস্থা', 'আইনমন্ত্রী', 'আইনমন্ত্রীর', 'আইনশৃঙ্খলা', 'আইনানুগ', 'আইনানুসারেই', 'আইনি', 'আইনী', 'আইনে', 'আইনেই', 'আইনের', 'আইপিএল', 'আইপিএস', 'আইভি', 'আইসক্রিম', 'আইসিটি', 'আইসিসি', 'আইসিসির', 'আইসেন', 'আইয়ুব', 'আইয়ূব', 'আউলিয়া', 'আওতাধীন', 'আওতায়', 'আওতায়', 'আওয়াজ', 'আওয়ামী', 'আওয়ামীলীগ', 'আওয়ার', 'আওয়াজ', 'আওয়াত', 'আওয়াতায়', 'আওয়ামিলীগ', 'আওয়ামী', 'আওয়ামীলীগ', 'আওয়ামীলীগকে', 'আওয়ামীলীগের', 'আওয়ার', 'আওয়ায়', 'আকবর', 'আকবরের', 'আকবার', 'আকমলদের', 'আকর্ষণ', 'আকর্ষণীয়', 'আকর্ষন', 'আকাঙ্ক্ষার', 'আকাঙ্খার', 'আকাম', 'আকার', 'আকারও', 'আকারে', 'আকাশ', 'আকাশচুম্বী', 'আকাশে', 'আকাশের', 'আকুতি', 'আকুল', 'আকৃতির', 'আক্কেল', 'আক্র', 'আক্রমণ', 'আক্রমণত্বক', 'আক্রমণের', 'আক্রমন', 'আক্রমনাত্মক', 'আক্রমাত্মক', 'আক্রান্ত', 'আক্রান্তদের', 'আক্রান্তের', 'আক্রে', 'আক্ষেপ', 'আখড়া', 'আখিরাত', 'আখের', 'আখেরাতে', 'আখেরাতের', 'আখেরে', 'আগ', 'আগমন', 'আগলে', 'আগস্ট', 'আগস্টে', 'আগা', 'আগাচ্ছি', 'আগাচ্ছে', 'আগাছা', 'আগানো', 'আগামী', 'আগামীকাল', 'আগামীতে', 'আগামীতেও', 'আগামীদিনে', 'আগামীর', 'আগুন', 'আগুনে', 'আগুনের', 'আগে', 'আগেই', 'আগেও', 'আগেভাগেই', 'আগের', 'আগেরই', 'আগেরটাই', 'আগ্নে', 'আগ্নেয়', 'আগ্নেয়াস্ত্র', 'আগ্রহ', 'আগ্রহী', 'আগ্রহের', 'আগ্রাসন', 'আগ্রাসনের', 'আঘাত', 'আঘাতের', 'আঙুল', 'আঙ্গুল', 'আচরণ', 'আচরণবিধি', 'আচরণে', 'আচরণের', 'আচরন', 'আচরনে', 'আচার', 'আচ্ছা', 'আছি', 'আছিলো', 'আছিস', 'আছে', 'আছেই', 'আছেন', 'আছো', 'আছড়ে', 'আজ', 'আজও', 'আজকাল', 'আজকে', 'আজকেই', 'আজকের', 'আজন্ম', 'আজব', 'আজম', 'আজহা', 'আজাইরা', 'আজাদ', 'আজাবের', 'আজিব', 'আজিবন', 'আজিম', 'আজীবন', 'আজীবনের', 'আজে', 'আজেন্টিনা', 'আজ্ঞাবহ', 'আঞ্চলিক', 'আট', 'আটক', 'আটকা', 'আটকাতে', 'আটকানো', 'আটকানোর', 'আটকিয়ে', 'আটকিয়ে', 'আটকে', 'আটো', 'আঠার', 'আঠারো', 'আড়াই', 'আড়াল', 'আড্ডা', 'আড্ডায়', 'আতংকের', 'আতঙ্ক', 'আতঙ্কিত', 'আতঙ্কে', 'আতর', 'আতশবাজি', 'আতা', 'আতাফল', 'আতিকুল', 'আতিথিয়তার', 'আত্নকেন্দ্রিক', 'আত্নচিৎকার', 'আত্নতৃপ্তি', 'আত্নমর্যাদা', 'আত্ম', 'আত্মকেন্দ্রিক', 'আত্মঘাতি', 'আত্মঘাতী', 'আত্মচিৎকারে', 'আত্মজীবনীতে', 'আত্মত্যাগের', 'আত্মনিমগ্ন', 'আত্মমর্যাদার', 'আত্মসমর্পণ', 'আত্মসম্মান', 'আত্মসম্মানবোধ', 'আত্মসম্মানের', 'আত্মসাৎ', 'আত্মহত্যা', 'আত্মহত্যার', 'আত্মহারা', 'আত্মা', 'আত্মার', 'আত্মিয়রা', 'আত্মীয়', 'আত্মীয়স্বজন', 'আদও', 'আদতে', 'আদব', 'আদর', 'আদর্শ', 'আদর্শকে', 'আদর্শবান', 'আদর্শে', 'আদর্শের', 'আদা', 'আদান', 'আদায়', 'আদার', 'আদালত', 'আদালতকে', 'আদালতে', 'আদালতের', 'আদায়', 'আদায়ে', 'আদি', 'আদিবাসী', 'আদিযুগি', 'আদেশ', 'আদৌ', 'আধা', 'আধুনিক', 'আধুনিকতা', 'আধুনিকতার', 'আধুনিকায়ন', 'আধুনিকের', 'আধো', 'আধ্যাত্মিক', 'আনছে', 'আনতে', 'আনতেছে', 'আনন্দ', 'আনন্দটা', 'আনন্দদায়ক', 'আনন্দবাজার', 'আনন্দময়', 'আনন্দিত', 'আনন্দে', 'আনন্দেই', 'আনন্দের', 'আনফিট', 'আনবে', 'আনবেন', 'আনমনে', 'আনলাইক', 'আনলাকি', 'আনলে', 'আনলেই', 'আনলেন', 'আনলো', 'আনা', 'আনাগোনা', 'আনাচে', 'আনাচেকানাচে', 'আনান', 'আনার', 'আনাহোক', 'আনিয়ম', 'আনুক', 'আনুগত্যহীনতার', 'আনুন', 'আনুষঙ্গিক', 'আনে', 'আনেক', 'আনেন', 'আনেনা', 'আন্টি', 'আন্ডারে', 'আন্তঃ', 'আন্তঃনগর', 'আন্তজার্তিক', 'আন্তরিক', 'আন্তরিকতা', 'আন্তরিকতার', 'আন্তর্জাতিক', 'আন্দলোন', 'আন্দাজে', 'আন্দালিব', 'আন্দোলন', 'আন্দোলনকারীদের', 'আন্দোলনকে', 'আন্দোলনে', 'আন্দোলনের', 'আপ', 'আপগ্রেড', 'আপডেট', 'আপত্তিকর', 'আপদ', 'আপন', 'আপনজন', 'আপনজনদের', 'আপনা', 'আপনাকে', 'আপনাকেই', 'আপনাকেও', 'আপনাদের', 'আপনাদেরই', 'আপনার', 'আপনারা', 'আপনারাই', 'আপনারাও', 'আপনি', 'আপনিই', 'আপনিও', 'আপনিত', 'আপনিতো', 'আপনে', 'আপনেকে', 'আপনেরা', 'আপবাদ', 'আপলোড', 'আপা', 'আপাতত', 'আপাদমস্তক', 'আপানাকে', 'আপামর', 'আপার', 'আপু', 'আপুটাকে', 'আপুর', 'আপুরা', 'আপোষ', 'আপ্নের', 'আপ্যায়ন', 'আপ্রাণ', 'আপ্লুত', 'আপ্লূত', 'আপ্লোড', 'আফগান', 'আফগানকে', 'আফগানিস্তান', 'আফগানিস্তানিদের', 'আফগানিস্তানে', 'আফগানিস্তানের', 'আফশোস', 'আফসোস', 'আফ্রিকা', 'আফ্রিকাতে', 'আফ্রিকান', 'আফ্রিকানদের', 'আফ্রিকার', 'আফ্রিকায়', 'আবদান', 'আবদার', 'আবদ্ধ', 'আবরার', 'আবরারের', 'আবর্তিত', 'আবল', 'আবশ্যক', 'আবহাওয়ায়', 'আবহাওয়া', 'আবহে', 'আবাং', 'আবাজাবা', 'আবার', 'আবারও', 'আবারো', 'আবাল', 'আবালচোদা', 'আবালদের', 'আবালের', 'আবালেরা', 'আবাল্টিনা', 'আবাস', 'আবাসিক', 'আবির্ভাব', 'আবিষ্কার', 'আবুল', 'আবুলতাবুল', 'আবৃত্তি', 'আবেগ', 'আবেগঘন', 'আবেগটি', 'আবেগপ্রবন', 'আবেগময়', 'আবেগি', 'আবেগে', 'আবেগের', 'আবেদন', 'আবেদনহীন', 'আবেদনের', 'আবোল', 'আব্দুল', 'আব্দুল্লাহ', 'আব্বা', 'আব্বাস', 'আব্বাসউদ্দিনের', 'আব্বাসের', 'আব্বু', 'আব্বুকে', 'আব্বুর', 'আব্বুরে', 'আভাস', 'আভিযোগ', 'আম', 'আমকে', 'আমগোর', 'আমজনতা', 'আমজনতার', 'আমদানি', 'আমদানিতে', 'আমদানির', 'আমদের', 'আমন্ত্রণ', 'আমন্ত্রণে', 'আমর', 'আমরা', 'আমরাই', 'আমরাও', 'আমরাতো', 'আমলা', 'আমলাতন্ত্র', 'আমলাতান্ত্রিক', 'আমলাদের', 'আমলার', 'আমলিকের', 'আমলে', 'আমলেই', 'আমা', 'আমাকে', 'আমাকেও', 'আমাগো', 'আমাদের', 'আমাদেরই', 'আমাদেরও', 'আমাদেরকে', 'আমানত', 'আমানিল্লাহ', 'আমানুষের', 'আমান্ত্রন', 'আমায়', 'আমার', 'আমারও', 'আমারতো', 'আমারা', 'আমারে', 'আমারো', 'আমায়', 'আমি', 'আমিই', 'আমিও', 'আমিতো', 'আমিন', 'আমির', 'আমিলীগের', 'আমিষ', 'আমীন', 'আমৃত্যু', 'আমেরিকা', 'আমেরিকাকে', 'আমেরিকাতে', 'আমেরিকায়', 'আমেরিকার', 'আমেরিকায়', 'আম্মু', 'আম্মুর', 'আমড়া', 'আযব', 'আয়', 'আয়তন', 'আয়ুর্বেদিক', 'আয়ের', 'আয়োজকদের', 'আয়োজন', 'আয়োজনের', 'আযাহা', 'আর', 'আরএসএস', 'আরও', 'আরকি', 'আরজেনটিন', 'আরজেন্টিনা', 'আরব', 'আরবি', 'আরবের', 'আরমান', 'আরম্ভ', 'আরাম', 'আরামেই', 'আরিচা', 'আরে', 'আরেক', 'আরেকজন', 'আরেকজনকে', 'আরেকটা', 'আরেকটি', 'আরেকটু', 'আরেকধাপ', 'আরেহ', 'আরো', 'আরোও', 'আরোগ্য', 'আরোপ', 'আর্কষনের', 'আর্চয', 'আর্জেনটিনা', 'আর্জেনটিনার', 'আর্জেন্টিনা', 'আর্জেন্টিনাকে', 'আর্জেন্টিনার', 'আর্ট', 'আর্টিস্ট', 'আর্তনাদ', 'আর্তনাধের', 'আর্থিক', 'আর্থিকভাবে', 'আর্মি', 'আর্শীবাদ', 'আল', 'আলগা', 'আলতু', 'আলম', 'আলমও', 'আলমকে', 'আলমের', 'আললাহর', 'আলসতা', 'আলহামদুলিল্লাহ', 'আলহামদুলিল্লাহ্', 'আলাদা', 'আলাদারকম', 'আলাপ', 'আলাপে', 'আলামত', 'আলামিন', 'আলি', 'আলিফ', 'আলিফের', 'আলী', 'আলীর', 'আলেম', 'আলো', 'আলোকসজ্জা', 'আলোকিত', 'আলোকে', 'আলোচনা', 'আলোচনাতেই', 'আলোচনার', 'আলোচনায়', 'আলোচিত', 'আলোর', 'আল্টিমেটলি', 'আল্লাই', 'আল্লার', 'আল্লারে', 'আল্লাহ', 'আল্লাহই', 'আল্লাহকে', 'আল্লাহপাক', 'আল্লাহর', 'আল্লাহু', 'আল্লাহ্', 'আল্লাহ্ই', 'আশংকা', 'আশকারা', 'আশঙ্কা', 'আশঙ্কায়', 'আশপাশের', 'আশরাফুল', 'আশরাফুলের', 'আশা', 'আশাই', 'আশাও', 'আশাকরি', 'আশাবাদী', 'আশাব্যঞ্জক', 'আশায়', 'আশার', 'আশায়', 'আশি', 'আশির্বাদ', 'আশীর্বাদ', 'আশেপাশে', 'আশেপাশের', 'আশ্চর্য', 'আশ্বাস', 'আশ্রয়', 'আশ্রয়ের', 'আশ্রয়', 'আশ্রয়ন', 'আশ্রয়ে', 'আশ্রয়ের', 'আস', 'আসকারা', 'আসকারাতে', 'আসক্ত', 'আসচ্ছে', 'আসছি', 'আসছিল', 'আসছিলাম', 'আসছে', 'আসছেন', 'আসতাছে', 'আসতে', 'আসতেছি', 'আসতেছে', 'আসতেন', 'আসতো', 'আসন', 'আসনে', 'আসন্ন', 'আসবে', 'আসবেই', 'আসবেনা', 'আসবো', 'আসমানী', 'আসল', 'আসলাম', 'আসলে', 'আসলেই', 'আসলেও', 'আসলেন', 'আসলো', 'আসলো', 'আসা', 'আসাম', 'আসামি', 'আসামিও', 'আসামির', 'আসামিরা', 'আসামী', 'আসামীদের', 'আসায়', 'আসার', 'আসায়', 'আসি', 'আসিয়া', 'আসুক', 'আসুন', 'আসে', 'আসেন', 'আসেনা', 'আসেনি', 'আসো', 'আস্কারা', 'আস্তা', 'আস্তানা', 'আস্তে', 'আস্থা', 'আস্থাভাজন', 'আহ', 'আহত', 'আহতদের', 'আহবান', 'আহব্বান', 'আহমেদ', 'আহমেদের', 'আহরন', 'আহহা', 'আহা', 'আহাঃ', 'আহাজারি', 'আহাত', 'আহাম্মক', 'আহারে', 'আহ্', 'আহ্বান', 'আাইনের', 'আাওতায়', 'আাবর', 'আাবার', 'আামাদের', 'আামার', 'আড়াই', 'আড়াল', 'আড়ালে', 'আড়ালেই', 'আয়', 'আয়কর', 'আয়তন', 'আয়তনের', 'আয়নাঘর', 'আয়ারল্যান্ড', 'আয়ারল্যান্ডের', 'আয়াল্যান্ডের', 'আয়ু', 'আয়েজন', 'আয়ের', 'আয়োজন', 'আয়োজনটি', 'ই', 'ইংরেজ', 'ইংরেজদের', 'ইংরেজিতে', 'ইংলিশ', 'ইংল্যান্ড', 'ইংল্যান্ডের', 'ইউ', 'ইউএ', 'ইউকে', 'ইউক্রেন', 'ইউক্রেনকে', 'ইউক্রেনে', 'ইউক্রেনের', 'ইউজ', 'ইউটিউব', 'ইউটিউবের', 'ইউনিক', 'ইউনিট', 'ইউনিভার্সিটি', 'ইউনিয়ন', 'ইউনিয়নে', 'ইউনিয়নের', 'ইউনুস', 'ইউপি', 'ইউরিয়া', 'ইউরুপ', 'ইউরোপ', 'ইউরো', 'ইউরোপ', 'ইউরোপীয়', 'ইউরোপীয়', 'ইউরোপীয়দের', 'ইউরোপের', 'ইকবাল', 'ইগবাল', 'ইঙ্গিত', 'ইঙ্গিতের', 'ইচ্ছা', 'ইচ্ছাকৃত', 'ইচ্ছাকৃতভাবে', 'ইচ্ছাগুলো', 'ইচ্ছাতেই', 'ইচ্ছায়', 'ইচ্ছুক', 'ইচ্ছে', 'ইচ্ছেগুলো', 'ইচ্ছেটা', 'ইচ্ছেটাই', 'ইচ্ছেমতো', 'ইজ', 'ইজরাইল', 'ইজরাইলের', 'ইজ্জত', 'ইঞ্চি', 'ইঞ্জিন', 'ইঞ্জিনিয়ার', 'ইঞ্জিনিয়াররা', 'ইঞ্জিনিয়ারিং', 'ইঞ্জিনিয়ারের', 'ইঞ্জুরি', 'ইট', 'ইটকেল', 'ইডেন', 'ইণ্ডাষ্ট্রিতে', 'ইতর', 'ইতরামি', 'ইতরামিতে', 'ইতরামিরও', 'ইতি', 'ইতিকথা', 'ইতিবাচক', 'ইতিমধ্যে', 'ইতিমধ্যেই', 'ইতিহাস', 'ইতিহাসও', 'ইতিহাসে', 'ইতিহাসেও', 'ইতিহাসের', 'ইত্যাদি', 'ইত্যাদির', 'ইদানিং', 'ইদানীং', 'ইদের', 'ইন', 'ইনকাম', 'ইনকামের', 'ইনজুরড', 'ইনজুরি', 'ইনজুরিতে', 'ইনডেমনিটি', 'ইনধনে', 'ইনফরমেটিভ', 'ইনফরমেশন', 'ইনফো', 'ইনভাইট', 'ইনশআল্লাহ', 'ইনশাআল্লাহ', 'ইনশাআল্লাহ্', 'ইনশাল্লাহ', 'ইনসাফ', 'ইনস্টিটিউটের', 'ইনস্ট্রুমেন্ট', 'ইনাকে', 'ইনার', 'ইনি', 'ইনিংস', 'ইনিংসে', 'ইনিই', 'ইন্জিন', 'ইন্টারনেট', 'ইন্ডাসিটিতে', 'ইন্ডাস্ট্রিতে', 'ইন্ডাস্ট্রির', 'ইন্ডিয়া', 'ইন্ডিয়ান', 'ইন্ডিয়ায়', 'ইন্ডিয়ার', 'ইন্ডিয়া', 'ইন্ডিয়াতে', 'ইন্ডিয়ান', 'ইন্ডিয়ার', 'ইন্ডিয়ায়', 'ইন্দোনেশিয়ায়', 'ইন্না', 'ইন্নাইলাইহি', 'ইবনু', 'ইবাদত', 'ইবার', 'ইভটিজিং', 'ইভিএম', 'ইমরান', 'ইমরুল', 'ইমারত', 'ইমেজ', 'ইমোর্শনাল', 'ইমোশন', 'ইমোশনকে', 'ইমোশনাল', 'ইমোশান', 'ইমোশোন', 'ইম্পেক্ট', 'ইম্প্রেসন', 'ইয়াং', 'ইয়াবা', 'ইরাক', 'ইরাকে', 'ইরান', 'ইরানিরাও', 'ইরানের', 'ইর্ষনীয়', 'ইলাইহি', 'ইলাহা', 'ইলিশ', 'ইলিশের', 'ইলেকট্রিক্যাল', 'ইলেকশন', 'ইল্লাল্লাহু', 'ইশারায়', 'ইশ্বর', 'ইস', 'ইসরাইল', 'ইসরাইলকে', 'ইসরায়েল', 'ইসরায়েলিরাই', 'ইসরায়েল', 'ইসলাম', 'ইসলামি', 'ইসলামিক', 'ইসলামী', 'ইসলামে', 'ইসলামের', 'ইসস', 'ইসহাক', 'ইসহাকের', 'ইসাক', 'ইসাহাক', 'ইসির', 'ইস্কুল', 'ইস্তফা', 'ইস্যু', 'ইস্যুতে', 'ইহকাল', 'ইহকালে', 'ইহা', 'ইহাই', 'ইহাও', 'ইহুদি', 'ইহুদী', 'ইহুদীর', 'ইহুদীরা', 'ইয়া', 'ইয়াং', 'ইয়াবা', 'ইয়ারফোন', 'ইয়াহিয়া', 'ঈদ', 'ঈদই', 'ঈদও', 'ঈদকে', 'ঈদটা', 'ঈদুল', 'ঈদে', 'ঈদেই', 'ঈদেও', 'ঈদের', 'ঈমান', 'ঈর্ষণীয়', 'ঈশ্বর', 'ঈশ্বরের', 'উঁচিয়ে', 'উঁচু', 'উঁচুতে', 'উইকেট', 'উইকেটে', 'উইনার', 'উইনারের', 'উইন্ড', 'উকিল', 'উক্ত', 'উক্তি', 'উক্তিই', 'উক্তিটি', 'উগান্ডার', 'উগ্র', 'উগ্রতর', 'উগ্রতা', 'উগ্রতায়', 'উগ্রবাদ', 'উগ্রবাদি', 'উগ্রবাদী', 'উগ্রবাদীদের', 'উগ্রবাদীরা', 'উগ্রভাবে', 'উচিত', 'উচিৎ', 'উচু', 'উচ্চ', 'উচ্চতায়', 'উচ্চপদস্থ', 'উচ্চমানের', 'উচ্চহারে', 'উচ্চাভিলাষি', 'উচ্চাভিলাষী', 'উচ্চাভিলাসী', 'উচ্চারণ', 'উচ্চারণের', 'উচ্ছন্নে', 'উচ্ছেদ', 'উছিলায়', 'উজাড়', 'উজার', 'উজাড়', 'উজ্জল', 'উজ্জাপন', 'উজ্জীবিত', 'উজ্জ্বল', 'উজ্জ্বলতা', 'উটায়ে', 'উঠছিলাম', 'উঠছে', 'উঠতি', 'উঠতে', 'উঠতেই', 'উঠতো', 'উঠব', 'উঠবে', 'উঠলে', 'উঠা', 'উঠাইবা', 'উঠাইয়াই', 'উঠান', 'উঠানোর', 'উঠাবেন', 'উঠায়', 'উঠার', 'উঠায়', 'উঠিয়া', 'উঠিয়ে', 'উঠুক', 'উঠুন', 'উঠে', 'উঠেই', 'উঠেছে', 'উঠো', 'উড়িয়ে', 'উড়ে', 'উড়োজাহাজ', 'উতপাদন', 'উতলা', 'উতসাহ', 'উত্তপ্ত', 'উত্তম', 'উত্তর', 'উত্তরবঙ্গের', 'উত্তরাঞ্চলের', 'উত্তরাধিকারি', 'উত্তরায়', 'উত্তরে', 'উত্তরের', 'উত্তাপ', 'উত্তাপে', 'উত্তাল', 'উত্তীর্ণ', 'উত্তেজনা', 'উত্তেজনার', 'উত্তোরণ', 'উত্তোলন', 'উত্তোলনের', 'উত্থান', 'উত্থাপন', 'উদগ্রীব', 'উদঘাটন', 'উদবোধনে', 'উদয়', 'উদযাপন', 'উদযাপনই', 'উদরপূর্তির', 'উদাও', 'উদার', 'উদারতা', 'উদারপন্থী', 'উদাসিন', 'উদাসিনতা', 'উদাসীন', 'উদাহরণ', 'উদাহরন', 'উদুম', 'উদেশ্য', 'উদোরপিন্ডি', 'উদ্ঘাটন', 'উদ্দক', 'উদ্দিপনার', 'উদ্দেগ', 'উদ্দেশ্য', 'উদ্দেশ্যপ্রণোদিত', 'উদ্দেশ্যপ্রবন', 'উদ্দেশ্যমূলক', 'উদ্দেশ্যে', 'উদ্দ্যশ্যে', 'উদ্ধার', 'উদ্ধারে', 'উদ্ধে', 'উদ্বিগ্ন', 'উদ্বেগের', 'উদ্বোধন', 'উদ্বোধনে', 'উদ্বোধনের', 'উদ্ভট', 'উদ্ভাবক', 'উদ্ভাবন', 'উদ্ভাবনে', 'উদ্ভাবনের', 'উদ্ভোদন', 'উদ্ভোধনের', 'উদ্যোগ', 'উদ্যোক্তা', 'উদ্যোক্তার', 'উদ্যোগ', 'উদ্যোগকেও', 'উদ্যোগের', 'উদয়', 'উননয়ন', 'উনাকে', 'উনাদের', 'উনাদেরকে', 'উনার', 'উনারা', 'উনি', 'উনিই', 'উনিও', 'উনুদান', 'উন্নত', 'উন্নতজাতি', 'উন্নতমানের', 'উন্নতি', 'উন্নতিতে', 'উন্নতির', 'উন্নয়ন', 'উন্নয়নশীল', 'উন্নয়নে', 'উন্নয়নের', 'উন্নীত', 'উন্নয়ন', 'উন্নয়নকে', 'উন্নয়নশীল', 'উন্নয়নে', 'উন্নয়নের', 'উন্মমাদ', 'উন্মাদ', 'উপ', 'উপকরণ', 'উপকার', 'উপকারী', 'উপকারে', 'উপকারের', 'উপকূলীয়', 'উপকৃত', 'উপক্রম', 'উপজা', 'উপজেলা', 'উপজেলায়', 'উপত্যকায়', 'উপদেশ', 'উপদেশের', 'উপদেষ্টাকে', 'উপদ্রব', 'উপনিবেশবাদী', 'উপনীত', 'উপপ্রধান', 'উপভোগ', 'উপভোগের', 'উপভোগ্য', 'উপমহাদেশীয়', 'উপমহাদেশে', 'উপমহাদেশের', 'উপমা', 'উপযাচক', 'উপযুক্ত', 'উপযোগি', 'উপযোগী', 'উপযোগীতা', 'উপর', 'উপরন্তু', 'উপরমহল', 'উপরে', 'উপরেই', 'উপরের', 'উপলক্ষে', 'উপলদ্ধি', 'উপলব্ধি', 'উপশিরা', 'উপসংহার', 'উপসংহারে', 'উপস্থাপক', 'উপস্থাপকের', 'উপস্থাপন', 'উপস্থাপননা', 'উপস্থাপনা', 'উপস্থাপিকা', 'উপস্থিত', 'উপস্থিতি', 'উপহার', 'উপহাস', 'উপহাসের', 'উপাত্ত', 'উপাদানই', 'উপায়', 'উপায়ে', 'উপার্জন', 'উপার্জনই', 'উপার্জনক্ষম', 'উপার্জনে', 'উপার্জিত', 'উপায়', 'উপায়তো', 'উপায়ে', 'উপেক্ষা', 'উপড়ে', 'উফ', 'উফফ', 'উভয়', 'উভয়ই', 'উভয়ের', 'উভয়ই', 'উমুক', 'উম্মতেরা', 'উম্মাদ', 'উম্মোচন', 'উরা', 'উর্ধগতি', 'উর্ধগতিতে', 'উর্ধগতির', 'উর্ধগতী', 'উর্ধ্ব', 'উর্ধ্বগতিতে', 'উর্ধ্বে', 'উল', 'উলঙ্গ', 'উলট', 'উলটা', 'উল্টা', 'উল্টাপথে', 'উল্টাপাল্টা', 'উল্টায়ে', 'উল্টে', 'উল্টোটাকে', 'উল্টো', 'উল্লাস', 'উল্লেখ', 'উল্লেখযোগ্য', 'উশৃংখল', 'উষ্কানি', 'উষ্কে', 'উষ্ণায়ন', 'উসকানি', 'উসকে', 'উস্কানি', 'উস্কানিতে', 'উস্কানিমূলক', 'উস্কানীমূলক', 'উস্কে', 'উহ', 'উহা', 'উহু', 'উৎকৃষ্ট', 'উৎপত্তি', 'উৎপন্ন', 'উৎপাত', 'উৎপাদকের', 'উৎপাদন', 'উৎপাদনের', 'উৎফুল্ল', 'উৎস', 'উৎসব', 'উৎসবমুখর', 'উৎসবে', 'উৎসবের', 'উৎসর্গ', 'উৎসাহ', 'উৎসাহি', 'উৎসাহিত', 'উৎসুক', 'উৎস্বর্গ', 'উড়ন্ত', 'উড়া', 'উড়াই', 'উড়ানো', 'উড়ার', 'উড়িয়ে', 'উড়ে', 'ঊর্ধ্বগতি', 'ঊর্ধ্বে', 'ঋণ', 'ঋণের', 'ঋতু', 'ঋন', 'ঋনের', 'এ', 'এই', 'এইখানে', 'এইগুলা', 'এইগুলাতো', 'এইগুলার', 'এইগুলো', 'এইজন্য', 'এইজন্যে', 'এইটা', 'এইটাই', 'এইটাও', 'এইটাকে', 'এইটাকেই', 'এইটাতো', 'এইটুকু', 'এইটুকুতেই', 'এইদিক', 'এইদিকে', 'এইদেশ', 'এইদেশটা', 'এইদেশে', 'এইবার', 'এইভাবে', 'এইভাবেই', 'এইরকম', 'এইরকমই', 'এইরকমভাবে', 'এইসব', 'এইসমস্ত', 'এইসময়', 'এএফএ', 'এএফএর', 'এও', 'এওয়ার্ড', 'এক', 'একই', 'একইভাবে', 'একইরকম', 'একইসঙ্গে', 'একক', 'এককথায়', 'একখানা', 'একখানি', 'একগুঁয়েমি', 'একঘরাই', 'একচুয়ালি', 'একচোখা', 'একচ্ছত্র', 'একজন', 'একজনই', 'একজনও', 'একজনকে', 'একজনকেই', 'একজনের', 'একজোট', 'একট', 'একটা', 'একটাই', 'একটাও', 'একটাকেও', 'একটানা', 'একটার', 'একটারও', 'একটি', 'একটিই', 'একটিও', 'একটিতেও', 'একটু', 'একটুও', 'একটুতেই', 'একতম', 'একতর্ফা', 'একতাবদ্ধ', 'একত্রিত', 'একদম', 'একদমই', 'একদল', 'একদিকে', 'একদিন', 'একদিনও', 'একদিনে', 'একদিনেই', 'একদিনের', 'একধরনের', 'একধাপ', 'একন', 'একনায়কতন্ত্র', 'একনিষ্ঠ', 'একপাক্ষিক', 'একপেশীয়ে', 'একপেশে', 'একপ্রকার', 'একবছর', 'একবার', 'একবারই', 'একবারও', 'একবারে', 'একবারেই', 'একবারের', 'একবিন্দু', 'একবেলা', 'একমত', 'একমাএ', 'একমাত্র', 'একমাস', 'একযোগ', 'একরকম', 'একরাশ', 'একলক্ষ', 'একশন', 'একসঙ্গে', 'একসময়', 'একসময়', 'একসাথে', 'একসাথেই', 'একা', 'একাংশের', 'একাই', 'একাউন্ট', 'একাউন্টে', 'একাকার', 'একাকিত্ব', 'একাকিত্বই', 'একাদশ', 'একাদশে', 'একান্ত', 'একার', 'একারনেই', 'একি', 'একিই', 'একুশ', 'একুশে', 'একে', 'একেই', 'একেক', 'একেকজনের', 'একেকটা', 'একেবারে', 'একেবারেই', 'একের', 'এক্কেবারে', 'এক্কেরে', 'এক্সচেঞ্জ', 'এক্সট্রা', 'এক্সপেকটেশন', 'এক্সপেরিয়েন্স', 'এক্সপ্রেশন', 'এক্সপ্রেস', 'এক্সপ্রেসওয়ে', 'এক্সপ্লেইনেসন', 'এক্সাইটেড', 'এক্সিডেন্ট', 'এক্সিডেন্টে', 'এখকার', 'এখন', 'এখনই', 'এখনও', 'এখনকার', 'এখনতো', 'এখনি', 'এখনেই', 'এখনো', 'এখনো', 'এখান', 'এখানে', 'এখানেই', 'এখানেও', 'এখানো', 'এখোন', 'এখোনও', 'এখোনকার', 'এখোনো', 'এগিয়ে', 'এগিয়ে', 'এগুলা', 'এগুলাকে', 'এগুলান', 'এগুলারে', 'এগুলো', 'এগুলোও', 'এগুলোকে', 'এগুলোত', 'এগুলোর', 'এগুলোরই', 'এগোতে', 'এছাড়া', 'এজন', 'এজন্য', 'এজন্যই', 'এজেন্ট', 'এজেন্সির', 'এটা', 'এটাই', 'এটাইত', 'এটাও', 'এটাকে', 'এটাত', 'এটাতেই', 'এটাতো', 'এটায়', 'এটার', 'এটায়', 'এটি', 'এটিই', 'এট্টু', 'এড', 'এডভেঞ্চার', 'এড়াতে', 'এডির', 'এডিসি', 'এত', 'এতই', 'এতক্ষণ', 'এতক্ষনে', 'এতগুলো', 'এতটা', 'এতটাই', 'এতটুকুই', 'এতদিন', 'এতদিনে', 'এতবড়', 'এতবড়', 'এতসব', 'এতসুন্দর', 'এতিম', 'এতে', 'এতেই', 'এতো', 'এতোদিন', 'এতো', 'এতোই', 'এতোকিছুর', 'এতোগুলা', 'এতোগুলো', 'এতোটা', 'এতোটাই', 'এতোটুকু', 'এতোদিন', 'এতোদিনে', 'এত্ত', 'এত্তো', 'এদনালদো', 'এদিক', 'এদিকে', 'এদেখি', 'এদের', 'এদেরকে', 'এদেরকেও', 'এদেশ', 'এদেশে', 'এদেশের', 'এধরণের', 'এধরনের', 'এন', 'এনজিওর', 'এনা', 'এনাদের', 'এনার', 'এনারা', 'এনারে', 'এনার্জেটিক', 'এনে', 'এনেছেন', 'এন্টোনিও', 'এন্ড', 'এপ', 'এপর্যন্ত', 'এপার', 'এপিঠ', 'এফেয়ার্স', 'এবং', 'এবার', 'এবারকার', 'এবারে', 'এবারেও', 'এবারের', 'এবারো', 'এব্যাপারে', 'এভাবে', 'এভাবেই', 'এভার', 'এভারেজ', 'এম', 'এমং', 'এমডি', 'এমন', 'এমনই', 'এমনও', 'এমনকি', 'এমনটা', 'এমনটাই', 'এমনটি', 'এমনতো', 'এমনভাবে', 'এমনি', 'এমনিই', 'এমনিতে', 'এমনিতেই', 'এমনিতেও', 'এমনিতেতো', 'এমনে', 'এমনেই', 'এমপি', 'এমপিদের', 'এমবাপ্পেকে', 'এমবাপ্পের', 'এমবি', 'এমেরিকা', 'এম্পি', 'এয়ারকন্ডিশন', 'এয়ারপোর্টে', 'এয়ারপোর্টের', 'এযাবত', 'এযুগে', 'এযুগেও', 'এযুগের', 'এর', 'এরই', 'এরকম', 'এরকমই', 'এরকমটি', 'এরকমি', 'এরচেএ', 'এরচেয়ে', 'এরচেয়ে', 'এরদোগান', 'এরদোয়ান', 'এরদোয়ানকে', 'এরপর', 'এরপরও', 'এরপরেও', 'এরম', 'এরমধ্যে', 'এরা', 'এরাই', 'এরাও', 'এরাতে', 'এরাতো', 'এরিয়াটা', 'এরূপ', 'এরে', 'এরেঞ্জ', 'এরোদোগান', 'এলএনজির', 'এলবামটা', 'এলাকা', 'এলাকাতে', 'এলাকায়', 'এলাকার', 'এলাকায়', 'এলাম', 'এলার্জি', 'এলালার', 'এলিভেটর', 'এলিয়েনদের', 'এলিয়েনদের', 'এলে', 'এলো', 'এলোমেলো', 'এশহর', 'এশিয়া', 'এশিয়ার', 'এশিয়া', 'এশিয়ার', 'এস', 'এসকল', 'এসপি', 'এসপিকে', 'এসব', 'এসবকে', 'এসবতো', 'এসবে', 'এসবের', 'এসমস্ত', 'এসমাজ', 'এসি', 'এসির', 'এসে', 'এসেই', 'এসেও', 'এসেছি', 'এসেছিল', 'এসেছিলাম', 'এসেছিলেন', 'এসেছিলো', 'এসেছে', 'এসেছেন', 'এসো', 'এস্টিমেট', 'এাটাই', 'এ্যালবামের', 'এড়াতে', 'এড়ানোর', 'এড়িয়ে', 'এয়', 'এয়ার', 'এয়ারফোর্স', 'এয়ারর্পোটের', 'ঐ', 'ঐই', 'ঐইপারে', 'ঐকমত্যে', 'ঐকের', 'ঐক্য', 'ঐক্যবদ্ধ', 'ঐখানে', 'ঐচ্ছিক', 'ঐটা', 'ঐটার', 'ঐতিহসিক', 'ঐতিহাসিক', 'ঐতিহাসিকভাবে', 'ঐতিহ্য', 'ঐতিহ্যকে', 'ঐতিহ্যবাহি', 'ঐতিহ্যবাহী', 'ঐদিন', 'ঐসব', 'ও', 'ওঁর', 'ওই', 'ওইখান', 'ওইগুলো', 'ওইটা', 'ওইদিকে', 'ওইরকম', 'ওইসব', 'ওকাপিয়া', 'ওকে', 'ওখানে', 'ওগুলো', 'ওগুলোর', 'ওজন', 'ওটা', 'ওটাই', 'ওঠে', 'ওঠেনি', 'ওতো', 'ওদিক', 'ওদিকে', 'ওদের', 'ওদেরকে', 'ওনলি', 'ওনাকে', 'ওনাদের', 'ওনার', 'ওনারা', 'ওনারো', 'ওনি', 'ওনিও', 'ওপর', 'ওপরে', 'ওপাড়ে', 'ওপানার', 'ওপার', 'ওপারে', 'ওপারের', 'ওপিঠ', 'ওপেন', 'ওপেনার', 'ওপেনারের', 'ওপেনিং', 'ওপড়', 'ওবাক', 'ওবায়দুল', 'ওভার', 'ওমর', 'ওমা', 'ওয়াক্ত', 'ওয়াটার', 'ওয়াতানে', 'ওয়ালা', 'ওয়াসার', 'ওয়াসিফ', 'ওয়াহিদ', 'ওয়েবিল', 'ওর', 'ওরা', 'ওরাই', 'ওরে', 'ওলামাদের', 'ওষুধ', 'ওষুধের', 'ওসব', 'ওসি', 'ওস্তাদ', 'ওহ', 'ওহেতুক', 'ওড়ে', 'ওয়া', 'ওয়াও', 'ওয়াক্ত', 'ওয়াজেদ', 'ওয়াটসাপ', 'ওয়াতাআ', 'ওয়াদা', 'ওয়ান', 'ওয়ানডে', 'ওয়ার্কিং', 'ওয়ালা', 'ওয়ালার', 'ওয়াশ', 'ওয়াশরুম', 'ওয়াস', 'ওয়াস্তে', 'ওয়েদার', 'ঔ', 'ঔষধ', 'ঔষধও', 'ঔষধের', 'ঔষুধ', 'ক', 'কংলক', 'কই', 'কইছে', 'কইছেন', 'কইতাছি', 'কইতো', 'কইরা', 'কইরেন', 'কইলো', 'কওয়া', 'কক্ষ', 'কক্ষপথ', 'কক্সবাজার', 'কক্সবাজারে', 'কক্সবাজারের', 'কখন', 'কখনই', 'কখনও', 'কখনো', 'কখনোই', 'কখোন', 'কচি', 'কচু', 'কজ', 'কটা', 'কটি', 'কটু', 'কটুক্তি', 'কট্রর', 'কঠিন', 'কঠিনতম', 'কঠোর', 'কঠোরতম', 'কঠোরভাবে', 'কড়া', 'কড়াই', 'কড়ায়', 'কডা', 'কণ্টে', 'কণ্ঠ', 'কণ্ঠশিল্পী', 'কণ্ঠে', 'কণ্ঠের', 'কত', 'কতই', 'কতইনা', 'কতখানি', 'কতগুলো', 'কতটা', 'কতটুকু', 'কতদিন', 'কতদূর', 'কতবার', 'কতবড়', 'কতযে', 'কতসুন্দর', 'কতিপয়', 'কতৃত্ববাদী', 'কতৃপক্ষ', 'কতৃপক্ষের', 'কতৃপহ্মে', 'কতো', 'কতোই', 'কতোইনা', 'কতোখানি', 'কতোজন', 'কতোটা', 'কতোদিন', 'কতোভাবেই', 'কত্ত', 'কত্তবড়', 'কথকতা', 'কথা', 'কথাই', 'কথাও', 'কথাগুলা', 'কথাগুলি', 'কথাগুলো', 'কথাগুলোই', 'কথাগ্রলো', 'কথাটা', 'কথাটি', 'কথাতো', 'কথাবার্তা', 'কথাবার্তার', 'কথায়', 'কথার', 'কথায়', 'কথিত', 'কদম', 'কদর', 'কদর্যতাকেই', 'কদু', 'কনটেন্ট', 'কনট্যাক্টর', 'কনডম', 'কনডেম', 'কনফার্ম', 'কনফিউজড', 'কনভার্সনে', 'কনমসেন্স', 'কনর্সাটে', 'কনসার্ট', 'কনসার্টে', 'কনস্ট্রাকশন', 'কনো', 'কন্টকমুক্ত', 'কন্টিনার', 'কন্টেইনার', 'কন্টেন্ট', 'কন্টেন্টে', 'কন্ট্রোল', 'কন্ঠ', 'কন্ঠস্বরটা', 'কন্ঠে', 'কন্ঠের', 'কন্যা', 'কপাল', 'কপালে', 'কপি', 'কপিলা', 'কবচের', 'কবর', 'কবরে', 'কবরের', 'কবল', 'কবলিত', 'কবলে', 'কবি', 'কবিকে', 'কবিগুরু', 'কবিতা', 'কবিতাকে', 'কবিতাগুলো', 'কবির', 'কবুতর', 'কবে', 'কবেই', 'কভার', 'কম', 'কমই', 'কমচারীর', 'কমছে', 'কমতি', 'কমতির', 'কমতে', 'কমতেছে', 'কমতো', 'কমপক্ষে', 'কমবে', 'কমবেই', 'কমবেশ', 'কমল', 'কমলাপুর', 'কমলে', 'কমলেও', 'কমা', 'কমাই', 'কমাইলে', 'কমাতে', 'কমান', 'কমানো', 'কমানোর', 'কমার', 'কমালে', 'কমায়', 'কমিউনিস্ট', 'কমিউনিস্টদের', 'কমিউনিস্টরা', 'কমিক্স', 'কমিটি', 'কমিটির', 'কমিডিয়ান', 'কমিয়ে', 'কমিলো', 'কমিশন', 'কমিশনকে', 'কমিশনার', 'কমিয়ে', 'কমিয়েছে', 'কমে', 'কমেছে', 'কমেডি', 'কমেডিয়ান', 'কমেনটে', 'কমেনি', 'কমেন্ট', 'কমেন্টএ', 'কমেন্টটা', 'কমেন্টস', 'কমেন্টা', 'কমেন্টে', 'কমেন্ট্রি', 'কম্পোজিশন', 'কম্পোজিশনটা', 'কম্প্লায়েন্স', 'কম্বিনেশন', 'কম্বিনেশনে', 'কয়', 'কয়জন', 'কয়টা', 'কয়বার', 'কয়ে', 'কয়েক', 'কয়েকজন', 'কয়েকটা', 'কয়েকদিন', 'কয়েকবার', 'কর', 'করছ', 'করছি', 'করছিল', 'করছিলাম', 'করছিলো', 'করছে', 'করছেন', 'করছেনা', 'করছো', 'করত', 'করতাছি', 'করতাছে', 'করতাছেন', 'করতাম', 'করতে', 'করতেই', 'করতেও', 'করতেছি', 'করতেছিলাম', 'করতেছে', 'করতেছেন', 'করতেছো', 'করতেন', 'করতো', 'করন', 'করনা', 'করপোরেশনের', 'করব', 'করবা', 'করবার', 'করবি', 'করবে', 'করবেই', 'করবেন', 'করবেনা', 'করবো', 'করবো', 'করবোও', 'করল', 'করলাম', 'করলে', 'করলেই', 'করলেইত', 'করলেইতো', 'করলেও', 'করলেন', 'করলো', 'করলো', 'করসে', 'করা', 'করাই', 'করাইছে', 'করাও', 'করাক', 'করাটা', 'করাটাই', 'করাটাও', 'করাতে', 'করানো', 'করানোও', 'করানোর', 'করাবে', 'করাবেন', 'করায়', 'করার', 'করারই', 'করারও', 'করাল', 'করালে', 'করায়', 'করি', 'করিডোর', 'করিনা', 'করিনি', 'করিবে', 'করিমের', 'করিয়ে', 'করিল', 'করিলেন', 'করিয়ে', 'করিয়েছে', 'করিয়েন', 'করুক', 'করুণ', 'করুন', 'করুনা', 'করুনার', 'করূন', 'করে', 'করেই', 'করেও', 'করেছন', 'করেছি', 'করেছিল', 'করেছিলাম', 'করেছিলেন', 'করেছিলো', 'করেছে', 'করেছেন', 'করেছো', 'করেতে', 'করেদিচে', 'করেন', 'করেননি', 'করেনা', 'করেনি', 'করের', 'করো', 'করো', 'করোন', 'করোনা', 'করোনাকালীন', 'করোনাভাইরাস', 'করোনার', 'করোনায়', 'করোর', 'কর্ণপাত', 'কর্তব্য', 'কর্তব্যনিষ্ঠা', 'কর্তব্যের', 'কর্তা', 'কর্তারা', 'কর্তৃক', 'কর্তৃপক্ষ', 'কর্তৃপক্ষকে', 'কর্তৃপক্ষরা', 'কর্তৃপক্ষের', 'কর্পোরেশনের', 'কর্ম', 'কর্মকতাদের', 'কর্মকর্তা', 'কর্মকর্তাকে', 'কর্মকর্তাদের', 'কর্মকর্তার', 'কর্মকর্তারা', 'কর্মকর্তায়', 'কর্মকাণ্ড', 'কর্মকাণ্ডে', 'কর্মকান্ড', 'কর্মকান্ডের', 'কর্মচারি', 'কর্মচারিদের', 'কর্মচারী', 'কর্মচারীও', 'কর্মচারীদের', 'কর্মচারীরা', 'কর্মচারীরাও', 'কর্মজিবী', 'কর্মজীবনে', 'কর্মটাই', 'কর্মফল', 'কর্মবিরতিহীন', 'কর্মসংস্থান', 'কর্মসংস্থানের', 'কর্মসূচি', 'কর্মস্থলে', 'কর্মী', 'কর্মীদের', 'কর্মীর', 'কর্মীরা', 'কর্মীরাও', 'কর্মের', 'কল', 'কলংক', 'কলংকিত', 'কলকাতা', 'কলকাতার', 'কলকারখানা', 'কলঙ্ক', 'কলঙ্কিত', 'কলজায়', 'কলটি', 'কলম', 'কলমকে', 'কলমে', 'কলহের', 'কলা', 'কলাকুশলীকে', 'কলাকুশলীদের', 'কলিজা', 'কলিজাটা', 'কলিজার', 'কলিজায়', 'কলিতে', 'কলুর', 'কলুষিত', 'কলেজ', 'কলেজে', 'কলেজের', 'কল্পনা', 'কল্পনাও', 'কল্যাণ', 'কল্যাণকর', 'কল্যাণে', 'কল্যাণের', 'কল্যানকর', 'কল্যানে', 'কল্যানের', 'কষাই', 'কষাঘাতে', 'কষ্ট', 'কষ্টকর', 'কষ্টকে', 'কষ্টগুলো', 'কষ্টগুলোকে', 'কষ্টটা', 'কষ্টদায়ক', 'কষ্টদায়ক', 'কষ্টসাধ্য', 'কষ্টার্জিত', 'কষ্টে', 'কষ্টের', 'কসম', 'কসাথে', 'কস্ট', 'কস্টে', 'কস্টের', 'কা', 'কাঁচা', 'কাঁটা', 'কাঁটাতার', 'কাঁটাতারে', 'কাঁঠাল', 'কাঁদছে', 'কাঁদতে', 'কাঁদবো', 'কাঁদলাম', 'কাঁদানোর', 'কাঁদি', 'কাঁদে', 'কাঁদেছে', 'কাঁদো', 'কাঁধে', 'কাঁনাচে', 'কাঁপানো', 'কাঁপে', 'কাউ', 'কাউকে', 'কাউকেই', 'কাউন্ট', 'কাউন্টার', 'কাউন্সিলিং', 'কাউন্সেলিং', 'কাউয়া', 'কাউয়ার', 'কাওকে', 'কাওকেই', 'কাওয়ালীর', 'কাকা', 'কাকার', 'কাকু', 'কাকুর', 'কাকে', 'কাকের', 'কাক্কু', 'কাকড়া', 'কাগজ', 'কাগজপত্র', 'কাগজে', 'কাগজের', 'কাগুজে', 'কাচা', 'কাচামালের', 'কাচ্চি', 'কাছ', 'কাছাকাছি', 'কাছে', 'কাছেই', 'কাছেও', 'কাছের', 'কাজ', 'কাজই', 'কাজও', 'কাজকর্ম', 'কাজকর্মে', 'কাজকর্মের', 'কাজকে', 'কাজকেই', 'কাজকেও', 'কাজগুলা', 'কাজগুলো', 'কাজগুলোই', 'কাজটা', 'কাজটি', 'কাজল', 'কাজি', 'কাজী', 'কাজে', 'কাজেই', 'কাজেও', 'কাজের', 'কাজেরই', 'কাট', 'কাটছে', 'কাটতেছে', 'কাটতো', 'কাটবে', 'কাটবেই', 'কাটলেই', 'কাটা', 'কাটাইতাম', 'কাটাইতে', 'কাটাচ্ছি', 'কাটাচ্ছেন', 'কাটাতে', 'কাটানো', 'কাটানোর', 'কাটাবনের', 'কাটার', 'কাটায়', 'কাটিয়ে', 'কাটুক', 'কাটে', 'কাটেন', 'কাটেনা', 'কাঠগড়ায়', 'কাঠগড়ায়', 'কাঠামো', 'কাঠাল', 'কাঠের', 'কাণ্ডজ্ঞানহীন', 'কাণ্ডের', 'কাতর', 'কাতার', 'কাতারে', 'কাদতেছে', 'কাদবো', 'কাদা', 'কাদিতে', 'কাদের', 'কাধ', 'কাধে', 'কান', 'কানন', 'কানমলা', 'কানা', 'কানাচে', 'কানাডা', 'কানুন', 'কানে', 'কান্ট্রি', 'কান্ড', 'কান্ডের', 'কান্না', 'কান্নার', 'কান্নায়', 'কাপ', 'কাপাই', 'কাপুরুষদের', 'কাপুরুষের', 'কাপুরুষোচিত', 'কাপে', 'কাপের', 'কাপড়', 'কাপড়ে', 'কাপড়ের', 'কাফিরের', 'কাবিলা', 'কাব্য', 'কাভার', 'কাভারেজ', 'কাম', 'কামডা', 'কামন', 'কামনা', 'কামনাই', 'কামব্যাক', 'কামব্যাকের', 'কামরা', 'কামরি', 'কামরুজ্জামান', 'কামলা', 'কামাই', 'কামাইছে', 'কামান', 'কামানোর', 'কামাবে', 'কামাল', 'কামালে', 'কামিয়ে', 'কামের', 'কাম্য', 'কায়দা', 'কার', 'কারও', 'কারখানা', 'কারখানাগুলো', 'কারখানাতে', 'কারখানার', 'কারখানায়', 'কারচুপি', 'কারটা', 'কারণ', 'কারণটা', 'কারণে', 'কারণেই', 'কারন', 'কারনই', 'কারনে', 'কারনেই', 'কারবার', 'কারবারিরা', 'কারর', 'কারসাজি', 'কারা', 'কারাগারস্বরুপ', 'কারাগারে', 'কারাদণ্ড', 'কারি', 'কারিকুলাম', 'কারিগর', 'কারিগরকে', 'কারিগরদের', 'কারিগরি', 'কারিশমায়', 'কারী', 'কারীকে', 'কারীদের', 'কারীর', 'কারুর', 'কারে', 'কারেন', 'কারেনট', 'কারেন্ট', 'কারেন্সি', 'কারেন্সী', 'কারের', 'কারো', 'কারোন', 'কারোর', 'কার্ড', 'কার্ডে', 'কার্মকান্ডে', 'কার্য', 'কার্যকর', 'কার্যকরী', 'কার্যকলাপ', 'কার্যকলাপের', 'কার্যক্রম', 'কার্যক্ষম', 'কার্যালয়', 'কাল', 'কালকে', 'কালকেও', 'কালচার', 'কালচারের', 'কালজয়ী', 'কালভার্টের', 'কালা', 'কালামের', 'কালার', 'কালারই', 'কালি', 'কালে', 'কালের', 'কালো', 'কালোবাজারি', 'কালোবাজারিরদল', 'কালোবাজারীদের', 'কালোহাতকে', 'কাল্পনিক', 'কাশে', 'কাশেম', 'কাশের', 'কাশ্মীর', 'কাস্টমারে', 'কাহাকে', 'কাহিনি', 'কাহিনী', 'কাহিনীটা', 'কাহিনীটায়', 'কাহিনীতে', 'কাহিনীর', 'কাড়ি', 'কায়দা', 'কায়দায়', 'কায়েজ', 'কায়েম', 'কি', 'কিংবদন্তিদের', 'কিংবা', 'কিংব্রিজ', 'কিঅবস্থায়', 'কিআর', 'কিউট', 'কিউবার', 'কিচ্ছা', 'কিচ্ছু', 'কিছু', 'কিছুই', 'কিছুইতে', 'কিছুকে', 'কিছুকেও', 'কিছুক্ষণ', 'কিছুক্ষনের', 'কিছুটা', 'কিছুতে', 'কিছুতেই', 'কিছুদিন', 'কিছুদিনের', 'কিছুনা', 'কিছুর', 'কিছুরই', 'কিজন্য', 'কিনছে', 'কিনতু', 'কিনতে', 'কিনলে', 'কিনা', 'কিনার', 'কিনে', 'কিনেই', 'কিন্ত', 'কিন্তু', 'কিন্তুু', 'কিপিং', 'কিভাবে', 'কিমি', 'কিম্বদন্তী', 'কিয়ামতের', 'কিরে', 'কিলাই', 'কিলাচ্ছে', 'কিলায়', 'কিলার', 'কিলায়', 'কিলো', 'কিলোমিটার', 'কিশোর', 'কিশোরীদের', 'কিসের', 'কিস্তি', 'কিস্তিতে', 'কি়ংবা', 'কিয়ামতের', 'কী', 'কীট', 'কীভাবে', 'কীর্তি', 'কীসের', 'কু', 'কুইক', 'কুওা', 'কুকর্ম', 'কুকর্মের', 'কুকাম', 'কুকুর', 'কুকুরদের', 'কুকুরের', 'কুখ্যাত', 'কুটনৈতিক', 'কুটি', 'কুটুক্তি', 'কুতুকুতু', 'কুত্তা', 'কুত্তাদের', 'কুত্তার', 'কুত্তারা', 'কুদরত', 'কুদ্দুছ', 'কুদ্দুস', 'কুনাগরিক', 'কুনীতির', 'কুনো', 'কুপোকাত', 'কুফল', 'কুফো', 'কুবুদ্ধি', 'কুমড়া', 'কুমির', 'কুমিল্লা', 'কুমিল্লার', 'কুম্ভকর্ণের', 'কুয়া', 'কুয়াএ', 'কুরআন', 'কুরআনের', 'কুরনিশ', 'কুরাজনৈতিক', 'কুরুচিপূর্ণ', 'কুরুচির', 'কুরূচিপূন', 'কুর্নিশ', 'কুলংঘার', 'কুলাংগার', 'কুলাংগারের', 'কুলাঙ্গার', 'কুলাঙ্গারগুলোর', 'কুলাঙ্গারের', 'কুলায়', 'কুলুচিপূর্ণ', 'কুশিক্ষার', 'কুশীলব', 'কুষ্টিয়ার', 'কুসংস্কার', 'কুসংস্কারাচ্ছন্ন', 'কুসন্তান', 'কুৎসিত', 'কুৎসিৎ', 'কুড়িগ্রামের', 'কুয়াকাটা', 'কুয়াকাটায়', 'কৃত', 'কৃতকর্মের', 'কৃতজ্ঞ', 'কৃতজ্ঞতা', 'কৃতজ্ঞতাবোধই', 'কৃতজ্ঞতার', 'কৃতি', 'কৃতিত্ব', 'কৃতী', 'কৃত্রিম', 'কৃপা', 'কৃষক', 'কৃষককে', 'কৃষকদের', 'কৃষকদেরকে', 'কৃষকরা', 'কৃষকের', 'কৃষি', 'কৃষিকে', 'কৃষিখাতের', 'কৃষিটাই', 'কৃষির', 'কে', 'কেঁচোর', 'কেঁদে', 'কেঁদেছিলাম', 'কেঁড়ে', 'কেই', 'কেউ', 'কেউই', 'কেউকে', 'কেউর', 'কেঊ', 'কেও', 'কেজি', 'কেজিতে', 'কেটে', 'কেটেছে', 'কেড়ে', 'কেড়েছে', 'কেন', 'কেনইবা', 'কেননা', 'কেনরে', 'কেনা', 'কেনার', 'কেনায়', 'কেনিয়ার', 'কেনো', 'কেন্দ্র', 'কেন্দ্রবিন্দু', 'কেন্দ্রবিন্দুতে', 'কেন্দ্রিক', 'কেন্দ্রীক', 'কেন্দ্রীয়', 'কেবল', 'কেমন', 'কেমনে', 'কেমিক্যাল', 'কেম্নে', 'কেয়ারটেকার', 'কেরাসিন', 'কেরে', 'কেরোসিনকে', 'কেলিয়া', 'কেল্লাফতে', 'কোটির', 'কোথাও', 'কোন', 'কেড়ে', 'কেয়ামত', 'কেয়ামতের', 'কেয়ার', 'কৈ', 'কৈশোর', 'কৈশোরের', 'কোঃ', 'কোক', 'কোচ', 'কোচটা', 'কোচবিহারের', 'কোচরা', 'কোচিং', 'কোচের', 'কোটা', 'কোটি', 'কোটিতে', 'কোটিপতি', 'কোটির', 'কোড', 'কোণে', 'কোথা', 'কোথাই', 'কোথাও', 'কোথাকার', 'কোথাথেকো', 'কোথায়', 'কোথায়', 'কোথায়ও', 'কোথেকে', 'কোন', 'কোনও', 'কোনটা', 'কোনটার', 'কোনঠাসা', 'কোনদিন', 'কোনদিনই', 'কোনদিনও', 'কোনভাবেই', 'কোনার', 'কোনায়', 'কোনো', 'কোনোকিছুই', 'কোনোদিন', 'কোনোদিনও', 'কোনোদিনি', 'কোনোভাবেই', 'কোনোরকমে', 'কোন্দলে', 'কোপা', 'কোভিট', 'কোমপানির', 'কোমর', 'কোমল', 'কোমলমতি', 'কোম্পানি', 'কোম্পানিকে', 'কোম্পানির', 'কোম্পানী', 'কোম্পানীগঞ্জ', 'কোরআন', 'কোরআনকে', 'কোরআনে', 'কোরআনেও', 'কোরবানির', 'কোরাল', 'কোরাস', 'কোরিয়ার', 'কোরিয়াতে', 'কোর্ট', 'কোর্টে', 'কোল', 'কোলকাতার', 'কোলবালিশ', 'কোলের', 'কোষ্টগার্ঢ', 'কোহলিকে', 'কোহলির', 'কোয়ালিটি', 'কোয়ালিটিফুল', 'কোয়ালিটির', 'কৌটায়', 'কৌঠায়', 'কৌশল', 'কৌশলগত', 'কৌশলী', 'কৌশলে', 'কৌশলের', 'ক্তিগত', 'ক্যমেরায়', 'ক্যাকটাস', 'ক্যাটেগরি', 'ক্যাডাররা', 'ক্যাডারের', 'ক্যাডেটদের', 'ক্যান', 'ক্যানভাস', 'ক্যানসার', 'ক্যান্সার', 'ক্যাপটেন', 'ক্যাপশন', 'ক্যাপাবিলিটিস', 'ক্যাপাসিটি', 'ক্যাপ্টেন', 'ক্যাপ্টেনসি', 'ক্যাপ্টেন্স', 'ক্যাপ্টেন্সি', 'ক্যামনে', 'ক্যামিকেলর', 'ক্যামেরা', 'ক্যামেরাম্যান', 'ক্যামেরাম্যানের', 'ক্যাম্পাসে', 'ক্যারি', 'ক্যারিয়ার', 'ক্যারিয়ার', 'ক্যারিয়ারের', 'ক্যালানী', 'ক্যালিফোর্নিয়া', 'ক্রম', 'ক্রমাগত', 'ক্রমেই', 'ক্রয়', 'ক্রয়ক্ষমতা', 'ক্রয়সীমার', 'ক্রস', 'ক্রসফায়ার', 'ক্রসফায়ারে', 'ক্রসফায়ার', 'ক্রসফায়ারে', 'ক্রাইম', 'ক্রান্তিকাল', 'ক্রান্তিলগ্নে', 'ক্রাশ', 'ক্রাস', 'ক্রিকেট', 'ক্রিকেটকে', 'ক্রিকেটজ্ঞানহীন', 'ক্রিকেটাকে', 'ক্রিকেটার', 'ক্রিকেটারই', 'ক্রিকেটারদের', 'ক্রিকেটাররা', 'ক্রিকেটারা', 'ক্রিকেটারের', 'ক্রিকেটীয়', 'ক্রিকেটে', 'ক্রিকেটেও', 'ক্রিকেটের', 'ক্রিটিকাল', 'ক্রিপ্টো', 'ক্রিমিনাল', 'ক্রিস', 'ক্রিস্টিয়ানো', 'ক্রিয়েশন', 'ক্রীড়া', 'ক্রীড়া', 'ক্রেডিট', 'ক্রেন', 'ক্রেনের', 'ক্রয়', 'ক্রয়ক্ষমতার', 'ক্লাচ', 'ক্লান্ত', 'ক্লাবে', 'ক্লাবের', 'ক্লাস', 'ক্লাসি', 'ক্লাসে', 'ক্লাসের', 'ক্লায়েন্ট', 'ক্লিন', 'ক্লিয়ার', 'ক্লোজ', 'ক্লোজিয়ে', 'ক্ল্যাপস্', 'ক্ল্যাসিক', 'ক্ষণিকের', 'ক্ষত', 'ক্ষতবিক্ষত', 'ক্ষতি', 'ক্ষতিই', 'ক্ষতিকর', 'ক্ষতিগ্রস্ত', 'ক্ষতিগ্রস্তও', 'ক্ষতিতে', 'ক্ষতিপূরণ', 'ক্ষতিপূরণও', 'ক্ষতিপূরণের', 'ক্ষতিপূরন', 'ক্ষতির', 'ক্ষতিয়ে', 'ক্ষন', 'ক্ষমতা', 'ক্ষমতাই', 'ক্ষমতাধর', 'ক্ষমতাধারীদের', 'ক্ষমতাবান', 'ক্ষমতাবানদের', 'ক্ষমতাবানরা', 'ক্ষমতায', 'ক্ষমতায়', 'ক্ষমতার', 'ক্ষমতাশালীই', 'ক্ষমতাশীন', 'ক্ষমতাশীল', 'ক্ষমতাশীলরা', 'ক্ষমতাসীন', 'ক্ষমতাসীনরা', 'ক্ষমতাসীনেরা', 'ক্ষমতায়', 'ক্ষমা', 'ক্ষমাতার', 'ক্ষমাপ্রার্থনা', 'ক্ষয়ক্ষতিতে', 'ক্ষীর', 'ক্ষুণ্ণ', 'ক্ষুদ', 'ক্ষুদ্র', 'ক্ষুধা', 'ক্ষুধার্ত', 'ক্ষুন্ন', 'ক্ষেতে', 'ক্ষেতের', 'ক্ষেত্রে', 'ক্ষেত্রেই', 'ক্ষেত্রেও', 'ক্ষোভ', 'ক্ষোভে', 'ক্ষোভের', 'ক্ষয়ক্ষতির', 'কড়া', 'কড়ায়গণ্ডায়', 'কয়', 'কয়একটা', 'কয়জন', 'কয়জনের', 'কয়টা', 'কয়দিন', 'কয়লা', 'কয়লার', 'কয়েক', 'কয়েকগুন', 'কয়েকজন', 'কয়েকটা', 'কয়েকটি', 'কয়েকদিন', 'কয়েকবছর', 'কয়েকবার', 'কয়েকমাস', 'কয়েকশবার', 'কয়েন', 'কয়েনও', 'খতনা', 'খতিয়ে', 'খনন', 'খনি', 'খনিজ', 'খনিজসম্পদ', 'খনের', 'খপ্পরে', 'খবর', 'খবরই', 'খবরও', 'খবরটা', 'খবরের', 'খবুই', 'খমতা', 'খমা', 'খরগোশ', 'খরচ', 'খরচও', 'খরচাপাতি', 'খরচে', 'খরচের', 'খরব', 'খরা', 'খরুচে', 'খল', 'খা', 'খাঁচার', 'খাঁটি', 'খাঁনের', 'খাই', 'খাইছি', 'খাইছে', 'খাইছো', 'খাইত', 'খাইতাম', 'খাইতে', 'খাইতেছে', 'খাইতো', 'খাইবো', 'খাইয়ে', 'খাইরান', 'খাইলা', 'খাইলে', 'খাইলেই', 'খাইসেরে', 'খাইয়া', 'খাও', 'খাওয়া', 'খাওয়ায়', 'খাওয়ার', 'খাওয়া', 'খাওয়াই', 'খাওয়াটা', 'খাওয়াটাই', 'খাওয়াদাওয়া', 'খাওয়ানো', 'খাওয়ার', 'খাওয়ালে', 'খাওয়ায়', 'খাগড়াছড়ি', 'খাচস্য', 'খাচ্ছি', 'খাচ্ছে', 'খাছ', 'খাজ', 'খাজনা', 'খাজনার', 'খাট', 'খাটানোর', 'খাটাশের', 'খাটি', 'খাটিয়ে', 'খাটে', 'খাটেনা', 'খাটের', 'খাড়াই', 'খাত', 'খাতকে', 'খাতা', 'খাতে', 'খাতেই', 'খাদ', 'খাদ্য', 'খাদ্যও', 'খাদ্যর', 'খাদ্যাভাব', 'খাদ্যে', 'খাদ্যের', 'খান', 'খানকির', 'খানকে', 'খানা', 'খানাতে', 'খানায়', 'খানি', 'খানিক', 'খানিকটা', 'খানিকির', 'খানে', 'খানেক', 'খানের', 'খাব', 'খাবা', 'খাবানা', 'খাবার', 'খাবারে', 'খাবারের', 'খাবে', 'খাবেই', 'খাবেন', 'খাবো', 'খামখেয়ালি', 'খামখেয়ালীর', 'খামার', 'খামারিরা', 'খামোখা', 'খাম্বা', 'খায়', 'খায়না', 'খার', 'খারপ', 'খারাপ', 'খারাপই', 'খারাপি', 'খারাপের', 'খারাবি', 'খাল', 'খালগুলো', 'খালা', 'খালি', 'খালিদ', 'খালির', 'খালু', 'খালেদ', 'খালেদা', 'খালেদার', 'খাড়া', 'খাড়ার', 'খাড়ায়া', 'খায়', 'খায়না', 'খি', 'খিচুড়ি', 'খিদে', 'খিল', 'খুঁজছে', 'খুঁজতে', 'খুঁজা', 'খুঁজি', 'খুঁজে', 'খুঁজেছি', 'খুঁজেন', 'খুঁটি', 'খুচরা', 'খুচাখুচি', 'খুজছিলাম', 'খুজতে', 'খুজবেন', 'খুজি', 'খুজে', 'খুটি', 'খুদলে', 'খুদা', 'খুন', 'খুনি', 'খুনিদের', 'খুনির', 'খুনী', 'খুনীদের', 'খুনীর', 'খুনের', 'খুব', 'খুবই', 'খুবি', 'খুবিই', 'খুবী', 'খুবেই', 'খুলতে', 'খুলবে', 'খুললে', 'খুলা', 'খুলার', 'খুলে', 'খুলেছে', 'খুলেন', 'খুলেফেলে', 'খুলো', 'খুশি', 'খুশিতে', 'খুশির', 'খুশী', 'খেটে', 'খেটেখাওয়া', 'খেত', 'খেতে', 'খেতেই', 'খেপিয়ে', 'খেয়াল', 'খেয়ালই', 'খেয়ে', 'খেয়েছি', 'খেয়েে', 'খেলছে', 'খেলছো', 'খেলতে', 'খেলতেছে', 'খেলনা', 'খেলবে', 'খেলবেন', 'খেলবেনা', 'খেলর', 'খেললে', 'খেললেই', 'খেলা', 'খেলাই', 'খেলাও', 'খেলাটা', 'খেলাটাই', 'খেলাটাকে', 'খেলাপি', 'খেলাপিদের', 'খেলাপীদের', 'খেলাপীরা', 'খেলাফি', 'খেলায়', 'খেলাযোগ', 'খেলার', 'খেলালে', 'খেলায়', 'খেলে', 'খেলেও', 'খেলেছে', 'খেলেছেন', 'খেলেছো', 'খেলেনা', 'খেলেনি', 'খেলো', 'খেলোয়াড়', 'খেলোয়াড়দের', 'খেলোয়াড়রা', 'খেলোয়াড়েরা', 'খেলোয়াল', 'খেলোয়ার', 'খেলোয়াড়', 'খেলোয়াড়দের', 'খেলোয়াড়ের', 'খেলোয়াড়েরা', 'খেসারত', 'খেয়াল', 'খেয়ে', 'খেয়েছি', 'খেয়েছে', 'খোঁচা', 'খোঁজ', 'খোঁজা', 'খোঁজার', 'খোঁজে', 'খোঁড়া', 'খোকার', 'খোজ', 'খোজা', 'খোজেঁ', 'খোটা', 'খোদ', 'খোদাই', 'খোর', 'খোরের', 'খোলসটা', 'খোলা', 'খোলাখুলি', 'খোলার', 'খ্যাতা', 'খ্যাতি', 'খ্যাতিমান', 'খ্রিস্টান', 'খ্রিস্টানরা', 'গ', 'গছায়', 'গজব', 'গজবে', 'গজলের', 'গজাল', 'গজায়', 'গঞ্জে', 'গঠন', 'গঠনমূলক', 'গঠনা', 'গঠনে', 'গডফাদার', 'গড়া', 'গড়াইছে', 'গড়ার', 'গড়িয়ে', 'গড়ে', 'গণ', 'গণআন্দোলনের', 'গণকে', 'গণতন্ত্র', 'গণতন্ত্রই', 'গণতন্ত্রকে', 'গণতন্ত্রপন্থী', 'গণতন্ত্রে', 'গণতন্ত্রের', 'গণতান্ত্রিক', 'গণপরিবহন', 'গণপরিবহনে', 'গণপরিবহনের', 'গণপিটুনির', 'গণবিরোধী', 'গণমাধ্যম', 'গণমাধ্যমও', 'গণমানুষের', 'গণহারে', 'গণ্ডায়', 'গণ্ডি', 'গত', 'গতকাল', 'গতকালই', 'গতকালের', 'গতি', 'গতিতে', 'গতিতেই', 'গতিবেগ', 'গতিবেগের', 'গতির', 'গদগদ', 'গদা', 'গদি', 'গদ্যশৈলীর', 'গন', 'গনঅধিকার', 'গনগন', 'গনতন্ত্র', 'গনতন্ত্রকে', 'গনতন্ত্রিক', 'গনতন্ত্রের', 'গনতান্ত্রিক', 'গনপিটুনি', 'গনবিরোধী', 'গনে', 'গন্ড', 'গন্ডগোল', 'গন্ডায়', 'গন্ডারের', 'গন্তব্য', 'গন্তব্যে', 'গন্ধ', 'গবীর', 'গবেষক', 'গবেষণা', 'গবেষণাগার', 'গবেষণার', 'গবেষনায়', 'গভর্নর', 'গভীর', 'গভীরতম', 'গভীরতা', 'গভীরভাবে', 'গভীরে', 'গম', 'গরছে', 'গরবো', 'গরম', 'গরমে', 'গরমের', 'গরিব', 'গরিবকে', 'গরিবরা', 'গরিবের', 'গরিষ্ঠদের', 'গরীব', 'গরীবদের', 'গরীবদেরকে', 'গরীবরা', 'গরীবের', 'গরীবেরা', 'গরীর', 'গরুর', 'গরেছে', 'গর্জন', 'গর্জে', 'গর্তে', 'গর্দব', 'গর্ধব', 'গর্ব', 'গর্ববোধও', 'গর্বিত', 'গর্বে', 'গর্বের', 'গর্ভধারিনী', 'গর্ভিত', 'গর্ভে', 'গলদ', 'গলা', 'গলাক', 'গলানো', 'গলার', 'গলায়', 'গলে', 'গল্প', 'গল্পঃ', 'গল্পগুলো', 'গল্পটা', 'গল্পে', 'গল্পেই', 'গল্পেও', 'গল্পের', 'গহ্বরে', 'গা', 'গাঁজা', 'গাঁজাখুরি', 'গাঁজাখোর', 'গাঁথুনি', 'গাঁধা', 'গাইছেন', 'গাইতাম', 'গাইতে', 'গাইতেন', 'গাইতো', 'গাইলে', 'গাইলেন', 'গাইলো', 'গাইয়া', 'গাওয়ার', 'গাওয়া', 'গাওয়ার', 'গাওয়ালে', 'গাছ', 'গাছগাছালির', 'গাছতালার', 'গাছে', 'গাছের', 'গাজা', 'গাজার', 'গাজীপুর', 'গাঞ্জা', 'গাঞ্জাখোরদের', 'গাড', 'গাড়ি', 'গাড়িকে', 'গাড়ির', 'গাতক', 'গাথা', 'গাদ্দার', 'গাদ্দারি', 'গাদ্দারী', 'গাধা', 'গাধাগুলা', 'গাধাদের', 'গাধার', 'গান', 'গানই', 'গানকে', 'গানগুলো', 'গানগুলোকে', 'গানগুলোর', 'গানটা', 'গানটাই', 'গানটাকে', 'গানটাতে', 'গানটার', 'গানটায়', 'গানটি', 'গানটিও', 'গানটিকে', 'গানটিতে', 'গানটির', 'গানডা', 'গানরর', 'গানে', 'গানেই', 'গানের', 'গাফিলতি', 'গাফিলতির', 'গাফেলতির', 'গাব', 'গাবে', 'গামিনী', 'গাম্বিয়ার', 'গায়ক', 'গায়কি', 'গায়কী', 'গায়কের', 'গায়ে', 'গারদে', 'গার্ড', 'গার্মেনটসের', 'গার্মেন্টস', 'গার্লফ্রেন্ডের', 'গালাগালি', 'গালাবাজি', 'গালি', 'গালিও', 'গালিগালাজ', 'গালিব', 'গালিবাজরা', 'গালে', 'গাড়লের', 'গাড়ি', 'গাড়িকে', 'গাড়িটা', 'গাড়িতে', 'গাড়িভাড়া', 'গাড়ির', 'গাড়ী', 'গাড়ীতে', 'গাড়ীর', 'গায়ক', 'গায়কী', 'গায়কের', 'গায়ন', 'গায়ে', 'গায়েই', 'গায়েব', 'গায়ের', 'গিটার', 'গিনেজ', 'গিনেস', 'গিফট', 'গিয়ে', 'গিয়েছি', 'গিয়েছে', 'গিয়েছো', 'গিরি', 'গিরিংগী', 'গিলতে', 'গিলে', 'গিয়া', 'গিয়াছে', 'গিয়ার', 'গিয়ে', 'গিয়েও', 'গিয়েছি', 'গিয়েছিল', 'গিয়েছিলাম', 'গিয়েছিলো', 'গিয়েছে', 'গীতি', 'গীতির', 'গু', 'গুঁড়িয়ে', 'গুগল', 'গুছাতে', 'গুছিয়ে', 'গুছিয়ে', 'গুজব', 'গুজবে', 'গুজবের', 'গুজরাট', 'গুটিকয়েক', 'গুণ', 'গুণগত', 'গুণগান', 'গুণমান', 'গুণা', 'গুণাবলি', 'গুণির', 'গুণী', 'গুণীরা', 'গুণের', 'গুতা', 'গুতোগুতি', 'গুদাম', 'গুন', 'গুনতে', 'গুনবে', 'গুনাগার', 'গুনাহ', 'গুনি', 'গুনির', 'গুনী', 'গুনে', 'গুন্ডা', 'গুন্ডাদের', 'গুন্ডামী', 'গুন্ডার', 'গুম', 'গুরতে', 'গুরু', 'গুরুতর', 'গুরুত্ব', 'গুরুত্বপূর্ণ', 'গুরুত্বহীন', 'গুরুত্বহীনভাবে', 'গুলা', 'গুলাই', 'গুলাও', 'গুলাকে', 'গুলার', 'গুলারেও', 'গুলি', 'গুলিই', 'গুলিতে', 'গুলির', 'গুলিস্তান', 'গুলিস্থানের', 'গুলো', 'গুলোই', 'গুলোও', 'গুলোওকি', 'গুলোকে', 'গুলোতে', 'গুলোতেই', 'গুলোর', 'গুলোয়', 'গুষ', 'গুষ্টি', 'গুষ্টিকে', 'গুষ্টির', 'গুড়িয়ে', 'গুয়ামারা', 'গূরূত্বপূর্ণ', 'গূহকর্মীরা', 'গৃহ', 'গৃহকর্মী', 'গৃহকর্মীদের', 'গৃহহীনমুক্ত', 'গে', 'গেঁথে', 'গেইট', 'গেইটে', 'গেইলের', 'গেছ', 'গেছল', 'গেছি', 'গেছিল', 'গেছিলো', 'গেছিস', 'গেছে', 'গেছেন', 'গেছেযদি', 'গেছো', 'গেঞ্জাম', 'গেঞ্জি', 'গেট', 'গেটম্যান', 'গেটাপ', 'গেতাচি', 'গেমসের', 'গেয়েছেন', 'গেল', 'গেলই', 'গেলনা', 'গেলা', 'গেলাম', 'গেলায়', 'গেলি', 'গেলে', 'গেলেই', 'গেলেও', 'গেলেতো', 'গেলেন', 'গেলো', 'গেলো', 'গেলোই', 'গেলোনা', 'গেসিলো', 'গেসেগা', 'গেস্টরুম', 'গোল', 'গেয়ে', 'গেয়েছ', 'গেয়েছে', 'গেয়েছেন', 'গো', 'গোঁজামিল', 'গোঁদের', 'গোওয়ামারা', 'গোচর', 'গোছাতে', 'গোটা', 'গোড়া', 'গোপ', 'গোপন', 'গোপনাঙ্গ', 'গোপনে', 'গোপাল', 'গোপালগঞ্জ', 'গোফে', 'গোবরে', 'গোমড়টা', 'গোমড়া', 'গোয়েন্দা', 'গোরু', 'গোল', 'গোলটা', 'গোলযোগের', 'গোলা', 'গোলাম', 'গোলামি', 'গোলামিকে', 'গোলামী', 'গোল্ড', 'গোল্যায়', 'গোষ্ঠী', 'গোষ্ঠীকে', 'গোষ্ঠীবাদী', 'গোষ্ঠীরা', 'গোসল', 'গোড়া', 'গোয়াইনঘাট', 'গোয়ালঘর', 'গোয়ায়', 'গোয়েন্দা', 'গৌতম', 'গৌরব', 'গৌরবউজ্জল', 'গৌরবের', 'গৌরি', 'গ্যাং', 'গ্যাস', 'গ্যাসে', 'গ্যাসের', 'গ্রন্থ', 'গ্রস্থ', 'গ্রহণ', 'গ্রহণযোগ্য', 'গ্রহণের', 'গ্রহন', 'গ্রহে', 'গ্রাম', 'গ্রামিন', 'গ্রামীণ', 'গ্রামীণফোন', 'গ্রামীন', 'গ্রামে', 'গ্রামের', 'গ্রাস', 'গ্রাহক', 'গ্রাহকদের', 'গ্রাহকরা', 'গ্রিন', 'গ্রীনহাউজ', 'গ্রুপ', 'গ্রুপেও', 'গ্রুপের', 'গ্রেট', 'গ্রেনেট', 'গ্রেনেড', 'গ্রেপ্তার', 'গ্রেফতার', 'গ্রেফতারও', 'গ্রেফতারি', 'গ্রেফতারেই', 'গ্রেফতারের', 'গ্লাস', 'গ্ৰহন', 'গড়', 'গড়তে', 'গড়মিল', 'গড়া', 'গড়াতে', 'গড়ার', 'গড়ি', 'গড়িয়ে', 'গড়ু', 'গড়ে', 'ঘটছে', 'ঘটছেই', 'ঘটত', 'ঘটতে', 'ঘটতেই', 'ঘটতেছে', 'ঘটতো', 'ঘটনা', 'ঘটনাই', 'ঘটনাও', 'ঘটনাকে', 'ঘটনাগুলো', 'ঘটনাগুলোর', 'ঘটনাটি', 'ঘটনাবলী', 'ঘটনায়', 'ঘটনার', 'ঘটনায়', 'ঘটবে', 'ঘটবেই', 'ঘটলে', 'ঘটলেও', 'ঘটাই', 'ঘটাতে', 'ঘটানোর', 'ঘটার', 'ঘটালে', 'ঘটালেন', 'ঘটিয়েছে', 'ঘটিয়ে', 'ঘটিয়েছে', 'ঘটুক', 'ঘটে', 'ঘটেছে', 'ঘটেনা', 'ঘড়', 'ঘণ্টা', 'ঘন', 'ঘনঘন', 'ঘনবসতির', 'ঘনিয়ে', 'ঘন্টা', 'ঘন্টার', 'ঘন্টায়', 'ঘর', 'ঘরকরুক', 'ঘরকে', 'ঘরছাড়া', 'ঘরণার', 'ঘরবাড়ি', 'ঘরভর্তি', 'ঘরভাড়ার', 'ঘরভাড়ায়', 'ঘরমুখো', 'ঘরে', 'ঘরের', 'ঘরোয়া', 'ঘা', 'ঘাঁটি', 'ঘাট', 'ঘাটতি', 'ঘাটে', 'ঘাড়ে', 'ঘাতক', 'ঘাতি', 'ঘাবড়ে', 'ঘাম', 'ঘামাতেই', 'ঘামানো', 'ঘামে', 'ঘামের', 'ঘার', 'ঘাস', 'ঘাসে', 'ঘাড়', 'ঘাড়ে', 'ঘি', 'ঘিলু', 'ঘুঘু', 'ঘুড়তে', 'ঘুম', 'ঘুমন্ত', 'ঘুমাইছিলাম', 'ঘুমাইতাম', 'ঘুমাইয়া', 'ঘুমাও', 'ঘুমাতে', 'ঘুমানোর', 'ঘুমাবে', 'ঘুমায়', 'ঘুমিয়ে', 'ঘুমিয়ে', 'ঘুমে', 'ঘুমের', 'ঘুমোতে', 'ঘুরতে', 'ঘুরতেছি', 'ঘুরনিয়মান', 'ঘুরবে', 'ঘুরা', 'ঘুরার', 'ঘুরিয়ে', 'ঘুরে', 'ঘুরেফিরে', 'ঘুশখোর', 'ঘুশের', 'ঘুষ', 'ঘুষখুরদের', 'ঘুষখোর', 'ঘুস', 'ঘৃণা', 'ঘৃণাতে', 'ঘৃণার', 'ঘৃণাসূচক', 'ঘৃণিত', 'ঘৃণ্য', 'ঘৃনা', 'ঘৃনিত', 'ঘেটু', 'ঘেন্না', 'ঘেরাও', 'ঘোষণা', 'ঘোড়া', 'ঘোড়ার', 'ঘোর', 'ঘোরাঘুরি', 'ঘোরে', 'ঘোলা', 'ঘোলাটে', 'ঘোষণা', 'ঘোষনা', 'ঘোড়ার', 'ঘ্রাণ', 'ঘ্রান', 'ঘড়িতে', 'ঘড়ির', 'চ', 'চকবাজার', 'চকবাজারে', 'চক্রান্ত', 'চক্রান্তে', 'চক্রান্তের', 'চঞ্চল', 'চটের', 'চট্টগ্রাম', 'চট্টগ্রামে', 'চট্টগ্রামের', 'চট্রগ্রাম', 'চড়া', 'চত্বরে', 'চত্রুান্তকারি', 'চন্দ্রগুপ্তের', 'চপ', 'চপেটাঘাত', 'চমক', 'চমকপ্রদ', 'চমেৎকার', 'চমৎকার', 'চর', 'চরণে', 'চরদিকে', 'চরম', 'চরমপন্থী', 'চরমভাবে', 'চরমে', 'চরিতার্থ', 'চরিত্র', 'চরিত্রকে', 'চরিত্রহীন', 'চরিত্রে', 'চরিত্রের', 'চরিেত্রর', 'চর্চা', 'চর্চাতে', 'চর্চার', 'চর্বি', 'চর্বির', 'চল', 'চলচিত্র', 'চলচিত্রকে', 'চলচিত্রে', 'চলচ্চিত্র', 'চলচ্চিত্রের', 'চলছি', 'চলছে', 'চলছেই', 'চলত', 'চলতে', 'চলতেই', 'চলতেছে', 'চলতো', 'চলন্ত', 'চলবে', 'চলবেই', 'চলবেও', 'চলবো', 'চলমান', 'চললে', 'চললেও', 'চলা', 'চলাইতেছে', 'চলাকালীন', 'চলাচল', 'চলাচলে', 'চলাচলের', 'চলাফেরা', 'চলার', 'চলি', 'চলুক', 'চলুন', 'চলে', 'চলেছিলাম', 'চলেছে', 'চলেছেন', 'চলেনা', 'চলো', 'চল্লে', 'চশমা', 'চশমাটা', 'চা', 'চাঁদ', 'চাঁদকে', 'চাঁদা', 'চাঁদাবাজদের', 'চাঁদাবাজি', 'চাঁদাবাজির', 'চাঁদাবাজী', 'চাঁদাবাজীর', 'চাঁদে', 'চাঁদের', 'চাঁপাবাজ', 'চাই', 'চাইছিলাম', 'চাইছে', 'চাইছেন', 'চাইছেনা', 'চাইতাছে', 'চাইতে', 'চাইতেও', 'চাইতেছে', 'চাইতো', 'চাইনা', 'চাইব', 'চাইবে', 'চাইবেন', 'চাইবো', 'চাইবোনা', 'চাইলে', 'চাইলেই', 'চাইলেও', 'চাইলেন', 'চাউল', 'চাউলের', 'চাও', 'চাওয়া', 'চাওয়াটাই', 'চাওয়া', 'চাওয়ার', 'চাকচিক্য', 'চাকর', 'চাকরি', 'চাকরিজীবি', 'চাকরিজীবির', 'চাকরিজীবী', 'চাকরিজীবীদের', 'চাকরিজীবীর', 'চাকরিতে', 'চাকরির', 'চাকরী', 'চাকা', 'চাকুরি', 'চাকুরিজীবিদের', 'চাকুরিজীবির', 'চাকুরিজীবীদের', 'চাকুরী', 'চাকুরীই', 'চাকুরীজীবি', 'চাকুরীজীবিদের', 'চাকুরীজীবীদের', 'চাগলের', 'চাঙা', 'চাঙ্গা', 'চাচা', 'চাচ্ছিলো', 'চাচ্ছে', 'চাচ্ছেন', 'চাটা', 'চাটাচাটি', 'চাটার', 'চাটুকার', 'চাটুকারিতা', 'চাটুকারেরা', 'চাটুরে', 'চাতক', 'চান', 'চান্দা', 'চাপ', 'চাপা', 'চাপাচাপি', 'চাপাতি', 'চাপানো', 'চাপাবাজি', 'চাপাবাজীতে', 'চাপাবাজীর', 'চাপালে', 'চাপায়', 'চাপিয়ে', 'চাপিয়ে', 'চাপে', 'চাপের', 'চাবাইয়া', 'চাবি', 'চামচা', 'চামচাদের', 'চামচামি', 'চামচামিতে', 'চামচার', 'চামড়া', 'চামসা', 'চামুণ্ডা', 'চামড়া', 'চায়', 'চায়না', 'চায়ের', 'চার', 'চারটা', 'চারদিকে', 'চারদিকেই', 'চারদিন', 'চারপাশে', 'চারবার', 'চারা', 'চারিত্রিক', 'চারিত্রীক', 'চারিদিকে', 'চারিপাশে', 'চারুকলা', 'চারুকলায়', 'চারো', 'চার্জ', 'চাল', 'চালক', 'চালকদের', 'চালকের', 'চালছে', 'চালনা', 'চালবাজিতে', 'চালাই', 'চালাইছে', 'চালাইতে', 'চালাক', 'চালাকি', 'চালাচ্ছি', 'চালাচ্ছিল', 'চালাচ্ছিলো', 'চালাচ্ছে', 'চালাচ্ছেন', 'চালাতে', 'চালান', 'চালানকারী', 'চালানো', 'চালানোর', 'চালাবে', 'চালাবো', 'চালায়', 'চালালে', 'চালাস', 'চালায়', 'চালিত', 'চালিয়ে', 'চালিয়ে', 'চালিয়েছে', 'চালু', 'চালুর', 'চালের', 'চাষ', 'চাষাবাদে', 'চাষে', 'চাহনি', 'চাহিদা', 'চাহিদাকে', 'চাহিয়া', 'চায়', 'চায়তেও', 'চায়না', 'চায়নাও', 'চায়নাকে', 'চায়ের', 'চিকিৎসা', 'চিকিৎসার', 'চিটার', 'চিটারি', 'চিটিং', 'চিড়িয়াখানাগুলোকেও', 'চিতকার', 'চিতিয়ে', 'চিত্ত', 'চিত্র', 'চিত্রকর্মী', 'চিন', 'চিনচিনে', 'চিনতে', 'চিনতেও', 'চিনবে', 'চিনি', 'চিনে', 'চিনেন', 'চিনের', 'চিন্তা', 'চিন্তাই', 'চিন্তাও', 'চিন্তাকে', 'চিন্তাভাবনা', 'চিন্তামুক্ত', 'চিন্তায়', 'চিন্তার', 'চিন্তাশীলদের', 'চিন্তায়', 'চিন্তিত', 'চিন্তে', 'চিপায়', 'চির', 'চিরকাল', 'চিরকৃতজ্ঞ', 'চিরচেনা', 'চিরজীবন', 'চিরঞ্জীব', 'চিরতরে', 'চিরদিন', 'চিরদিনের', 'চিরন্তন', 'চিরস্থায়ী', 'চিরস্থায়ী', 'চিরিয়াখানায়', 'চিলতে', 'চিলে', 'চিল্লাইয়া', 'চিল্লাচিল্লি', 'চিল্লানি', 'চিল্লায়া', 'চিহ্নিত', 'চিৎকার', 'চিড়িয়াখানায়', 'চীন', 'চীনই', 'চীনও', 'চীনকে', 'চীনা', 'চীনাপন্য', 'চীনে', 'চীনের', 'চুকে', 'চুক্তি', 'চুক্তিবদ্ধ', 'চুক্তির', 'চুতিয়া', 'চুদাও', 'চুদির', 'চুপ', 'চুপচাপ', 'চুবানি', 'চুম্বি', 'চুরমার', 'চুরা', 'চুরি', 'চুরিতে', 'চুরির', 'চুরে', 'চুরের', 'চুল', 'চুলকাইতে', 'চুলকানি', 'চুলের', 'চুল্লি', 'চুল্লির', 'চুষবে', 'চুষা', 'চুষে', 'চুসনাকি', 'চুসে', 'চুড়ান্ত', 'চুড়ি', 'চূর্ণবিচূর্ণ', 'চে', 'চেঁচামেচি', 'চেঁচামেচির', 'চেইঞ্জ', 'চেইন', 'চেক', 'চেকার', 'চেচরামী', 'চেঞ্জ', 'চেটে', 'চেতনা', 'চেতনাখোর', 'চেতনাদারী', 'চেতনাবাজরা', 'চেতনায়', 'চেতনার', 'চেতনায়', 'চেন', 'চেনা', 'চেনে', 'চেন্জ', 'চেন্নাইয়ের', 'চেপে', 'চেয়ার', 'চেয়ারে', 'চেয়ে', 'চেয়েও', 'চেয়েছিলেন', 'চেয়েছেন', 'চেলচেলাইয়া', 'চেলা', 'চেষ্টা', 'চেষ্টাই', 'চেষ্টার', 'চেষ্টায়', 'চেহারা', 'চেহারাটা', 'চেহারার', 'চেহেরাটা', 'চেয়ার', 'চেয়ারম্যান', 'চেয়ে', 'চেয়েও', 'চেয়েছি', 'চেয়েছিলাম', 'চেয়েছিলেন', 'চেয়েছে', 'চোখ', 'চোখকান', 'চোখগুলোও', 'চোখটা', 'চোখশূল', 'চোখা', 'চোখে', 'চোখের', 'চোট', 'চোট্টামিতে', 'চোদা', 'চোদোন', 'চোপড়', 'চোর', 'চোরকে', 'চোরদের', 'চোরা', 'চোরাই', 'চোরাকারবারি', 'চোরাকারবারিরা', 'চোরাগোপ্তা', 'চোরাদের', 'চোরালীগ', 'চোরি', 'চোরে', 'চোরেদের', 'চোরের', 'চোরেরা', 'চোরেরাও', 'চোষা', 'চৌকিদার', 'চৌদ্দ', 'চৌধুরী', 'চৌর্যবৃত্তির', 'চ্যানেল', 'চ্যানেলে', 'চ্যাম্পিয়ন', 'চ্যালেঞ্জ', 'চড়াইতে', 'চড়ার', 'চড়ে', 'চয়ন', 'ছকের', 'ছক্কা', 'ছগলগুলারে', 'ছড়ায়', 'ছড়িয়ে', 'ছন্দ', 'ছন্দের', 'ছবি', 'ছবিই', 'ছবিগুলা', 'ছবিটা', 'ছবিটি', 'ছবিটিতে', 'ছবিতে', 'ছবির', 'ছবিসহ', 'ছলছাতুরির', 'ছলনা', 'ছাঁদ', 'ছাই', 'ছাইড়া', 'ছাএ', 'ছাএলীগকে', 'ছাগল', 'ছাগলদের', 'ছাগলামি', 'ছাগলামী', 'ছাগলে', 'ছাগলের', 'ছাট', 'ছাড়', 'ছাড়ছে', 'ছাড়তাম', 'ছাড়ব', 'ছাড়বে', 'ছাড়া', 'ছাড়াও', 'ছাড়িয়ে', 'ছাড়ে', 'ছাতার', 'ছাত্র', 'ছাত্রছাত্রী', 'ছাত্রদলের', 'ছাত্রদের', 'ছাত্ররা', 'ছাত্ররাজনীতি', 'ছাত্ররাজনীতির', 'ছাত্রলীগ', 'ছাত্রলীগকে', 'ছাত্রলীগে', 'ছাত্রলীগের', 'ছাত্রাবাস', 'ছাত্রাবাসে', 'ছাত্রিরা', 'ছাত্রী', 'ছাত্রীও', 'ছাত্রীদের', 'ছাত্রীরা', 'ছাত্রের', 'ছাদ', 'ছাদের', 'ছাপ', 'ছাপা', 'ছাপাও', 'ছাপাতে', 'ছাপানো', 'ছাপানোর', 'ছাপায়', 'ছাপিয়ে', 'ছাপিয়ে', 'ছায়া', 'ছারখার', 'ছারবে', 'ছারা', 'ছারুন', 'ছালনাই', 'ছালাম', 'ছাড়', 'ছাড়ছি', 'ছাড়ছে', 'ছাড়তে', 'ছাড়বে', 'ছাড়া', 'ছাড়াই', 'ছাড়াও', 'ছাড়াতে', 'ছাড়ান', 'ছাড়িয়ে', 'ছাড়ে', 'ছায়া', 'ছায়াছবির', 'ছায়াতলে', 'ছায়ায়', 'ছি', 'ছিঃ', 'ছিছিছি', 'ছিটকে', 'ছিড়বো', 'ছিদ্র', 'ছিনতাই', 'ছিনতাইকারী', 'ছিনতাইয়ের', 'ছিনিবিনি', 'ছিনিমিনি', 'ছিনিয়ে', 'ছিরদিন', 'ছিরে', 'ছিল', 'ছিলনা', 'ছিলযখন', 'ছিলরে', 'ছিলা', 'ছিলাম', 'ছিলায়ে', 'ছিলি', 'ছিলেন', 'ছিলো', 'ছিলোই', 'ছিলোনা', 'ছিহ্', 'ছিড়', 'ছিড়ে', 'ছুঁতে', 'ছুঁতেও', 'ছুঁয়ে', 'ছুঁয়ে', 'ছুটছে', 'ছুটি', 'ছুটিতে', 'ছুটির', 'ছুটে', 'ছুতে', 'ছুয়ে', 'ছুয়েছে', 'ছে', 'ছেকা', 'ছেড়া', 'ছেড়ার', 'ছেড়ে', 'ছেরে', 'ছেলে', 'ছেলেই', 'ছেলেও', 'ছেলেকে', 'ছেলেগুলা', 'ছেলেটা', 'ছেলেটাকে', 'ছেলেটার', 'ছেলেটি', 'ছেলেটিকে', 'ছেলেদের', 'ছেলেমানুষী', 'ছেলেমেয়েদের', 'ছেলের', 'ছেলেরা', 'ছেড়া', 'ছেড়ে', 'ছেড়েই', 'ছেয়ে', 'ছোঁয়া', 'ছোঁয়া', 'ছোঁয়ায়', 'ছোট', 'ছোটকাল', 'ছোটখাটো', 'ছোটদের', 'ছোটবেলা', 'ছোটবেলায়', 'ছোটবেলার', 'ছোটবেলায়', 'ছোটমণি', 'ছোটলোক', 'ছোটলোকি', 'ছোটলোকের', 'ছোটো', 'ছোটোখাটো', 'ছোট্ট', 'ছোবড়া', 'ছোরা', 'ছোলেটাকে', 'ছোয়া', 'ছোয়ার', 'ছ্যাঁচড়া', 'ছ্যাছড়ামী', 'ছড়াচ্ছে', 'ছড়াছড়ি', 'ছড়ানো', 'ছড়াবেন', 'ছড়াস', 'ছড়ায়', 'ছড়ায়ে', 'ছড়িয়ে', 'ছয়', 'জংগি', 'জংগী', 'জংলি', 'জগতে', 'জগতের', 'জগন্য', 'জগাখিচুরি', 'জগৎ', 'জঘন্য', 'জঘন্যতম', 'জঙলি', 'জঙ্গলে', 'জঙ্গলেও', 'জঙ্গি', 'জঙ্গিবাদ', 'জঙ্গী', 'জঙ্গীকে', 'জজ', 'জটিল', 'জটিলতা', 'জঠিল', 'জড়িত', 'জড়ো', 'জণগণ', 'জণগণের', 'জদি', 'জন', 'জনই', 'জনক', 'জনকল্যাণের', 'জনকে', 'জনগ', 'জনগণ', 'জনগণও', 'জনগণকে', 'জনগণনের', 'জনগণের', 'জনগন', 'জনগনও', 'জনগনকে', 'জনগনের', 'জনগুষ্ঠির', 'জনগোষ্ঠী', 'জনগোষ্ঠীদের', 'জনগোষ্ঠীর', 'জনজীবন', 'জনজীবনে', 'জনতা', 'জনতার', 'জনদরদী', 'জনদাবী', 'জনদের', 'জননী', 'জননেত্রী', 'জনপদে', 'জনপ্রতিনিধি', 'জনপ্রিয়', 'জনপ্রিয়তা', 'জনপ্রিয়', 'জনপ্রিয়তা', 'জনপ্রিয়তার', 'জনবল', 'জনবসতি', 'জনবহুল', 'জনবান্ধন', 'জনবান্ধব', 'জনমনে', 'জনমানুষকে', 'জনলে', 'জনসংখ্যা', 'জনসংখ্যার', 'জনসচেতনতা', 'জনসভায়', 'জনসম্মুখে', 'জনসাধারণের', 'জনস্রোতে', 'জনাব', 'জনি', 'জনিত', 'জনের', 'জনেরও', 'জন্তুকে', 'জন্তুজানোয়ার', 'জন্তুর', 'জন্ম', 'জন্মই', 'জন্মগত', 'জন্মগ্রহণ', 'জন্মদাতা', 'জন্মনেওয়া', 'জন্মভুমি', 'জন্মভূমি', 'জন্মান্তরেও', 'জন্মাবে', 'জন্মায়', 'জন্মারা', 'জন্মালে', 'জন্মায়', 'জন্মে', 'জন্মেছি', 'জন্মের', 'জন্য', 'জন্যই', 'জন্যইতো', 'জন্যও', 'জন্যজনপ্রতিনিধিরা', 'জন্যে', 'জন্যেই', 'জন্যেও', 'জপে', 'জপেন', 'জব', 'জবরদস্তি', 'জবান', 'জবাব', 'জবাবদিহি', 'জবাবদিহিতা', 'জবাবদিহিতামূলক', 'জবাবদিহিতার', 'জবাবদিহিহীনতার', 'জবাবদিহী', 'জব্দ', 'জব্বার', 'জমজ', 'জমজমাট', 'জমজমানো', 'জমা', 'জমাই', 'জমাতে', 'জমায়', 'জমায়েতের', 'জমি', 'জমিতে', 'জমিদারি', 'জমিন', 'জমে', 'জম্মভূমি', 'জয়', 'জয়ডঙ্কা', 'জয়ী', 'জয়ের', 'জরায়', 'জরিপ', 'জরিপানা', 'জরিমানা', 'জরুরি', 'জরুরী', 'জরূরী', 'জর্জরিত', 'জল', 'জলও', 'জলতে', 'জলদি', 'জলন্ত', 'জলবায়ু', 'জলবায়ু', 'জলবায়ুর', 'জলবে', 'জলসা', 'জলসার', 'জলাঞ্জলি', 'জলিল', 'জলিলকে', 'জলিলের', 'জলুম', 'জলে', 'জা', 'জাইকা', 'জাইগা', 'জাইতাম', 'জাইতে', 'জাক', 'জাগছে', 'জাগবে', 'জাগলেও', 'জাগানো', 'জাগায়', 'জাগিয়েছিল', 'জাগিয়ে', 'জাগে', 'জাগ্রত', 'জাঙ্গিয়া', 'জাচছেন', 'জাচ্ছি', 'জাত', 'জাতকে', 'জাতাকলে', 'জাতি', 'জাতিই', 'জাতিকে', 'জাতিগত', 'জাতিটা', 'জাতিটাকে', 'জাতির', 'জাতিসংঘ', 'জাতিসংঘের', 'জাতিসত্ত্বাকে', 'জাতিয়', 'জাতী', 'জাতীয়', 'জাতীয়তা', 'জাতীর', 'জাতীয়', 'জাতে', 'জাতেই', 'জাতের', 'জাদু', 'জাদুঘরে', 'জাদুঘরেও', 'জাদুঘরের', 'জান', 'জানগণের', 'জানত', 'জানতাম', 'জানতামনা', 'জানতে', 'জানতেই', 'জানতেও', 'জানতেন', 'জানতো', 'জানতোও', 'জানবে', 'জানবেন', 'জানমাল', 'জানযট', 'জানলাম', 'জানলে', 'জানলো', 'জানা', 'জানাই', 'জানাইয়া', 'জানাচ্ছি', 'জানাচ্ছে', 'জানাতে', 'জানান', 'জানানো', 'জানানোর', 'জানাবে', 'জানাবেন', 'জানামতে', 'জানায়', 'জানায়ই', 'জানার', 'জানালা', 'জানালার', 'জানায়', 'জানি', 'জানিনা', 'জানিয়ে', 'জানিয়া', 'জানিয়ে', 'জানিয়েছিল', 'জানিয়েছে', 'জানে', 'জানেই', 'জানেও', 'জানেন', 'জানেনা', 'জানোয়ার', 'জানো', 'জানোয়ার', 'জানোয়ারগুলোকে', 'জানোয়ার', 'জানোয়ারদের', 'জানোয়াররকে', 'জানোয়ারের', 'জানোয়ারেরা', 'জান্তা', 'জান্নাত', 'জান্নাতবাসিনী', 'জান্নাতবাসী', 'জান্নাতি', 'জান্নাতুল', 'জান্নাতে', 'জান্নাতের', 'জাপান', 'জাপানের', 'জাফর', 'জাবেন', 'জাবো', 'জামা', 'জামাই', 'জামাইকে', 'জামাইয়ের', 'জামাত', 'জামাতকে', 'জামাতের', 'জামানায়', 'জামায়াত', 'জামিন', 'জামিলুর', 'জায়গা', 'জায়গাগুলো', 'জায়গাটা', 'জায়গাটায়', 'জায়গাতে', 'জায়গাতেই', 'জায়গায়', 'জায়গার', 'জায়েদ', 'জাযাকাল্লাহু', 'জার', 'জারজ', 'জারস', 'জারা', 'জারাই', 'জারি', 'জার্মানি', 'জার্মানিতে', 'জার্মানির', 'জার্সিটা', 'জাল', 'জালাই', 'জালানি', 'জালানী', 'জালালি', 'জালায়', 'জালি', 'জালিম', 'জালিমদের', 'জালিমের', 'জালিমেরা', 'জালিয়াতি', 'জালিয়াতির', 'জালিয়ে', 'জালে', 'জালেই', 'জালেম', 'জালেমদের', 'জালেমরা', 'জালেমের', 'জাষ্ট', 'জাস', 'জাস্ট', 'জাহাজ', 'জাহাজের', 'জাহান্নাম', 'জাহান্নামে', 'জাহান্নামের', 'জাহির', 'জায়', 'জায়গা', 'জায়গাও', 'জায়গাটা', 'জায়গাটাকে', 'জায়গাটায়', 'জায়গাটি', 'জায়গাতে', 'জায়গার', 'জায়গায়', 'জায়গায়তেই', 'জায়ান্ট', 'জায়েদ', 'জায়েদকে', 'জি', 'জিকির', 'জিজ্ঞাসা', 'জিজ্ঞেস', 'জিত', 'জিততা', 'জিততে', 'জিতব', 'জিতবে', 'জিতবো', 'জিতলে', 'জিতলেও', 'জিতানোর', 'জিতার', 'জিতিয়ে', 'জিতু', 'জিতে', 'জিতেছে', 'জিতেছো', 'জিনিষ', 'জিনিস', 'জিনিসই', 'জিনিসকে', 'জিনিসগুলো', 'জিনিসটা', 'জিনিসটার', 'জিনিসপত্র', 'জিনিসপত্রের', 'জিনিসের', 'জিন্দাবাদ', 'জিন্নাহ', 'জিপি', 'জিবনটা', 'জিবনে', 'জিবনের', 'জিবন্ত', 'জিবিত', 'জিবীরা', 'জিভে', 'জিমি', 'জিম্বাবুয়ে', 'জিম্বাবুয়েকে', 'জিম্বাবুয়ের', 'জিম্বাবুয়ে', 'জিম্বাবুয়েই', 'জিম্বাবুয়ের', 'জিম্মি', 'জিয়া', 'জির', 'জিহাদ', 'জিহ্বা', 'জিয়া', 'জিয়াউর', 'জিয়ার', 'জী', 'জীব', 'জীবজন্তুর', 'জীবদ্দশায়', 'জীবন', 'জীবনকে', 'জীবনটা', 'জীবনটাই', 'জীবনধারণ', 'জীবনমুখী', 'জীবনযাত্রা', 'জীবনযাত্রার', 'জীবনযাপন', 'জীবনযাপনের', 'জীবনে', 'জীবনেও', 'জীবনের', 'জীবনেরই', 'জীবন্ত', 'জীবি', 'জীবিকার', 'জীবিত', 'জীবিদের', 'জীবিরা', 'জীবীকার', 'জীবে', 'জুগ', 'জুটি', 'জুটিকে', 'জুটির', 'জুড়াই', 'জুড়ানো', 'জুড়িয়ে', 'জুড়ে', 'জুড়েই', 'জুতা', 'জুতাপেটা', 'জুতার', 'জুন', 'জুনকে', 'জুনিয়র', 'জুনিয়র', 'জুনিয়ররা', 'জুয়া', 'জুয়াড়ি', 'জুয়ার', 'জুরায়', 'জুরি', 'জুরিয়ে', 'জুলফিকার', 'জুলুম', 'জুলুমকারীদের', 'জুলুমবাজ', 'জুলুমবাজি', 'জুলুমের', 'জুড়ানো', 'জুড়ি', 'জুড়িয়ে', 'জুড়ে', 'জুয়া', 'জুয়ারি', 'জুয়াড়ি', 'জে', 'জেগে', 'জেতা', 'জেতার', 'জেনারেটর', 'জেনারেল', 'জেনারেলের', 'জেনারেশন', 'জেনারেশনের', 'জেনে', 'জেনেই', 'জেনেছিলাম', 'জেনেভা', 'জেনেশুনে', 'জেনেশুনেই', 'জেনো', 'জেন্টেল', 'জেবি', 'জেভাবে', 'জেমস', 'জেমসের', 'জেমি', 'জের', 'জেল', 'জেলখানা', 'জেলখানায়', 'জেলা', 'জেলাই', 'জেলাকে', 'জেলায়', 'জেলার', 'জেলায়', 'জেলে', 'জেলেনেস্কি', 'জেলেন্সকি', 'জৈন্তাপুরে', 'জৈব', 'জোঁকের', 'জোকস', 'জোকারী', 'জোক্স', 'জোগায়', 'জোগ্যতা', 'জোট', 'জোটে', 'জোটের', 'জোড়াতালি', 'জোড়াতালির', 'জোড়ার', 'জোয়ারের', 'জোর', 'জোরদার', 'জোরপূর্বক', 'জোরালো', 'জোরে', 'জোশ', 'জোষ্ঠ', 'জোস', 'জোড়াতালি', 'জোড়ে', 'জোয়ার', 'জোয়ারে', 'জ্ঞান', 'জ্ঞানপাপী', 'জ্ঞানপাপীদের', 'জ্ঞানহীন', 'জ্ঞানী', 'জ্ঞানীদের', 'জ্ঞানের', 'জ্ঞাপন', 'জ্ন্য', 'জ্বর', 'জ্বরে', 'জ্বলছে', 'জ্বলতো', 'জ্বলে', 'জ্বালা', 'জ্বালাও', 'জ্বালাচ্ছে', 'জ্বালাতে', 'জ্বালানি', 'জ্বালানির', 'জ্বালানী', 'জ্বালানীর', 'জ্বালানো', 'জ্বালায়', 'জ্বালায়ে', 'জ্বালিয়ে', 'জ্বালিয়ে', 'জ্বি', 'জ্যাজ', 'জ্যাম', 'জ্যামের', 'জ্যোতিষ', 'জ্যোৎস্না', 'জড়ানো', 'জড়ালে', 'জড়িত', 'জড়িয়ে', 'জয়', 'জয়কেই', 'জয়জয়কার', 'জয়টা', 'জয়তু', 'জয়বাংলা', 'জয়ী', 'জয়ে', 'ঝংকার', 'ঝগড়া', 'ঝগড়ার', 'ঝড়ে', 'ঝরানো', 'ঝরানোর', 'ঝরিয়েছে', 'ঝরিয়েছে', 'ঝরে', 'ঝরেছিলো', 'ঝলকানি', 'ঝলমলে', 'ঝাঁক', 'ঝাঁকে', 'ঝাঁজ', 'ঝাঁজরা', 'ঝাক', 'ঝাকাতে', 'ঝাকুনিতে', 'ঝাজে', 'ঝাড়ু', 'ঝামেলা', 'ঝামেলার', 'ঝামেলায়', 'ঝাড়ু', 'ঝুঁকি', 'ঝুঁকিপূর্ণ', 'ঝুঁকিপূর্ন', 'ঝুঁকির', 'ঝুকি', 'ঝুকিপুরনো', 'ঝুকিপূর্ণ', 'ঝুলানো', 'ঝুলিয়ে', 'ঝুলে', 'ঝোলানো', 'ঝোলানোর', 'ঝোড়', 'ঝড়', 'ঝড়তেছে', 'ঝড়ে', 'ঝড়ের', 'ঞ্জা', 'টং', 'টক', 'টকশো', 'টনক', 'টনিক', 'টর্চার', 'টা', 'টাংগুয়ার', 'টাই', 'টাইগার', 'টাইগারদের', 'টাইগার্স', 'টাইট', 'টাইতো', 'টাইপের', 'টাইম', 'টাইমে', 'টাও', 'টাকলা', 'টাকলার', 'টাকা', 'টাকাই', 'টাকাও', 'টাকাকে', 'টাকাগুলা', 'টাকাগুলো', 'টাকাটা', 'টাকাটাই', 'টাকাতে', 'টাকাপয়সা', 'টাকাপয়সা', 'টাকাবিহীন', 'টাকায়', 'টাকায়পাঠাবো', 'টাকার', 'টাকারও', 'টাকায়', 'টাকে', 'টাকেও', 'টাঙিয়ে', 'টাঙ্গাইল', 'টাঙ্গাইলে', 'টাঙ্গিয়ে', 'টাচ', 'টাতে', 'টাতো', 'টান', 'টানটান', 'টানা', 'টানাটানি', 'টানার', 'টানাহেঁচড়া', 'টানে', 'টানেই', 'টার', 'টারবাইনের', 'টারে', 'টার্কি', 'টার্গেট', 'টার্মিনাল', 'টায়', 'টায়ার্ডনেস', 'টি', 'টিউশনের', 'টিএসসি', 'টিক', 'টিকটক', 'টিকটককে', 'টিকটকে', 'টিকটকের', 'টিকটিক', 'টিকটিকদের', 'টিকতে', 'টিকা', 'টিকাতে', 'টিকার', 'টিকালোর', 'টিকিট', 'টিকিটে', 'টিকিটের', 'টিকিয়ে', 'টিকে', 'টিকেও', 'টিকেট', 'টিকেটের', 'টিনের', 'টিপ', 'টিপে', 'টিফিন', 'টিভি', 'টিম', 'টিমকে', 'টিমে', 'টিমেও', 'টিমের', 'টি২০', 'টি২০তে', 'টীমে', 'টু', 'টুইস্ট', 'টুকরা', 'টুকরো', 'টুকা', 'টুকু', 'টুকুই', 'টুকুও', 'টুপি', 'টুর', 'টুরিস্ট', 'টুরিস্টদের', 'টুর্নামেন্ট', 'টুস', 'টুয়েন্টি', 'টে', 'টেইক', 'টেইলার', 'টেও', 'টেক', 'টেকওয়ে', 'টেকনিক', 'টেকনিক্যাল', 'টেকনিশিয়ানদেরকে', 'টেকসই', 'টেকানো', 'টেক্স', 'টেনশন', 'টেনশনে', 'টেনশনের', 'টেনে', 'টেবিলে', 'টেম', 'টের', 'টেরও', 'টেলিটক', 'টেলিভিশন', 'টেষ্ট', 'টেস্ট', 'টেস্টে', 'টেহা', 'টোকাই', 'টোয়েন্টিতে', 'টোয়েন্টির', 'টোল', 'টোলের', 'ট্যাক্স', 'ট্যাক্সের', 'ট্যাবলেট', 'ট্যারা', 'ট্যালেন্ট', 'ট্যালেন্টেড', 'ট্যুর', 'ট্যুরের', 'ট্র', 'ট্রফি', 'ট্রফিটা', 'ট্রল', 'ট্রলারে', 'ট্রাক', 'ট্রাকও', 'ট্রাকটি', 'ট্রাকে', 'ট্রাকের', 'ট্রাজেডি', 'ট্রাজেডির', 'ট্রাফিক', 'ট্রাভেলিংয়ে', 'ট্রাম্পই', 'ট্রিটমেন্ট', 'ট্রিপ', 'ট্রিলিয়ন', 'ট্রেইলার', 'ট্রেন', 'ট্রেনসহ', 'ট্রেনে', 'ট্রেনের', 'ট্রেলার', 'ঠক', 'ঠকাইছে', 'ঠকাচ্ছে', 'ঠকানো', 'ঠকানোর', 'ঠকেছে', 'ঠাঁসা', 'ঠাকুর', 'ঠাকুরকে', 'ঠাকুরের', 'ঠাট্টা', 'ঠান্ডা', 'ঠান্ডার', 'ঠি', 'ঠিক', 'ঠিকই', 'ঠিকঠাক', 'ঠিকবে', 'ঠিকভাবে', 'ঠিকমত', 'ঠিকমতো', 'ঠিকমতো', 'ঠিকাদার', 'ঠিকাদাররা', 'ঠিকাদারি', 'ঠিকাদারের', 'ঠিকানা', 'ঠিকি', 'ঠুকতে', 'ঠুনকো', 'ঠেউয়ে', 'ঠেকছে', 'ঠেকা', 'ঠেকাইতে', 'ঠেকাতে', 'ঠেকানো', 'ঠেকাবে', 'ঠেকায়', 'ঠেকে', 'ঠেকেছে', 'ঠেলতে', 'ঠেলা', 'ঠেলাগাড়ির', 'ঠেলাঠেলি', 'ঠেলায়', 'ঠেলে', 'ঠোটস্থ', 'ঠ্যাক', 'ঠ্যালা', 'ঠ্যালাই', 'ড', 'ডঃ', 'ডক্টর', 'ডটবলের', 'ডমিঙ্গো', 'ডমিঙ্গোকে', 'ডর', 'ডরাইছে', 'ডরে', 'ডলার', 'ডলারের', 'ডাইরেক', 'ডাইরেক্ট', 'ডাইহার্ড', 'ডাউন', 'ডাক', 'ডাকছে', 'ডাকতে', 'ডাকবার', 'ডাকবেন', 'ডাকলে', 'ডাকা', 'ডাকাত', 'ডাকাতকে', 'ডাকাতদের', 'ডাকাতরা', 'ডাকাতি', 'ডাকাতির', 'ডাকাতের', 'ডাকার', 'ডাকুন', 'ডাকে', 'ডাক্তার', 'ডাক্তারদের', 'ডাক্তাররাও', 'ডাক্তারের', 'ডাটা', 'ডানহাত', 'ডানহাতি', 'ডানা', 'ডান্ডার', 'ডান্সের', 'ডাববা', 'ডাবল', 'ডায়লগ', 'ডায়লগটা', 'ডায়েরি', 'ডার্বি', 'ডাল', 'ডালভাত', 'ডাসবিন', 'ডাহা', 'ডায়লগ', 'ডায়াবেটিস', 'ডায়ালগ', 'ডি', 'ডিউটি', 'ডিও', 'ডিকশনারিতে', 'ডিগ্রি', 'ডিজাইন', 'ডিজাইনও', 'ডিজাইনের', 'ডিজিটাল', 'ডিজিট্যালি', 'ডিজেল', 'ডিজেলের', 'ডিপার্টমেন্ট', 'ডিপেন্ড', 'ডিপো', 'ডিপোতে', 'ডিপোর', 'ডিপ্রেশনে', 'ডিপ্রেশনের', 'ডিবি', 'ডিবেট', 'ডিভোর্স', 'ডিভোর্সের', 'ডিম', 'ডিমকে', 'ডিমে', 'ডিমের', 'ডিম্বানু', 'ডিরেক্ট', 'ডিরেক্টরের', 'ডিলেট', 'ডিলেটই', 'ডিসকাউন্ট', 'ডিসিপ্লিন', 'ডিসিশন', 'ডিসেন্ট্রালাইজড', 'ডিয়া', 'ডুইবা', 'ডুকলে', 'ডুকে', 'ডুব', 'ডুবছে', 'ডুবতে', 'ডুবতেই', 'ডুবলো', 'ডুবা', 'ডুবিতেছে', 'ডুবিয়ে', 'ডুবুরির', 'ডুবে', 'ডুয়াল', 'ডুয়েট', 'ডে', 'ডেইলি', 'ডেকার', 'ডেকে', 'ডেবিট', 'ডেমু', 'ডেমুর', 'ডেল্টা', 'ডোমিংগো', 'ড্যাম', 'ড্র', 'ড্রপ', 'ড্রাইবারে', 'ড্রাইভার', 'ড্রাইভারদের', 'ড্রাইভারের', 'ড্রাইভিং', 'ড্রেজিং', 'ড্রেস', 'ড্রোন', 'ডয়েচে', 'ডয়েচেভেলে', 'ঢং', 'ঢাকছেন', 'ঢাকতে', 'ঢাকবেন', 'ঢাকা', 'ঢাকাই', 'ঢাকাইয়া', 'ঢাকাকে', 'ঢাকাত', 'ঢাকাতির', 'ঢাকাতে', 'ঢাকাবাসী', 'ঢাকার', 'ঢাকায়', 'ঢাবি', 'ঢাবিয়ান', 'ঢালা', 'ঢালার', 'ঢিলা', 'ঢিলে', 'ঢুইকা', 'ঢুকছে', 'ঢুকলে', 'ঢুকাই', 'ঢুকাইছে', 'ঢুকাচ্ছ', 'ঢুকার', 'ঢুকিয়ে', 'ঢুকে', 'ঢেঁকি', 'ঢেউ', 'ঢেকে', 'ঢেলে', 'ণের', 'ত', 'তকমা', 'তকে', 'তখন', 'তখনই', 'তখনকার', 'তখনি', 'তখনের', 'তখোনই', 'তগো', 'তছনছ', 'তছলিমা', 'তজবি', 'তত', 'ততই', 'ততক্ষণ', 'ততজন', 'ততটা', 'ততটাই', 'ততটুকু', 'ততদিন', 'ততদিনে', 'ততবড়', 'ততবার', 'ততবারই', 'ততো', 'ততোদিন', 'ততোদূর', 'তত্ত্ব', 'তত্ত্বাবধানে', 'তথা', 'তথাকথিত', 'তথ্য', 'তথ্যই', 'তথ্যও', 'তথ্যটা', 'তথ্যটি', 'তথ্যপূর্ণ', 'তথ্যবহুল', 'তথ্যমন্ত্রি', 'তথ্যমন্ত্রী', 'তথ্যমন্ত্রীর', 'তথ্যের', 'তদন্ত', 'তদন্তকারী', 'তদন্তপূর্বক', 'তদন্তের', 'তদারকি', 'তদারকির', 'তদের', 'তনুর', 'তন্তহীন', 'তন্ত্র', 'তফাত', 'তফাৎ', 'তবার', 'তবিয়তে', 'তবু', 'তবুও', 'তবু্ও', 'তবে', 'তবেই', 'তম', 'তমুক', 'তর', 'তরকারির', 'তরণী', 'তরফ', 'তরিৎ', 'তরী', 'তরুণ', 'তরুণদের', 'তরুণরা', 'তরুন', 'তরুনয়েরা', 'তরূণ', 'তরে', 'তর্ক', 'তলদেশ', 'তলব', 'তলা', 'তলানিতে', 'তলানীতে', 'তলায়', 'তলিয়ে', 'তলী', 'তলে', 'তল্লাশী', 'তল্লাসি', 'তসবি', 'তসলিমা', 'তহ', 'তহবিল', 'তা', 'তাঁকে', 'তাঁতে', 'তাঁদের', 'তাঁদেরই', 'তাঁদেরকে', 'তাঁর', 'তাঁরা', 'তাঁরাই', 'তাই', 'তাইওয়ান', 'তাইওয়ানে', 'তাইওয়ানের', 'তাইওয়ান', 'তাইওয়ানকে', 'তাইওয়ানে', 'তাইওয়ানের', 'তাইত', 'তাইতো', 'তাইনা', 'তাইয়েবা', 'তাইলে', 'তাও', 'তাওফিক', 'তাক', 'তাকসিমকে', 'তাকালে', 'তাকিয়ে', 'তাকিয়ে', 'তাকে', 'তাকেই', 'তাকেনা', 'তাগিদ', 'তাগিদে', 'তাগোর', 'তাছাড়া', 'তাছারা', 'তাছাড়া', 'তাজউদ্দিন', 'তাজরীন', 'তাজা', 'তাড়াতাড়ি', 'তাণ্ডব', 'তাতে', 'তাতেই', 'তাতেও', 'তাতো', 'তাদরে', 'তাদেও', 'তাদের', 'তাদেরই', 'তাদেরও', 'তাদেরকে', 'তাদেরকেই', 'তাদেরকেও', 'তাদেরতে', 'তান', 'তান্ডবে', 'তাপ', 'তাপমাত্রা', 'তাপে', 'তাপের', 'তাবল', 'তাবলিগের', 'তাবিজ', 'তাবেদার', 'তাবোল', 'তামশা', 'তামসা', 'তামসার', 'তামাশা', 'তামাশার', 'তামাশায়', 'তামিম', 'তামিমের', 'তামিল', 'তামিলনাড়ুতে', 'তামিলনাডুর', 'তামিলনাড়ু', 'তায়ালার', 'তার', 'তারই', 'তারকা', 'তারচেয়ে', 'তারচেয়ে', 'তারপর', 'তারপরও', 'তারপরে', 'তারপরেও', 'তারমানে', 'তারা', 'তারাই', 'তারাইতো', 'তারাও', 'তারাতাড়ি', 'তারাতো', 'তারাফ', 'তারায়', 'তারিখ', 'তারিখের', 'তারুণ্য', 'তারে', 'তারেক', 'তাল', 'তালগাছ', 'তালগাছের', 'তালা', 'তালি', 'তালিকা', 'তালিকায়', 'তালিকার', 'তালিকায়', 'তালিব', 'তালিবানি', 'তালে', 'তালেব', 'তাশরীফ', 'তাসকিন', 'তাসরিফ', 'তাসের', 'তাহলে', 'তাহলেই', 'তাহলেতো', 'তাহলো', 'তাহসান', 'তাহসানকে', 'তাহসানের', 'তাহাই', 'তাহাকে', 'তাহাজ্জত', 'তাহাজ্জুত', 'তাহাজ্জুদ', 'তাহার', 'তাহারা', 'তাহারাই', 'তাহারে', 'তাহায়', 'তাহেরের', 'তাে', 'তাৎক্ষণিকভাবে', 'তাৎপর্য', 'তাড়া', 'তাড়াতাড়ি', 'তায়া', 'তায়ালা', 'তায়ালাই', 'তি', 'তিক্ত', 'তিক্ততা', 'তিগত', 'তিতা', 'তিন', 'তিনজন', 'তিনটা', 'তিনদিন', 'তিনবার', 'তিনবেলা', 'তিনশ', 'তিনার', 'তিনি', 'তিনিই', 'তিনিও', 'তিব্র', 'তিব্রনিন্দা', 'তির', 'তিরস্কার', 'তিলাওয়াত', 'তিস্তা', 'তিস্তার', 'তীব্র', 'তীব্রতা', 'তীরে', 'তু', 'তুই', 'তুইও', 'তুচ্ছ', 'তুমরা', 'তুমাকে', 'তুমার', 'তুমি', 'তুমিই', 'তুমিও', 'তুমুক', 'তুরস্ক', 'তুরস্ককে', 'তুরস্কের', 'তুরা', 'তুর্কী', 'তুলছি', 'তুলছে', 'তুলছেন', 'তুলতে', 'তুলতেছে', 'তুলতেন', 'তুলনা', 'তুলনামূলক', 'তুলনায়', 'তুলনার', 'তুলনায়', 'তুলল', 'তুলসির', 'তুলানা', 'তুলার', 'তুলুন', 'তুলে', 'তুলেছিলেন', 'তুলেছে', 'তুলেছেন', 'তুলেনাএনে', 'তুলেনিয়ে', 'তুলো', 'তুলোধুনা', 'তুষার', 'তৃণমূল', 'তৃতীয়', 'তৃতীয়', 'তৃতীয়াংশ', 'তৃপ্তি', 'তৃষ্ণা', 'তৃষ্ণার্ত', 'তে', 'তেই', 'তেও', 'তেছপাতা', 'তেজপাতা', 'তেত্রিশ', 'তেনা', 'তেমন', 'তেমনই', 'তেমনটাই', 'তেমনি', 'তেমরা', 'তের', 'তেরোটা', 'তেল', 'তেলই', 'তেলবাজ', 'তেলবাজদের', 'তেলবাজরা', 'তেলবাজি', 'তেলাপোকা', 'তেলাপোকাও', 'তেলে', 'তেলের', 'তেলো', 'তো', 'তৈ', 'তৈরি', 'তৈরী', 'তৈল', 'তৈলবাজ', 'তৈলমর্দন', 'তৈলের', 'তৈয়ার', 'তো', 'তোকমা', 'তোকে', 'তোগো', 'তোদের', 'তোফিক', 'তোমরা', 'তোমরাই', 'তোমরাও', 'তোমা', 'তোমাকে', 'তোমাগো', 'তোমাদের', 'তোমার', 'তোমারা', 'তোমারে', 'তোমায়', 'তোয়াক্কা', 'তোর', 'তোরা', 'তোরাও', 'তোরে', 'তোলা', 'তোলার', 'তোলে', 'তোষামোদিতে', 'তোষামোদির', 'তোহ', 'তোয়াক্কা', 'তৌফিক', 'ত্যাগ', 'ত্যাগী', 'ত্যানা', 'ত্যু', 'ত্রাণ', 'ত্রান', 'ত্রাস', 'ত্রুটি', 'তৎকালীন', 'তৎপর', 'তৎপরতা', 'তৎপরতার', 'থকলে', 'থমকে', 'থলি', 'থাইকা', 'থাইল্যান্ড', 'থাইল্যান্ডের', 'থাক', 'থাকছ', 'থাকত', 'থাকতাম', 'থাকতাে', 'থাকতে', 'থাকতেই', 'থাকতেও', 'থাকতো', 'থাকতো', 'থাকব', 'থাকবা', 'থাকবি', 'থাকবে', 'থাকবেই', 'থাকবেন', 'থাকবেনা', 'থাকবো', 'থাকল', 'থাকলাম', 'থাকলে', 'থাকলেই', 'থাকলেও', 'থাকলেতো', 'থাকস', 'থাকা', 'থাকাই', 'থাকাকালীন', 'থাকাকালে', 'থাকাটা', 'থাকাটাই', 'থাকার', 'থাকারই', 'থাকায়', 'থাকি', 'থাকিছ', 'থাকিবে', 'থাকিস', 'থাকুক', 'থাকুন', 'থাকে', 'থাকেও', 'থাকেন', 'থাকেনা', 'থাকো', 'থানা', 'থানায়', 'থানার', 'থানায়', 'থাপ্পড়', 'থাপ্পড়', 'থাপড়াইতে', 'থাবার', 'থাম', 'থামছে', 'থামবে', 'থামবেনা', 'থামানো', 'থামানোর', 'থামিয়ে', 'থামিয়ে', 'থামুন', 'থামে', 'থার্ড', 'থালা', 'থিম', 'থুতু', 'থুবড়ে', 'থুবড়ে', 'থে', 'থেকে', 'থেকেই', 'থেকেও', 'থেকো', 'থেমে', 'থেরাপি', 'থ্রিজি', 'থ্রিলার', 'থ্রীজি', 'দক্ষ', 'দক্ষতা', 'দক্ষতার', 'দক্ষিণ', 'দক্ষিণবঙ্গের', 'দক্ষিন', 'দক্ষের', 'দখল', 'দখলদার', 'দখলদারী', 'দখলে', 'দখলের', 'দণ্ডনীয়', 'দণ্ডিত', 'দন্ড', 'দপ্তর', 'দফতর', 'দফা', 'দফায়', 'দম', 'দমন', 'দমবন্ধ', 'দমাতে', 'দমানো', 'দমিয়ে', 'দম্পতি', 'দয়া', 'দর', 'দরকার', 'দরজা', 'দরজায়', 'দরদ', 'দরদী', 'দরনের', 'দরবারে', 'দরবেশ', 'দরবেশও', 'দরবেশদের', 'দরবেশের', 'দরা', 'দরাজ', 'দরিদ্র', 'দরিদ্রদের', 'দরুণ', 'দরুন', 'দরে', 'দরের', 'দর্শক', 'দর্শকও', 'দর্শকদের', 'দর্শকরাও', 'দর্শন', 'দর্শনীয়স্থান', 'দল', 'দলই', 'দলকে', 'দলগুলো', 'দলগুলোকে', 'দলগুলোর', 'দলটাও', 'দলটাকে', 'দলটাকেই', 'দলটি', 'দলদাস', 'দলবদ্ব', 'দলমত', 'দলান্ধ', 'দলিল', 'দলীয়', 'দলীয়', 'দলীয়করণ', 'দলীয়করন', 'দলে', 'দলেই', 'দলের', 'দলেরই', 'দলেরা', 'দশ', 'দশক', 'দশকে', 'দশম', 'দশা', 'দস', 'দা', 'দাঁড়াই', 'দাঁড়াও', 'দাঁড়াতে', 'দাঁড়ান', 'দাঁড়ানো', 'দাঁড়ানোর', 'দাঁড়াবে', 'দাঁড়াবো', 'দাঁড়ায়', 'দাঁড়ালেও', 'দাঁড়িয়ে', 'দাঁড়িয়েছে', 'দাঁত', 'দাঁড়', 'দাঁড়াতে', 'দাঁড়ান', 'দাঁড়ানো', 'দাঁড়ানো', 'দাঁড়ানোর', 'দাঁড়াবে', 'দাঁড়ায়', 'দাঁড়িয়ে', 'দাও', 'দাওয়াত', 'দাওয়া', 'দাওয়াত', 'দাগ', 'দাঙ্গা', 'দাঙ্গাবাজ', 'দাঙ্গার', 'দাজ্জালের', 'দাড়া', 'দাড়িয়েছে', 'দাত', 'দাতা', 'দাতাদের', 'দাদা', 'দাদাগিরি', 'দাদাদের', 'দাদার', 'দাদারা', 'দাদির', 'দান', 'দানকারী', 'দানব', 'দানের', 'দাপ', 'দাপট', 'দাপটে', 'দাপটের', 'দাফন', 'দাবা', 'দাবানল', 'দাবি', 'দাবিগুলো', 'দাবিটি', 'দাবিতে', 'দাবিদার', 'দাবির', 'দাবী', 'দাবীকৃত', 'দাবীটা', 'দাবীর', 'দাবে', 'দাম', 'দামই', 'দামও', 'দামটাই', 'দামাল', 'দামি', 'দামী', 'দামে', 'দামেই', 'দামের', 'দাম্পত্য', 'দাম্ভিকতা', 'দায়', 'দায়ভার', 'দায়রা', 'দায়ি', 'দায়িত্ব', 'দায়িত্বটা', 'দায়িত্ববান', 'দায়িত্বশীল', 'দায়িত্বে', 'দায়িত্ব্য', 'দায়ী', 'দায়ীদের', 'দায়ে', 'দায়ের', 'দায্য', 'দারপ্রান্তে', 'দারান', 'দারি', 'দারিদ্র', 'দারিদ্রের', 'দারিদ্র্য', 'দারিদ্র্যের', 'দারী', 'দারুণ', 'দারুন', 'দালাল', 'দালালজিবি', 'দালালজীবীরা', 'দালালদের', 'দালালরা', 'দালালি', 'দালালির', 'দালালী', 'দালালের', 'দাস', 'দাসের', 'দাহ্য', 'দাড়', 'দাড়াই', 'দাড়াতে', 'দাড়াতেই', 'দাড়ান', 'দাড়ানো', 'দাড়াবে', 'দাড়ায়', 'দাড়ি', 'দাড়িতে', 'দাড়ির', 'দাড়িয়ে', 'দাড়িয়েছে', 'দায়', 'দায়ক', 'দায়টা', 'দায়তো', 'দায়বদ্ধতা', 'দায়ভার', 'দায়মুক্তি', 'দায়সারা', 'দায়ি', 'দায়িক্ত', 'দায়িত্ব', 'দায়িত্বপ্রাপ্ত', 'দায়িত্ববান', 'দায়িত্ববোধ', 'দায়িত্ববোধের', 'দায়িত্বশীল', 'দায়িত্বহীন', 'দায়িত্বহীনতার', 'দায়িত্বহীনের', 'দায়িত্বে', 'দায়িত্বের', 'দায়ী', 'দায়ীত্ব', 'দায়ে', 'দায়ের', 'দায়েরকৃত', 'দি', 'দিই', 'দিইিতা', 'দিও', 'দিক', 'দিকও', 'দিকটা', 'দিকে', 'দিকেই', 'দিকেও', 'দিক্কার', 'দিক্ষার', 'দিখে', 'দিগুনের', 'দিচ্ছি', 'দিচ্ছে', 'দিচ্ছেন', 'দিচ্ছেনা', 'দিছস', 'দিছাও', 'দিছি', 'দিছে', 'দিছোস', 'দিত', 'দিতাছে', 'দিতাম', 'দিতে', 'দিতেই', 'দিতেছে', 'দিতেছেন', 'দিতেন', 'দিতো', 'দিদা', 'দিন', 'দিনও', 'দিনকে', 'দিনগুলি', 'দিনগুলির', 'দিনগুলো', 'দিনগুলোকে', 'দিনগুলোতে', 'দিনগুলোর', 'দিনটা', 'দিনদিন', 'দিনমজুর', 'দিনমজুরের', 'দিনযাপন', 'দিনরাতে', 'দিনশেষে', 'দিনাজপুর', 'দিনে', 'দিনের', 'দিনেরবেলা', 'দিব', 'দিবস', 'দিবসটি', 'দিবসে', 'দিবার', 'দিবালোকে', 'দিবাস্বপ্ন', 'দিবে', 'দিবেই', 'দিবেন', 'দিবেনা', 'দিবো', 'দিমু', 'দিয়', 'দিয়া', 'দিয়ে', 'দিয়েই', 'দিয়েছি', 'দিয়েছিল', 'দিয়েছে', 'দিয়েছেন', 'দিযে', 'দিল', 'দিলখুশ', 'দিলাম', 'দিলে', 'দিলেই', 'দিলেও', 'দিলেন', 'দিলেনই', 'দিলো', 'দিশারি', 'দিশাহারা', 'দিশেহারা', 'দিস', 'দিসে', 'দিহি', 'দিহিতা', 'দিয়', 'দিয়া', 'দিয়ার', 'দিয়ে', 'দিয়েই', 'দিয়েও', 'দিয়েছি', 'দিয়েছিল', 'দিয়েছিলাম', 'দিয়েছিলেন', 'দিয়েছিস', 'দিয়েছে', 'দিয়েছেন', 'দিয়েন', 'দীর্ঘ', 'দীর্ঘজীবী', 'দীর্ঘদিন', 'দীর্ঘশ্বাস', 'দীর্ঘস্থায়ী', 'দীর্ঘায়ু', 'দীর্ঘায়ু', 'দু', 'দুংখজনক', 'দুঃখ', 'দুঃখও', 'দুঃখগুলো', 'দুঃখজনক', 'দুঃখিত', 'দুঃখী', 'দুঃখে', 'দুঃখের', 'দুঃজনক', 'দুঃশাষনের', 'দুঃশাসন', 'দুঃসংবাদ', 'দুঃসময়ের', 'দুঃসাহস', 'দুঃসাহসিক', 'দুই', 'দুইজন', 'দুইজনকে', 'দুইজনের', 'দুইটা', 'দুইটাই', 'দুইটাকার', 'দুইটার', 'দুইটি', 'দুইদিন', 'দুইবেলা', 'দুইলাখ', 'দুইশত', 'দুখী', 'দুখু', 'দুখের', 'দুচোখ', 'দুচোখের', 'দুজন', 'দুজনই', 'দুজনকে', 'দুজনকেই', 'দুজনে', 'দুজনেই', 'দুজনের', 'দুটই', 'দুটা', 'দুটি', 'দুটির', 'দুটো', 'দুটোই', 'দুদক', 'দুদককে', 'দুদকের', 'দুদিক', 'দুদিন', 'দুদিনে', 'দুদুক', 'দুধ', 'দুনিয়া', 'দুনিয়াকে', 'দুনিয়াতে', 'দুনিয়ায়', 'দুনিয়ার', 'দুনিয়ের', 'দুনিয়া', 'দুনিয়াটা', 'দুনিয়াতে', 'দুনিয়ার', 'দুনিয়ায়', 'দুনীতি', 'দুপুর', 'দুবাই', 'দুমুঠো', 'দুয়া', 'দুয়ারে', 'দুর', 'দুরত্ব', 'দুরদর্শি', 'দুরদর্শিতার', 'দুরন্তপনা', 'দুরন্তপনার', 'দুরবস্থা', 'দুরহ', 'দুরে', 'দুর্গত', 'দুর্গন্ধ', 'দুর্গন্ধযুক্ত', 'দুর্গাপুজোর', 'দুর্ঘটনা', 'দুর্ঘটনায়', 'দুর্ঘটনার', 'দুর্ঘটনারোধে', 'দুর্ঘটনায়', 'দুর্দশা', 'দুর্দশাগ্রস্ত', 'দুর্দান্ত', 'দুর্দিনে', 'দুর্ধর্ষ', 'দুর্নাম', 'দুর্নিতি', 'দুর্নিতিবাজদের', 'দুর্নিতিবাজের', 'দুর্নিতির', 'দুর্নিতীবাজরা', 'দুর্নীতি', 'দুর্নীতিও', 'দুর্নীতিকে', 'দুর্নীতিগ্রস্ত', 'দুর্নীতিতে', 'দুর্নীতিপূর্ন', 'দুর্নীতিবাজ', 'দুর্নীতিবাজদের', 'দুর্নীতিবাজেরা', 'দুর্নীতির', 'দুর্বল', 'দুর্বলতা', 'দুর্বলদের', 'দুর্বলের', 'দুর্বিষহ', 'দুর্বিসহ', 'দুর্বৃত্ত', 'দুর্বৃত্তরা', 'দুর্বৃত্তে', 'দুর্ভাগা', 'দুর্ভাগ্য', 'দুর্ভাগ্যজনক', 'দুর্ভিক্ষ', 'দুর্ভিক্ষের', 'দুর্ভোগের', 'দুর্ভোগ', 'দুর্ভোগে', 'দুর্মূল্যের', 'দুর্যোগ', 'দুর্যোগে', 'দুলতে', 'দুলাইতে', 'দুলিয়ে', 'দুশমন', 'দুশ্চরিত্রার', 'দুশ্চিন্তায়', 'দুশ্চিন্তার', 'দুষিত', 'দুষ্কর', 'দুষ্কৃতকারী', 'দুষ্কৃতকারীদের', 'দুষ্কৃতিকারী', 'দুষ্কৃতীকারীরা', 'দুষ্ট', 'দুষ্টচক্রে', 'দুষ্টুমি', 'দুষ্টুমির', 'দুষ্টের', 'দুসশানের', 'দুস্কৃতিকারী', 'দু্র্নীতি', 'দুয়া', 'দূঃখ', 'দূঃখে', 'দূঃখের', 'দূঘটনা', 'দূতাবাস', 'দূনিতি', 'দূনীতি', 'দূনীতির', 'দূর', 'দূরত্ব', 'দূরত্বে', 'দূরদর্শিতার', 'দূরদিনে', 'দূরনীতি', 'দূরপাল্লার', 'দূরান্ত', 'দূরীভূত', 'দূরে', 'দূরেই', 'দূরের', 'দূর্ঘটনা', 'দূর্ঘটনার', 'দূর্ঘটনারবপর', 'দূর্ঘটনায়', 'দূর্ঘঠনা', 'দূর্ণী', 'দূর্ণীতি', 'দূর্দশা', 'দূর্দান্ত', 'দূর্দিন', 'দূর্নিতি', 'দূর্নীত', 'দূর্নীতি', 'দূর্নীতিগ্রস্থ', 'দূর্নীতিবাজ', 'দূর্নীতিবাজদের', 'দূর্নীতিবাজদেরও', 'দূর্নীতির', 'দূর্নীতিরে', 'দূর্বল', 'দূর্বলতা', 'দূর্বলতায়', 'দূর্বিষহ', 'দূর্বৃত্ত', 'দূর্ভাগা', 'দূর্ভাগ্যজনক', 'দূর্ভিক্ষে', 'দূর্ভোগ', 'দূর্যোগ', 'দূষণ', 'দূষণের', 'দূষিত', 'দূ্নীতি', 'দৃশ্য', 'দৃশ্যটা', 'দৃশ্যমান', 'দৃশ্যে', 'দৃষ্টান্ত', 'দৃষ্টান্তমূলক', 'দৃষ্টি', 'দৃষ্টিআকর্ষণ', 'দৃষ্টিনন্দন', 'দৃষ্টিভংগি', 'দৃষ্টিভঙ্গি', 'দৃহ', 'দৃঢ়', 'দৃঢ়তা', 'দে', 'দেই', 'দেইখা', 'দেউলিয়া', 'দেউলিয়া', 'দেউলিয়াত্বের', 'দেউলয়া', 'দেও', 'দেওনি', 'দেওয়া', 'দেওয়াটা', 'দেওয়াতে', 'দেওয়ার', 'দেওলিয়া', 'দেওলিয়া', 'দেওলিয়ার', 'দেওয়া', 'দেওয়াই', 'দেওয়াও', 'দেওয়াটা', 'দেওয়ার', 'দেওয়ালে', 'দেক', 'দেকত', 'দেকতে', 'দেকানে', 'দেখ', 'দেখছি', 'দেখছিলাম', 'দেখছে', 'দেখছেন', 'দেখত', 'দেখতাম', 'দেখতে', 'দেখতেই', 'দেখতেও', 'দেখতেছি', 'দেখতেছিনা', 'দেখতেছে', 'দেখতেসে', 'দেখতো', 'দেখব', 'দেখবা', 'দেখবে', 'দেখবেন', 'দেখবো', 'দেখমু', 'দেখল', 'দেখলাম', 'দেখলে', 'দেখলেই', 'দেখলেও', 'দেখলেন', 'দেখলো', 'দেখলোনা', 'দেখা', 'দেখাইছে', 'দেখাইতো', 'দেখাইয়েন', 'দেখাও', 'দেখাক', 'দেখাচ্ছে', 'দেখাছে', 'দেখাতে', 'দেখাদেখি', 'দেখান', 'দেখানো', 'দেখানোটাও', 'দেখানোর', 'দেখাবা', 'দেখাবে', 'দেখাবেন', 'দেখায়', 'দেখার', 'দেখালো', 'দেখায়', 'দেখায়তেছে', 'দেখি', 'দেখিনা', 'দেখিনি', 'দেখিয়ে', 'দেখিয়েছিলেন', 'দেখিয়েছে', 'দেখিয়েছেন', 'দেখিয়ে', 'দেখিয়েছিল', 'দেখিয়েছে', 'দেখিয়েছেন', 'দেখিয়েন', 'দেখুন', 'দেখে', 'দেখেই', 'দেখেও', 'দেখেছি', 'দেখেছে', 'দেখেছেন', 'দেখেন', 'দেখেনা', 'দেখো', 'দেড়', 'দেন', 'দেননা', 'দেনা', 'দেব', 'দেবতা', 'দেবার', 'দেবালয়ে', 'দেবালয়', 'দেবে', 'দেবেই', 'দেবেন', 'দেবেন্', 'দেবের', 'দেবো', 'দেবোনা', 'দেময়র', 'দেয়', 'দেয়না', 'দেয়নি', 'দেয়া', 'দেয়াতে', 'দেয়ার', 'দের', 'দেরকে', 'দেরি', 'দেরিতে', 'দেরিতেও', 'দেরী', 'দেরীতে', 'দেলোয়ার', 'দেশ', 'দেশই', 'দেশও', 'দেশকে', 'দেশগুলো', 'দেশগুলোও', 'দেশগুলোতে', 'দেশগুলোতেও', 'দেশগুলোর', 'দেশচালনা', 'দেশছাড়া', 'দেশজুড়ে', 'দেশটা', 'দেশটাই', 'দেশটাকে', 'দেশটাত', 'দেশটায়', 'দেশটার', 'দেশটারে', 'দেশটি', 'দেশটিতে', 'দেশদ্রুহিতার', 'দেশদ্রোহী', 'দেশদ্রোহীতা', 'দেশদ্রোহীতার', 'দেশনেত্রী', 'দেশপ্রেম', 'দেশপ্রেমকে', 'দেশপ্রেমিক', 'দেশপ্রেমিকদের', 'দেশপ্রেমিদের', 'দেশপ্রেমের', 'দেশবাসী', 'দেশবাসীর', 'দেশবিরোধী', 'দেশভাগ', 'দেশর', 'দেশরত্ন', 'দেশসেরা', 'দেশি', 'দেশী', 'দেশীয়', 'দেশীয়', 'দেশে', 'দেশেই', 'দেশেও', 'দেশের', 'দেশেরে', 'দেস', 'দেসের', 'দেহ', 'দেহব্যবসায়ী', 'দেহার', 'দেহিনা', 'দেহে', 'দেহের', 'দোয়া', 'দেড়', 'দেড়গুণের', 'দেয়', 'দেয়না', 'দেয়নাই', 'দেয়নি', 'দেয়া', 'দেয়াই', 'দেয়াটা', 'দেয়ার', 'দেয়ালে', 'দেয়ায়', 'দৈনন্দিন', 'দৈনন্দিনের', 'দৈনিক', 'দৈনিকের', 'দৈহিকভাবে', 'দোওয়া', 'দোকান', 'দোকানদার', 'দোকানদারকে', 'দোকানে', 'দোকানের', 'দোম', 'দোয়া', 'দোরাত্ব', 'দোল', 'দোষ', 'দোষকে', 'দোষটাই', 'দোষতো', 'দোষী', 'দোষীদের', 'দোষে', 'দোষের', 'দোস', 'দোসর', 'দোসররা', 'দোহাই', 'দোহায়', 'দোয়া', 'দোয়াকরি', 'দোয়ার', 'দৌঁড়ানো', 'দৌরাত্ম', 'দৌড়', 'দৌড়ও', 'দৌড়ঝাঁপের', 'দৌড়ে', 'দ্বার', 'দ্বারপ্রান্তে', 'দ্বারা', 'দ্বারাই', 'দ্বারায়', 'দ্বায়', 'দ্বায়বদ্ধকতা', 'দ্বায়িত্ব', 'দ্বায়িত্বশীল', 'দ্বায়ী', 'দ্বি', 'দ্বিখণ্ডিত', 'দ্বিগুণ', 'দ্বিগুন', 'দ্বিজাতিতত্ত্ব', 'দ্বিতীয়', 'দ্বিতীয়', 'দ্বিমত', 'দ্বীপ', 'দ্য', 'দ্যা', 'দ্যান', 'দ্যাশে', 'দ্রত', 'দ্রবমূল্যর', 'দ্রব্য', 'দ্রব্যমুল্য', 'দ্রব্যমূল্য', 'দ্রব্যমূল্যের', 'দ্রব্যের', 'দ্রর্বমূল্যের', 'দ্রুত', 'দ্রুতই', 'দ্রুতগতিতেই', 'দ্রুতগামী', 'দ্রুততম', 'দ্রুততার', 'দ্রোহী', 'দয়টা', 'দয়া', 'দয়াকরে', 'দয়ামায়া', 'দয়াময়', 'দয়ালু', 'দয়ায়', 'ধ', 'ধংশ', 'ধংস', 'ধংসে', 'ধংসের', 'ধইরা', 'ধণীদের', 'ধন', 'ধনকুবের', 'ধনতান্ত্রিক', 'ধনভান্ডার', 'ধনী', 'ধনীদের', 'ধন্য', 'ধন্যবাদ', 'ধন্যা', 'ধবংস', 'ধবংসের', 'ধমঘটকে', 'ধরছে', 'ধরণ', 'ধরণের', 'ধরতে', 'ধরতেও', 'ধরন', 'ধরনটা', 'ধরনের', 'ধরবে', 'ধরবো', 'ধরলে', 'ধরলেই', 'ধরলেন', 'ধরা', 'ধরাই', 'ধরাটাই', 'ধরানো', 'ধরার', 'ধরিয়ে', 'ধরিয়ে', 'ধরুক', 'ধরুন', 'ধরে', 'ধরেই', 'ধরেছে', 'ধরেছেন', 'ধরেন', 'ধরো', 'ধর্ম', 'ধর্মকে', 'ধর্মকেই', 'ধর্মজ্ঞানহীন', 'ধর্মনিরপেক্ষতা', 'ধর্মহীন', 'ধর্মহীনতা', 'ধর্মান্দতা', 'ধর্মান্ধ', 'ধর্মান্ধদের', 'ধর্মান্ধরা', 'ধর্মাবলম্বী', 'ধর্মাবলম্বীদের', 'ধর্মিও', 'ধর্মিয়', 'ধর্মীক', 'ধর্মীয়', 'ধর্মীয়', 'ধর্মে', 'ধর্মেই', 'ধর্মের', 'ধর্য্য', 'ধর্ষক', 'ধর্ষককে', 'ধর্ষকের', 'ধর্ষণ', 'ধর্ষণকারীদের', 'ধর্ষণের', 'ধর্ষন', 'ধর্ষনের', 'ধর্ষিত', 'ধস', 'ধসে', 'ধাক্কা', 'ধাক্কাধাক্কি', 'ধাক্কাধাক্কির', 'ধান', 'ধান্দা', 'ধান্দাবাজ', 'ধান্দামি', 'ধান্দায়', 'ধান্দায়', 'ধান্ধা', 'ধাপ', 'ধাবিত', 'ধামাচাপা', 'ধার', 'ধারক', 'ধারণ', 'ধারণা', 'ধারণায়', 'ধারণের', 'ধারন', 'ধারনা', 'ধারা', 'ধারাই', 'ধারাবাহিকতা', 'ধারাভাষা', 'ধারাভাষ্য', 'ধারাভাষ্যকার', 'ধারায়', 'ধারার', 'ধারে', 'ধার্মিক', 'ধার্মিকের', 'ধিক্কার', 'ধিন', 'ধীর', 'ধীরগতির', 'ধীরে', 'ধুপান', 'ধুমপান', 'ধুয়া', 'ধুর', 'ধুরন্দর', 'ধুরন্ধর', 'ধুরা', 'ধুলা', 'ধুলাই', 'ধুলে', 'ধুলো', 'ধুলোবালিতে', 'ধুয়া', 'ধুয়ে', 'ধূর', 'ধূলিসাৎ', 'ধূয়া', 'ধের্য', 'ধৈর্য', 'ধৈর্যধারণ', 'ধৈর্যহীনরা', 'ধৈর্যের', 'ধৈর্য্য', 'ধৈর্য্যকে', 'ধৈর্য্যশীল', 'ধৈর্য্যশীলদের', 'ধৈর্য্যহীনতা', 'ধোঁকা', 'ধোকা', 'ধোলাই', 'ধোয়া', 'ধ্বংশ', 'ধ্বংস', 'ধ্বংসত্নাক', 'ধ্বংসের', 'ধ্যানধারণা', 'ধড়ফড়', 'ন', 'নই', 'নইলে', 'নওগাঁর', 'নওতো', 'নকল', 'নকশা', 'নক্ষত্র', 'নখ', 'নগন্য', 'নগর', 'নগরপ্রধানদের', 'নগরে', 'নগরের', 'নগ্ন', 'নজর', 'নজরদারি', 'নজরদারির', 'নজরবন্দী', 'নজরুল', 'নজরুলের', 'নজরে', 'নজির', 'নজিরবিহীন', 'নজিরা', 'নজীর', 'নজীরবিহীন', 'নড়ে', 'নত', 'নতজানু', 'নতুন', 'নতুনত্ব', 'নতুনভাবে', 'নতুবা', 'নতুল', 'নতূন', 'নদী', 'নদীতে', 'নদীর', 'নন', 'ননীর', 'নন্দিতার', 'নন্যুতম', 'নপুংসক', 'নফল', 'নবদম্পতির', 'নববর্ষের', 'নবম', 'নবাব', 'নবাবজাদা', 'নবাবি', 'নবাবী', 'নবাবের', 'নবী', 'নবীকে', 'নবেল', 'নভোযান', 'নম', 'নমিনেশন', 'নমুনা', 'নমূনা', 'নম্বর', 'নম্বরে', 'নম্র', 'নয়', 'নয়তো', 'নয়ন', 'নর', 'নরক', 'নরকের', 'নরপশু', 'নরপিশাচ', 'নরপিশাচটাকে', 'নরমাল', 'নরমের', 'নরসিংদী', 'নরসিংদীর', 'নরেন্দ্র', 'নর্তকী', 'নর্তকীর', 'নর্দমায়', 'নলেজ', 'নষ্ট', 'নষ্টকারী', 'নষ্টদের', 'নষ্টা', 'নষ্টামির', 'নষ্টে', 'নষ্টের', 'নসিব', 'নসীব', 'নসীবে', 'নস্ট', 'নস্টামির', 'নহে', 'না', 'নাই', 'নাইকা', 'নাইট', 'নাইনটিন', 'নাইনে', 'নাইম', 'নাইমুল', 'নাইলে', 'নাউজুবিল্লাহ', 'নাও', 'নাক', 'নাকগলানো', 'নাকচ', 'নাকরলে', 'নাকরে', 'নাকি', 'নাকে', 'নাকো', 'নাগরিক', 'নাগরিকদের', 'নাগরিকরা', 'নাগরিকে', 'নাগরিকের', 'নাগরের', 'নাগাল', 'নাগালে', 'নাগালের', 'নাচ', 'নাচতে', 'নাচানাচি', 'নাচায়', 'নাচি', 'নাজমুল', 'নাজানি', 'নাজিল', 'নাজুক', 'নাজুকতার', 'নাজেহাল', 'নাট', 'নাটক', 'নাটকগুলা', 'নাটকগুলো', 'নাটকটা', 'নাটকটি', 'নাটকবাজ', 'নাটকীয়', 'নাটকে', 'নাটকের', 'নাটগুলো', 'নাটবল্টু', 'নাট্য', 'নাট্যমঞ্চ', 'নাট্যশালায়', 'নাড়া', 'নাতি', 'নাতির', 'নাতো', 'নাথাকলে', 'নানা', 'নানান', 'নানাভাবে', 'নানার', 'নানু', 'নানুর', 'নান্দাইলের', 'নান্নু', 'নাবালক', 'নাভিশ্বাস', 'নাম', 'নামই', 'নামও', 'নামক', 'নামকরণ', 'নামকরা', 'নামকে', 'নামগুলো', 'নামছে', 'নামটা', 'নামতে', 'নামতেই', 'নামধারী', 'নামবে', 'নামবেন', 'নামবো', 'নামমাত্র', 'নামলে', 'নামা', 'নামাজ', 'নামাজে', 'নামাজের', 'নামাতে', 'নামান', 'নামানো', 'নামানোর', 'নামায', 'নামাযে', 'নামাযের', 'নামার', 'নামালে', 'নামায়', 'নামি', 'নামিয়ে', 'নামিয়ে', 'নামী', 'নামুন', 'নামে', 'নামেই', 'নামেন', 'নামের', 'নাম্বার', 'নাম্বারেও', 'নাম্বােরই', 'নায়ক', 'নায়কদের', 'নায়িকা', 'নায্য', 'নারাজ', 'নারী', 'নারীকে', 'নারীটাকে', 'নারীদের', 'নারীদেরকে', 'নারীবাদ', 'নারীবাদীরা', 'নারীর', 'নারীরা', 'নারে', 'নার্সের', 'নালা', 'নাশকতা', 'নাশকতার', 'নাসরিন', 'নাসরিনকে', 'নাসরিনের', 'নাসা', 'নাস্তা', 'নাস্তিক', 'নাস্তিকতার', 'নাস্তিকদের', 'নাস্তিকরা', 'নাস্তিকের', 'নাহ', 'নাহলে', 'নাহ্', 'নাড়া', 'নায়', 'নায়ক', 'নায়কে', 'নায়িকা', 'নায়িকাদের', 'নায়িকার', 'নি', 'নিঁখুত', 'নিংড়ানো', 'নিঃশব্দে', 'নিঃশর্ত', 'নিঃশেষ', 'নিঃশেষও', 'নিঃশ্বাস', 'নিঃশ্বাসের', 'নিঃসন্তান', 'নিঃসন্দেহে', 'নিঃস্ব', 'নিঃস্বার্থ', 'নিঃস্বার্থভাবে', 'নিইজ', 'নিউক্লিয়ার', 'নিউজ', 'নিউজগুলি', 'নিউজটা', 'নিউজটাই', 'নিউজিল্যান্ডের', 'নিউজে', 'নিউজের', 'নিউট্রালে', 'নিও', 'নিওজ', 'নিকট', 'নিকটতম', 'নিকটে', 'নিকুচি', 'নিকৃষ্ট', 'নিকৃষ্টতম', 'নিকৃষ্টতর', 'নিকেতন', 'নিক্সন', 'নিখাদ', 'নিখুঁত', 'নিখুত', 'নিগাঢ়', 'নিগুঢ়', 'নিঙড়ানো', 'নিচ', 'নিচু', 'নিচুমানের', 'নিচে', 'নিচেই', 'নিচের', 'নিচ্ছি', 'নিচ্ছিত', 'নিচ্ছে', 'নিচ্ছেন', 'নিচ্শয়ই', 'নিছ', 'নিছক', 'নিছে', 'নিছেন', 'নিজ', 'নিজকে', 'নিজরও', 'নিজস্ব', 'নিজে', 'নিজেই', 'নিজেও', 'নিজেকে', 'নিজেকেই', 'নিজেকেও', 'নিজেদের', 'নিজেদেরকে', 'নিজেদেরর', 'নিজের', 'নিজেরই', 'নিজেরদের', 'নিজেরা', 'নিজেরাই', 'নিজেরাতো', 'নিজেরী', 'নিজেরে', 'নিজেস্ব', 'নিট', 'নিতাছে', 'নিতান্তই', 'নিতাম', 'নিতিবানদের', 'নিতিমালা', 'নিতীমালা', 'নিতে', 'নিতেছেন', 'নিতো', 'নিত্য', 'নিত্যদিনের', 'নিত্যনতুন', 'নিত্যনৈমিত্তিক', 'নিত্যপণ্যের', 'নিত্যপন্য', 'নিত্যপ্রয়োজনীয়', 'নিত্যসঙ্গী', 'নিদর্শন', 'নিদর্শনগুলোর', 'নিদারুন', 'নিধন', 'নিধনের', 'নিন', 'নিন্দনীয়', 'নিন্দা', 'নিন্ধারীতি', 'নিন্ম', 'নিন্মবিত্তে', 'নিন্মবিত্তের', 'নিপাক', 'নিপাত', 'নিপীড়ন', 'নিপীড়িত', 'নিব', 'নিবন্ধন', 'নিবারণ', 'নিবাস', 'নিবিয়ে', 'নিবে', 'নিবেদন', 'নিবেন', 'নিভানোর', 'নিভৃত', 'নিভৃতে', 'নিমগ্ন', 'নিমজ্জিত', 'নিমতলীর', 'নিমন্ত্রণ', 'নিমিষেই', 'নিম্ন', 'নিম্নবিত্ত', 'নিম্নবিত্তে', 'নিম্নমধ্যবিত্ত', 'নিম্নমানের', 'নিম্নমুখী', 'নিম্নমুখীর', 'নিম্নশ্রেণির', 'নিম্ম', 'নিম্মমানের', 'নিয়তি', 'নিয়ন্ত্রণ', 'নিয়ন্ত্রণে', 'নিয়ন্ত্রণের', 'নিয়ন্ত্রন', 'নিয়ন্ত্রিত', 'নিয়ম', 'নিয়মিত', 'নিয়মে', 'নিয়মের', 'নিয়া', 'নিয়ামত', 'নিয়ে', 'নিয়েই', 'নিয়েও', 'নিয়েছিল', 'নিয়েছে', 'নিয়েছেন', 'নিয়োগ', 'নিয়োজিত', 'নিযুক্ত', 'নিরন্তর', 'নিরপরাধ', 'নিরপেক্ষ', 'নিরপেক্ষতার', 'নিরব', 'নিরবচ্ছিন্ন', 'নিরবে', 'নিরর্থক', 'নিরলস', 'নিরসন', 'নিরসনে', 'নিরাপততা', 'নিরাপত্তা', 'নিরাপত্তাও', 'নিরাপত্তাকে', 'নিরাপত্তার', 'নিরাপত্তাহীনতা', 'নিরাপত্তাহীনতায়', 'নিরাপদ', 'নিরাপদে', 'নিরাশ', 'নিরিহ', 'নিরীহ', 'নিরুপাই', 'নিরুপায়', 'নিরুৎসাহিত', 'নিরেট', 'নিরেপেক্ষতা', 'নিরেপেক্ষতার', 'নির্গত', 'নির্ণয়', 'নির্দয়', 'নির্দলীয়', 'নির্দিষ্ট', 'নির্দেশ', 'নির্দেশনা', 'নির্দেশনাই', 'নির্দেশিত', 'নির্দ্বিধায়', 'নির্দয়', 'নির্ধারণী', 'নির্ধারিত', 'নির্বসনে', 'নির্বাক', 'নির্বাচক', 'নির্বাচন', 'নির্বাচনে', 'নির্বাচনের', 'নির্বাচিত', 'নির্বাসিত', 'নির্বাহ', 'নির্বিকার', 'নির্বিকারভাবে', 'নির্বিকারে', 'নির্বিশেষ', 'নির্বিশেষে', 'নির্বোধ', 'নির্ভয়ে', 'নির্ভর', 'নির্ভরতা', 'নির্ভরশীল', 'নির্ভীক', 'নির্ভয়ে', 'নির্মম', 'নির্মমতা', 'নির্মল', 'নির্মাণ', 'নির্মাণাধীন', 'নির্মাণের', 'নির্মাতা', 'নির্মান', 'নির্মানে', 'নির্মিত', 'নির্যাতন', 'নির্যাতনে', 'নির্যাতনের', 'নির্যাতিত', 'নির্যাতিতা', 'নির্লজ্জ', 'নির্লজ্জতা', 'নির্লজ্জতাও', 'নির্লজ্জতার', 'নির্লজ্জ্ব', 'নির্লজ্ব', 'নিল', 'নিলজ্জ', 'নিলজ্জগুলা', 'নিলর্জ্জ', 'নিলা', 'নিলাম', 'নিলামে', 'নিলে', 'নিলেই', 'নিলেও', 'নিলেন', 'নিলো', 'নিশানাই', 'নিশি', 'নিশেধাজ্ঞা', 'নিশ্চয়', 'নিশ্চয়ই', 'নিশ্চয়তার', 'নিশ্চিই', 'নিশ্চিত', 'নিশ্চয়', 'নিশ্চয়ই', 'নিশ্চয়তা', 'নিশ্বাস', 'নিষিদ্ধ', 'নিষিদ্ধপল্লি', 'নিষিদ্ব', 'নিষেধ', 'নিষেধাজ্ঞা', 'নিষেধাজ্ঞার', 'নিষেধাজ্ঞায়', 'নিষ্টা', 'নিষ্ঠ', 'নিষ্ঠার', 'নিষ্ঠুর', 'নিষ্ঠুরতার', 'নিষ্ঠুরভাবে', 'নিষ্পত্তির', 'নিষ্পাপ', 'নিসঠুর', 'নিস্তার', 'নিস্পাপ', 'নিহত', 'নিহতদের', 'নিহতে', 'নিহতের', 'নিয়ত', 'নিয়তি', 'নিয়তে', 'নিয়নত্রন', 'নিয়নত্রনের', 'নিয়ন্ত্রণ', 'নিয়ন্ত্রণহীন', 'নিয়ন্ত্রণে', 'নিয়ন্ত্রণের', 'নিয়ন্ত্রন', 'নিয়ন্ত্রিত', 'নিয়ম', 'নিয়মটা', 'নিয়মিত', 'নিয়মে', 'নিয়মের', 'নিয়া', 'নিয়াই', 'নিয়াও', 'নিয়ে', 'নিয়েই', 'নিয়েও', 'নিয়েছি', 'নিয়েছিলেন', 'নিয়েছিলো', 'নিয়েছে', 'নিয়েছেন', 'নিয়েন', 'নিয়োগ', 'নিয়োজিত', 'নীচ', 'নীচু', 'নীচে', 'নীতি', 'নীতিকথা', 'নীতিবান', 'নীতির', 'নীতিহীন', 'নীম', 'নীরব', 'নীরবতা', 'নীরবে', 'নীরিক্ষা', 'নীল', 'নীলক্ষেতের', 'নীলনকশায়', 'নীড়ই', 'নীড়ের', 'নুতুন', 'নুন', 'নুন্যতম', 'নুবাল', 'নুরই', 'নুরুল', 'নুরের', 'নূন্যতম', 'নৃশংস', 'নৃশংসতম', 'নে', 'নেই', 'নেইমি', 'নেএকোনা', 'নেওয়া', 'নেওয়ার', 'নেওয়া', 'নেওয়ার', 'নেক', 'নেগেটিভ', 'নেট', 'নেটওয়ার্ক', 'নেটওয়ার্ক', 'নেটওয়ার্কই', 'নেটো', 'নেতা', 'নেতাকর্মীদের', 'নেতাকর্মীর', 'নেতাকর্মীরা', 'নেতাকে', 'নেতাদের', 'নেতার', 'নেতারা', 'নেতারাই', 'নেতিবাচক', 'নেতৃত্ব', 'নেতৃত্বে', 'নেতৃত্বের', 'নেত্রকোনা', 'নেত্রী', 'নেত্রীকে', 'নেত্রীর', 'নেন', 'নেপাল', 'নেপালে', 'নেব', 'নেবার', 'নেবে', 'নেবেই', 'নেবেন', 'নেভানোর', 'নেমে', 'নেয়', 'নেয়না', 'নেয়া', 'নেয়ামত', 'নেয়ার', 'নের', 'নেশা', 'নেশাখোর', 'নেশাগ্রস্ত', 'নেহাত', 'নোর', 'নেয়', 'নেয়না', 'নেয়নি', 'নেয়া', 'নেয়ার', 'নেয়ে', 'নৈতিক', 'নৈতিকতা', 'নৈতিকতার', 'নৈরাজ্য', 'নৈরাজ্যের', 'নো', 'নোংরা', 'নোংরামি', 'নোংরামিকে', 'নোংরামির', 'নোট', 'নোটই', 'নোটও', 'নোটকে', 'নোটশ', 'নোটিশ', 'নোটে', 'নোটের', 'নোবেল', 'নোবেলকে', 'নোবেলজয়ী', 'নোবেলের', 'নোবেলেরো', 'নোমান', 'নোমানকে', 'নোয়াখালী', 'নোরা', 'নোয়াখাইল্লাদের', 'নোয়াখালী', 'নোয়াখালীতে', 'নোয়াখালীবাসী', 'নোয়ানো', 'নৌ', 'নৌকা', 'নৌকাতে', 'নৌকার', 'নৌকায়', 'নৌবহর', 'নৌবাহিনীর', 'ন্যাকামি', 'ন্যাক্কারজনক', 'ন্যাচারাল', 'ন্যাটো', 'ন্যাটোতে', 'ন্যাটোর', 'ন্যায়', 'ন্যায়ের', 'ন্যায্য', 'ন্যায্যতা', 'ন্যাশন', 'ন্যায়', 'ন্যায়ের', 'ন্যায়্যতা', 'ন্যুনতম', 'ন্যূনতম', 'নড়বে', 'নড়ে', 'নয়', 'নয়ত', 'নয়তো', 'নয়ন', 'প', 'পঁচাত্তর', 'পঁচাত্তরে', 'পঁচিশে', 'পঁচে', 'পই', 'পইলেন', 'পইড়া', 'পকেট', 'পকেটে', 'পক্ক', 'পক্ষ', 'পক্ষকে', 'পক্ষকেই', 'পক্ষথেকে', 'পক্ষপাতদুষ্ট', 'পক্ষপাতমূলক', 'পক্ষান্তরে', 'পক্ষে', 'পখি', 'পঙ্গু', 'পচন', 'পছন্দ', 'পছন্দনীয়', 'পছন্দের', 'পজিটিভ', 'পজিশন', 'পজেটিব', 'পজেটিভ', 'পঞ্চ', 'পঞ্চাশ', 'পটুয়াখালীর', 'পটুয়াখালীর', 'পট্টি', 'পডকাস্ট', 'পড়ছে', 'পড়তাম', 'পড়তে', 'পড়তো', 'পড়বে', 'পড়বেন', 'পড়বেনা', 'পড়লে', 'পড়লেই', 'পড়লেও', 'পড়লো', 'পড়া', 'পড়াতো', 'পড়ার', 'পড়ালেখা', 'পড়ালেখার', 'পড়াশোনাতে', 'পড়ি', 'পড়ুক', 'পড়ে', 'পড়েছি', 'পড়েছে', 'পড়েনি', 'পণ্ড', 'পণ্য', 'পণ্যবাহী', 'পণ্যাদি', 'পণ্যের', 'পতন', 'পতনের', 'পতাকার', 'পতিতা', 'পতিরা', 'পতিলয়ের', 'পত্রিকা', 'পত্রিকাই', 'পত্রিকাও', 'পত্রিকাওয়ালাদের', 'পত্রিকাকে', 'পত্রিকাগুলো', 'পত্রিকাটা', 'পত্রিকাটি', 'পত্রিকার', 'পত্রিকায়', 'পত্রিকায়ও', 'পত্রের', 'পথ', 'পথচলা', 'পথচারী', 'পথচারীরা', 'পথটা', 'পথযাত্রা', 'পথযাত্রী', 'পথশিশুদের', 'পথে', 'পথেই', 'পথেঘাটে', 'পথের', 'পদ', 'পদক', 'পদক্ষেপ', 'পদখেপ', 'পদচারণ', 'পদটির', 'পদত্যাগ', 'পদদলিত', 'পদবী', 'পদস্থ', 'পদাধীকার', 'পদানত', 'পদার্থ', 'পদার্থবিজ্ঞানের', 'পদার্থের', 'পদার্পণ', 'পদে', 'পদের', 'পদোন্নতি', 'পদ্ধতি', 'পদ্ধতিতে', 'পদ্ধা', 'পদ্না', 'পদ্বতি', 'পদ্ম', 'পদ্মা', 'পদ্মাপার', 'পদ্মায়', 'পদ্মার', 'পদ্মাসেতু', 'পদ্মাসেতুর', 'পনি', 'পনেরো', 'পন্ডিতি', 'পন্ডিতে', 'পন্থা', 'পন্থাই', 'পন্থায়', 'পন্য', 'পন্যদ্রব্য', 'পন্যদ্রব্যের', 'পন্যে', 'পন্যের', 'পবিত্র', 'পয়েন্ট', 'পয়েন্টে', 'পযার্য়ে', 'পযার্য়ের', 'পর', 'পরই', 'পরও', 'পরকাল', 'পরকালে', 'পরকালের', 'পরকীয়া', 'পরকীয়ার', 'পরক্ষণেই', 'পরগাছা', 'পরছি', 'পরছে', 'পরতে', 'পরতেছে', 'পরতো', 'পরদেশী', 'পরনির্ভরশীল', 'পরনির্ভরশীলতা', 'পরপর', 'পরবর্তী', 'পরবর্তীতে', 'পরবে', 'পরম', 'পরমকরুনাময়', 'পরমানন্দের', 'পরমানু', 'পরমানূ', 'পররাষ্ট্র', 'পররাষ্ট্রমন্ত্রী', 'পররাষ্ট্রমন্ত্রীর', 'পরলে', 'পরলো', 'পরশুদিন', 'পরশ্রীকাতর', 'পরস্পরের', 'পরা', 'পরাজয়ে', 'পরাজিত', 'পরাজয়', 'পরাজয়ে', 'পরাজয়ের', 'পরান', 'পরানো', 'পরামর্শ', 'পরামর্শে', 'পরায়ণ', 'পরার', 'পরালেখা', 'পরালো', 'পরাশক্তি', 'পরাস্ত', 'পরায়ণ', 'পরায়ন', 'পরি', 'পরিকল্পনা', 'পরিকল্পনাকারী', 'পরিকল্পনার', 'পরিকল্পনায়', 'পরিকল্পিত', 'পরিক্রমায়', 'পরিক্ষা', 'পরিক্ষাই', 'পরিক্ষার্থী', 'পরিক্ষিত', 'পরিচয়', 'পরিচয়ই', 'পরিচালক', 'পরিচালকরা', 'পরিচালকের', 'পরিচালনও', 'পরিচালনা', 'পরিচালনার', 'পরিচালিত', 'পরিচিত', 'পরিচিতি', 'পরিচ্ছন্ন', 'পরিচয়', 'পরিচয়ে', 'পরিজনদের', 'পরিণত', 'পরিণতি', 'পরিণতির', 'পরিত্যাজ্য', 'পরিত্রাণে', 'পরিনত', 'পরিনতি', 'পরিনতির', 'পরিনাম', 'পরিনিতি', 'পরিপক্ক', 'পরিপন্থী', 'পরিপূরক', 'পরিপূর্ণ', 'পরিবর্তন', 'পরিবর্তনশীল', 'পরিবর্তনে', 'পরিবর্তনের', 'পরিবর্তে', 'পরিবহণ', 'পরিবহন', 'পরিবহনটা', 'পরিবহনের', 'পরিবার', 'পরিবারকে', 'পরিবারকেও', 'পরিবারগুলিই', 'পরিবারগুলো', 'পরিবারগুলোর', 'পরিবারটার', 'পরিবারটি', 'পরিবারটির', 'পরিবারে', 'পরিবারেই', 'পরিবারের', 'পরিবেশ', 'পরিবেশকে', 'পরিবেশন', 'পরিবেশনা', 'পরিবেশনের', 'পরিবেশবাদিরা', 'পরিবেশিত', 'পরিবেশে', 'পরিবেশের', 'পরিমণির', 'পরিমনির', 'পরিমাণ', 'পরিমাণে', 'পরিমান', 'পরিমার্জিত', 'পরিশেষে', 'পরিশোধ', 'পরিশোধের', 'পরিশ্রম', 'পরিশ্রমী', 'পরিশ্রমে', 'পরিশ্রমের', 'পরিষদ', 'পরিষ্কার', 'পরিষ্কারভাবে', 'পরিসংখ্যান', 'পরিসংখ্যানটি', 'পরিসংখ্যানে', 'পরিসদে', 'পরিসেবা', 'পরিস্কার', 'পরিস্থতির', 'পরিস্থিতি', 'পরিস্থিতিই', 'পরিস্থিতিটা', 'পরিস্থিতিতে', 'পরিস্থিতির', 'পরিহার', 'পরী', 'পরীকে', 'পরীক্ষণ', 'পরীক্ষা', 'পরীক্ষার্থীরা', 'পরীক্ষিত', 'পরুক', 'পরুষজাতী', 'পরে', 'পরেই', 'পরেও', 'পরেছি', 'পরেছে', 'পরেন', 'পরেনা', 'পরের', 'পরেরও', 'পরোক্ষ', 'পরোপকার', 'পরোয়ানা', 'পর্ণ', 'পর্ণগ্রাফি', 'পর্দা', 'পর্দানশীলতার', 'পর্দার', 'পর্দায়', 'পর্নো', 'পর্নোগ্রাফি', 'পর্নোগ্রাফির', 'পর্বত', 'পর্যটক', 'পর্যটকদের', 'পর্যটন', 'পর্যটনের', 'পর্যন্ত', 'পর্যন্তই', 'পর্যবেক্ষণের', 'পর্যাপ্ত', 'পর্যায়ে', 'পর্যায়ের', 'পর্যালোচনা', 'পর্যায়ে', 'পর্যায়েও', 'পর্যায়ের', 'পরয়া', 'পলকে', 'পলাতক', 'পলাশী', 'পলিটিক্স', 'পলিটিশিয়ান', 'পলিটেকনিকের', 'পলিট্যাকনিকেল', 'পলিসি', 'পশম', 'পশমগুলো', 'পশরা', 'পশু', 'পশুকে', 'পশুটা', 'পশুটাকে', 'পশুত্ব', 'পশুদের', 'পশুর', 'পশুরা', 'পশূ', 'পশ্চাৎ', 'পশ্চিমবঙ্গ', 'পশ্চিমবঙ্গের', 'পশ্চিমবাংলায়', 'পশ্চিমা', 'পশ্চিমাদের', 'পশ্চিমারা', 'পশ্চিমারাই', 'পসমের', 'পসিবল', 'পহাড়', 'পা', 'পাঁচ', 'পাঁচটা', 'পাঁচতালায়', 'পাঁচ্ছি', 'পাঁঠা', 'পাঁতি', 'পাই', 'পাইছি', 'পাইছিরে', 'পাইছে', 'পাইছেন', 'পাইছো', 'পাইতাম', 'পাইতেন', 'পাইতো', 'পাইনি', 'পাইপলাইন', 'পাইবা', 'পাইবো', 'পাইলট', 'পাইলটের', 'পাইলাম', 'পাইলে', 'পাইলো', 'পাইয়া', 'পাও', 'পাওনা', 'পাওনার', 'পাওয়া', 'পাওয়াই', 'পাওয়ায়', 'পাওয়ার', 'পাওয়ারের', 'পাওা', 'পাওয়া', 'পাওয়াটা', 'পাওয়াতে', 'পাওয়ার', 'পাওয়ায়', 'পাক', 'পাকই', 'পাকনামি', 'পাকনামী', 'পাকলে', 'পাকাইতে', 'পাকিস্তান', 'পাকিস্তানকে', 'পাকিস্তানি', 'পাকিস্তানী', 'পাকিস্তানীদের', 'পাকিস্তানের', 'পাকিস্হানের', 'পাকের', 'পাকড়াও', 'পাখা', 'পাখি', 'পাখিকি', 'পাখির', 'পাখী', 'পাগল', 'পাগলও', 'পাগলগুলো', 'পাগলা', 'পাগলাগারদে', 'পাগলামি', 'পাগলামির', 'পাগলামী', 'পাগলি', 'পাগলীর', 'পাগলে', 'পাগলেও', 'পাগলের', 'পাচার', 'পাচারকারী', 'পাচারকারীদের', 'পাচারকারীদেরও', 'পাচারকারীর', 'পাচারকারীরা', 'পাচারকৃত', 'পাচারের', 'পাচায়', 'পাচ্ছি', 'পাচ্ছিনা', 'পাচ্ছে', 'পাছার', 'পাছায়', 'পাজি', 'পাঞ্জাবীদের', 'পাট', 'পাটকেল', 'পাটান', 'পাঠ', 'পাঠকের', 'পাঠশালার', 'পাঠা', 'পাঠাই', 'পাঠাইছিলেন', 'পাঠাচ্ছে', 'পাঠাতে', 'পাঠান', 'পাঠানো', 'পাঠানোই', 'পাঠানোর', 'পাঠাবো', 'পাঠায়', 'পাঠালে', 'পাঠালেই', 'পাঠালো', 'পাঠায়', 'পাঠিয়েছে', 'পাঠিয়ে', 'পাঠিয়েছে', 'পাঠিয়েছেন', 'পাঠ্য', 'পাঠ্যক্রম', 'পাড়ার', 'পাতলা', 'পাতা', 'পাতাইয়া', 'পাতার', 'পাতাল', 'পাতায়', 'পাতায়া', 'পাতি', 'পাত্তা', 'পাত্র', 'পাত্রী', 'পাত্রের', 'পাথর', 'পাথরে', 'পাথরের', 'পান', 'পানি', 'পানিটাও', 'পানিতে', 'পানিবন্দি', 'পানিবন্দী', 'পানির', 'পানীর', 'পানীয়', 'পানে', 'পানোতি', 'পান্ডব', 'পান্তা', 'পান্থপথ', 'পাপ', 'পাপকে', 'পাপন', 'পাপনদা', 'পাপিষ্ঠ', 'পাপিয়া', 'পাপী', 'পাপীকে', 'পাপুন্দা', 'পাপুয়ানিউগিনির', 'পাপে', 'পাপের', 'পাপোন্দা', 'পাব', 'পাবনা', 'পাবনায়', 'পাবনায়', 'পাবলিক', 'পাবলিকই', 'পাবলিকও', 'পাবলিককে', 'পাবলিকদের', 'পাবলিকের', 'পাবলিশ', 'পাবার', 'পাবে', 'পাবেই', 'পাবেন', 'পাবেনা', 'পাবেনাকো', 'পাবো', 'পাব্লিক', 'পাব্লিসিটি', 'পাম', 'পাম্প', 'পাম্পের', 'পায়', 'পায়ছে', 'পায়তারা', 'পায়না', 'পায়নি', 'পায়ে', 'পার', 'পারঅক্সাইড', 'পারছি', 'পারছিনা', 'পারছে', 'পারছেন', 'পারছেনা', 'পারছো', 'পারত', 'পারতা', 'পারতাছি', 'পারতাম', 'পারতে', 'পারতেচে', 'পারতেছিনা', 'পারতেছে', 'পারতেন', 'পারতো', 'পারদর্শী', 'পারনি', 'পারফরমেন্সে', 'পারফরম্যান্স', 'পারফর্ম', 'পারফর্মেন্স', 'পারফেক্ট', 'পারব', 'পারবা', 'পারবি', 'পারবে', 'পারবেওনা', 'পারবেন', 'পারবেননা', 'পারবেনা', 'পারবো', 'পারবোনা', 'পারমাণবিক', 'পারমানবিক', 'পারমিট', 'পারলনা', 'পারলাম', 'পারলি', 'পারলে', 'পারলেই', 'পারলেও', 'পারলেন', 'পারলো', 'পারলোনা', 'পারলৌকিক', 'পারষ্পরিক', 'পারস', 'পারা', 'পারাই', 'পারাও', 'পারাতো', 'পারার', 'পারি', 'পারিনা', 'পারিনি', 'পারিপার্শ্বিক', 'পারিবারিক', 'পারিলে', 'পারিশ্রমিক', 'পারিস', 'পারুক', 'পারে', 'পারেন', 'পারেনও', 'পারেনা', 'পারেনাই', 'পারেনি', 'পারো', 'পার্কিং', 'পার্কে', 'পার্কের', 'পার্ট', 'পার্টনারশিপ', 'পার্টি', 'পার্টিকে', 'পার্থ', 'পার্থক্য', 'পার্থক্যটা', 'পার্থের', 'পার্ফমেন্স', 'পার্ফেক্ট', 'পার্লামেন্ট', 'পার্লামেন্টের', 'পার্শ্ববর্তী', 'পার্সনালি', 'পার্সেন্ট', 'পার্সোনাল', 'পালক', 'পালট', 'পালটা', 'পালটাই', 'পালটানো', 'পালটে', 'পালতু', 'পালন', 'পালনে', 'পালনের', 'পালা', 'পালাইছিলো', 'পালাতে', 'পালানোর', 'পালাবে', 'পালালে', 'পালিত', 'পালিয়ে', 'পালিয়ে', 'পাল্টা', 'পাল্টাও', 'পাল্টে', 'পাল্লা', 'পাল্লায়', 'পাশ', 'পাশকাটিয়ে', 'পাশবর্তি', 'পাশবিক', 'পাশাপাশি', 'পাশে', 'পাশের', 'পাশ্চাত্যের', 'পাষাণ', 'পাস', 'পাসওয়ার্ড', 'পাসপোর্ট', 'পাসপোর্টেই', 'পাসেই', 'পাহারা', 'পাহারায়', 'পাহাড়', 'পাারবেনা', 'পাড়া', 'পাড়ার', 'পাড়ি', 'পাড়ে', 'পাড়ের', 'পায়', 'পায়খানা', 'পায়খানায়', 'পায়তারা', 'পায়না', 'পায়নি', 'পায়ে', 'পায়ের', 'পি', 'পিএইচডি', 'পিএসজি', 'পিক', 'পিকআপ', 'পিকআপে', 'পিকনিক', 'পিকু', 'পিকে', 'পিচ', 'পিছন', 'পিছনে', 'পিছনের', 'পিছিয়ে', 'পিছিয়ে', 'পিছু', 'পিছে', 'পিছেয়ে', 'পিজ্জা', 'পিটা', 'পিটান', 'পিটানো', 'পিটায়া', 'পিটিং', 'পিটিয়ে', 'পিটিয়ে', 'পিটুনি', 'পিঠ', 'পিঠানোর', 'পিঠের', 'পিতা', 'পিতাকে', 'পিতাতুল্য', 'পিতামাতা', 'পিতার', 'পিতৃহত্যার', 'পিত্ত', 'পিনিক', 'পিপাসুদের', 'পিপাসুর', 'পিপিলিকার', 'পিপিলিকিার', 'পিপিলীকার', 'পিপীলিকা', 'পির', 'পিরিত', 'পিরিয়ডে', 'পিরোজপুর', 'পিলাজার', 'পিলার', 'পিলিজ', 'পিষে', 'পিস', 'পীরগন্জে', 'পীড়ন', 'পু', 'পুঁজি', 'পুঁজিপতিরা', 'পুঁজিবাদ', 'পুঁজিবাদী', 'পুঁথিগত', 'পুঙ্খানুপুঙ্খভাবে', 'পুজনিয়', 'পুজি', 'পুট', 'পুটকি', 'পুটু', 'পুটে', 'পুড়ছে', 'পুড়িয়েছেন', 'পুড়ে', 'পুতি', 'পুতিন', 'পুতিনরে', 'পুতিনের', 'পুতুল', 'পুতে', 'পুত্র', 'পুনঃজাগরণ', 'পুনঃপ্রতিষ্ঠা', 'পুনঃরূদ্ধার', 'পুনরাবৃত্তি', 'পুনরায়', 'পুনর্বাসন', 'পুন্মারামারী', 'পুবের', 'পুরন', 'পুরনো', 'পুরষ্কার', 'পুরস্কার', 'পুরস্কৃত', 'পুরা', 'পুরাই', 'পুরাটাই', 'পুরাতন', 'পুরান', 'পুরাপুরি', 'পুরি', 'পুরুষ', 'পুরুষকার', 'পুরুষকে', 'পুরুষকেই', 'পুরুষদের', 'পুরুষরা', 'পুরুষে', 'পুরুষের', 'পুরে', 'পুরেছে', 'পুরো', 'পুরোই', 'পুরোটা', 'পুরোটাই', 'পুরোনো', 'পুরোপুরি', 'পুর্ন', 'পুর্ব', 'পুল', 'পুলকিত', 'পুলসিরাত', 'পুলিশ', 'পুলিশই', 'পুলিশও', 'পুলিশওয়ালারা', 'পুলিশকে', 'পুলিশদের', 'পুলিশদেরকে', 'পুলিশর', 'পুলিশরা', 'পুলিশরাই', 'পুলিশলীগের', 'পুলিশি', 'পুলিশে', 'পুলিশের', 'পুশুর', 'পুষে', 'পুষ্টি', 'পুষ্টিহীনতায়', 'পুসে', 'পুস্তকে', 'পুড়ছে', 'পুড়তে', 'পুড়ানো', 'পুড়িয়ে', 'পুড়ে', 'পূজা', 'পূজোর', 'পূণরায়', 'পূণ্য', 'পূরণ', 'পূরণের', 'পূরন', 'পূরনের', 'পূর্ণ', 'পূর্ণতা', 'পূর্ণশক্তি', 'পূর্ণাঙ্গ', 'পূর্ণিমার', 'পূর্ন', 'পূর্নতা', 'পূর্ব', 'পূর্বক', 'পূর্বপুরুষেরা', 'পূর্বাবস্থা', 'পূর্বাভাস', 'পূর্বে', 'পূর্বেই', 'পূর্বের', 'পৃথিবিতে', 'পৃথিবী', 'পৃথিবীকে', 'পৃথিবীটা', 'পৃথিবীটাকে', 'পৃথিবীতে', 'পৃথিবীর', 'পৃথীবিটা', 'পৃথীবিতে', 'পৃথীবির', 'পৃষ্ট', 'পৃষ্ঠপোষক', 'পৃষ্ঠপোষকতা', 'পেঁয়াজ', 'পেইজে', 'পেইড', 'পেচাচ্ছে', 'পেছচ্ছি', 'পেছন', 'পেছনে', 'পেছনের', 'পেছাবে', 'পেছিয়ে', 'পেট', 'পেটতো', 'পেটা', 'পেটাতে', 'পেটানো', 'পেটানোর', 'পেটিকোটের', 'পেটে', 'পেটের', 'পেট্রোবাংলার', 'পেট্রোল', 'পেট্রোলের', 'পেতাম', 'পেতে', 'পেতেই', 'পেতো', 'পেপারে', 'পেপারের', 'পেম', 'পেমেন্ট', 'পেয়াজ', 'পেয়ারি', 'পেয়ে', 'পেয়েছি', 'পেয়েছিলাম', 'পেয়েছে', 'পেয়েছেন', 'পেরানো', 'পেরিয়ে', 'পেরে', 'পেরেছে', 'পেরেছেন', 'পেল', 'পেলাম', 'পেলামনা', 'পেলে', 'পেলেই', 'পেলেও', 'পেলেন', 'পেলেয়ার', 'পেলের', 'পেলেয়ার', 'পেলো', 'পেশা', 'পেশাগত', 'পেশাদার', 'পেশাদারিত্ব', 'পেশার', 'পেশায়', 'পেশেছি', 'পেসার', 'পোর্ট', 'পেড়ে', 'পেয়াজ', 'পেয়াদার', 'পেয়ে', 'পেয়েছি', 'পেয়েছিল', 'পেয়েছিলো', 'পেয়েছে', 'পেয়েছেন', 'পৈচাশিক', 'পো', 'পোকামাকড়ের', 'পোদেবাদ', 'পোর্টাল', 'পোলা', 'পোলাডা', 'পোলাদের', 'পোলাপাইন', 'পোলাপানরে', 'পোলার', 'পোলারা', 'পোশা', 'পোশাক', 'পোশাকপরিচ্ছদ', 'পোশাকি', 'পোষ', 'পোষণ', 'পোষা', 'পোষাককে', 'পোষাচ্ছে', 'পোষে', 'পোষ্টদাতাকে', 'পোস্ট', 'পোস্টে', 'পোস্টের', 'পোহাতে', 'পোড়াও', 'পোড়াচ্ছে', 'পৌঁছাতে', 'পৌঁছানোর', 'পৌঁছায়', 'পৌঁছায়নি', 'পৌঁছে', 'পৌঁছেছে', 'পৌচিয়াছে', 'পৌছে', 'পৌছেছে', 'পৌষ', 'প্ততিটা', 'প্যাকেট', 'প্যাডেল', 'প্যাদানি', 'প্যান্ট', 'প্যান্টের', 'প্যান্ডামিকের', 'প্যারা', 'প্যারায়', 'প্যাশন', 'প্র', 'প্রকট', 'প্রকল্প', 'প্রকল্পধারীদের', 'প্রকল্পে', 'প্রকল্পের', 'প্রকার', 'প্রকারান্তে', 'প্রকারের', 'প্রকাশ', 'প্রকাশিত', 'প্রকাশে', 'প্রকাশেই', 'প্রকাশের', 'প্রকাশ্য', 'প্রকাশ্যে', 'প্রকৃত', 'প্রকৃতপক্ষে', 'প্রকৃতভাবে', 'প্রকৃতি', 'প্রকৃতিকে', 'প্রকৃতির', 'প্রকৃৃতির', 'প্রকোপ', 'প্রকৌশলিত', 'প্রকৌশলী', 'প্রকৌশলীদের', 'প্রক্রিয়া', 'প্রগতিশীলরা', 'প্রচন্ড', 'প্রচলিত', 'প্রচার', 'প্রচারণা', 'প্রচারণাই', 'প্রচারবিমুখ', 'প্রচারের', 'প্রচুর', 'প্রচেষ্টা', 'প্রচেষ্টায়', 'প্রজন্ম', 'প্রজন্মকে', 'প্রজন্মটা', 'প্রজন্মের', 'প্রজম্ম', 'প্রজা', 'প্রজাতি', 'প্রজাতির', 'প্রজাদের', 'প্রজায়', 'প্রজেক্ট', 'প্রজেক্টে', 'প্রজেক্টের', 'প্রজ্ঞা', 'প্রজ্ঞাপন', 'প্রজ্ঞার', 'প্রজ্রক্ট', 'প্রটোকল', 'প্রডাকশন', 'প্রডাক্ট', 'প্রণাম', 'প্রণেতাসহ', 'প্রত', 'প্রতক্ষ', 'প্রতরণা', 'প্রতরনা', 'প্রতারক', 'প্রতারকদের', 'প্রতারণা', 'প্রতারণার', 'প্রতারণাসহ', 'প্রতারণায়', 'প্রতারনা', 'প্রতারনার', 'প্রতারনায়', 'প্রতাশ্যা', 'প্রতি', 'প্রতিই', 'প্রতিও', 'প্রতিক', 'প্রতিকারের', 'প্রতিকুলতা', 'প্রতিকূলে', 'প্রতিক্রিয়া', 'প্রতিক্রিয়ার', 'প্রতিক্ষীত', 'প্রতিচিত্র', 'প্রতিচ্ছবি', 'প্রতিচ্ছবিই', 'প্রতিটা', 'প্রতিটি', 'প্রতিদান', 'প্রতিদিন', 'প্রতিদিনই', 'প্রতিদিনকার', 'প্রতিদ্বন্দ্বী', 'প্রতিনিধি', 'প্রতিনিধিকে', 'প্রতিনিধিত্ব', 'প্রতিনিয়ত', 'প্রতিনিয়তই', 'প্রতিনিয়ত', 'প্রতিপক্ষ', 'প্রতিপক্ষকে', 'প্রতিপক্ষের', 'প্রতিপত্তি', 'প্রতিপন্ন', 'প্রতিপালক', 'প্রতিফলন', 'প্রতিবছর', 'প্রতিবন্দি', 'প্রতিবন্দিতার', 'প্রতিবন্ধক', 'প্রতিবন্ধকতা', 'প্রতিবন্ধি', 'প্রতিবন্ধী', 'প্রতিবন্ধীদের', 'প্রতিবব্ধকতার', 'প্রতিবাদ', 'প্রতিবাদকারী', 'প্রতিবাদকারীকে', 'প্রতিবাদী', 'প্রতিবাদে', 'প্রতিবাদের', 'প্রতিবার', 'প্রতিবারই', 'প্রতিবারেই', 'প্রতিবেদন', 'প্রতিবেদনটা', 'প্রতিবেশী', 'প্রতিভা', 'প্রতিভাবান', 'প্রতিভার', 'প্রতিমন্ত্রীর', 'প্রতিযোগিতা', 'প্রতিযোগিতায়', 'প্রতিযোগীতা', 'প্রতিরুধ', 'প্রতিরোধ', 'প্রতিশোধ', 'প্রতিশোধতো', 'প্রতিশ্রুতি', 'প্রতিষোধ', 'প্রতিষ্টা', 'প্রতিষ্টার', 'প্রতিষ্ঠা', 'প্রতিষ্ঠান', 'প্রতিষ্ঠানকে', 'প্রতিষ্ঠানগুলি', 'প্রতিষ্ঠানগুলো', 'প্রতিষ্ঠানগুলোকে', 'প্রতিষ্ঠানগুলোতে', 'প্রতিষ্ঠানে', 'প্রতিষ্ঠানের', 'প্রতিষ্ঠার', 'প্রতিষ্ঠিত', 'প্রতিহত', 'প্রতিহিংশার', 'প্রতিহিংসা', 'প্রতিহিংসাপরায়ন', 'প্রতিহিংসার', 'প্রতীক', 'প্রতীকের', 'প্রতীয়মান', 'প্রতেক', 'প্রত্যকটি', 'প্রত্যক্ষ', 'প্রত্যন্ত', 'প্রত্যাখ্যান', 'প্রত্যাবর্তন', 'প্রত্যাবাসনের', 'প্রত্যাশা', 'প্রত্যাশামতো', 'প্রত্যাশার', 'প্রত্যাশিত', 'প্রত্যাহার', 'প্রত্যাহারের', 'প্রত্যেক', 'প্রত্যেকটা', 'প্রত্যেকটি', 'প্রত্যেকবারই', 'প্রত্যেকের', 'প্রত্যেকেরই', 'প্রত্যোক', 'প্রত্যয়', 'প্রথম', 'প্রথমআলো', 'প্রথমত', 'প্রথমতো', 'প্রথমবারের', 'প্রথমে', 'প্রথমেই', 'প্রথা', 'প্রদর্শন', 'প্রদান', 'প্রদানের', 'প্রদীপ', 'প্রধাণ', 'প্রধান', 'প্রধানমন্ত্রী', 'প্রধানমন্ত্রীকে', 'প্রধানমন্ত্রীর', 'প্রধানরাই', 'প্রধানের', 'প্রনহানি', 'প্রনাম', 'প্রনোদনা', 'প্রনয়ন', 'প্রনয়নকারীরা', 'প্রপাগাণ্ডা', 'প্রপাগান্ডা', 'প্রফাগান্ড', 'প্রফেশনাল', 'প্রফেশনালী', 'প্রফেশনে', 'প্রবণতা', 'প্রবনতা', 'প্রবল', 'প্রবলেমে', 'প্রবাদ', 'প্রবাস', 'প্রবাসি', 'প্রবাসিদের', 'প্রবাসির', 'প্রবাসী', 'প্রবাসীদের', 'প্রবাসীরা', 'প্রবাসে', 'প্রবাহ', 'প্রবেশ', 'প্রভলেম', 'প্রভাব', 'প্রভাবই', 'প্রভাবমুক্ত', 'প্রভাবশালী', 'প্রভাবশালীদের', 'প্রভাবশালীরা', 'প্রভাবিত', 'প্রভাবেই', 'প্রভাবের', 'প্রভুদের', 'প্রমাণ', 'প্রমাণিত', 'প্রমান', 'প্রমানিত', 'প্রমানের', 'প্রমোশন', 'প্রয়াতের', 'প্রয়োগ', 'প্রয়োজন', 'প্রয়োজনীয়', 'প্রয়োজনের', 'প্রযুক্তি', 'প্রযুক্তিতে', 'প্রযুক্তির', 'প্রযোজক', 'প্রযোজকরাও', 'প্রযোজনা', 'প্রযোজ্য', 'প্ররোচনাকারী', 'প্রর্দশিত', 'প্রলম্বিত', 'প্রলাপ', 'প্রশংসনীয়', 'প্রশংসনীয়', 'প্রশংসা', 'প্রশংসার', 'প্রশংসিত', 'প্রশান্তি', 'প্রশান্তিময়', 'প্রশাসকবৃন্দ', 'প্রশাসকের', 'প্রশাসন', 'প্রশাসনকে', 'প্রশাসনিক', 'প্রশাসনের', 'প্রশিক্ষণ', 'প্রশিক্ষণের', 'প্রশ্ন', 'প্রশ্নই', 'প্রশ্নটা', 'প্রশ্নটার', 'প্রশ্নবিদ্ধ', 'প্রশ্নে', 'প্রশ্নের', 'প্রশ্রয়', 'প্রশ্রয়', 'প্রশয়', 'প্রসংশা', 'প্রসংশার', 'প্রসঙ্গ', 'প্রসার', 'প্রসাশন', 'প্রসাসনের', 'প্রসেসড', 'প্রস্তর', 'প্রস্তাব', 'প্রস্তাবটাও', 'প্রস্তাবের', 'প্রস্তুত', 'প্রস্তুতি', 'প্রস্থাবটা', 'প্রস্ন', 'প্রস্রাবের', 'প্রহর', 'প্রহরি', 'প্রহসন', 'প্রহসনের', 'প্রাইভেট', 'প্রাইমারীতে', 'প্রাকটিস', 'প্রাকৃতিক', 'প্রাক্তন', 'প্রাক্তনের', 'প্রাগমেটিক', 'প্রাচার', 'প্রাচীন', 'প্রাণ', 'প্রাণগুলোর', 'প্রাণঘাতী', 'প্রাণঢালা', 'প্রাণবন্ত', 'প্রাণভরে', 'প্রাণহানি', 'প্রাণহানির', 'প্রাণি', 'প্রাণিতে', 'প্রাণিরা', 'প্রাণী', 'প্রাণীকে', 'প্রাণীদের', 'প্রাণীর', 'প্রাণীরা', 'প্রাণের', 'প্রাতিষ্ঠানিক', 'প্রাথমিক', 'প্রাথমিকভাবে', 'প্রাদুর্ভাব', 'প্রাধান্য', 'প্রান', 'প্রানঢালা', 'প্রানপন', 'প্রানহানির', 'প্রানহানী', 'প্রানিগুলিকে', 'প্রানিদের', 'প্রানী', 'প্রানীগুলোর', 'প্রানীর', 'প্রানে', 'প্রানের', 'প্রান্ত', 'প্রান্তিক', 'প্রান্তে', 'প্রাপ্ত', 'প্রাপ্তি', 'প্রাপ্তিটা', 'প্রাপ্য', 'প্রায়', 'প্রার্থনা', 'প্রার্থনাতেও', 'প্রার্থী', 'প্রায়', 'প্রায়ই', 'প্রায়শই', 'প্রায়শ্চিত্ত', 'প্রায়োরিটি', 'প্রিপারেশন', 'প্রিয়', 'প্রিয়জন', 'প্রিয়জনদের', 'প্রিয়', 'প্রিয়জন', 'প্রিয়জনকে', 'প্রিয়জনকেও', 'প্রিয়জনের', 'প্রিয়তমাকে', 'প্রিয়ো', 'প্রীতির', 'প্রেকটিস', 'প্রেক্ষাপটে', 'প্রেক্ষাপটের', 'প্রেগন্যান্ট', 'প্রেম', 'প্রেমও', 'প্রেমলীলার', 'প্রেমি', 'প্রেমিক', 'প্রেমিকা', 'প্রেমিকার', 'প্রেমিদের', 'প্রেমী', 'প্রেমে', 'প্রেমের', 'প্রেরণা', 'প্রেরন', 'প্রেরনা', 'প্রেস', 'প্রেসার', 'প্রেসারের', 'প্রেসিডেন্ট', 'প্রেয়সী', 'প্রোগ্রাম', 'প্রোডাক্ট', 'প্রোতি', 'প্রোমোট', 'প্র্যাঙ্ক', 'প্রয়জন', 'প্রয়যোন', 'প্রয়োজন', 'প্রয়োগ', 'প্রয়োগের', 'প্রয়োজন', 'প্রয়োজনীয়', 'প্রয়োজনীয়তা', 'প্রয়োজনে', 'প্রয়োজনের', 'প্লাজা', 'প্লাজায়', 'প্লাটফর্ম', 'প্লাটে', 'প্লাবিত', 'প্লিজ', 'প্লীজ', 'প্লেগের', 'প্লেট', 'প্লেয়ার', 'প্লেয়ারের', 'প্লেসে', 'প্লেয়ার', 'প্লেয়ারই', 'প্লেয়ারদের', 'প্লেয়ারদেরকে', 'প্ল্যান', 'পড়ছি', 'পড়ছিল', 'পড়ছে', 'পড়তে', 'পড়তো', 'পড়বি', 'পড়বে', 'পড়বেন', 'পড়লে', 'পড়লো', 'পড়সিলাম', 'পড়া', 'পড়াতে', 'পড়ানো', 'পড়ার', 'পড়ালেখা', 'পড়ালেখার', 'পড়াশুনার', 'পড়াশুনায়', 'পড়াশোনা', 'পড়াশোনার', 'পড়ায়', 'পড়ায়ে', 'পড়িয়েন', 'পড়ুক', 'পড়ুয়া', 'পড়ে', 'পড়েছি', 'পড়েছে', 'পড়েছেন', 'পড়েন', 'পড়েনা', 'পড়ো', 'পয়দা', 'পয়সা', 'পয়সার', 'ফকরুলের', 'ফকির', 'ফকিরনি', 'ফকিরা', 'ফখরুল', 'ফজলামি', 'ফজলুল', 'ফটকাবাজ', 'ফটর', 'ফতনের', 'ফতুল্লা', 'ফন্দি', 'ফর', 'ফরজ', 'ফরমালিন', 'ফরমেটে', 'ফরিদপুর', 'ফরিদপুরের', 'ফর্মুলা', 'ফর্মুলার', 'ফর্মে', 'ফর্মেটের', 'ফল', 'ফলকটা', 'ফলকে', 'ফলাফল', 'ফলাফলই', 'ফলার', 'ফলে', 'ফলেই', 'ফলেনা', 'ফলো', 'ফল্ট', 'ফসকে', 'ফসল', 'ফসলি', 'ফসিল', 'ফাঁকা', 'ফাঁকি', 'ফাঁদ', 'ফাঁদে', 'ফাঁশি', 'ফাঁষাতে', 'ফাঁসি', 'ফাঁসিতে', 'ফাঁসিয়ে', 'ফাঁসির', 'ফাঁসিয়ে', 'ফাইজলামি', 'ফাইজলামির', 'ফাইটার', 'ফাইটারদেরকে', 'ফাইটাররা', 'ফাইনাল', 'ফাইনালি', 'ফাইনালের', 'ফাইফ', 'ফাইভ', 'ফাইভজিও', 'ফাউ', 'ফাউন্ডেশন', 'ফাউল', 'ফাও', 'ফাক', 'ফাজলামি', 'ফাজলামির', 'ফাজলামো', 'ফাজিলের', 'ফাটা', 'ফাটাফাটি', 'ফাটিয়ে', 'ফাটিয়ে', 'ফাতরামি', 'ফাতিহায়', 'ফাতেহি', 'ফাদে', 'ফানি', 'ফান্ডে', 'ফাফর', 'ফাফড়', 'ফায়ার', 'ফারহানা', 'ফারহানাকে', 'ফারহানার', 'ফারহানারা', 'ফারাক্কা', 'ফারাজ', 'ফারাজের', 'ফারুক', 'ফার্মেসী', 'ফার্স্ট', 'ফালতু', 'ফালতুদের', 'ফাল্তু', 'ফাসি', 'ফাসিয়ে', 'ফায়দা', 'ফায়ার', 'ফায়েদা', 'ফি', 'ফিউশন', 'ফিচারটার', 'ফিটনেস', 'ফিটফাট', 'ফিতরের', 'ফিনিশিংটা', 'ফিনিসার', 'ফিফটি', 'ফিফা', 'ফিফাকে', 'ফিফার', 'ফিরছি', 'ফিরছে', 'ফিরত', 'ফিরতে', 'ফিরতেই', 'ফিরতো', 'ফিরবে', 'ফিরাতেও', 'ফিরার', 'ফিরায়', 'ফিরায়া', 'ফিরিয়ে', 'ফিরিয়ে', 'ফিরিয়েপাওয়া', 'ফিরে', 'ফিরেছে', 'ফিরেয়ে', 'ফিরোজ', 'ফিল', 'ফিলটা', 'ফিলিংস', 'ফিলিস্তিন', 'ফিলিস্তিনি', 'ফিলিস্তিনিদের', 'ফিলিস্তিনিরা', 'ফিলিস্তিনে', 'ফিলিস্তিনের', 'ফিলোসফি', 'ফিল্টার', 'ফিল্টারের', 'ফিল্ম', 'ফিল্মের', 'ফিশ', 'ফিশান', 'ফিশানের', 'ফিসগুলা', 'ফুচকা', 'ফুট', 'ফুটছে', 'ফুটপাত', 'ফুটপাতই', 'ফুটপাথ', 'ফুটপাথের', 'ফুটবল', 'ফুটবলকে', 'ফুটবলার', 'ফুটবলে', 'ফুটবলের', 'ফুটানি', 'ফুটানির', 'ফুটানো', 'ফুটানোর', 'ফুটিয়ে', 'ফুটিয়ে', 'ফুটে', 'ফুটেজ', 'ফুটো', 'ফুড', 'ফুরতি', 'ফুরফুরে', 'ফুরায়', 'ফুরিয়ে', 'ফুরিয়ে', 'ফুর্তির', 'ফুল', 'ফুলিয়ে', 'ফুলের', 'ফুসলিয়ে', 'ফেঁসে', 'ফেইক', 'ফেইমের', 'ফেইল', 'ফেইস', 'ফেইসবুক', 'ফেক', 'ফেক্টরী', 'ফেটে', 'ফেডারেশনের', 'ফেপে', 'ফেভারিট', 'ফেমাস', 'ফেরত', 'ফেরদাউস', 'ফেরদৌস', 'ফেরা', 'ফেরাতে', 'ফেরান', 'ফেরার', 'ফেরালো', 'ফেরিওয়ালা', 'ফেরিওয়ালা', 'ফেরিওয়ালারা', 'ফেরির', 'ফেরেশতা', 'ফেরৎ', 'ফেলছি', 'ফেলছে', 'ফেলছেন', 'ফেলতাম', 'ফেলতে', 'ফেলতো', 'ফেলবার', 'ফেলবে', 'ফেলবেন', 'ফেলল', 'ফেললাম', 'ফেললি', 'ফেললো', 'ফেলসস', 'ফেলসে', 'ফেলা', 'ফেলাই', 'ফেলাইবে', 'ফেলাটা', 'ফেলাপিরা', 'ফেলার', 'ফেলি', 'ফেলুক', 'ফেলুন', 'ফেলে', 'ফেলেই', 'ফেলেছ', 'ফেলেছি', 'ফেলেছিল', 'ফেলেছিলাম', 'ফেলেছে', 'ফেলেছেন', 'ফেলেন', 'ফেল্লাম', 'ফেষে', 'ফেসবুক', 'ফেসবুকি', 'ফেসবুকে', 'ফেসবুকের', 'ফেসে', 'ফোঁটা', 'ফোঁটার', 'ফোঁটায়', 'ফোক', 'ফোকফেস্ট', 'ফোকাস', 'ফোকাসে', 'ফোন', 'ফোনও', 'ফোম', 'ফোমের', 'ফোর', 'ফোরজি', 'ফোলে', 'ফ্যাক্টরি', 'ফ্যান', 'ফ্যানরা', 'ফ্যামিলি', 'ফ্যামিলির', 'ফ্যাশনেবল', 'ফ্যাসিজম', 'ফ্যাসিবাদি', 'ফ্যাসিবাদী', 'ফ্যাসিস্ট', 'ফ্রাই', 'ফ্রি', 'ফ্রিডম', 'ফ্রীতে', 'ফ্রেন্ড', 'ফ্রেন্ডরা', 'ফ্রেন্ডের', 'ফ্রেশ', 'ফ্লপ', 'ফ্লাইওভার', 'ফ্লাইট', 'ব', 'বং', 'বংশ', 'বংশধর', 'বংশের', 'বই', 'বইছে', 'বইটা', 'বইটি', 'বইঠা', 'বইতে', 'বইবে', 'বইলা', 'বইলেন', 'বইসা', 'বউ', 'বউদের', 'বউয়ের', 'বক', 'বকতাছেন', 'বকবক', 'বকবকানি', 'বকা', 'বকাও', 'বকিটা', 'বকে', 'বকেয়া', 'বক্তব্য', 'বক্তব্যই', 'বক্তব্যটি', 'বক্তব্যুই', 'বক্তব্যের', 'বক্তা', 'বক্তিগতভাবে', 'বক্স', 'বক্সদগুলা', 'বখাটে', 'বখাটেদের', 'বখাটেপনা', 'বখাটের', 'বখাটেরা', 'বগা', 'বগার', 'বগিতে', 'বঙ্গবঙ্গ', 'বঙ্গবন্ধু', 'বঙ্গবন্ধুকন্যা', 'বঙ্গবন্ধুকে', 'বঙ্গবন্ধুর', 'বঙ্গে', 'বঙ্গের', 'বঙ্গোপসাগরে', 'বছর', 'বছরই', 'বছরগুলোতে', 'বছরে', 'বছরেই', 'বছরেও', 'বছরের', 'বজায়', 'বজায়', 'বজ্রপাত', 'বঞ্চনা', 'বঞ্চিত', 'বটে', 'বটেই', 'বড', 'বড়', 'বড়ই', 'বড়জোর', 'বড়দের', 'বড়ো', 'বডার', 'বড্ড', 'বণ্টন', 'বণ্যার', 'বতর্মান', 'বতর্মানে', 'বদ', 'বদঅভ্যাস', 'বদনাম', 'বদনামের', 'বদমাইশ', 'বদমাইশি', 'বদমায়েশ', 'বদল', 'বদলানো', 'বদলানোর', 'বদলাবে', 'বদলায়', 'বদলায়', 'বদলি', 'বদলে', 'বদ্ধপরিকর', 'বন', 'বনবিভাগের', 'বনাম', 'বনে', 'বনের', 'বন্ডিং', 'বন্দি', 'বন্দী', 'বন্দুকআলা', 'বন্দুকে', 'বন্ধ', 'বন্ধই', 'বন্ধন', 'বন্ধনে', 'বন্ধরাও', 'বন্ধি', 'বন্ধী', 'বন্ধু', 'বন্ধুও', 'বন্ধুকে', 'বন্ধুগণ', 'বন্ধুটা', 'বন্ধুত্ব', 'বন্ধুত্বে', 'বন্ধুদের', 'বন্ধুবান্ধব', 'বন্ধুবান্ধবদের', 'বন্ধুমহল', 'বন্ধুর', 'বন্ধুরা', 'বন্ধুরাও', 'বন্ধে', 'বন্ধের', 'বন্য', 'বন্যপ্রাণী', 'বন্যপ্রানীর', 'বন্যরা', 'বন্যা', 'বন্যাকবলিত', 'বন্যাতে', 'বন্যাদুর্গত', 'বন্যায়', 'বন্যার', 'বন্যার্ত', 'বন্যার্তদের', 'বন্যার্থ', 'বন্যায়', 'বব', 'ববন্যার্তদের', 'বব্যহার', 'বমি', 'বয়', 'বয়স', 'বয়সে', 'বয়সেও', 'বয়সের', 'বয়স্ক', 'বয়ান', 'বয়ে', 'বর', 'বরং', 'বরকত', 'বরকতের', 'বরখাস্ত', 'বরগুনার', 'বরগুনায়', 'বরণ', 'বরণে', 'বরদাস্ত', 'বরবাদ', 'বরাদ্দ', 'বরাদ্ধ', 'বরাবর', 'বরাবরই', 'বরাবরের', 'বরিশাইল্লাদের', 'বরিশাল', 'বরিশালকে', 'বরিশালে', 'বরিশালের', 'বর্জনের', 'বর্ডার', 'বর্ডারে', 'বর্ণনা', 'বর্ণবাদী', 'বর্ণবাদের', 'বর্তমান', 'বর্তমানে', 'বর্তমানের', 'বর্ননা', 'বর্নাবাদ', 'বর্বর', 'বর্বরতা', 'বর্বরোচিত', 'বর্মনের', 'বর্ষ', 'বর্ষণ', 'বর্ষন', 'বর্ষা', 'বর্ষার', 'বর্ষিত', 'বর্ষে', 'বল', 'বলছ', 'বলছি', 'বলছিলাম', 'বলছিলেন', 'বলছে', 'বলছেন', 'বলছো', 'বলতাছি', 'বলতাছে', 'বলতাম', 'বলতে', 'বলতেই', 'বলতেও', 'বলতেছে', 'বলতেছেন', 'বলতেন', 'বলতো', 'বলদ', 'বলদের', 'বলব', 'বলবা', 'বলবার', 'বলবে', 'বলবেন', 'বলবো', 'বলল', 'বললাম', 'বললে', 'বললেই', 'বললেও', 'বললেন', 'বললো', 'বলা', 'বলাই', 'বলাও', 'বলাটা', 'বলাটাকে', 'বলায়', 'বলার', 'বলারও', 'বলায়', 'বলি', 'বলিং', 'বলিউড', 'বলিতে', 'বলিতেছে', 'বলিনা', 'বলিবে', 'বলির', 'বলিয়েন', 'বলুক', 'বলুন', 'বলে', 'বলেই', 'বলেছি', 'বলেছিল', 'বলেছিলেন', 'বলেছিলো', 'বলেছে', 'বলেছেন', 'বলেছো', 'বলেন', 'বলেননি', 'বলেনা', 'বলের', 'বলেল', 'বলো', 'বল্টু', 'বল্ড', 'বল্লেন', 'বল্লো', 'বল্লোম', 'বলৎকারও', 'বলয়ের', 'বস', 'বসছে', 'বসতাম', 'বসন্ত', 'বসবাস', 'বসবাসযোগ্য', 'বসবাসের', 'বসা', 'বসাইছে', 'বসানো', 'বসার', 'বসি', 'বসিয়ে', 'বসে', 'বসেছি', 'বসেছে', 'বসোবাস', 'বস্তা', 'বস্তাবন্দি', 'বস্তি', 'বস্তিতে', 'বস্তিবাসী', 'বস্তির', 'বস্তু', 'বস্তুগুলো', 'বস্তুনিষ্ঠ', 'বস্তুবাদী', 'বহন', 'বহনে', 'বহমান', 'বহাল', 'বহিঃপ্রকাশ', 'বহির্বিশ্বের', 'বহির্ভুত', 'বহির্ভূত', 'বহিষ্কার', 'বহিস্কার', 'বহু', 'বহুগুণে', 'বহুত', 'বহুদলীয়', 'বহুদিন', 'বহুদিনের', 'বহুদূর', 'বহুদূরে', 'বহুবার', 'বহুমাত্রিক', 'বহুযুগ', 'বহুল', 'বা', 'বাঁ', 'বাঁকা', 'বাঁচতে', 'বাঁচতেছে', 'বাঁচলো', 'বাঁচাও', 'বাঁচাটা', 'বাঁচাতে', 'বাঁচাতেই', 'বাঁচান', 'বাঁচানো', 'বাঁচানোর', 'বাঁচাবে', 'বাঁচার', 'বাঁচায়', 'বাঁচি', 'বাঁচিয়ে', 'বাঁচিয়ে', 'বাঁচুক', 'বাঁচে', 'বাঁচো', 'বাঁধ', 'বাঁধবে', 'বাঁধা', 'বাঁধাতে', 'বাঁধানো', 'বাঁধানোর', 'বাঁধায়', 'বাঁধিয়ে', 'বাঁধে', 'বাঁশ', 'বাঁশি', 'বাঁশের', 'বাংক', 'বাংগালী', 'বাংগালীর', 'বাংগালীরাই', 'বাংলা', 'বাংলাই', 'বাংলাকে', 'বাংলাগানের', 'বাংলাতেই', 'বাংলাদ', 'বাংলাদশে', 'বাংলাদের', 'বাংলাদেশ', 'বাংলাদেশই', 'বাংলাদেশও', 'বাংলাদেশকে', 'বাংলাদেশকেই', 'বাংলাদেশটাকে', 'বাংলাদেশর', 'বাংলাদেশি', 'বাংলাদেশী', 'বাংলাদেশীদের', 'বাংলাদেশীরা', 'বাংলাদেশে', 'বাংলাদেশেই', 'বাংলাদেশেও', 'বাংলাদেশের', 'বাংলাদেশেরই', 'বাংলাদেশেরও', 'বাংলাদেশে্', 'বাংলাদেশে১৯', 'বাংলাভাষী', 'বাংলায়', 'বাংলার', 'বাংলালিংক', 'বাংলাস্থান', 'বাংলায়', 'বাই', 'বাইক', 'বাইকওয়ালা', 'বাইকটা', 'বাইকটির', 'বাইকবিডি', 'বাইকররাও', 'বাইকার', 'বাইকারদের', 'বাইকাররা', 'বাইকে', 'বাইকের', 'বাইজিদ', 'বাইঞ্চোদ', 'বাইডেন', 'বাইনবোর্ড', 'বাইর', 'বাইরে', 'বাইরের', 'বাইসাইকেল', 'বাইসাইকেলর', 'বাইসাইকেলের', 'বাউ', 'বাউল', 'বাউলগন', 'বাউলসম্রাট', 'বাউলা', 'বাক', 'বাকরি', 'বাকরুদ্ধ', 'বাকশাল', 'বাকস্বাধীনতা', 'বাকা', 'বাকি', 'বাকিটা', 'বাকিটুকু', 'বাকিরা', 'বাকী', 'বাক্য', 'বাক্যেই', 'বাক্স', 'বাগ', 'বাগান', 'বাগানে', 'বাগানের', 'বাঘ', 'বাঘা', 'বাঘিনারা', 'বাঘিনীরা', 'বাঘেদের', 'বাঘের', 'বাঘেরা', 'বাঙলা', 'বাঙলার', 'বাঙাল', 'বাঙালার', 'বাঙালি', 'বাঙালিদের', 'বাঙালিয়ানা', 'বাঙালির', 'বাঙালিরা', 'বাঙালিয়ানা', 'বাঙালী', 'বাঙালীআনা', 'বাঙালীর', 'বাঙালীরা', 'বাঙ্গালিরা', 'বাঙ্গালী', 'বাঙ্গালীদের', 'বাঙ্গালীর', 'বাঙ্গালীরা', 'বাঙ্গিস্তান', 'বাচ', 'বাচতে', 'বাচবে', 'বাচবেনা', 'বাচা', 'বাচাঁতে', 'বাচাঁন', 'বাচাঁনোর', 'বাচাও', 'বাচাতে', 'বাচান', 'বাচানোর', 'বাচার', 'বাচালদের', 'বাচি', 'বাচিয়ে', 'বাচে', 'বাচ্চা', 'বাচ্চাকাচ্ছা', 'বাচ্চাগুলা', 'বাচ্চাটা', 'বাচ্চাটাকে', 'বাচ্চাটাকেও', 'বাচ্চাটার', 'বাচ্চাদের', 'বাচ্চার', 'বাচ্চারা', 'বাচ্চু', 'বাচ্চুর', 'বাছাই', 'বাজ', 'বাজছে', 'বাজতে', 'বাজতেই', 'বাজদের', 'বাজনা', 'বাজরা', 'বাজাইসো', 'বাজানো', 'বাজানোর', 'বাজাবো', 'বাজার', 'বাজারমূল্যর', 'বাজারিগার', 'বাজারীদের', 'বাজারে', 'বাজারের', 'বাজায়ে', 'বাজি', 'বাজিয়ে', 'বাজিল', 'বাজিয়ে', 'বাজিয়েছে', 'বাজে', 'বাজেট', 'বাজেটে', 'বাজেয়াপ্ত', 'বাজের', 'বাজেয়াপ্ত', 'বাঝে', 'বাট', 'বাটপার', 'বাটপারই', 'বাটপারকে', 'বাটপারটার', 'বাটপারদের', 'বাটপারি', 'বাটপারির', 'বাটপারের', 'বাটসম্যান', 'বাটাম', 'বাটুরি', 'বাটোওয়ারা', 'বাটোয়ারি', 'বাড়ছে', 'বাড়তি', 'বাড়তে', 'বাড়তেই', 'বাড়তেছে', 'বাড়বে', 'বাড়লে', 'বাড়াইয়েন', 'বাড়াও', 'বাড়াচ্ছে', 'বাড়াতে', 'বাড়ানো', 'বাড়ানো', 'বাড়ানোই', 'বাড়ানোর', 'বাড়াবাড়ি', 'বাড়ালে', 'বাড়ালেই', 'বাড়ালেন', 'বাড়ি', 'বাড়িটা', 'বাড়িটিতে', 'বাড়িতে', 'বাড়িয়ে', 'বাড়ির', 'বাড়ীর', 'বাড়ে', 'বাড়েনি', 'বাণিজ্য', 'বাণিজ্যিক', 'বাণী', 'বাতাস', 'বাতাসে', 'বাতি', 'বাতিগুলো', 'বাতির', 'বাতিল', 'বাতিলের', 'বাতুলতার', 'বাতের', 'বাথরুমের', 'বাদ', 'বাদই', 'বাদদেন', 'বাদশা', 'বাদশাহ', 'বাদি', 'বাদী', 'বাদীকে', 'বাদে', 'বাদেই', 'বাদ্যযন্ত্র', 'বাধ', 'বাধা', 'বাধাগ্রস্ত', 'বাধানো', 'বাধানোর', 'বাধার', 'বাধ্য', 'বাধ্যতামুলক', 'বাধ্যতামূলক', 'বান', 'বানভাসি', 'বানভাসিদের', 'বানাই', 'বানাইছে', 'বানাইতে', 'বানাও', 'বানাচ্ছে', 'বানাতে', 'বানাতেন', 'বানান', 'বানানো', 'বানানোই', 'বানানোর', 'বানাবা', 'বানায়', 'বানাল', 'বানালো', 'বানায়', 'বানায়া', 'বানি', 'বানিও', 'বানিজ্য', 'বানিয়ে', 'বানিয়েছে', 'বানিয়েছেন', 'বানিয়ে', 'বানিয়েই', 'বানিয়েছি', 'বানিয়েছে', 'বানিয়েছেন', 'বানী', 'বানীতে', 'বানের', 'বানোয়াট', 'বানোয়াট', 'বান্দাদের', 'বান্ধব', 'বান্ধবির', 'বান্ধবী', 'বান্ধবীদের', 'বাপ', 'বাপকে', 'বাপরে', 'বাপু', 'বাপের', 'বাপেরও', 'বাপ্', 'বাপ্পি', 'বাপ্পী', 'বাফুফে', 'বাব', 'বাবদ', 'বাবর', 'বাবহার', 'বাবা', 'বাবাই', 'বাবাকে', 'বাবাদের', 'বাবাপের', 'বাবার', 'বাবারা', 'বাবুটাকে', 'বাবুরে', 'বাবে', 'বাম', 'বামহাত', 'বায়োপিক', 'বার', 'বারংবার', 'বারছে', 'বারটা', 'বারন', 'বারবার', 'বারবে', 'বারাবাড়ি', 'বারি', 'বারির', 'বারে', 'বারের', 'বারো', 'বারোটা', 'বারোটার', 'বারোবাতারি', 'বারোভাতারি', 'বার্তা', 'বার্তার', 'বার্ষিকীতে', 'বাল', 'বালক', 'বালটা', 'বালতি', 'বালপাকনামি', 'বালাই', 'বালি', 'বালের', 'বাশ', 'বাশঁ', 'বাশিকে', 'বাষ্প', 'বাস', 'বাসগাড়ি', 'বাসগুলো', 'বাসগুলোই', 'বাসগুলোকে', 'বাসচালক', 'বাসটা', 'বাসটির', 'বাসনা', 'বাসযোগ্য', 'বাসা', 'বাসাটাকেই', 'বাসায়', 'বাসার', 'বাসায়', 'বাসি', 'বাসিকে', 'বাসিন্দারা', 'বাসির', 'বাসী', 'বাসীকে', 'বাসীদের', 'বাসীর', 'বাসুদেব', 'বাসে', 'বাসের', 'বাস্তব', 'বাস্তবতা', 'বাস্তবতাই', 'বাস্তবতাকে', 'বাস্তবতার', 'বাস্তবতায়', 'বাস্তববাদী', 'বাস্তবমুখী', 'বাস্তবায়ন', 'বাস্তবায়নের', 'বাস্তবায়িত', 'বাস্তবায়ন', 'বাস্তবায়নে', 'বাস্তবায়নের', 'বাস্তবিক', 'বাস্তবে', 'বাস্তবয়ন', 'বাহ', 'বাহক', 'বাহবা', 'বাহহহ', 'বাহানায়', 'বাহাবা', 'বাহিনির', 'বাহিনী', 'বাহিনীকে', 'বাহিনীর', 'বাহির', 'বাহিরে', 'বাহিরের', 'বাহিরেে', 'বাহীনি', 'বাহ্', 'বাহ্যিকভাবে', 'বাড়', 'বাড়ছে', 'বাড়ছেই', 'বাড়ত', 'বাড়তি', 'বাড়তে', 'বাড়তেছে', 'বাড়বে', 'বাড়বেই', 'বাড়ল', 'বাড়লে', 'বাড়লেও', 'বাড়লো', 'বাড়াই', 'বাড়াতে', 'বাড়ানো', 'বাড়ানোটা', 'বাড়ানোর', 'বাড়ানোয়', 'বাড়াবাড়ি', 'বাড়াবাড়ির', 'বাড়াবাড়ী', 'বাড়ার', 'বাড়ালে', 'বাড়ালেইতো', 'বাড়ালেন', 'বাড়ালো', 'বাড়ায়', 'বাড়ায়নি', 'বাড়ি', 'বাড়িঘর', 'বাড়িঘরে', 'বাড়িতে', 'বাড়িতেছে', 'বাড়ির', 'বাড়িল', 'বাড়িয়ে', 'বাড়িয়েছিলেন', 'বাড়িয়েছে', 'বাড়ী', 'বাড়ীতে', 'বাড়ুক', 'বাড়ে', 'বাড়েনা', 'বাড়েনি', 'বি', 'বিআরটিএ', 'বিএনপি', 'বিএনপিকে', 'বিএনপির', 'বিএমএর', 'বিওবান', 'বিওেরাধী', 'বিকরি', 'বিকল', 'বিকল্প', 'বিকারগ্রস্ত', 'বিকারগ্রস্থ', 'বিকাল', 'বিকালে', 'বিকাশ', 'বিকৃত', 'বিকৃতি', 'বিকেন্দ্রীকরণ', 'বিক্রমে', 'বিক্রি', 'বিক্রির', 'বিক্রী', 'বিক্রীত', 'বিক্রয়', 'বিক্ষত', 'বিক্ষারগ্রস্থ', 'বিক্ষোভ', 'বিক্ষোভকারীদের', 'বিখ্যাত', 'বিগত', 'বিগরাই', 'বিগ্রহ', 'বিচক্ষণ', 'বিচক্ষণতা', 'বিচার', 'বিচারই', 'বিচারও', 'বিচারক', 'বিচারকগনের', 'বিচারকার্য', 'বিচারবহির্ভূত', 'বিচারব্যবস্থা', 'বিচারব্যবস্থার', 'বিচারহীনতার', 'বিচারে', 'বিচারের', 'বিচিতে', 'বিচিত্র', 'বিচ্ছিন্ন', 'বিচ্ছেদ', 'বিচ্ছেদই', 'বিচ্ছেদের', 'বিছিন্ন', 'বিজয়', 'বিজয়ী', 'বিজয়ে', 'বিজাতির', 'বিজাতীয়', 'বিজেপি', 'বিজেপির', 'বিজ্ঞ', 'বিজ্ঞান', 'বিজ্ঞানসম্মত', 'বিজ্ঞানি', 'বিজ্ঞাপন', 'বিজ্ঞাপনটা', 'বিজ্ঞাপনসর্বস্ব', 'বিজ্ঞাপনের', 'বিজয়', 'বিজয়ের', 'বিটিআরসির', 'বিটিএস', 'বিড়াল', 'বিড়ালে', 'বিডি', 'বিডির', 'বিডীও', 'বিতরণ', 'বিতরন', 'বিতর্ক', 'বিতর্ককে', 'বিতর্কিত', 'বিতর্কের', 'বিতারিত', 'বিত্ত', 'বিত্তবান', 'বিত্তশালী', 'বিত্তশালীদের', 'বিদ', 'বিদায়', 'বিদারক', 'বিদাশি', 'বিদায়', 'বিদায়ের', 'বিদুৎ', 'বিদেশ', 'বিদেশি', 'বিদেশিদের', 'বিদেশিরা', 'বিদেশিরাই', 'বিদেশী', 'বিদেশীদের', 'বিদেশীরা', 'বিদেশে', 'বিদেশের', 'বিদেহীদের', 'বিদ্বেষ', 'বিদ্বেষমূলক', 'বিদ্বেষী', 'বিদ্বেষীরা', 'বিদ্যমান', 'বিদ্যা', 'বিদ্যার', 'বিদ্যালয়ের', 'বিদ্যালয়', 'বিদ্যালয়ে', 'বিদ্যালয়ের', 'বিদ্যুত', 'বিদ্যুতায়িত', 'বিদ্যুতের', 'বিদ্যুত্', 'বিদ্যুৎ', 'বিদ্যুৎতের', 'বিদ্যূৎ', 'বিদ্রোহ', 'বিধংসী', 'বিধর্মীকে', 'বিধাতার', 'বিধানের', 'বিধায়', 'বিধায়', 'বিধি', 'বিধেছে', 'বিধ্বস্ত', 'বিন', 'বিনপি', 'বিনময়', 'বিনম্র', 'বিনষ্ট', 'বিনা', 'বিনাদোষে', 'বিনাভোটের', 'বিনিত', 'বিনিময়ে', 'বিনিময়ে', 'বিনিয়োগ', 'বিনিয়োগ', 'বিনীত', 'বিনীতভাবে', 'বিনের', 'বিনোদন', 'বিনোদনের', 'বিন্দু', 'বিন্দুমাত্র', 'বিনয়ী', 'বিপক্ষ', 'বিপক্ষে', 'বিপজ্জনক', 'বিপদ', 'বিপদগামী', 'বিপদগ্রস্ত', 'বিপদজনক', 'বিপদমুক্ত', 'বিপদে', 'বিপদেও', 'বিপদের', 'বিপন্ন', 'বিপরীত', 'বিপরীতে', 'বিপর্যয়', 'বিপর্যয়ের', 'বিপর্যস্ত', 'বিপর্যস্তের', 'বিপর্যয়', 'বিপর্যয়কে', 'বিপর্যয়ে', 'বিপর্যয়ের', 'বিপাকে', 'বিপিএলে', 'বিপুল', 'বিপ্লবী', 'বিফলে', 'বিবরণ', 'বিবর্জিত', 'বিবর্তনে', 'বিবাহ', 'বিবিসি', 'বিবিসিকে', 'বিবিসির', 'বিবৃতি', 'বিবৃতিজীবী', 'বিবৃতিতে', 'বিবেক', 'বিবেকবান', 'বিবেকবুদ্ধি', 'বিবেকহীন', 'বিবেকের', 'বিবেচনা', 'বিবেচনায়', 'বিবেচ্য', 'বিব্রতবোধ', 'বিভক্ত', 'বিভাগ', 'বিভাগওয়ারী', 'বিভাগকে', 'বিভাগীয়', 'বিভাগে', 'বিভাগের', 'বিভাজন', 'বিভাদ', 'বিভিন্ন', 'বিভেদ', 'বিভ্রাট', 'বিভ্রান্ত', 'বিভ্রান্তি', 'বিমান', 'বিমানবন্দর', 'বিমানবন্দরে', 'বিমানবন্দরের', 'বিমানের', 'বিমুখ', 'বিমুগ্ধ', 'বিমোহিত', 'বিয়া', 'বিয়ে', 'বিয়ের', 'বিরক্ত', 'বিরক্তবোধ', 'বিরক্তি', 'বিরক্তিকর', 'বিরত', 'বিরতি', 'বিরল', 'বিরহ', 'বিরাজ', 'বিরাজমান', 'বিরাট', 'বিরান', 'বিরিয়ানি', 'বিরিয়ানি', 'বিরিয়ানির', 'বিরুদ্ধ', 'বিরুদ্ধে', 'বিরুদ্ধেও', 'বিরুধী', 'বিরুপ', 'বিরোধী', 'বিরোদ্ধে', 'বিরোধি', 'বিরোধিতা', 'বিরোধিতাকারীরা', 'বিরোধিতার', 'বিরোধী', 'বিরোধীতা', 'বিরোধীদল', 'বিরোধীদলের', 'বিরোধীদের', 'বিরোধীরা', 'বির্তক', 'বির্তকিত', 'বিল', 'বিলম্ব', 'বিলাই', 'বিলাতি', 'বিলাশিতাপূর্ণ', 'বিলাসবহুল', 'বিলাসিতা', 'বিলাসী', 'বিলাসীতা', 'বিলিন', 'বিলিয়ন', 'বিলিয়ে', 'বিলুপ্ত', 'বিলুপ্তি', 'বিলুপ্তির', 'বিলোপ', 'বিল্ডিং', 'বিল্লাল', 'বিশ', 'বিশব্বিদ্যালয়ের', 'বিশাল', 'বিশালতা', 'বিশিষ্ট', 'বিশুদ্ধ', 'বিশৃংখলা', 'বিশৃঙ্খলা', 'বিশেষ', 'বিশেষজ্ঞ', 'বিশেষজ্ঞদের', 'বিশেষজ্ঞরা', 'বিশেষভাবে', 'বিশেস', 'বিশ্ব', 'বিশ্বও', 'বিশ্বকাপ', 'বিশ্বকাপও', 'বিশ্বকাপের', 'বিশ্বকে', 'বিশ্বকোষ', 'বিশ্বছেড়া', 'বিশ্বজুড়ে', 'বিশ্ববাজা', 'বিশ্ববাজারে', 'বিশ্ববাজারের', 'বিশ্ববাসির', 'বিশ্ববাসী', 'বিশ্ববাসীকে', 'বিশ্ববাসীর', 'বিশ্ববিদ্যালয়', 'বিশ্ববিদ্যালয়গুলো', 'বিশ্ববিদ্যালয়গুলোতে', 'বিশ্ববিদ্যালয়ে', 'বিশ্ববিদ্যালয়ের', 'বিশ্ববিদ্যালয়', 'বিশ্ববিদ্যালয়ে', 'বিশ্ববিদ্যালয়ের', 'বিশ্ববিদ্যায়ে', 'বিশ্বব্যাংক', 'বিশ্বব্যাপী', 'বিশ্বমঞ্চে', 'বিশ্বমানবধিকার', 'বিশ্বমানের', 'বিশ্বময়', 'বিশ্বযুদ্ধ', 'বিশ্বযুদ্ধের', 'বিশ্বরা', 'বিশ্বরেকর্ড', 'বিশ্বসেরা', 'বিশ্বস্ত', 'বিশ্বস্তরাই', 'বিশ্বস্বাস্থ্য', 'বিশ্বা', 'বিশ্বাস', 'বিশ্বাসঘতক', 'বিশ্বাসঘাতকতা', 'বিশ্বাসযোগ্য', 'বিশ্বাসী', 'বিশ্বাসে', 'বিশ্বাসের', 'বিশ্বিবদ্যালয়ে', 'বিশ্বে', 'বিশ্বেকে', 'বিশ্বের', 'বিশ্রাম', 'বিশ্রামই', 'বিশ্রামে', 'বিশ্রামের', 'বিশ্রী', 'বিশ্লেষক', 'বিশ্লেষণ', 'বিশ্লেষন', 'বিশ্লেষনের', 'বিষ', 'বিষপুড়ে', 'বিষফোঁড়া', 'বিষফোঁড়া', 'বিষবাষ্প', 'বিষয়', 'বিষয়ক', 'বিষয়কে', 'বিষয়গুলো', 'বিষয়টা', 'বিষয়টাকে', 'বিষয়টি', 'বিষয়ে', 'বিষাক্ত', 'বিষে', 'বিষ্ফরণে', 'বিষ্ফরণের', 'বিষ্ময়', 'বিষয়', 'বিষয়ক', 'বিষয়কথা', 'বিষয়কে', 'বিষয়গুলা', 'বিষয়গুলোকে', 'বিষয়টা', 'বিষয়টাকে', 'বিষয়টি', 'বিষয়টিকে', 'বিষয়ভিত্তিক', 'বিষয়ে', 'বিসর্জন', 'বিসি', 'বিসিএস', 'বিসিবি', 'বিসিবিও', 'বিসিবিতে', 'বিসিবির', 'বিসিসি', 'বিস্খলা', 'বিস্তর', 'বিস্তার', 'বিস্তারিত', 'বিস্তৃতি', 'বিস্ফোরক', 'বিস্ফোরণ', 'বিস্ফোরণের', 'বিস্ময়', 'বিস্ময়কর', 'বিস্মিত', 'বিস্ময়কর', 'বিহীন', 'বিহ্মুক', 'বিড়ল', 'বিড়াল', 'বিড়ালের', 'বিড়ি', 'বিয়া', 'বিয়াডা', 'বিয়ে', 'বিয়েতে', 'বিয়ের', 'বিয়োগান্তক', 'বীমা', 'বীর', 'বীরত্বে', 'বীরত্বের', 'বীরের', 'বুইড়া', 'বুইড়া', 'বুইড়ারা', 'বুক', 'বুকটা', 'বুকফাটা', 'বুকা', 'বুকে', 'বুকের', 'বুক্টা', 'বুজ', 'বুজতে', 'বুজতেই', 'বুজদার', 'বুজবে', 'বুজলাম', 'বুজলামনা', 'বুজাই', 'বুজার', 'বুজে', 'বুজেন', 'বুঝ', 'বুঝতাম', 'বুঝতামই', 'বুঝতি', 'বুঝতে', 'বুঝতেছি', 'বুঝতেছিনা', 'বুঝতেসিনা', 'বুঝতো', 'বুঝবে', 'বুঝবেন', 'বুঝলাম', 'বুঝলামনা', 'বুঝলেও', 'বুঝলেন', 'বুঝলো', 'বুঝা', 'বুঝাই', 'বুঝাইলা', 'বুঝাতে', 'বুঝানো', 'বুঝানোর', 'বুঝার', 'বুঝায়', 'বুঝি', 'বুঝিনা', 'বুঝিয়ে', 'বুঝিয়ে', 'বুঝুক', 'বুঝে', 'বুঝেআসেনা', 'বুঝেই', 'বুঝেছি', 'বুঝেছে', 'বুঝেন', 'বুঝেনা', 'বুঝো', 'বুড়া', 'বুড়োকে', 'বুদ্ধ', 'বুদ্ধি', 'বুদ্ধিও', 'বুদ্ধিকে', 'বুদ্ধিজীবি', 'বুদ্ধিজীবিদের', 'বুদ্ধিজীবী', 'বুদ্ধিজীবীরা', 'বুদ্ধিজীবীরাই', 'বুদ্ধিতে', 'বুদ্ধিতেই', 'বুদ্ধিপ্রতিবন্ধী', 'বুদ্ধিবৃত্তিক', 'বুদ্ধিমান', 'বুদ্ধিমানের', 'বুদ্ধির', 'বুদ্ধিশুদ্ধি', 'বুধোর', 'বুন', 'বুনো', 'বুবু', 'বুমেরাং', 'বুর্জোয়ারা', 'বুলবুল', 'বুলি', 'বুলিই', 'বুলেজাই', 'বুলেট', 'বুড়া', 'বুড়ারাই', 'বুড়ী', 'বুড়ো', 'বুড়োদের', 'বুয়েট', 'বুয়েটে', 'বুয়েটের', 'বৃক্ষ', 'বৃক্ষনিধন', 'বৃক্ষরোপণ', 'বৃটিশ', 'বৃটিশদের', 'বৃটিশরা', 'বৃটেনের', 'বৃত্তি', 'বৃত্তিমূলক', 'বৃথা', 'বৃদ্ধ', 'বৃদ্ধা', 'বৃদ্ধাঙ্গুলি', 'বৃদ্ধাশ্রমে', 'বৃদ্ধি', 'বৃদ্ধিতে', 'বৃদ্ধির', 'বৃন্দ', 'বৃন্দাবন', 'বৃষ্টি', 'বৃষ্টির', 'বৃহত্তর', 'বৃহস্পতিবার', 'বৃহৎ', 'বে', 'বেঁচে', 'বেঁধে', 'বেআইনি', 'বেআইনী', 'বেআইনীভাবে', 'বেইমান', 'বেইমানি', 'বেইমানী', 'বেইমানের', 'বেঈমান', 'বেঈমানী', 'বেওকুফের', 'বেকসুর', 'বেকা', 'বেকার', 'বেকারই', 'বেকারত্ব', 'বেকারত্বও', 'বেকারত্বের', 'বেকারদের', 'বেকায়দায়', 'বেকুব', 'বেকুবদের', 'বেকুবের', 'বেগম', 'বেগুনি', 'বেঘোরে', 'বেচতেছে', 'বেচারা', 'বেচারার', 'বেচে', 'বেছে', 'বেজগ্রুপ', 'বেজন্মার', 'বেজে', 'বেঝাল', 'বেট', 'বেটা', 'বেটার', 'বেটি', 'বেটীর', 'বেড়া', 'বেড়াচ্ছে', 'বেড়াতে', 'বেড়ায়', 'বেড়ালে', 'বেড়ে', 'বেড়েই', 'বেড়েছে', 'বেত', 'বেতন', 'বেতনও', 'বেতনটা', 'বেতনটাই', 'বেতনে', 'বেতনের', 'বেদ', 'বেদন', 'বেদনা', 'বেদনাদায়ক', 'বেদনাদায়ক', 'বেদনাময়', 'বেদনার', 'বেদুইনের', 'বেদ্দপ', 'বেধহয়', 'বেধে', 'বেনাপোল', 'বেনামি', 'বেনামী', 'বেপক', 'বেপরোয়া', 'বেপরোয়া', 'বেপরোয়াভাবে', 'বেপার', 'বেপোরোয়া', 'বেফাস', 'বেবস্তা', 'বেমানান', 'বেয়াদপ', 'বেয়াদব', 'বেয়াদবগুলা', 'বেয়াদবি', 'বেয়াদবের', 'বের', 'বেরাচ্ছে', 'বেরিয়ে', 'বেরিয়ে', 'বেরে', 'বেরোয়', 'বেরোলো', 'বেলকনিতে', 'বেলা', 'বেলায়', 'বেলার', 'বেলায়', 'বেল্ট', 'বেশ', 'বেশি', 'বেশিই', 'বেশিকিছু', 'বেশিদিন', 'বেশিপরেছতো', 'বেশিভাগ', 'বেশির', 'বেশিরভাগ', 'বেশিরভাগই', 'বেশী', 'বেশীগতিতে', 'বেশীরভাগ', 'বেশ্যাবৃত্তি', 'বেশ্যার', 'বেষ্ট', 'বেষ্টনী', 'বেসরকারি', 'বেসরম', 'বেসামাল', 'বেসে', 'বেস্ট', 'বেস্ত', 'বেহাইয়া', 'বেহায়া', 'বেহায়ায়', 'বেহাল', 'বেহায়া', 'বেহায়াগুলা', 'বেহায়াদের', 'বেহায়াপনা', 'বেহায়াপনার', 'বেহায়ার', 'বেহুদা', 'বেহুলা', 'বেহুশ', 'বেহেশত', 'বেহেশতবাসী', 'বেহেশতী', 'বেহেশতে', 'বেহেশতের', 'বেহেস্ত', 'বেহেস্তে', 'বোন', 'বেড়া', 'বেড়াজালে', 'বেড়াতে', 'বেড়ানো', 'বেড়ায়', 'বেড়ে', 'বেড়েই', 'বেড়েছে', 'বেয়াদপ', 'বেয়াদব', 'বেয়াদবগুলো', 'বেয়াদবগুলোর', 'বেয়াদবটার', 'বেয়াদবি', 'বেয়াদবের', 'বৈচিত্র্যময়', 'বৈচিত্র্যের', 'বৈজ্ঞানিক', 'বৈঠায়', 'বৈতরণী', 'বৈদিক', 'বৈদেশিক', 'বৈধ', 'বৈধতা', 'বৈধভাবে', 'বৈধভাবেই', 'বৈরিতা', 'বৈশাখী', 'বৈশাখের', 'বৈশিষ্টেরর', 'বৈশিষ্ট্য', 'বৈশিষ্ট্যেই', 'বৈশীর', 'বৈশ্বিক', 'বৈষম্য', 'বৈষম্যটা', 'বৈষম্যতো', 'বৈষম্যমূলক', 'বোকা', 'বোকাচোদা', 'বোকামি', 'বোকার', 'বোক্কা', 'বোগাস', 'বোজা', 'বোঝলাম', 'বোঝা', 'বোঝাতে', 'বোঝানো', 'বোঝানোর', 'বোঝার', 'বোঝে', 'বোঝেনা', 'বোডের', 'বোধ', 'বোধগম্য', 'বোধদয়', 'বোধয়', 'বোধহয়', 'বোধহয়', 'বোধয়', 'বোন', 'বোনকে', 'বোনটার', 'বোনটিকে', 'বোনটির', 'বোনদের', 'বোনের', 'বোনেরা', 'বোবা', 'বোমা', 'বোরকা', 'বোরখা', 'বোরিং', 'বোর্ড', 'বোর্ডের', 'বোল', 'বোলার', 'বোলারদের', 'বোলাররা', 'বোলিং', 'বোলে', 'বোল্ট', 'বোয়ালদের', 'বোয়ালেরা', 'বৌ', 'বৌদি', 'বৌদ্ধ', 'বৌদ্ধদের', 'ব্যংকিং', 'ব্যকুলতা', 'ব্যক্ত', 'ব্যক্তি', 'ব্যক্তিই', 'ব্যক্তিকে', 'ব্যক্তিগত', 'ব্যক্তিগতভাবে', 'ব্যক্তিত্ব', 'ব্যক্তিত্বে', 'ব্যক্তিত্বের', 'ব্যক্তিদের', 'ব্যক্তির', 'ব্যক্তিরা', 'ব্যঙের', 'ব্যঙ্গ', 'ব্যতিক্রম', 'ব্যতীত', 'ব্যথা', 'ব্যথার', 'ব্যথিত', 'ব্যপক', 'ব্যপার', 'ব্যপারটা', 'ব্যপারে', 'ব্যবধানে', 'ব্যবসা', 'ব্যবসায়িক', 'ব্যবসায়ী', 'ব্যবসায়ীকে', 'ব্যবসায়ীরা', 'ব্যবসার', 'ব্যবসায়ী', 'ব্যবসায়ীদের', 'ব্যবসায়ীরা', 'ব্যবসায়ের', 'ব্যবস্তা', 'ব্যবস্তার', 'ব্যবস্তায়', 'ব্যবস্থা', 'ব্যবস্থাপনা', 'ব্যবস্থাপনার', 'ব্যবস্থার', 'ব্যবস্থায়', 'ব্যবস্হা', 'ব্যবহত', 'ব্যবহার', 'ব্যবহারকারীর', 'ব্যবহারকারীরা', 'ব্যবহারে', 'ব্যবহারের', 'ব্যবহৃত', 'ব্যয়', 'ব্যর্থ', 'ব্যর্থতা', 'ব্যর্থতার', 'ব্যস্ত', 'ব্যস্ততার', 'ব্যাংক', 'ব্যাংকখাতে', 'ব্যাংকগুলো', 'ব্যাংকগুলোর', 'ব্যাংকপ', 'ব্যাংকে', 'ব্যাংকের', 'ব্যাক', 'ব্যাকআপ', 'ব্যাকগ্রাউন্ড', 'ব্যাকফুটে', 'ব্যাকরন', 'ব্যাক্ত', 'ব্যাক্তি', 'ব্যাক্তিকে', 'ব্যাক্তিগত', 'ব্যাক্তিটাই', 'ব্যাক্তিটি', 'ব্যাক্তিদের', 'ব্যাক্তির', 'ব্যাখ্যা', 'ব্যাগ', 'ব্যাচেলর', 'ব্যাট', 'ব্যাটসম্যান', 'ব্যাটসম্যানদের', 'ব্যাটসম্যানরা', 'ব্যাটসম্যানের', 'ব্যাটার', 'ব্যাটারকে', 'ব্যাটারদের', 'ব্যাটারি', 'ব্যাটারির', 'ব্যাটিং', 'ব্যাটে', 'ব্যাথা', 'ব্যাথাই', 'ব্যাথাটা', 'ব্যাথার', 'ব্যাধি', 'ব্যান', 'ব্যানগাড়ী', 'ব্যানতারা', 'ব্যান্ড', 'ব্যান্ডগুলার', 'ব্যাপক', 'ব্যাপকহারে', 'ব্যাপার', 'ব্যাপারই', 'ব্যাপারটা', 'ব্যাপারী', 'ব্যাপারে', 'ব্যাপী', 'ব্যাবধানে', 'ব্যাবসা', 'ব্যাবসার', 'ব্যাবসায়ী', 'ব্যাবসায়ীর', 'ব্যাবসায়ীরা', 'ব্যাবস্থা', 'ব্যাবস্থাকে', 'ব্যাবস্থায়', 'ব্যাবস্থার', 'ব্যাবহার', 'ব্যাবহারে', 'ব্যারিস্টার', 'ব্যার্থ', 'ব্যার্থটা', 'ব্যার্থতার', 'ব্যাস', 'ব্যাস্ত', 'ব্যাস্ততা', 'ব্যাস্ততাকে', 'ব্যাস্ততার', 'ব্যায়', 'ব্যয়', 'ব্যয়বহুল', 'ব্যয়ে', 'ব্রনাই', 'ব্রাক্ষনবাড়িয়ার', 'ব্রাজিল', 'ব্রাজিলের', 'ব্রাদার', 'ব্রান্ডিং', 'ব্রাশফায়ার', 'ব্রাহ্মণবাড়িয়ান', 'ব্রিজ', 'ব্রিজেই', 'ব্রিটিশ', 'ব্রিটিশদের', 'ব্রিফিং', 'ব্রেইনকে', 'ব্রেক', 'ব্রেকআপের', 'ব্রেকথ্রু', 'ব্রেকিং', 'ব্রেন', 'ব্রো', 'ব্র্যান্ড', 'ব্র্যান্ডের', 'ব্লক', 'ব্লগ', 'ব্লেন্ড', 'বৎসরে', 'বড়', 'বড়ই', 'বড়মাপের', 'বড়লেখা', 'বড়লোক', 'বড়লোকের', 'বড়ো', 'বড়ো', 'বয়কট', 'বয়ছে', 'বয়স', 'বয়সী', 'বয়সে', 'বয়সেও', 'বয়সের', 'বয়াতি', 'বয়াবহ', 'বয়ে', 'বয়োঃবৃদ্ধা', 'ভ', 'ভং', 'ভক্ত', 'ভক্তদের', 'ভক্তরা', 'ভক্তি', 'ভক্তের', 'ভক্ষকের', 'ভগবান', 'ভগবানের', 'ভগ্নদশায়', 'ভঙ্গ', 'ভঙ্গি', 'ভঙ্গিতে', 'ভঙ্গিমাতে', 'ভঙ্গী', 'ভঙ্গুর', 'ভণ্ডামি', 'ভদ্র', 'ভদ্রজন', 'ভদ্রতা', 'ভদ্রতার', 'ভদ্রপল্লিতেই', 'ভদ্রলোক', 'ভদ্রলোকরা', 'ভনিতা', 'ভন্ড', 'ভন্ডকে', 'ভন্ডরা', 'ভন্ডামি', 'ভন্ডামী', 'ভন্ডামীর', 'ভন্ডের', 'ভবন', 'ভবনে', 'ভবনের', 'ভবিষ্যত', 'ভবিষ্যতে', 'ভবিষ্যতেও', 'ভবিষ্যতের', 'ভবিষ্যৎ', 'ভয়', 'ভয়ংকর', 'ভয়ঙ্কর', 'ভয়ানক', 'ভয়াবহ', 'ভয়াল', 'ভয়ে', 'ভয়ের', 'ভর', 'ভরনপোষণ', 'ভরপুর', 'ভরবে', 'ভরলো', 'ভরসা', 'ভরসায়', 'ভরসায়', 'ভরা', 'ভরাট', 'ভরাডুবির', 'ভরি', 'ভরে', 'ভরেগেছে', 'ভরেগেলো', 'ভরেনা', 'ভর্তি', 'ভর্তির', 'ভর্তুকি', 'ভষ্ম', 'ভাঁড়ের', 'ভাংগা', 'ভাংগে', 'ভাংচুর', 'ভাই', 'ভাইএর', 'ভাইকে', 'ভাইটা', 'ভাইটিকে', 'ভাইটির', 'ভাইদের', 'ভাইব', 'ভাইয়া', 'ভাইয়ারা', 'ভাইয়ের', 'ভাইয়েরা', 'ভাইরা', 'ভাইরাল', 'ভাইরাস', 'ভাইরে', 'ভাইসা', 'ভাইয়া', 'ভাইয়াকে', 'ভাইয়াটার', 'ভাইয়ের', 'ভাইয়েরা', 'ভাইয়েরাই', 'ভাওয়াইয়া', 'ভাগ', 'ভাগই', 'ভাগাভাগি', 'ভাগাভাগির', 'ভাগি', 'ভাগিদার', 'ভাগে', 'ভাগেরও', 'ভাগ্গিস', 'ভাগ্য', 'ভাগ্যকে', 'ভাগ্যটা', 'ভাগ্যবান', 'ভাগ্যর', 'ভাগ্যিস', 'ভাগ্যে', 'ভাগ্যেও', 'ভাগ্যেতে', 'ভাগ্যের', 'ভাঙচুর', 'ভাঙছে', 'ভাঙবে', 'ভাঙলে', 'ভাঙলেই', 'ভাঙলো', 'ভাঙা', 'ভাঙ্গচুর', 'ভাঙ্গছে', 'ভাঙ্গতে', 'ভাঙ্গবে', 'ভাঙ্গলো', 'ভাঙ্গা', 'ভাঙ্গাচুরা', 'ভাঙ্গাটাকেই', 'ভাঙ্গানোর', 'ভাঙ্গার', 'ভাঙ্গিয়ে', 'ভাটা', 'ভাটার', 'ভাটিয়া', 'ভাটের', 'ভাটোয়ারা', 'ভাড়া', 'ভাত', 'ভাতা', 'ভাতারি', 'ভাতে', 'ভাতেই', 'ভান', 'ভান্ডার', 'ভাব', 'ভাবছি', 'ভাবছিল', 'ভাবছিলাম', 'ভাবছে', 'ভাবছেন', 'ভাবতাম', 'ভাবতে', 'ভাবতেই', 'ভাবতেউ', 'ভাবতেও', 'ভাবনা', 'ভাবনাকে', 'ভাবনার', 'ভাবনায়', 'ভাববেন', 'ভাবমূর্তি', 'ভাবমূূর্তি', 'ভাবলাম', 'ভাবলে', 'ভাবা', 'ভাবার', 'ভাবি', 'ভাবিই', 'ভাবিও', 'ভাবিনা', 'ভাবিনি', 'ভাবিস', 'ভাবুন', 'ভাবে', 'ভাবেই', 'ভাবেন', 'ভাবেনা', 'ভাবের', 'ভার', 'ভারত', 'ভারতকে', 'ভারতবর্ষকে', 'ভারতবাসী', 'ভারতবাসীকেও', 'ভারতমুখী', 'ভারতী', 'ভারতীয়', 'ভারতীয়', 'ভারতে', 'ভারতের', 'ভারসাম্য', 'ভারা', 'ভারি', 'ভারী', 'ভার্সন', 'ভার্সনটা', 'ভার্সিটি', 'ভার্সিটিগুলোতে', 'ভার্সিটিতে', 'ভার্সিটির', 'ভাল', 'ভালই', 'ভালতো', 'ভালফালাইবে', 'ভালবাসত', 'ভালবাসতে', 'ভালবাসা', 'ভালবাসাটা', 'ভালবাসাতে', 'ভালবাসার', 'ভালবাসি', 'ভালবাসে', 'ভালবাসেন', 'ভালবেসে', 'ভালভাবেই', 'ভালা', 'ভালুকায়', 'ভালে', 'ভালেবাসে', 'ভালো', 'ভালোবাসাকে', 'ভালোবাসার', 'ভালো', 'ভালোই', 'ভালোকরে', 'ভালোকিছু', 'ভালোটা', 'ভালোনা', 'ভালোবাস', 'ভালোবাসতে', 'ভালোবাসতো', 'ভালোবাসবে', 'ভালোবাসলে', 'ভালোবাসা', 'ভালোবাসাই', 'ভালোবাসাগুলা', 'ভালোবাসাগুলো', 'ভালোবাসাটা', 'ভালোবাসাটাই', 'ভালোবাসাতে', 'ভালোবাসাতেই', 'ভালোবাসায়', 'ভালোবাসার', 'ভালোবাসায়', 'ভালোবাসি', 'ভালোবাসিনা', 'ভালোবাসুন', 'ভালোবাসে', 'ভালোবাসেন', 'ভালোবাস্তে', 'ভালোবেসে', 'ভালোবেসেও', 'ভালোবেসেছিলো', 'ভালোভাবে', 'ভালোভাবেই', 'ভালোভাবোই', 'ভালোমানুষদের', 'ভালোর', 'ভালোলাগলো', 'ভালোলাগা', 'ভালোলাগার', 'ভালোলাগে', 'ভাল্লাগতো', 'ভাল্লাগে', 'ভাষন', 'ভাষা', 'ভাষাই', 'ভাষাকে', 'ভাষাটাকে', 'ভাষাটি', 'ভাষাতে', 'ভাষান্তর', 'ভাষাভাষীর', 'ভাষায়', 'ভাষার', 'ভাষায়', 'ভাসছি', 'ভাসছে', 'ভাসমান', 'ভাসামান', 'ভাসি', 'ভাসুরের', 'ভাসে', 'ভাড়তে', 'ভাড়া', 'ভাড়াও', 'ভাড়াবে', 'ভাড়ার', 'ভাড়ায়', 'ভাড়ি', 'ভায়ের', 'ভায়েরা', 'ভি', 'ভিআইপি', 'ভিউ', 'ভিউগুলো', 'ভিউজ', 'ভিকটিমরাও', 'ভিকটিমের', 'ভিক্টিমরা', 'ভিক্টিমের', 'ভিক্ষা', 'ভিক্ষার', 'ভিক্ষুক', 'ভিখারি', 'ভিখারিরা', 'ভিজে', 'ভিটা', 'ভিড়', 'ভিডিও', 'ভিডিওগুলি', 'ভিডিওটা', 'ভিডিওতে', 'ভিডিওর', 'ভিতর', 'ভিতরটা', 'ভিতরে', 'ভিতরেই', 'ভিতরেও', 'ভিত্তি', 'ভিত্তিক', 'ভিত্তিতে', 'ভিত্তির', 'ভিত্তিহীন', 'ভিনদেশি', 'ভিনদেশিদের', 'ভিনদেশীদের', 'ভিনদেশীর', 'ভিন্ন', 'ভিন্নকিছু', 'ভিন্নধর্মাবলম্বীকে', 'ভিন্নমতের', 'ভিন্নরূপ', 'ভিপি', 'ভিপিনুরু', 'ভিভিআইপি', 'ভিরাম', 'ভিরিয়ে', 'ভিরু', 'ভিলেন', 'ভিলেনের', 'ভিশন', 'ভিষণ', 'ভিষয়', 'ভিসা', 'ভিড়', 'ভিড়ে', 'ভিয়েনার', 'ভীতি', 'ভীমরতি', 'ভীষণ', 'ভীষন', 'ভীষনভাবে', 'ভীড়ে', 'ভু', 'ভুইলা', 'ভুক্তভোগী', 'ভুক্তভোগীরাও', 'ভুখন্ড', 'ভুগছি', 'ভুগছে', 'ভুগছেন', 'ভুগতে', 'ভুগতেছে', 'ভুগবে', 'ভুটানে', 'ভুট্টোর', 'ভুতে', 'ভুবন', 'ভুমিকম্পে', 'ভুমিকা', 'ভুমিকায়', 'ভুয়া', 'ভুয়ো', 'ভুর্তকি', 'ভুল', 'ভুলও', 'ভুলটা', 'ভুলতে', 'ভুলবে', 'ভুলবো', 'ভুলভাল', 'ভুলা', 'ভুলিবোনা', 'ভুলে', 'ভুলেও', 'ভুলের', 'ভুলো', 'ভুয়া', 'ভূখণ্ডের', 'ভূখন্ড', 'ভূগে', 'ভূত', 'ভূতে', 'ভূতের', 'ভূপেন', 'ভূমি', 'ভূমিকম্পের', 'ভূমিকা', 'ভূমিকে', 'ভূমিদস্যদের', 'ভূমিহীন', 'ভূয়া', 'ভূর্তকি', 'ভূল', 'ভূলতে', 'ভূলে', 'ভূয়া', 'ভেংগে', 'ভেঙে', 'ভেঙেছে', 'ভেঙ্গে', 'ভেজা', 'ভেজাল', 'ভেজালের', 'ভেজে', 'ভেত', 'ভেতর', 'ভেতরে', 'ভেতরের', 'ভেদ', 'ভেদা', 'ভেদাভেদ', 'ভেনেজুয়েলা', 'ভেবে', 'ভেবেই', 'ভেবেছিলাম', 'ভেরিয়েন্ট', 'ভেলে', 'ভেষে', 'ভেসে', 'ভেসেছি', 'ভেস্তে', 'ভো', 'ভোক্তা', 'ভোগ', 'ভোগবাদী', 'ভোগাচ্ছে', 'ভোগান্তি', 'ভোগান্তিও', 'ভোগান্তিতে', 'ভোগান্তির', 'ভোগী', 'ভোট', 'ভোটই', 'ভোটার', 'ভোটারবিহীন', 'ভোটে', 'ভোটের', 'ভোর', 'ভোরে', 'ভোলা', 'ভোলাতে', 'ভোলার', 'ভোল্টেজ', 'ভোল্ডোজার', 'ভৌতিক', 'ভ্যাগবান', 'ভ্যাজাল', 'ভ্যাট', 'ভ্যাটকায়', 'ভ্যান', 'ভ্যালু', 'ভ্রমণ', 'ভ্রমণে', 'ভ্রমন', 'ভ্রমনের', 'ভ্রমর', 'ভৎস', 'ভড়ানোর', 'ভয়', 'ভয়ংকর', 'ভয়ংকার', 'ভয়ংক্ষর', 'ভয়কে', 'ভয়ঙ্কর', 'ভয়ানক', 'ভয়াবহ', 'ভয়াবহতার', 'ভয়াবহতায়', 'ভয়ে', 'ভয়েও', 'ভয়েজ', 'ভয়ের', 'ভয়েস', 'ম', 'মংগল', 'মই', 'মগ', 'মগজ', 'মগজে', 'মগের', 'মগেরমুল্লুক', 'মগ্ন', 'মঙ্গল', 'মঙ্গলগ্রহ', 'মঙ্গলজনক', 'মজবুত', 'মজমুদ', 'মজলুমদের', 'মজলুমের', 'মজা', 'মজাই', 'মজাও', 'মজাদার', 'মজার', 'মজুত', 'মজুদ', 'মজুর', 'মজুরি', 'মজুরিও', 'মজুরির', 'মঞ্চ', 'মঞ্চস্থ', 'মঞ্চায়িত', 'মটর', 'মটরবাইক্', 'মটরসাইকেলের', 'মডার্ণ', 'মডার্ন', 'মডিফাই', 'মডেল', 'মণ', 'মত', 'মতই', 'মতন', 'মতলব', 'মতাদর্শে', 'মতামত', 'মতামতের', 'মতিভ্রম', 'মতিস্ক', 'মতে', 'মতেই', 'মতের', 'মতো', 'মতো', 'মতোই', 'মতোন', 'মত্যু', 'মদ', 'মদতপুষ্ট', 'মদতে', 'মদতেই', 'মদদ', 'মদন', 'মদে', 'মদ্দপ', 'মধ', 'মধু', 'মধুবন্তী', 'মধুবন্তীর', 'মধুর', 'মধুরতা', 'মধ্য', 'মধ্যপ্রাচ্যে', 'মধ্যপ্রাচ্যের', 'মধ্যবর্তী', 'মধ্যবিত্ত', 'মধ্যবিত্তদের', 'মধ্যবিত্তরা', 'মধ্যবিত্তরাই', 'মধ্যবিত্তের', 'মধ্যবিত্যরা', 'মধ্যবৃত্তির', 'মধ্যম', 'মধ্যরাত', 'মধ্যরাতে', 'মধ্যে', 'মধ্যেই', 'মধ্যেও', 'মধ্যেবিত্ত', 'মধ্যেমে', 'মন', 'মনকে', 'মনগড়া', 'মনগড়া', 'মনটা', 'মনটাই', 'মনটাও', 'মনটাকে', 'মনন', 'মননে', 'মনপুরা', 'মনপ্রান', 'মনভাঙ্গা', 'মনমানসিকতা', 'মনমানসিকতার', 'মনমুগ্ধকর', 'মনযোগ', 'মনিটরিং', 'মনীষীর', 'মনুষত্ব', 'মনুষ্য', 'মনুষ্যজীবেরা', 'মনুষ্যত্ব', 'মনুষ্যত্বের', 'মনে', 'মনের', 'মনেহয়', 'মনেহয়', 'মনোজগতে', 'মনোবল', 'মনোভাব', 'মনোমুগ্ধকর', 'মনোযোগ', 'মনোযোগের', 'মনোরম', 'মনোরামভাবে', 'মন্তনালয়', 'মন্তব্ব', 'মন্তব্য', 'মন্তব্যই', 'মন্তব্যেও', 'মন্তব্যের', 'মন্ত্র', 'মন্ত্রটা', 'মন্ত্রণালয়', 'মন্ত্রণালয়ে', 'মন্ত্রণালয়', 'মন্ত্রণালয়ের', 'মন্ত্রনালয়ের', 'মন্ত্রমুগ্ধ', 'মন্ত্রমুগ্ধের', 'মন্ত্রি', 'মন্ত্রিরা', 'মন্ত্রিরাতো', 'মন্ত্রী', 'মন্ত্রীত্ব', 'মন্ত্রীদের', 'মন্ত্রীর', 'মন্ত্রীরা', 'মন্ত্রীসভা', 'মন্ত্রের', 'মন্দ', 'মন্দির', 'মন্দিরে', 'মন্দিরের', 'মন্দের', 'মমতা', 'মমতাময়ী', 'মমতাময়ী', 'মমর্মান্তিক', 'মমিনুল', 'ময়মনসিংহের', 'মর', 'মরছে', 'মরণ', 'মরণফাঁদ', 'মরণোত্তর', 'মরতে', 'মরতেই', 'মরতেছি', 'মরতেছে', 'মরতেসে', 'মরন', 'মরবে', 'মরবেই', 'মরবো', 'মরমাহত', 'মরলে', 'মরলেও', 'মরলো', 'মরা', 'মরার', 'মরি', 'মরিচ', 'মরিবার', 'মরিলে', 'মরিয়া', 'মরুক', 'মরুচারী', 'মরুভূমিতে', 'মরে', 'মরেই', 'মরেও', 'মরেগেছেতো', 'মরেছে', 'মরেন', 'মরেনা', 'মর্ম', 'মর্মটা', 'মর্মস্পর্শী', 'মর্মান্তিক', 'মর্মাহত', 'মর্মে', 'মর্যাদা', 'মল', 'মলিন', 'মশকরা', 'মশকরাই', 'মশকারা', 'মশা', 'মশার', 'মশারী', 'মসজিদ', 'মসজিদে', 'মসজিদের', 'মসনদ', 'মসনদে', 'মস্তিষ্ক', 'মস্তিষ্কের', 'মস্তিস্ক', 'মহড়াতেই', 'মহত', 'মহত্বের', 'মহরম', 'মহল', 'মহলে', 'মহলের', 'মহা', 'মহাকাব্য', 'মহাকাশ', 'মহাখালী', 'মহাখুশি', 'মহাচক্র', 'মহাচক্রান্তের', 'মহাজ্ঞানী', 'মহাডাকাতি', 'মহাত্রাশ', 'মহাদেশের', 'মহাধরণীর', 'মহান', 'মহানায়ক', 'মহানায়কদের', 'মহানুভবতা', 'মহাপরিচালক', 'মহাপাপ', 'মহাপ্রকল্প', 'মহাপ্রয়াণ', 'মহাবিপ্লব', 'মহাভারত', 'মহামারী', 'মহাসচিব', 'মহাসমাবেশ', 'মহাসাগর', 'মহাসেতুর', 'মহাসড়কগুলোতে', 'মহাসড়কে', 'মহাৎ', 'মহিমা', 'মহিমান্বিত', 'মহিলা', 'মহিলাকে', 'মহিলাটাকে', 'মহিলাডারে', 'মহিলাদের', 'মহিলার', 'মহিলারা', 'মহিলারাই', 'মহিষ', 'মহুর্তে', 'মহোদয়', 'মহোদয়', 'মহোৎসব', 'মহৎ', 'মহড়া', 'মা', 'মাংশের', 'মাংস', 'মাইক', 'মাইক্রোবাস', 'মাইনা', 'মাইনুল', 'মাইন্ডসেট', 'মাইয়া', 'মাইর', 'মাইরা', 'মাইরে', 'মাইরেন', 'মাইরের', 'মাইলফলক', 'মাইলেজ', 'মাইয়া', 'মাএ', 'মাকাল', 'মাকি', 'মাকে', 'মাখা', 'মাখাতে', 'মাগুরা', 'মাছ', 'মাছে', 'মাছের', 'মাজে', 'মাঝ', 'মাঝখানে', 'মাঝিদের', 'মাঝিরে', 'মাঝে', 'মাঝেই', 'মাঝেও', 'মাঝেমধ্যে', 'মাটি', 'মাটিকে', 'মাটিতে', 'মাটির', 'মাঠ', 'মাঠি', 'মাঠিতে', 'মাঠে', 'মাঠের', 'মাতবরি', 'মাতম', 'মাতা', 'মাতানো', 'মাতাবেন', 'মাতামাতি', 'মাতার', 'মাতাল', 'মাতালদের', 'মাতৃগর্ভে', 'মাতৃভাষা', 'মাতৃভূমি', 'মাতোয়ারা', 'মাত্র', 'মাত্রই', 'মাত্রা', 'মাত্রার', 'মাত্রায়', 'মাথা', 'মাথাই', 'মাথাচাড়া', 'মাথাটা', 'মাথাতেই', 'মাথাপিছু', 'মাথাব্যথা', 'মাথাব্যাথা', 'মাথায়', 'মাথার', 'মাথায়', 'মাদক', 'মাদকগুলো', 'মাদকদ্রব্য', 'মাদকাসক্ত', 'মাদকের', 'মাদার', 'মাদারচোদ', 'মাদারবোর্ড', 'মাদ্রাসা', 'মাদ্রাসাতেও', 'মাদ্রাসার', 'মাদ্রিদ', 'মাধুবান্তির', 'মাধুর্য', 'মাধুর্যে', 'মাধুর্য্যতা', 'মাধূর্য', 'মাধ্যম', 'মাধ্যমগুলো', 'মাধ্যমিক', 'মাধ্যমে', 'মাধ্যমেই', 'মাধ্যমেও', 'মাধ্যমের', 'মান', 'মানই', 'মানচিত্র', 'মানচিত্রে', 'মানচিত্রের', 'মানছিনা', 'মানছেন', 'মানতে', 'মানতেই', 'মানদন্ড', 'মাননীয়', 'মাননীয়', 'মাননীয়া', 'মানব', 'মানবজাতি', 'মানবজাতিকে', 'মানবজাতির', 'মানবতা', 'মানবতাবাদী', 'মানবতাবিরোধী', 'মানবতার', 'মানববন্ধন', 'মানবসভ্যতা', 'মানবাধিকার', 'মানবাধিকারের', 'মানবিক', 'মানবিকতা', 'মানবিকতার', 'মানবে', 'মানবেতর', 'মানবের', 'মানবোনা', 'মানলাম', 'মানলে', 'মানষকন্যা', 'মানষকে', 'মানষিকতা', 'মানসম্মত', 'মানসম্মান', 'মানসিক', 'মানসিকতা', 'মানসিকতার', 'মানসিকভাবে', 'মানহানি', 'মানহানির', 'মানহীন', 'মানা', 'মানাত', 'মানাতে', 'মানাতেই', 'মানানসই', 'মানানোর', 'মানায়', 'মানায়', 'মানি', 'মানিক', 'মানিকগঞ্জ', 'মানিক্কা', 'মানিনা', 'মানিব্যাগ', 'মানিয়ে', 'মানু', 'মানুঃষ', 'মানুষ', 'মানুষই', 'মানুষও', 'মানুষকে', 'মানুষগুলা', 'মানুষগুলাও', 'মানুষগুলো', 'মানুষগুলোই', 'মানুষগুলোকে', 'মানুষগুলোর', 'মানুষজন', 'মানুষজনকে', 'মানুষটা', 'মানুষটাকে', 'মানুষটার', 'মানুষটি', 'মানুষটির', 'মানুষতো', 'মানুষদের', 'মানুষদেরকে', 'মানুষনা', 'মানুষর', 'মানুষরা', 'মানুষরূপী', 'মানুষিক', 'মানুষিকতা', 'মানুষে', 'মানুষের', 'মানুষেরই', 'মানুষেরা', 'মানুষেরাই', 'মানুস', 'মানুসিকতার', 'মানুুষের', 'মানে', 'মানেই', 'মানেন', 'মানেনা', 'মানের', 'মান্না', 'মাপ', 'মাপজোপ', 'মাপের', 'মাফ', 'মাফিক', 'মাফিয়া', 'মাফিয়ার', 'মাফিয়া', 'মাফিয়াদের', 'মাফিয়ার', 'মাফিয়ারা', 'মাবুদ', 'মামনি', 'মামলা', 'মামলাই', 'মামলাটি', 'মামলাটির', 'মামলায়', 'মামলার', 'মামা', 'মামাবাড়ীর', 'মামার', 'মামু', 'মামুলি', 'মায়া', 'মায়াকান্না', 'মায়ানমার', 'মায়ার', 'মায়ের', 'মার', 'মারকার', 'মারকেটিং', 'মারছে', 'মারতে', 'মারতেছে', 'মারতেসেন', 'মারধর', 'মারধরের', 'মারধোর', 'মারন', 'মারব', 'মারবে', 'মারমুখী', 'মারল', 'মারলে', 'মারলেই', 'মারলেও', 'মারহাবা', 'মারা', 'মারাইতে', 'মারাও', 'মারাত্বক', 'মারাত্মক', 'মারামারি', 'মারামারিতে', 'মারামারির', 'মারায়', 'মারার', 'মারায়', 'মারি', 'মারিং', 'মারে', 'মারেন', 'মার্ক', 'মার্কা', 'মার্কায়', 'মার্কার', 'মার্কিন', 'মার্কিনীদের', 'মার্কেট', 'মার্কেটিং', 'মার্কোস', 'মার্জনীয়', 'মার্জিত', 'মার্টিন', 'মার্ডার', 'মার্লির', 'মাল', 'মালদ্বীপ', 'মালয়েশিয়ায়', 'মালা', 'মালামাল', 'মালায়', 'মালিক', 'মালিকও', 'মালিককে', 'মালিকদের', 'মালিকপক্ষ', 'মালিকরা', 'মালিকানা', 'মালিকানাধীন', 'মালিকের', 'মালের', 'মাল্টি', 'মাল্টিমিডিয়া', 'মালয়েশিয়া', 'মালয়েশিয়ার', 'মাশরাফি', 'মাশরাফিকে', 'মাশরাফিরা', 'মাশা', 'মাশাআল্লাহ', 'মাশাল্লাহ', 'মাশাল্লাহ্', 'মাশুল', 'মাষ্টার', 'মাস', 'মাসটা', 'মাসতুতো', 'মাসরাফিকে', 'মাসুদ', 'মাসুদরা', 'মাসুম', 'মাসে', 'মাসের', 'মাস্ক', 'মাস্টারপিস', 'মাস্টারমাইন্ড', 'মাস্তানী', 'মাহমুদ', 'মাহমুদউল্লাহ', 'মাহমুদুল্লাহর', 'মাহমুদের', 'মাহাত্ম্য', 'মাহামুদুল্লার', 'মাহেন্দ্রক্ষণের', 'মােরনি', 'মায়রে', 'মায়া', 'মায়াবী', 'মায়ার', 'মায়ায়', 'মায়ের', 'মায়েরা', 'মি', 'মিঃ', 'মিউজিক', 'মিউজিশিয়ান', 'মিউজিশিয়ানরা', 'মিউজিসিয়ানদের', 'মিছিল', 'মিছিলের', 'মিজানুর', 'মিটাচ্ছি', 'মিটাতে', 'মিটাবে', 'মিটারের', 'মিটিংয়ে', 'মিটিংয়েই', 'মিটে', 'মিডিয়া', 'মিডিয়াকর্মীদের', 'মিডিয়াম', 'মিডিয়ায়', 'মিডিয়ার', 'মিডিয়া', 'মিডিয়াও', 'মিডিয়াকে', 'মিডিয়াগুলো', 'মিডিয়াগুলোর', 'মিডিয়ার', 'মিডিয়ায়', 'মিডেল', 'মিতব্যয়ী', 'মিতব্যায়ি', 'মিতব্যয়ী', 'মিত্থা', 'মিথ', 'মিথ্যা', 'মিথ্যাকথা', 'মিথ্যাকে', 'মিথ্যাচার', 'মিথ্যাচারে', 'মিথ্যাচারের', 'মিথ্যাবাদি', 'মিথ্যাবাদির', 'মিথ্যাবাদীদের', 'মিথ্যার', 'মিথ্যুক', 'মিথ্যে', 'মিথ্যের', 'মিথ্যেরও', 'মিনিট', 'মিনিটে', 'মিনিটের', 'মিনিমাম', 'মিমের', 'মিয়া', 'মিয়াকে', 'মিয়ানমার', 'মিরপুর', 'মিরপুরবাসী', 'মিরপুরে', 'মিরাজ', 'মির্জা', 'মিল', 'মিলচ্ছেন', 'মিলবে', 'মিলবেনা', 'মিলাতে', 'মিলিয়ন', 'মিলিয়ে', 'মিলে', 'মিলেও', 'মিলেমিশে', 'মিশতাম', 'মিশতেও', 'মিশন', 'মিশনে', 'মিশলে', 'মিশিয়ে', 'মিশে', 'মিষ্টি', 'মিস', 'মিসে', 'মিস্টার', 'মিস্টি', 'মিয়া', 'মিয়ানমারের', 'মিয়ার', 'মুকুট', 'মুকে', 'মুক্ত', 'মুক্তবাজার', 'মুক্তি', 'মুক্তিযুদ্ধ', 'মুক্তিযুদ্ধমঞ্চকে', 'মুক্তিযুদ্ধা', 'মুক্তিযুদ্ধের', 'মুক্তিযোদ্ধা', 'মুক্তিযোদ্ধার', 'মুক্তিযোদ্ধের', 'মুক্তির', 'মুক্তো', 'মুখ', 'মুখও', 'মুখখানা', 'মুখগুলো', 'মুখটা', 'মুখস্থ', 'মুখামুখি', 'মুখার্জি', 'মুখী', 'মুখে', 'মুখেই', 'মুখের', 'মুখোমুখি', 'মুখোশ', 'মুগর', 'মুগ্ধ', 'মুগ্ধকর', 'মুগ্ধতা', 'মুগ্ধতায়', 'মুগ্ধের', 'মুচকি', 'মুচলেকা', 'মুছতেছি', 'মুছি', 'মুছে', 'মুজরি', 'মুজরী', 'মুজিব', 'মুজিবকে', 'মুজিবুর', 'মুজিবের', 'মুজুরী', 'মুটা', 'মুঠে', 'মুড', 'মুডে', 'মুতাররিফ', 'মুদি', 'মুদ্রা', 'মুদ্রায়', 'মুদ্রার', 'মুদ্রাস্ফীতির', 'মুদ্রাস্ফীতিসহ', 'মুদ্রায়', 'মুন', 'মুনাফা', 'মুনাফিক', 'মুনাফেক', 'মুনিম', 'মুভি', 'মুভিটা', 'মুভিটায়', 'মুভিতে', 'মুভিতেই', 'মুভির', 'মুমিন', 'মুমিনুল', 'মুমিনের', 'মুরগি', 'মুরগির', 'মুরগী', 'মুরদ', 'মুরাদের', 'মুরুব্বিদের', 'মুরোদ', 'মুর্খ', 'মুর্খতা', 'মুর্খতার', 'মুর্খতারও', 'মুর্খতায়', 'মুর্খলোকের', 'মুর্খের', 'মুল', 'মুলক', 'মুলত', 'মুলধারার', 'মুলা', 'মুলো', 'মুল্য', 'মুল্যবান', 'মুল্যবৃদ্ধি', 'মুল্যবোধে', 'মুল্যায়ন', 'মুল্যের', 'মুল্লুক', 'মুল্লুকের', 'মুশকিল', 'মুশফিক', 'মুসলমান', 'মুসলমানদের', 'মুসলমানরা', 'মুসলমানের', 'মুসলিম', 'মুসলিমদের', 'মুসলিমরা', 'মুসলিমের', 'মুসল্লিদের', 'মুসা', 'মুসাকে', 'মুসাফির', 'মুস্তাফিজ', 'মুহাম্মাদুর', 'মুহুর্ত', 'মুহুর্তটা', 'মুহুর্তে', 'মুহুর্তের', 'মুহু্র্তটা', 'মুহূর্ত', 'মুহূর্তগুলো', 'মুহূর্তে', 'মুহূর্তের', 'মুড়ি', 'মূক্ষ্য', 'মূখ', 'মূখের', 'মূত্যু', 'মূত্র', 'মূর্খ', 'মূর্খতা', 'মূর্খতার', 'মূর্খদের', 'মূর্খের', 'মূর্ছনা', 'মূর্তি', 'মূর্তিমান', 'মূল', 'মূলক', 'মূলত', 'মূলধন', 'মূলমন্ত্র', 'মূলহোতা', 'মূলে', 'মূল্য', 'মূল্যই', 'মূল্যও', 'মূল্যবান', 'মূল্যবৃদ্ধি', 'মূল্যবৃদ্ধিতে', 'মূল্যবৃদ্ধির', 'মূল্যবোধ', 'মূল্যবোধের', 'মূল্যমান', 'মূল্যস্ফীতি', 'মূল্যস্ফীতির', 'মূল্যহীন', 'মূল্যায়ন', 'মূল্যায়ণ', 'মূল্যায়ন', 'মূল্যে', 'মূল্যের', 'মূল্যয়নই', 'মূসা', 'মূহুরতে', 'মূহুর্তটা', 'মূহুর্তে', 'মৃ', 'মৃত', 'মৃতদেহ', 'মৃতের', 'মৃত্যদন্ড', 'মৃত্যর', 'মৃত্যু', 'মৃত্যুই', 'মৃত্যুকে', 'মৃত্যুকেও', 'মৃত্যুটা', 'মৃত্যুতে', 'মৃত্যুদণ্ড', 'মৃত্যুদন্ড', 'মৃত্যুর', 'মৃল্য', 'মে', 'মেইকিং', 'মেকিং', 'মেখে', 'মেগনেটিক', 'মেগা', 'মেঘ', 'মেঘনা', 'মেঘে', 'মেঘের', 'মেজর', 'মেজাজ', 'মেজাজটা', 'মেজাজে', 'মেজারমেন্ট', 'মেঝে', 'মেটাতে', 'মেটাল', 'মেট্রো', 'মেডাম', 'মেডিকেল', 'মেডিসিন', 'মেডেল', 'মেতে', 'মেতেছে', 'মেধা', 'মেধাকে', 'মেধাটা', 'মেধাবি', 'মেধাবী', 'মেধাবীদের', 'মেধাবীরা', 'মেধার', 'মেধাশক্তির', 'মেধাশূন্য', 'মেনটেইন', 'মেনসন', 'মেনে', 'মেনেই', 'মেন্টাল', 'মেবি', 'মেম্বারের', 'মেয়র', 'মেয়াদ', 'মেয়ে', 'মেয়েগুলো', 'মেয়েটা', 'মেয়েটাকে', 'মেয়েটি', 'মেয়েটির', 'মেয়েদের', 'মেয়েদেরকে', 'মেয়ের', 'মেয়েরা', 'মেরামত', 'মেরি', 'মেরুকরণের', 'মেরুদণ্ড', 'মেরুদণ্ডহীনগুলো', 'মেরুদন্ড', 'মেরুদন্ডহীন', 'মেরে', 'মেরেছে', 'মেল', 'মেলবন্ধন', 'মেলা', 'মেলাখানি', 'মেলাচ্ছেন', 'মেলায়', 'মেলে', 'মেলেনা', 'মেশ', 'মেশানো', 'মেশিন', 'মেশে', 'মেসপটমিয়া', 'মেসি', 'মেসির', 'মেসেজ', 'মেহনতি', 'মেহনতী', 'মেহেদী', 'মেহেনতি', 'মো', 'মোবাইল', 'মেয়', 'মেয়র', 'মেয়াদ', 'মেয়াদের', 'মেয়াদোত্তীর্ণ', 'মেয়াদোত্তীর্নটা', 'মেয়ারাই', 'মেয়ে', 'মেয়েই', 'মেয়েকে', 'মেয়েটা', 'মেয়েটাই', 'মেয়েটাকে', 'মেয়েটাকেও', 'মেয়েটার', 'মেয়েটি', 'মেয়েটিকে', 'মেয়েটির', 'মেয়েদের', 'মেয়ের', 'মেয়েরা', 'মোকাবিলা', 'মোকাবেলা', 'মোকাবেলায়', 'মোকাবেলায়', 'মোক্ষম', 'মোগো', 'মোচড়', 'মোটর', 'মোটরসাইকেল', 'মোটরসাইকেলটা', 'মোটরসাইকেলে', 'মোটরসাইকেলের', 'মোটা', 'মোটামুটি', 'মোটামোটি', 'মোটেই', 'মোটেও', 'মোড়ে', 'মোডে', 'মোতাবেক', 'মোতায়েন', 'মোদি', 'মোদির', 'মোদী', 'মোদীজির', 'মোদীর', 'মোদ্দা', 'মোন', 'মোনাজাতে', 'মোনাফাখোর', 'মোবাইল', 'মোবাইলে', 'মোবারক', 'মোবারকবাদ', 'মোবারাক', 'মোমবাতি', 'মোমবাতির', 'মোমেন', 'মোরগ', 'মোরে', 'মোসাদের', 'মোহনীয়', 'মোহান', 'মোহাম্মদ', 'মোহে', 'মোড়কে', 'মোড়ল', 'মৌখিক', 'মৌলবাদ', 'মৌলবাদী', 'মৌলভীবাজারের', 'মৌলিক', 'মৌসুমি', 'মৌসুমিকে', 'মৌসুমী', 'মৌসুমে', 'মৌসুমেও', 'ম্যাচ', 'ম্যাচগুলো', 'ম্যাচগুলোতে', 'ম্যাচটা', 'ম্যাচটাই', 'ম্যাচটি', 'ম্যাচে', 'ম্যাচেই', 'ম্যাচেও', 'ম্যাজিকাল', 'ম্যাডাম', 'ম্যাথুস', 'ম্যান', 'ম্যানেজ', 'ম্যানেজমেন্ট', 'ম্যানেজম্যান্ট', 'ম্যাম', 'ম্যারেজ', 'ম্যাসিভ', 'ম্লানকরে', 'মড়ার', 'ময়', 'ময়মনসিংহ', 'ময়লা', 'ময়ূর', 'য', 'যখন', 'যখনই', 'যখোনই', 'যঘন্য', 'যজ্ঞ', 'যত', 'যতই', 'যতও', 'যতকিছু', 'যতক্ষণ', 'যতজন', 'যতটা', 'যতটুকু', 'যতত', 'যতদিন', 'যতদূর', 'যতদ্রুত', 'যতবার', 'যতবারই', 'যতসব', 'যতেজন', 'যতেষ্ট', 'যতো', 'যতোই', 'যতোদিন', 'যতোসব', 'যত্তসব', 'যত্ন', 'যত্নে', 'যত্রতত্র', 'যথা', 'যথাযত', 'যথাযথ', 'যথাযথভাবে', 'যথার্তই', 'যথার্থ', 'যথার্থই', 'যথেষ্ট', 'যথোপযুক্ত', 'যথোপযোগী', 'যদি', 'যদিও', 'যন্তনা', 'যন্ত্র', 'যন্ত্রচালিত', 'যন্ত্রণা', 'যন্ত্রণার', 'যন্ত্রণায়', 'যন্ত্রনা', 'যন্ত্রনায়', 'যন্ত্রপাতি', 'যন্ত্রাঅংশ', 'যবুকরা', 'যম', 'যমুনা', 'যশোরের', 'য়িকতা', 'যা', 'যাঁর', 'যাঁরা', 'যাঁরাই', 'যাই', 'যাইগাই', 'যাইত', 'যাইতাছে', 'যাইতে', 'যাইতেছে', 'যাইতো', 'যাইনা', 'যাইবো', 'যাইস', 'যাইহোক', 'যাএী', 'যাও', 'যাওয়া', 'যাওয়াই', 'যাওয়ার', 'যাওয়া', 'যাওয়াই', 'যাওয়াতে', 'যাওয়াতেও', 'যাওয়ার', 'যাওয়ায়', 'যাক', 'যাকে', 'যাকেই', 'যাচাই', 'যাচ্চে', 'যাচ্ছি', 'যাচ্ছিলো', 'যাচ্ছে', 'যাচ্ছেন', 'যাচ্ছেনা', 'যাচ্ছো', 'যাতায়াত', 'যাতায়াতের', 'যাতায়াত', 'যাতে', 'যাত্রা', 'যাত্রাপথের', 'যাত্রাপালা', 'যাত্রার', 'যাত্রি', 'যাত্রির', 'যাত্রীদের', 'যাদি', 'যাদু', 'যাদুকরী', 'যাদুঘরে', 'যাদের', 'যাদেরকে', 'যান', 'যানজট', 'যানবাহন', 'যানযট', 'যানি', 'যানে', 'যাপন', 'যাব', 'যাবজ্জীবন', 'যাবত', 'যাবতীয়', 'যাবা', 'যাবার', 'যাবি', 'যাবে', 'যাবেন', 'যাবেনা', 'যাবো', 'যাবৎ', 'যামনায়', 'যামু', 'যায', 'যায়', 'যায়না', 'যাযাবর', 'যার', 'যারজ', 'যারা', 'যারাই', 'যারাশের', 'যারে', 'যালিম', 'যাহা', 'যাহার', 'যাহারা', 'যাহোক', 'যায়', 'যায়গা', 'যায়গায়', 'যায়তে', 'যায়না', 'যায়নি', 'যিনি', 'যুক্ত', 'যুক্তরাজ্য', 'যুক্তরাজ্যের', 'যুক্তরাষ্ট', 'যুক্তরাষ্ট্র', 'যুক্তরাষ্ট্রে', 'যুক্তরাষ্ট্রেকে', 'যুক্তরাষ্ট্রের', 'যুক্তি', 'যুক্তিক', 'যুক্তিতর্ক', 'যুক্তিতে', 'যুক্তিতেই', 'যুক্তিযুক্ত', 'যুক্তিসঙ্গত', 'যুক্তিহীন', 'যুগ', 'যুগান্তকারী', 'যুগান্তরে', 'যুগে', 'যুগের', 'যুগেরও', 'যুত', 'যুদ্ধ', 'যুদ্ধক্ষেত্রে', 'যুদ্ধটাতো', 'যুদ্ধপরাধীর', 'যুদ্ধবাজ', 'যুদ্ধবিধ্বস্ত', 'যুদ্ধা', 'যুদ্ধে', 'যুদ্ধের', 'যুধিষ্ঠির', 'যুব', 'যুবক', 'যুবকদের', 'যুবলীগ', 'যুবাদের', 'যে', 'যেই', 'যেইভাবে', 'যেইসব', 'যেও', 'যেওনা', 'যেকোন', 'যেকোনো', 'যেখান', 'যেখানে', 'যেখানেই', 'যেখেনে', 'যেগুলো', 'যেটা', 'যেটাই', 'যেটাতে', 'যেটার', 'যেটুকু', 'যেত', 'যেতাম', 'যেতে', 'যেতেই', 'যেতো', 'যেথায়', 'যেদিন', 'যেদেশে', 'যেন', 'যেনও', 'যেনে', 'যেনো', 'যেভাবে', 'যেভাবেই', 'যেমন', 'যেমনটা', 'যেমনি', 'যেমনে', 'যেয়ে', 'যেরে', 'যেষ্টা', 'যেসব', 'যেহেতু', 'যোগ', 'যোগ্যতা', 'যেয়ে', 'যো', 'যোগ', 'যোগাখিচুরি', 'যোগান', 'যোগাবে', 'যোগাযোগ', 'যোগাযোগের', 'যোগী', 'যোগীদের', 'যোগ্য', 'যোগ্যতম', 'যোগ্যতা', 'যোগ্যতাই', 'যোগ্যতার', 'যোদ্ধা', 'যোদ্ধাদের', 'যোদ্ধার', 'যোদ্ধারা', 'যোদ্ধের', 'যোয়ারে', 'যৌক্তিক', 'যৌক্তিকতা', 'যৌতিকতা', 'যৌথ', 'যৌনদাসীর', 'যৌবন', 'যৌবনের', 'র', 'রং', 'রংপুর', 'রংপুরে', 'রংয়ের', 'রইছে', 'রইল', 'রইলাম', 'রইলো', 'রকম', 'রকমই', 'রকমের', 'রকিব', 'রকেট', 'রকেটে', 'রক্ত', 'রক্তক্ষরণ', 'রক্তাক্ত', 'রক্তে', 'রক্তের', 'রক্ষণাবেক্ষণ', 'রক্ষণাবেক্ষণের', 'রক্ষা', 'রক্ষাকারী', 'রক্ষায়', 'রক্ষার', 'রক্ষার্থে', 'রক্ষায়', 'রক্ষে', 'রগচটা', 'রঙ', 'রঙধনু', 'রঙিন', 'রঙ্গ', 'রঙ্গমঞ্চ', 'রঙ্গমঞ্চের', 'রঙ্গশালা', 'রঙ্গিগা', 'রঙ্গীন', 'রচনা', 'রচনার', 'রচিত', 'রটাচ্ছে', 'রডের', 'রত', 'রতন', 'রতনে', 'রত্ন', 'রত্নকে', 'রত্নগর্ভা', 'রদ্রিগেজ', 'রন', 'রনির', 'রন্ধ্রে', 'রপ্তানি', 'রপ্তানিকারক', 'রপ্তানিযোগ্য', 'রপ্তানী', 'রব', 'রবি', 'রবিন্দ্রনাথ', 'রবীন্দ্র', 'রবীন্দ্রনাথ', 'রবীন্দ্রনাথকে', 'রবীন্দ্রনাথুকে', 'রবীন্দ্রনাথের', 'রবীন্দ্রসংগীত', 'রবে', 'রমযান', 'রম্য', 'রয়ে', 'রয়েগেলো', 'রয়েছে', 'রশিদ', 'রশীদ', 'রসাতল', 'রসাতলে', 'রসায়নিক', 'রসিকতা', 'রহ', 'রহম', 'রহমত', 'রহমতে', 'রহমতের', 'রহমাতে', 'রহমান', 'রহমানকে', 'রহমানের', 'রহস্য', 'রহস্যজনক', 'রহস্যময়', 'রহস্যময়', 'রহিঙ্গাদের', 'রহিমের', 'রহিলো', 'রা', 'রাই', 'রাইখেন', 'রাইট', 'রাইড', 'রাইডারদের', 'রাইডিং', 'রাউন্ডার', 'রাও', 'রাকাত', 'রাখ', 'রাখছি', 'রাখছে', 'রাখতে', 'রাখবে', 'রাখবেন', 'রাখবো', 'রাখলাম', 'রাখলে', 'রাখলেই', 'রাখলেন', 'রাখা', 'রাখাই', 'রাখার', 'রাখায়', 'রাখি', 'রাখিও', 'রাখিনা', 'রাখিবো', 'রাখিয়েন', 'রাখুক', 'রাখুন', 'রাখে', 'রাখেন', 'রাখেননাই', 'রাখেনা', 'রাখো', 'রাগ', 'রাগকে', 'রাগব', 'রাগে', 'রাগের', 'রাঘব', 'রাঙিয়ে', 'রাঙ্গামাটি', 'রাজ', 'রাজকন', 'রাজকীয়', 'রাজকীয়', 'রাজগাতি', 'রাজতন্ত্র', 'রাজতন্ত্রই', 'রাজত্ব', 'রাজধানী', 'রাজধানীর', 'রাজনিতি', 'রাজনিতিক', 'রাজনিতির', 'রাজনীতি', 'রাজনীতিটা', 'রাজনীতিটি', 'রাজনীতিতে', 'রাজনীতিবিদ', 'রাজনীতিবিদদের', 'রাজনীতিবিদদেরা', 'রাজনীতিবিদরা', 'রাজনীতিবীদ', 'রাজনীতির', 'রাজনৈতিক', 'রাজনৈতিকে', 'রাজনৈতির', 'রাজপথে', 'রাজপরিবার', 'রাজশাহী', 'রাজা', 'রাজাকার', 'রাজাকারদের', 'রাজাকারের', 'রাজাকে', 'রাজার', 'রাজি', 'রাজিউন', 'রাজের', 'রাজ্বত্বে', 'রাজ্য', 'রাডার', 'রাণী', 'রাত', 'রাতটা', 'রাতারাতি', 'রাতে', 'রাতেই', 'রাতের', 'রান', 'রানা', 'রানার', 'রানের', 'রান্না', 'রাবিশ', 'রাব্বুল', 'রাম', 'রামছাগলের', 'রামপাঠা', 'রামের', 'রায়', 'রায়ে', 'রায়ের', 'রাশ', 'রাশিয়া', 'রাশিয়াকে', 'রাশিয়ানরা', 'রাশিয়ায়', 'রাশিয়ার', 'রাশিয়া', 'রাশিয়াও', 'রাশিয়াকে', 'রাশিয়ার', 'রাষ্টদূত', 'রাষ্টীয়', 'রাষ্টের', 'রাষ্ট্র', 'রাষ্ট্রগুলো', 'রাষ্ট্রদুতকে', 'রাষ্ট্রদূত', 'রাষ্ট্রদূতের', 'রাষ্ট্রদ্রোহিতার', 'রাষ্ট্রধর্ম', 'রাষ্ট্রনায়ক', 'রাষ্ট্রপতি', 'রাষ্ট্রপতিকে', 'রাষ্ট্রপ্রধানেরা', 'রাষ্ট্রবিজ্ঞানের', 'রাষ্ট্রব্যবস্থা', 'রাষ্ট্রযন্ত্রের', 'রাষ্ট্রিয়', 'রাষ্ট্রিয়', 'রাষ্ট্রীয়', 'রাষ্ট্রীয়ভাবে', 'রাষ্ট্রীয়', 'রাষ্ট্রে', 'রাষ্ট্রের', 'রাষ্ট্র্রীয়ভাবে', 'রাসায়নিক', 'রাসায়নিক', 'রাসুল', 'রাসুলুল্লাহ', 'রাসেল', 'রাস্ট্র', 'রাস্ট্রও', 'রাস্ট্রীয়', 'রাস্ট্রের', 'রাস্তা', 'রাস্তাগুলোর', 'রাস্তাঘাটে', 'রাস্তায়', 'রাস্তার', 'রাস্তায়', 'রাহা', 'রাহাজানির', 'রায়', 'রায়ের', 'রি', 'রিএক্ট', 'রিএ্যাকট', 'রিকশা', 'রিকশাওয়ালাদের', 'রিকশাওয়ালা', 'রিকসা', 'রিকোয়েস্ট', 'রিক্সা', 'রিক্সায়', 'রিঙ্গিতের', 'রিজার্ভ', 'রিজার্ভে', 'রিজার্ভের', 'রিজিক', 'রিজিকের', 'রিন', 'রিপোর্ট', 'রিপোর্টগুলো', 'রিপোর্টার', 'রিপোর্টারের', 'রিপোর্টে', 'রিপ্রেজেন্ট', 'রিপ্রেসেন্ট', 'রিপ্লেস', 'রিভিউ', 'রিভিউয়ার', 'রিমান্ড', 'রিমান্ডে', 'রিয়াসাত', 'রিয়েকশন', 'রিয়েক্ট', 'রিযিক', 'রিলিজ', 'রিলেট', 'রিশালের', 'রিসার্চ', 'রিসেন্ট', 'রিস্ক', 'রিস্কি', 'রিহাব', 'রিহ্যাবে', 'রিয়াদ', 'রিয়াদকে', 'রিয়েক্ট', 'রিয়েল', 'রীতিনীতি', 'রীতিমত', 'রীতিমতো', 'রুখে', 'রুচি', 'রুচিতে', 'রুচিবোধ', 'রুচির', 'রুচিশীল', 'রুচিসম্মত', 'রুচিহীন', 'রুজি', 'রুজী', 'রুট', 'রুটি', 'রুটিরুজি', 'রুটে', 'রুডে', 'রুপ', 'রুপপুরে', 'রুপান্তর', 'রুপান্তরিত', 'রুপালী', 'রুপীর', 'রুবেল', 'রুম', 'রুমিন', 'রুমে', 'রুশ', 'রুশদির', 'রুষ্ট', 'রূচি', 'রূপ', 'রূপকথা', 'রূপরেখা', 'রূপালি', 'রূপে', 'রূমমেটরা', 'রে', 'রেকর্ড', 'রেখা', 'রেখে', 'রেখেই', 'রেখেছি', 'রেখেছিলেন', 'রেখেছে', 'রেখেছেন', 'রেখেছো', 'রেখো', 'রেগুলার', 'রেগে', 'রেজা', 'রেজাল্ট', 'রেট', 'রেটে', 'রেডি', 'রেডিওতে', 'রেনা', 'রেন্টালের', 'রেন্ডির', 'রেফারির', 'রেভ্যুলেশনারী', 'রেমিটেন্স', 'রেমিটেন্সের', 'রেমিট্যান্স', 'রের', 'রেল', 'রেলওয়ে', 'রেলওয়ে', 'রেলওয়ের', 'রেললাইনের', 'রেলী', 'রেলের', 'রেশ', 'রেশন', 'রেষ্টুরেন্ট', 'রেসিপি', 'রেসিপিটা', 'রেস্টুরেন্ট', 'রেহাই', 'রেহেনা', 'রো', 'রোইজ্ঞা', 'রোয়া', 'রো', 'রোগ', 'রোগই', 'রোগী', 'রোগে', 'রোজ', 'রোজগার', 'রোজগারে', 'রোজগারের', 'রোজাকার', 'রোজার', 'রোড', 'রোডে', 'রোডের', 'রোদ', 'রোদনই', 'রোদ্দুর', 'রোধ', 'রোধে', 'রোনালদোর', 'রোমানচিত', 'রোমান্টিক', 'রোম্যাঞ্চ', 'রোল', 'রোহিংগারা', 'রোহিঙ্গা', 'রোহিঙ্গাকে', 'রোহিঙ্গাদের', 'রোহিঙ্গারা', 'র্নীতিতে', 'র্মের', 'র্্যাংকি', 'র্্যাঙ্কিংয়ে', 'রয়ে', 'রয়েগেছে', 'রয়েছি', 'রয়েছে', 'রয়েছেন', 'ল', 'লংঘন', 'লংঘিত', 'লও', 'লক', 'লকডাউন', 'লক্ষ', 'লক্ষণ', 'লক্ষন', 'লক্ষিন্দরের', 'লক্ষে', 'লক্ষ্মণ', 'লক্ষ্মী', 'লক্ষ্য', 'লক্ষ্যমাত্রা', 'লক্ষ্যে', 'লগি', 'লঘু', 'লঘুদের', 'লঙ্গন', 'লঙ্ঘন', 'লঙ্ঘনের', 'লঙ্ঘিত', 'লজিক', 'লজ্জা', 'লজ্জাও', 'লজ্জাকর', 'লজ্জাজনক', 'লজ্জার', 'লজ্জাশরম', 'লজ্জাস্কর', 'লজ্জাহীন', 'লজ্জিত', 'লজ্জ্বাজনক', 'লঞ্চ', 'লঞ্চে', 'লটকিয়ে', 'লড়াই', 'লন', 'লন্ডনের', 'লবণ', 'লবণের', 'লবন', 'লবা', 'লবিং', 'লম্পট', 'লম্বা', 'লর্ড', 'ললিত', 'লস', 'লসে', 'লা', 'লাইক', 'লাইট', 'লাইন', 'লাইনই', 'লাইনে', 'লাইফ', 'লাইফটাকে', 'লাইফে', 'লাইফের', 'লাইব্রেরি', 'লাইভ', 'লাইভে', 'লাইসেন্স', 'লাউ', 'লাখ', 'লাখিয়েছে', 'লাখো', 'লাগছত', 'লাগছে', 'লাগছেনা', 'লাগত', 'লাগতাছে', 'লাগতে', 'লাগতেছে', 'লাগতেসে', 'লাগতো', 'লাগব', 'লাগবে', 'লাগবেই', 'লাগবেনা', 'লাগবো', 'লাগল', 'লাগলে', 'লাগলেই', 'লাগলেও', 'লাগলো', 'লাগসে', 'লাগা', 'লাগাইছে', 'লাগাচ্ছে', 'লাগাতে', 'লাগানো', 'লাগানোর', 'লাগাবে', 'লাগাবো', 'লাগাম', 'লাগামহীন', 'লাগায়', 'লাগার', 'লাগালে', 'লাগালেই', 'লাগায়', 'লাগায়নি', 'লাগায়াই', 'লাগিয়ে', 'লাগিয়েছে', 'লাগিলো', 'লাগিয়ে', 'লাগিয়েছে', 'লাগে', 'লাগেজ', 'লাগেনা', 'লাগেনি', 'লাঘব', 'লাঞ্চিত', 'লাঞ্ছিত', 'লাট', 'লাঠি', 'লাঠিচার্জ', 'লাঠির', 'লাঠী', 'লাঠে', 'লাত্থি', 'লাথি', 'লাদেন', 'লান্ছিতর', 'লাফ', 'লাফাইবেন', 'লাফাইয়েন', 'লাফালাফি', 'লাফায়', 'লাফিয়ে', 'লাফে', 'লাভ', 'লাভটা', 'লাভবান', 'লাভলু', 'লাভার', 'লাভের', 'লার', 'লাল', 'লালন', 'লালমমিরহাট', 'লালা', 'লালায়িত', 'লালিত', 'লালে', 'লাশ', 'লাশের', 'লাস্ট', 'লাস্টের', 'লি', 'লিংকটা', 'লিওনেল', 'লিখছো', 'লিখতে', 'লিখতেন', 'লিখন', 'লিখনি', 'লিখবো', 'লিখলে', 'লিখা', 'লিখাগুলো', 'লিখার', 'লিখিত', 'লিখিনা', 'লিখে', 'লিখেছেন', 'লিখেন', 'লিগ', 'লিগার', 'লিগের', 'লিগেল', 'লিগ্যাল', 'লিঙ্গ', 'লিজপার্টি', 'লিজেন্ডদের', 'লিজেন্ডরাই', 'লিজেন্ডারি', 'লিজেন্ডের', 'লিটন', 'লিটা', 'লিটার', 'লিডার', 'লিপ্ত', 'লিভারপুল', 'লিমিট', 'লিরিক', 'লিরিক্স', 'লির্লজ্জ', 'লিল্লাহ', 'লিল্লাহি', 'লিষ্ট', 'লিস্ট', 'লিস্টে', 'লীগ', 'লীগকেও', 'লীগারদেরও', 'লীগের', 'লীলাভূমি', 'লুংগি', 'লুক', 'লুকাতে', 'লুকিয়ে', 'লুকিয়ে', 'লুঙ্গি', 'লুচ্চা', 'লুচ্চামি', 'লুজ', 'লুট', 'লুটপটের', 'লুটপাট', 'লুটপাটকারীদের', 'লুটপাটে', 'লুটপাটের', 'লুটবে', 'লুটলে', 'লুটানোর', 'লুটার', 'লুটে', 'লুটেপুটে', 'লুটের', 'লুটেরা', 'লুটেরাদের', 'লুঠেরা', 'লুন্ঠন', 'লুন্ঠনের', 'লুন্ঠিত', 'লুপাট', 'লুলা', 'লে', 'লেকচার', 'লেখক', 'লেখককে', 'লেখকের', 'লেখনি', 'লেখনী', 'লেখনীর', 'লেখা', 'লেখাটি', 'লেখাপড়া', 'লেখাপড়া', 'লেখায়', 'লেখার', 'লেখালেখি', 'লেখায়', 'লেখিকা', 'লেখে', 'লেখেন', 'লেগে', 'লেগেই', 'লেগেছিল', 'লেগেছে', 'লেঙরা', 'লেজুড়বৃত্তি', 'লেজুড়বৃত্তির', 'লেজে', 'লেন', 'লেনদেন', 'লেনে', 'লেপন', 'লেপনের', 'লেপ্টে', 'লেবার', 'লেবাস', 'লেবাসধারী', 'লেবেলের', 'লেভেল', 'লেভেলে', 'লেভেলের', 'লের', 'লেলিয়ে', 'লো', 'লোকজন', 'লোভি', 'লো', 'লোক', 'লোকই', 'লোককে', 'লোকগান', 'লোকগীতিই', 'লোকজন', 'লোকজনকে', 'লোকজনের', 'লোকটা', 'লোকটাই', 'লোকটাকে', 'লোকটার', 'লোকটিকে', 'লোকদেখানো', 'লোকদের', 'লোকদেরকে', 'লোকরাই', 'লোকশান', 'লোকসান', 'লোকসানের', 'লোকাল', 'লোকে', 'লোকেদের', 'লোকের', 'লোকেরা', 'লোকেরাই', 'লোকেশন', 'লোকোমোটিভও', 'লোটপাট', 'লোটাই', 'লোটে', 'লোড', 'লোডশেডিং', 'লোডশেডিংয়ের', 'লোন', 'লোনের', 'লোপ', 'লোপাট', 'লোভ', 'লোভটাও', 'লোভি', 'লোভী', 'লোভীকে', 'লোভে', 'লোভের', 'লোম', 'লোমহর্ষক', 'লোহা', 'লোহার', 'ল্যাংটা', 'ল্যাটা', 'ল্যাঠা', 'ল্যাবগুলো', 'ল্যাবে', 'ল্যাম্পপোস্টে', 'লড়বে', 'লড়াই', 'লড়াইয়ে', 'লড়ার', 'লয়', 'শ', 'শংকিত', 'শক', 'শক্ত', 'শক্তি', 'শক্তিই', 'শক্তিতে', 'শক্তিধর', 'শক্তিমান', 'শক্তির', 'শক্তিশালী', 'শক্তিশিলী', 'শক্তের', 'শখ', 'শখে', 'শখের', 'শঙ্কায়', 'শচীন', 'শট', 'শত', 'শতক', 'শতকরা', 'শততম', 'শতবার', 'শতভাগ', 'শতশত', 'শতাংশ', 'শতাব্দীর', 'শতো', 'শত্রু', 'শত্রুকে', 'শত্রুর', 'শত্রুরও', 'শত্রুরা', 'শনাক্তের', 'শনিবারে', 'শনির', 'শপিং', 'শব্দ', 'শব্দগুলো', 'শব্দচয়ন', 'শব্দচয়ণ', 'শব্দটা', 'শব্দটি', 'শব্দটিকে', 'শব্দতেই', 'শব্দদূষণ', 'শব্দদূষণের', 'শব্দাঘাতই', 'শব্দের', 'শমশের', 'শমসের', 'শয়তান', 'শয়তানরা', 'শয়তানের', 'শরতের', 'শরম', 'শরিফুল', 'শরিয়াহ', 'শরীফ', 'শরীর', 'শরীরচর্চা', 'শরীরে', 'শরীরের', 'শরীলে', 'শরীয়তপুর', 'শরুফা', 'শর্ট', 'শর্টকাটে', 'শর্ত', 'শর্তগুলো', 'শর্তে', 'শশুর', 'শস্য', 'শহর', 'শহরকে', 'শহরগুলিতে', 'শহরটা', 'শহরতলি', 'শহরে', 'শহরের', 'শহীদ', 'শহীদদের', 'শা', 'শাক', 'শাখা', 'শাটডাউন', 'শাটল', 'শানিত', 'শান্ত', 'শান্তকে', 'শান্তনা', 'শান্তর', 'শান্তি', 'শান্তিতে', 'শান্তিপূর্ণ', 'শান্তিপ্রিয়', 'শান্তিময়', 'শান্তির', 'শাপলা', 'শাবনূরের', 'শাবাশ', 'শামিল', 'শায়েস্তা', 'শারিরিক', 'শালা', 'শালাকে', 'শালার', 'শালারা', 'শালারাই', 'শালায়', 'শালি', 'শালিক', 'শালিকের', 'শালীদের', 'শালীন', 'শালীনতার', 'শাষণ', 'শাষন', 'শাসক', 'শাসকদল', 'শাসকের', 'শাসন', 'শাসনকর্তাদের', 'শাসনকার্যের', 'শাসনকাল', 'শাসনতন্ত্র', 'শাসনব্যবস্থা', 'শাসনব্যস্তা', 'শাসনামলে', 'শাসনের', 'শাসিত', 'শাস্তি', 'শাস্তিই', 'শাস্তিগুলো', 'শাস্তিতে', 'শাস্তিযোগ্য', 'শাস্তির', 'শাহ', 'শাহজাহান', 'শাহবাগের', 'শাহরিয়ার', 'শাহ্', 'শাড়িতে', 'শায়েস্তা', 'শি', 'শিউরে', 'শিকড়ের', 'শিকার', 'শিকারী', 'শিকের', 'শিক্ষক', 'শিক্ষকই', 'শিক্ষকও', 'শিক্ষককে', 'শিক্ষককের', 'শিক্ষকদের', 'শিক্ষকদেরও', 'শিক্ষকদেরকে', 'শিক্ষকরা', 'শিক্ষকরাই', 'শিক্ষকসুলভ', 'শিক্ষকের', 'শিক্ষকেরা', 'শিক্ষতে', 'শিক্ষনিয়', 'শিক্ষা', 'শিক্ষাংগন', 'শিক্ষাই', 'শিক্ষাকে', 'শিক্ষাখাত', 'শিক্ষাখাতে', 'শিক্ষাঙ্গন', 'শিক্ষাঙ্গনকে', 'শিক্ষাঙ্গনে', 'শিক্ষাতেই', 'শিক্ষাপ্রতিষ্ঠান', 'শিক্ষাপ্রতিষ্ঠানে', 'শিক্ষাপ্রতিষ্ঠানের', 'শিক্ষাব্যবস্থা', 'শিক্ষাব্যবস্থাকে', 'শিক্ষাব্যবস্থার', 'শিক্ষাব্যবস্থায়', 'শিক্ষার', 'শিক্ষার্থী', 'শিক্ষার্থীই', 'শিক্ষার্থীদের', 'শিক্ষার্থীর', 'শিক্ষার্থীরা', 'শিক্ষার্থীরাই', 'শিক্ষায়', 'শিক্ষিকা', 'শিক্ষিকার', 'শিক্ষিত', 'শিক্ষিতের', 'শিক্ষীত', 'শিক্ষের', 'শিকড়', 'শিখছিলাম', 'শিখতে', 'শিখতেই', 'শিখতেছি', 'শিখবার', 'শিখবে', 'শিখলেন', 'শিখা', 'শিখাইতে', 'শিখাবে', 'শিখাবেন', 'শিখার', 'শিখায়', 'শিখিয়েছে', 'শিখিয়েছেন', 'শিখুন', 'শিখে', 'শিখেছি', 'শিগগিরি', 'শিগ্রই', 'শিডিউল', 'শিতল', 'শিথিল', 'শিবচর', 'শিবির', 'শিবিরের', 'শিবের', 'শিয়াল', 'শিরশ্ছেদ', 'শিরা', 'শিরায়', 'শিরোনাম', 'শিরোনাম', 'শিরোনামই', 'শিরোনামটা', 'শিরোনামটার', 'শিরোনামে', 'শিরোপা', 'শিলা', 'শিল্প', 'শিল্পপতি', 'শিল্পবস্তূ', 'শিল্পি', 'শিল্পিদের', 'শিল্পী', 'শিল্পীদের', 'শিল্পীর', 'শিল্পীরা', 'শিল্পের', 'শিশির', 'শিশু', 'শিশুটিই', 'শিশুটির', 'শিশুদের', 'শিশুরাও', 'শিষ', 'শিষ্টাচার', 'শিষ্টাচারের', 'শিহরণ', 'শিহরিত', 'শিহ্মা', 'শিহ্মিত', 'শিয়ালের', 'শীঘ্রই', 'শীত', 'শীতল', 'শীর্ষ', 'শীর্ষস্হানীয়', 'শীষে', 'শুইনেন', 'শুকনা', 'শুকরিয়া', 'শুকরিয়া', 'শুকিয়ে', 'শুকিয়ে', 'শুক্রবার', 'শুক্রাণ', 'শুটিং', 'শুদু', 'শুদ্ধ', 'শুধরায়', 'শুধু', 'শুধুই', 'শুধুমাত্র', 'শুধূ', 'শুনছি', 'শুনছিলাম', 'শুনছে', 'শুনছেন', 'শুনতাম', 'শুনতে', 'শুনতেই', 'শুনতেও', 'শুনতেছি', 'শুনতেছে', 'শুনতেসিলাম', 'শুনব', 'শুনবার', 'শুনবে', 'শুনবেন', 'শুনবো', 'শুনলাম', 'শুনলে', 'শুনলেই', 'শুনলেও', 'শুনলেন', 'শুনা', 'শুনাইলি', 'শুনাতে', 'শুনাবো', 'শুনার', 'শুনি', 'শুনিনাই', 'শুনিনি', 'শুনিয়েছেন', 'শুনিলাম', 'শুনিয়ে', 'শুনুন', 'শুনে', 'শুনেই', 'শুনেছি', 'শুনেছিলাম', 'শুনেন', 'শুন্য', 'শুভ', 'শুভকামনা', 'শুভবুদ্ধি', 'শুভবুদ্ধির', 'শুভাকাঙ্ক্ষী', 'শুভেচ্ছা', 'শুয়ে', 'শুয়োর', 'শুয়োরের', 'শুর', 'শুরু', 'শুরুই', 'শুরুটা', 'শুরুতে', 'শুরুতেই', 'শুরুর', 'শুলভ', 'শুষ্ক', 'শুয়োরের', 'শূনতে', 'শূন্য', 'শূন্যের', 'শৃংখ', 'শৃংখলার', 'শৃঙ্খলা', 'শে', 'শেকড়ের', 'শেখ', 'শেখহাসিনার', 'শেখা', 'শেখাতে', 'শেখানো', 'শেখানোর', 'শেখাবে', 'শেখার', 'শেখায়', 'শেখো', 'শেডিং', 'শেতপতর', 'শের', 'শেরওয়ানি', 'শেরওয়ানিতে', 'শেষ', 'শেষটা', 'শেষমেশ', 'শেষে', 'শেষেই', 'শেষের', 'শোষনের', 'শেয়ার', 'শেয়ারবাজার', 'শেয়ালের', 'শৈশব', 'শৈশবে', 'শৈশবের', 'শৈষ', 'শো', 'শোক', 'শোকসন্তপ্ত', 'শোকাহত', 'শোকে', 'শোকের', 'শোচনীয়', 'শোচনীয়', 'শোধ', 'শোধিতে', 'শোনলে', 'শোনা', 'শোনাতে', 'শোনার', 'শোনারও', 'শোনালে', 'শোনায়', 'শোনেনা', 'শোভা', 'শোষক', 'শোষণ', 'শোষন', 'শোসক', 'শৌচাগার', 'শ্বশুর', 'শ্বাস', 'শ্বেতপত্র', 'শ্যামলা', 'শ্যালো', 'শ্রদ্ধা', 'শ্রদ্ধাবোধ', 'শ্রদ্ধায়', 'শ্রদ্ধার', 'শ্রদ্ধাশীল', 'শ্রদ্ধায়', 'শ্রদ্ধেয়', 'শ্রদ্ধেয়', 'শ্রদ্বেয়', 'শ্রবন', 'শ্রম', 'শ্রমজীবী', 'শ্রমিক', 'শ্রমিকগুলো', 'শ্রমিকদের', 'শ্রমিকরা', 'শ্রমিকের', 'শ্রমিকেরা', 'শ্রাবণ', 'শ্রিলংকা', 'শ্রিলংকায়', 'শ্রীধরন', 'শ্রীরামের', 'শ্রীলংকা', 'শ্রীলংকাকেও', 'শ্রীলংকার', 'শ্রীলংঙ্কা', 'শ্রীলঙ্কা', 'শ্রীলঙ্কায়', 'শ্রীলঙ্কার', 'শ্রীলঙ্কায়', 'শ্রুতাদের', 'শ্রুতি', 'শ্রুতিমধুর', 'শ্রেণি', 'শ্রেণির', 'শ্রেণী', 'শ্রেণীর', 'শ্রেনীভেদ', 'শ্রেনীর', 'শ্রেষ্ঠ', 'শ্রোতা', 'শ্রোতার', 'শয়তান', 'শয়তানও', 'শয়তানদের', 'শয়তানে', 'শয়তানের', 'ষড়ন্ত্রকারী', 'ষড়যন্ত্র', 'ষড়যন্ত্রকা', 'ষষ্ঠ', 'ষিদ্ধ', 'ষের', 'ষ্টুডিওকে', 'ষ্টুডিওর', 'ষড়যন্ত্র', 'ষড়যন্ত্রকারী', 'ষড়যন্ত্রের', 'ষড়যন্ত্রেরই', 'স', 'সং', 'সংকট', 'সংকটই', 'সংকটকে', 'সংকটময়', 'সংকটময়', 'সংকটে', 'সংকটের', 'সংকুচিত', 'সংকেত', 'সংকোচ', 'সংক্রমিত', 'সংক্ষিপ্ত', 'সংক্ষেত', 'সংখক', 'সংখ্যক', 'সংখ্যা', 'সংখ্যাও', 'সংখ্যাগরিষ্ঠ', 'সংখ্যাটাই', 'সংখ্যালঘু', 'সংখ্যালঘুদের', 'সংখ্যালঘুরা', 'সংখ্যালুঘু', 'সংগঠন', 'সংগঠনটি', 'সংগঠনের', 'সংগত', 'সংগতি', 'সংগীত', 'সংগীতকে', 'সংগীতের', 'সংগে', 'সংগ্রহ', 'সংগ্রাম', 'সংগ্রামে', 'সংগ্রামের', 'সংঘ', 'সংঘটন', 'সংঘটিত', 'সংঘাত', 'সংঘাতের', 'সংজ্ঞা', 'সংবাদ', 'সংবাদপত্র', 'সংবাদপত্রিকা', 'সংবাদমাধ্যমকে', 'সংবাদমাধ্যমের', 'সংবাদিকে', 'সংবাদের', 'সংবিধান', 'সংযুক্ত', 'সংযোগ', 'সংযোজন', 'সংরক্ষণ', 'সংরক্ষন', 'সংরক্ষিত', 'সংলাপ', 'সংশোধন', 'সংশ্লিষ্ট', 'সংশ্লিষ্টতা', 'সংশ্লিষ্টদের', 'সংশ্লিষ্ঠদের', 'সংসদ', 'সংসদে', 'সংসদেও', 'সংসার', 'সংসারী', 'সংসারের', 'সংস্কার', 'সংস্কৃতি', 'সংস্কৃতিকে', 'সংস্কৃতিতে', 'সংস্কৃতির', 'সংস্থা', 'সংস্থান', 'সংস্থানে', 'সংস্থার', 'সংহতি', 'সঃ', 'সই', 'সইতে', 'সইবে', 'সকল', 'সকলকে', 'সকলকেই', 'সকলে', 'সকলেই', 'সকলের', 'সকলেরই', 'সকাল', 'সকালবেলা', 'সকালে', 'সকালের', 'সক্ত', 'সক্রিয়', 'সক্রিয়ভাবে', 'সক্ষম', 'সক্ষমতা', 'সক্ষমতার', 'সখা', 'সঙ্কট', 'সঙ্গতিপূর্ণ', 'সঙ্গিত', 'সঙ্গী', 'সঙ্গীত', 'সঙ্গীতের', 'সঙ্গে', 'সচেততামূলক', 'সচেতন', 'সচেতনা', 'সচ্ছ', 'সচ্ছল', 'সজাগ', 'সজীব', 'সজ্জা', 'সটকে', 'সঠিক', 'সঠিকভাবে', 'সড়ক', 'সড়কে', 'সড়কের', 'সত', 'সততা', 'সততার', 'সতর্ক', 'সতিই', 'সতেরো', 'সত্তা', 'সত্তার', 'সত্তিকার', 'সত্ত্বার', 'সত্ত্বেও', 'সত্বেও', 'সত্য', 'সত্যই', 'সত্যকে', 'সত্যটা', 'সত্যতা', 'সত্যবাদী', 'সত্যি', 'সত্যিই', 'সত্যিকার', 'সত্যিকারে', 'সত্যিকারেই', 'সত্যিকারের', 'সত্যিটা', 'সত্যিটাই', 'সত্যিবাদি', 'সত্যির', 'সত্যের', 'সত্যো', 'সদয়', 'সদর', 'সদরঘাট', 'সদরদপ্তর', 'সদস্য', 'সদস্যকে', 'সদস্যদের', 'সদস্যর', 'সদস্যরা', 'সদস্যে', 'সদস্যের', 'সদা', 'সদিচ্ছা', 'সদিচ্ছার', 'সদ্য', 'সদয়', 'সনাক্ত', 'সনাতন', 'সনামধন্য', 'সন্তপ্ত', 'সন্তান', 'সন্তানকে', 'সন্তানগুলোর', 'সন্তানদের', 'সন্তানরা', 'সন্তানের', 'সন্তানেরা', 'সন্তুষ্ট', 'সন্ত্রাস', 'সন্ত্রাসির', 'সন্ত্রাসী', 'সন্ত্রাসীদের', 'সন্ত্রাসের', 'সন্দহ', 'সন্দেহ', 'সন্দেহজনক', 'সন্ধান', 'সন্ধানে', 'সন্ধ্যা', 'সন্ধ্যার', 'সন্নিকটে', 'সন্মান', 'সন্মুখীন', 'সন্যাসী', 'সপূর্ন', 'সপ্তম', 'সপ্তাহ', 'সপ্তাহখানেক', 'সপ্তাহে', 'সপ্ন', 'সপ্নই', 'সপ্নের', 'সফটওয়্যার', 'সফর', 'সফরে', 'সফল', 'সফলকাম', 'সফলতা', 'সফলতায়', 'সফলতার', 'সফেদ', 'সব', 'সবই', 'সবক', 'সবকিছু', 'সবকিছুই', 'সবকিছুকে', 'সবকিছুতেই', 'সবকিছুর', 'সবকিছুরই', 'সবখানে', 'সবখানেই', 'সবগুলাই', 'সবগুলি', 'সবগুলো', 'সবগুলোতে', 'সবগুলোর', 'সবচাইতে', 'সবচেয়ে', 'সবচেয়ে', 'সবচেয়েও', 'সবজায়গাতেই', 'সবটাই', 'সবটুকু', 'সবথেকে', 'সবদিক', 'সবদেশের', 'সবধরনের', 'সবমিলিয়ে', 'সবশেষ', 'সবসময়', 'সবসময়', 'সবসময়ই', 'সবাই', 'সবাইকে', 'সবাইকেই', 'সবাইতো', 'সবাইরে', 'সবার', 'সবারই', 'সবারটা', 'সবারি', 'সবুজ', 'সবে', 'সবেচেয়ে', 'সবের', 'সবোর্চ্চ', 'সভ', 'সভা', 'সভানেত্রীর', 'সভাপতি', 'সভাপতির', 'সভার', 'সভ্য', 'সভ্যতা', 'সভ্যতার', 'সভ্যতায়', 'সভ্যর', 'সম', 'সমকাম', 'সমকামি', 'সমগ্র', 'সমঝোতা', 'সমতল', 'সমতার', 'সমতুল্য', 'সমথর্ন', 'সমধান', 'সমন্ধে', 'সমন্বয়', 'সমন্বয়', 'সমন্বয়ক', 'সমন্বয়ে', 'সমন্বয়ের', 'সমবেদনা', 'সমভব', 'সমম্যা', 'সময়', 'সময়ই', 'সময়টা', 'সময়ুপযোগী', 'সময়ে', 'সময়ের', 'সময়োপযোগী', 'সমরত', 'সমর্থক', 'সমর্থকদের', 'সমর্থকরা', 'সমর্থন', 'সমর্থনকে', 'সমর্থনযোগ্য', 'সমর্থনেই', 'সমস', 'সমস্ত', 'সমস্যা', 'সমস্যাগুলো', 'সমস্যাগ্রস্ত', 'সমস্যাটা', 'সমস্যাতেও', 'সমস্যায়', 'সমস্যার', 'সমস্যায়', 'সমা', 'সমাগম', 'সমাগমে', 'সমাজ', 'সমাজকর্মীর', 'সমাজকে', 'সমাজকেই', 'সমাজটা', 'সমাজটাকে', 'সমাজতান্ত্রিক', 'সমাজব্যবস্থা', 'সমাজসেবা', 'সমাজে', 'সমাজের', 'সমাধান', 'সমান', 'সমানভাবে', 'সমানে', 'সমাপ্ত', 'সমাপ্তি', 'সমাবেশ', 'সমার্থন', 'সমালচনা', 'সমালোচক', 'সমালোচকরাই', 'সমালোচনা', 'সমালোচনাও', 'সমালোচনার', 'সমিকরণ', 'সমিতি', 'সমিতিতে', 'সমিতির', 'সমীক্ষা', 'সমীচীন', 'সমুদ্র', 'সমুদ্রে', 'সমৃদ্ধ', 'সমৃদ্ধি', 'সম্পত্তি', 'সম্পত্তির', 'সম্পদ', 'সম্পদশালীদের', 'সম্পদশালীরা', 'সম্পদায়', 'সম্পদায়ের', 'সম্পদের', 'সম্পন্ন', 'সম্পর্ক', 'সম্পর্কটাকে', 'সম্পর্কে', 'সম্পাদককে', 'সম্পাদনে', 'সম্পুর্ণ', 'সম্পুর্ন', 'সম্পূর্ণ', 'সম্পূর্ণই', 'সম্পূর্ণভাবে', 'সম্পূর্ণরুপে', 'সম্পূর্ণরূপে', 'সম্প্রতি', 'সম্প্রদায়ের', 'সম্প্রদায়', 'সম্প্রদায়ের', 'সম্প্রসারণ', 'সম্প্রসারিত', 'সম্প্রীতি', 'সম্বৃদ্ধ', 'সম্ভব', 'সম্ভবত', 'সম্ভবের', 'সম্ভাবনা', 'সম্ভাবনাই', 'সম্ভাবনাময়', 'সম্ভাবনাময়', 'সম্ভাবনার', 'সম্মত', 'সম্মান', 'সম্মানজনক', 'সম্মানটা', 'সম্মাননা', 'সম্মানি', 'সম্মানিত', 'সম্মানে', 'সম্মানের', 'সম্মুখীন', 'সম্মুখে', 'সম্মেলন', 'সম্মেলনে', 'সম্রাজ্ঞবাদী', 'সম্রাজ্য', 'সম্রাট', 'সময়', 'সময়ই', 'সময়ও', 'সময়গুলোর', 'সময়টা', 'সময়টাই', 'সময়টায়', 'সময়সূচি', 'সময়ে', 'সময়েই', 'সময়েও', 'সময়ের', 'সময়োপযোগী', 'সয', 'সয্য', 'সরকরের', 'সরকা', 'সরকার', 'সরকারই', 'সরকারও', 'সরকারকে', 'সরকারকেই', 'সরকারতো', 'সরকারদলীয়', 'সরকারদের', 'সরকাররে', 'সরকারি', 'সরকারী', 'সরকারে', 'সরকারেকে', 'সরকারের', 'সরকারেরই', 'সরকারেরও', 'সরদার', 'সরবরাহ', 'সরবরাহের', 'সরবে', 'সরম', 'সরল', 'সরলতা', 'সরস্বতী', 'সরাতে', 'সরাসরি', 'সরাসরী', 'সরি', 'সরিফ', 'সরিয়ে', 'সরিষা', 'সরিষার', 'সরিয়ে', 'সরে', 'সর্তক', 'সর্তকতা', 'সর্ব', 'সর্বকা', 'সর্বকালের', 'সর্বতোভাবে', 'সর্বত্তম', 'সর্বত্র', 'সর্বত্রই', 'সর্বদা', 'সর্বদার', 'সর্বনাশ', 'সর্বনিম্ন', 'সর্বপরি', 'সর্বপ্রথম', 'সর্বভুক', 'সর্বভৌম', 'সর্বমহল', 'সর্বশেষ', 'সর্বশ্রেনীর', 'সর্বশ্রেষ্ঠ', 'সর্বস্তরে', 'সর্বস্তরের', 'সর্বাঙ্গ', 'সর্বাদিনায়ক', 'সর্বাধিক', 'সর্বোচ্চ', 'সর্বোচ্চ', 'সর্বোচ্চটা', 'সর্বোচ্চটুকু', 'সর্ব্বোচ', 'সর্ষের', 'সলভ', 'সলিমুল্লাহ', 'সলিমূল্লাহ', 'সল্প', 'সশৃদ্ধ', 'সশ্রদ্ধ', 'সসংস্কৃতি', 'সস্তা', 'সস্তায়', 'সস্তায়', 'সস্থি', 'সহ', 'সহকর্মী', 'সহকারী', 'সহকারীরা', 'সহকারে', 'সহজ', 'সহজে', 'সহজেই', 'সহনশীল', 'সহনশীলতা', 'সহনশীলতার', 'সহনীয়', 'সহনীয়', 'সহপাঠী', 'সহমত', 'সহযুগিতা', 'সহযোগিতা', 'সহযোগিতায়', 'সহযোগিতার', 'সহযোগী', 'সহযোগীতা', 'সহযোগীতার', 'সহযোগীদের', 'সহরে', 'সহসা', 'সহস্র', 'সহানুভূতি', 'সহায়', 'সহায়ক', 'সহায়তা', 'সহায়তায়', 'সহায়', 'সহায়তা', 'সহি', 'সহিংস', 'সহিংসতা', 'সহিত', 'সহ্য', 'সহ্যকারী', 'সহ্যসীমা', 'সা', 'সাঁওতালপাড়ায়', 'সাংঘাতিক', 'সাংঘাতিকের', 'সাংবাদিক', 'সাংবাদিককে', 'সাংবাদিকগুলো', 'সাংবাদিকতা', 'সাংবাদিকতাই', 'সাংবাদিকতায়', 'সাংবাদিকদের', 'সাংবাদিকদেরকে', 'সাংবাদিকদেরকেও', 'সাংবাদিকরা', 'সাংবাদিকরাই', 'সাংবাদিকরাও', 'সাংবাদিকের', 'সাংবাদিকেরা', 'সাংবাদিরাও', 'সাংবিধানিক', 'সাংসদ', 'সাংসদটা', 'সাংস্কৃতি', 'সাংস্কৃতিক', 'সাংস্কৃতির', 'সাঃ', 'সাইকেল', 'সাইকেলে', 'সাইকো', 'সাইকোলোজিক্যাল', 'সাইজে', 'সাইড', 'সাইডে', 'সাইন্স', 'সাইফুদ্দিন', 'সাইবার', 'সাইলেন্ট', 'সাউন্ড', 'সাউন্ডে', 'সাকালে', 'সাকিব', 'সাকিবই', 'সাকিবও', 'সাকিবকে', 'সাকিবকেই', 'সাকিবসহ', 'সাকিবের', 'সাকিবেরই', 'সাক্ষাৎ', 'সাক্ষাৎকার', 'সাক্ষী', 'সাক্ষ্য', 'সাগত', 'সাগরে', 'সাগরের', 'সাগ্রহে', 'সাঙ্গপাঙ্গদের', 'সাজা', 'সাজাচ্চে', 'সাজাতে', 'সাজানো', 'সাজালে', 'সাজিয়ে', 'সাজিয়েছেন', 'সাজেক', 'সাজেশন', 'সাড়া', 'সাত', 'সাতক্ষীরার', 'সাতটার', 'সাতার', 'সাতে', 'সাথী', 'সাথে', 'সাথেই', 'সাথেও', 'সাদ', 'সাদা', 'সাদামাটা', 'সাদাসিধা', 'সাদিক', 'সাদ্দামের', 'সাধ', 'সাধন', 'সাধনা', 'সাধারণ', 'সাধারণত', 'সাধারণমানুষ', 'সাধারণের', 'সাধারন', 'সাধু', 'সাধুবাদ', 'সাধের', 'সাধ্য', 'সাধ্যমতো', 'সানাই', 'সানাইয়ের', 'সানি', 'সান্তনা', 'সান্নিধ্য', 'সাপ', 'সাপেক্ষে', 'সাপোর্ট', 'সাপোর্টিভ', 'সাপ্লাই', 'সাপ্লিমেন্ট', 'সাফ', 'সাফল্য', 'সাফল্যকে', 'সাফাই', 'সাফার', 'সাফারি', 'সাফারী', 'সাব', 'সাবধান', 'সাবধানে', 'সাবলম্বি', 'সাবলীল', 'সাবলীলভাবে', 'সাবলীলভাষা', 'সাবাবিক', 'সাবাশ', 'সাবাস', 'সাবেক', 'সাব্বাশ', 'সাব্বাস', 'সাব্বির', 'সাব্যস্ত', 'সাভাবিক', 'সামগ্রিক', 'সামগ্রী', 'সামগ্রীর', 'সামঞ্জস্য', 'সামঞ্জস্যপূর্ণ', 'সামনে', 'সামনেই', 'সামনের', 'সামপ্রদায়িক', 'সামরিক', 'সামর্থ্য', 'সামর্থ্যবান', 'সামলা', 'সামলাও', 'সামলাতে', 'সামলানো', 'সামাজিক', 'সামান্য', 'সামান্যতম', 'সামাল', 'সামিল', 'সাম্প্রতিক', 'সাম্প্রদা', 'সাম্প্রদায়িক', 'সাম্প্রদায়িক', 'সাম্প্রদায়িকতা', 'সাম্প্রদায়িকতার', 'সাম্প্রদায়িকতায়', 'সাম্যাবস্থা', 'সাম্যাবাদী', 'সাম্রাজ্যবাদ', 'সাম্রাজ্যবাদী', 'সাম্রাজ্যেই', 'সাময়িক', 'সার', 'সারকার', 'সারপ্রাইজ', 'সারা', 'সারাক্ষণ', 'সারাজীবন', 'সারাজীবনের', 'সারাদিন', 'সারাদিনের', 'সারাদেশ', 'সারাদেশে', 'সারাদেশের', 'সারাবছর', 'সারাবিশ্ব', 'সারাবিশ্বকে', 'সারাবিশ্বে', 'সারাবিশ্বের', 'সারারাত', 'সারি', 'সারিতে', 'সারির', 'সারের', 'সার্কাস', 'সার্কিট', 'সার্কেলের', 'সার্চ', 'সার্জেন্ট', 'সার্জেন্টরা', 'সার্টিফিকেট', 'সার্থ', 'সার্থে', 'সার্বক্ষণিক', 'সার্বভৌম', 'সার্বভৌমত্বের', 'সার্বিক', 'সার্ভার', 'সার্ভিলেন্স', 'সার্ভিস', 'সার্ভিসটা', 'সার্ভিসের', 'সার্ভেটার', 'সার্স', 'সাল', 'সালমান', 'সালা', 'সালাই', 'সালাউদ্দিন', 'সালাউদ্দীন', 'সালাম', 'সালামত', 'সালার', 'সালারা', 'সালাহউদ্দিন', 'সালিক', 'সালে', 'সালেই', 'সালেও', 'সালের', 'সাশ্রয়ে', 'সাশ্রয়ের', 'সাশ্রয়', 'সাশ্রয়ী', 'সাস্তির', 'সাস্থি', 'সাস্পেন্ড', 'সাহস', 'সাহসি', 'সাহসিকতার', 'সাহসী', 'সাহসে', 'সাহসের', 'সাহায্য', 'সাহায্যকারী', 'সাহায্যে', 'সাহায্যের', 'সাহিত্য', 'সাহিত্যক', 'সাহেব', 'সাহেবকে', 'সাহেবদের', 'সাহেবর', 'সাহেবরা', 'সাহেবের', 'সাড়া', 'সাড়ানোর', 'সাড়ে', 'সি', 'সিংগাপুর', 'সিংগাপুরের', 'সিংহ', 'সিংহভাগ', 'সিংহাসনে', 'সিইও', 'সিএনজি', 'সিএনজিচালিত', 'সিওর', 'সিকান্দার', 'সিকিউরিটি', 'সিক্ত', 'সিক্রেট', 'সিখালো', 'সিগারেট', 'সিগারেটে', 'সিঙ্গনাল', 'সিঙ্গাপুর', 'সিঙ্গাপুরের', 'সিঙ্গেল', 'সিজদায়', 'সিট', 'সিটি', 'সিটিকর্পোরেশন', 'সিটিতে', 'সিটের', 'সিডন্স', 'সিডিউল', 'সিদ্দান্তে', 'সিদ্ধান্ত', 'সিদ্ধান্তই', 'সিদ্ধান্তকে', 'সিদ্ধান্তটা', 'সিদ্ধান্তে', 'সিদ্ধান্তের', 'সিধান্তের', 'সিন', 'সিনহা', 'সিনিয়র', 'সিনিয়রদের', 'সিনিয়র', 'সিনেমা', 'সিনেমাও', 'সিনেমাকে', 'সিনেমাটা', 'সিনেমাতে', 'সিনেমাপ্রেমীদের', 'সিনেমায়', 'সিনেমার', 'সিনেমায়', 'সিনের', 'সিন্ডিকেট', 'সিন্ডিকেটই', 'সিন্ডিকেটকে', 'সিন্ডিকেটদেরকে', 'সিন্ডিকেটের', 'সিন্ডেকেটের', 'সিন্ধান্ত', 'সিন্সের', 'সিফটিং', 'সিবিএফ', 'সিমা', 'সিমেনায়', 'সিমের', 'সিম্পল', 'সিম্পেথি', 'সির', 'সিরাজগঞ্জ', 'সিরাজগঞ্জে', 'সিরিজ', 'সিরিজটা', 'সিরিজটি', 'সিরিজে', 'সিরিজের', 'সিরিয়া', 'সিরিয়াল', 'সিরিয়াস', 'সিরিয়াসলি', 'সিলভা', 'সিলাগালা', 'সিলিট', 'সিলেকশন', 'সিলেক্টিভ', 'সিলেট', 'সিলেটবাসীদের', 'সিলেটবাসীর', 'সিলেটর', 'সিলেটিরাই', 'সিলেটে', 'সিলেটের', 'সিষ্টেম', 'সিসাবের', 'সিসিটিভি', 'সিস্টেম', 'সিস্টেমের', 'সীতাকুণ্ড', 'সীতাকুণ্ডে', 'সীদ্বান্ত', 'সীমা', 'সীমানা', 'সীমানার', 'সীমান্ত', 'সীমান্তরক্ষী', 'সীমান্তে', 'সীমাবদ্ধ', 'সীমাবদ্ধতা', 'সীমার', 'সীমাহীন', 'সীমায়', 'সীমিত', 'সু', 'সুংবাদ', 'সুই', 'সুইচ', 'সুইজারল্যান্ড', 'সুইজারল্যান্ডে', 'সুইপারের', 'সুইস', 'সুইসাইড', 'সুখ', 'সুখকর', 'সুখবর', 'সুখময়', 'সুখী', 'সুখে', 'সুখের', 'সুগম', 'সুচনা', 'সুচিকিৎসার', 'সুজন', 'সুজনের', 'সুজলা', 'সুতরাং', 'সুদ', 'সুদ্ধি', 'সুধু', 'সুনজর', 'সুনলে', 'সুনলেও', 'সুনাম', 'সুনামগঞ্জ', 'সুনামগঞ্জে', 'সুনামগঞ্জের', 'সুনির্দিষ্ট', 'সুন্দর', 'সুন্দরবনের', 'সুন্দরভাবে', 'সুন্দরী', 'সুন্ধর', 'সুন্নাহ', 'সুপার', 'সুপারনোভা', 'সুপারভাইজার', 'সুপারম্যানের', 'সুপারস্টার', 'সুপারহিট', 'সুপারিশ', 'সুপ্রিম', 'সুপ্রিমকোর্ট', 'সুফল', 'সুফলা', 'সুফলের', 'সুফি', 'সুবর্ন', 'সুবহানাল্লাহ', 'সুবহানাহু', 'সুবাদে', 'সুবিচার', 'সুবিধা', 'সুবিধাবাদী', 'সুবিধাবাদীদের', 'সুবিধাভোগী', 'সুবিধার', 'সুবুদ্ধির', 'সুমধুর', 'সুমন', 'সুযোগ', 'সুযোগ', 'সুযোগে', 'সুযোগের', 'সুর', 'সুরক্ষা', 'সুরক্ষিত', 'সুরটা', 'সুরসুরি', 'সুরা', 'সুরিয়া', 'সুরে', 'সুরের', 'সুর্যদয়', 'সুর্যের', 'সুশাসন', 'সুশাসনের', 'সুশিক্ষা', 'সুশিক্ষার', 'সুশিক্ষিত', 'সুশীল', 'সুশৃঙ্খল', 'সুশ্রী', 'সুষঠো', 'সুষ্ঠ', 'সুষ্ঠু', 'সুসংবাদ', 'সুসময়ে', 'সুস্থ', 'সুস্থতা', 'সুস্থতাই', 'সুস্থতার', 'সুস্থা', 'সুস্পষ্ট', 'সুস্পষ্টতা', 'সুস্বাদু', 'সুস্বাস্থ্য', 'সুহাসিনী', 'সূচক', 'সূচকে', 'সূচকের', 'সূচনা', 'সূত্রপাত', 'সূত্রে', 'সূরা', 'সূর্য', 'সূর্যমুখী', 'সূর্যের', 'সৃজনশীলতার', 'সৃতি', 'সৃতির', 'সৃষ্টি', 'সৃষ্টিকরে', 'সৃষ্টিকর্তা', 'সৃষ্টিকর্তাকে', 'সৃষ্টিকর্তার', 'সৃষ্টিকারি', 'সৃষ্টিকারী', 'সৃষ্টির', 'সৃষ্টিশীল', 'সৃষ্ঠিকর্তা', 'সে', 'সেই', 'সেইটা', 'সেইদিন', 'সেইফ', 'সেইম', 'সেইরকম', 'সেইসব', 'সেইসময়ে', 'সেইসাথে', 'সেকশন', 'সেকেন্ড', 'সেকেলে', 'সেক্টর', 'সেক্টরে', 'সেক্টরেই', 'সেক্টরের', 'সেক্ষেত্রে', 'সেখ', 'সেখান', 'সেখানে', 'সেখানেই', 'সেখানের', 'সেগুলো', 'সেগুলোতে', 'সেজদা', 'সেজন্য', 'সেজন্যেই', 'সেজেছিলো', 'সেঞ্চুরি', 'সেট', 'সেটা', 'সেটাই', 'সেটাও', 'সেটাকে', 'সেটাতো', 'সেটার', 'সেটি', 'সেতু', 'সেতুই', 'সেতুকে', 'সেতুটাকে', 'সেতুটির', 'সেতুতে', 'সেতুপাথি', 'সেতুর', 'সেতু্র', 'সেতো', 'সেদিকে', 'সেদিন', 'সেদিনই', 'সেদেশে', 'সেদেশের', 'সেন', 'সেনা', 'সেনাবাহিনী', 'সেনাবাহিনীকে', 'সেনাবাহিনীর', 'সেন্ট', 'সেন্টমার্টিন', 'সেন্টার', 'সেন্টিমেন্ট', 'সেন্স', 'সেন্সর', 'সেন্সলেস', 'সেপ্টেম্বরে', 'সেফটি', 'সেফটির', 'সেবকরা', 'সেবন', 'সেবনকারীদের', 'সেবা', 'সেবামূলক', 'সেবার', 'সেবায়', 'সেভাবে', 'সেভাবেই', 'সেম', 'সেমি', 'সেরকম', 'সেরকমটা', 'সেরা', 'সেরাই', 'সেরাদের', 'সেরে', 'সেল', 'সেলফি', 'সেলিব্রিটি', 'সেলিব্রিটির', 'সেলিব্রেটি', 'সেলুট', 'সেলে', 'সেলোমেশিনের', 'সেহেতু', 'সৈকতের', 'সৈনিক', 'সৈয়দ', 'সৈরাচার', 'সৈরাচারীর', 'সৈলাব', 'সো', 'সোঁদা', 'সোজা', 'সোদি', 'সোনাই', 'সোনার', 'সোনালী', 'সোভ্যাগো', 'সোম্যকে', 'সোহরাব', 'সোহানের', 'সোহেল', 'সোয়াব', 'সৌখিন', 'সৌদি', 'সৌদিআরব', 'সৌদিআরবে', 'সৌদিকেই', 'সৌদিতে', 'সৌদির', 'সৌন্দয্য', 'সৌন্দর্য', 'সৌন্দর্যের', 'সৌন্দর্য্য', 'সৌভাগ্য', 'সৌম', 'সৌম্য', 'সৌরজগতের', 'স্কটল্যান্ড', 'স্কটল্যান্ডের', 'স্কলার', 'স্কিনপ্লেটাই', 'স্কিল', 'স্কুল', 'স্কুলে', 'স্কুলেও', 'স্কোর', 'স্কোয়াডে', 'স্খলন', 'স্টাইল', 'স্টাইলে', 'স্টাইলের', 'স্টাফরা', 'স্টাফের', 'স্টার', 'স্টারও', 'স্টারের', 'স্টিং', 'স্টিভ', 'স্টুডিও', 'স্টুডিওর', 'স্টুডেন্ট', 'স্টুডেন্টরা', 'স্টেইজ', 'স্টেজ', 'স্টেডিয়াম', 'স্টেডিয়াম', 'স্টেডিয়ামে', 'স্টেডিয়ামের', 'স্টেপ', 'স্টেশন', 'স্টেশনে', 'স্ট্যাটাস', 'স্ট্যামিনা', 'স্ট্রং', 'স্ট্রাইক', 'স্ট্রাগল', 'স্ট্রিট', 'স্ট্রোমাক', 'স্ঠি', 'স্তব্ধ', 'স্তম্ভ', 'স্তরের', 'স্তুপ', 'স্ত্রী', 'স্ত্রীকে', 'স্ত্রীর', 'স্থগিত', 'স্থপতি', 'স্থবিরতা', 'স্থলে', 'স্থা', 'স্থান', 'স্থানীয়', 'স্থানে', 'স্থাপন', 'স্থাপনা', 'স্থাপনায়', 'স্থায়ী', 'স্থায়ী', 'স্থায়ীভাবে', 'স্থির', 'স্থিশিল', 'স্নিগ্ধ', 'স্পট', 'স্পটেই', 'স্পন্দন', 'স্পর্ধা', 'স্পর্শ', 'স্পষ্ট', 'স্পষ্টবাংলা', 'স্পষ্টবাদী', 'স্পষ্টভাবে', 'স্পষ্ঠভাষী', 'স্পিকার', 'স্পিড', 'স্পিনার', 'স্পিরিচুয়াল', 'স্পেশাল', 'স্পেশালিষ্ট', 'স্পেসিফিকভাবে', 'স্পোর্টস', 'স্প্যান', 'স্প্রিট', 'স্বকীয়তা', 'স্বগরাজ্যে', 'স্বচক্ষে', 'স্বচ্ছ', 'স্বচ্ছতা', 'স্বজন', 'স্বজনপ্রীতি', 'স্বজাতি', 'স্বজাতির', 'স্বদিচ্ছা', 'স্বদেশ', 'স্বদ্য', 'স্বধীনতা', 'স্বনির্ভর', 'স্বপন', 'স্বপ্ন', 'স্বপ্নই', 'স্বপ্নটা', 'স্বপ্নে', 'স্বপ্নেই', 'স্বপ্নেও', 'স্বপ্নের', 'স্বভাব', 'স্বভাবটাই', 'স্বভাবতই', 'স্বম্ভব', 'স্বরণ', 'স্বরপ', 'স্বরূপ', 'স্বর্গ', 'স্বর্গবাস', 'স্বর্গে', 'স্বর্ণ', 'স্বর্ণই', 'স্বর্ণের', 'স্বর্নাক্ষরে', 'স্বল্প', 'স্বল্পোন্নত', 'স্বাক্ষি', 'স্বাগত', 'স্বাগতম', 'স্বাচ্ছন্দভাবে', 'স্বাথের', 'স্বাদ', 'স্বাদই', 'স্বাদটা', 'স্বাদের', 'স্বাধিন', 'স্বাধীন', 'স্বাধীনতা', 'স্বাধীনতায়', 'স্বাধীনতার', 'স্বাধীনতায়', 'স্বাধীননতা', 'স্বাধীনভাবে', 'স্বাপেক্ষে', 'স্বাবলম্বী', 'স্বাভাবিক', 'স্বাভাবিকভাবে', 'স্বামী', 'স্বামীকে', 'স্বামীর', 'স্বার্থ', 'স্বার্থক', 'স্বার্থকতাটা', 'স্বার্থকেই', 'স্বার্থপর', 'স্বার্থবিরোধী', 'স্বার্থলোভী', 'স্বার্থান্বেশী', 'স্বার্থে', 'স্বার্থেই', 'স্বার্থের', 'স্বাসনের', 'স্বাস্থ্যবিধি', 'স্বাস্থ্যের', 'স্বীকার', 'স্বীকারোক্তি', 'স্বীকৃতি', 'স্বেচ্ছাচারিতা', 'স্বেচ্ছাচারী', 'স্বেচ্ছাসেবী', 'স্বৈরতন্ত্র', 'স্বৈরশাসকের', 'স্বৈরাচার', 'স্বৈরাচারী', 'স্বৈরাচারীদের', 'স্বৈরাচারের', 'স্বয়ংকৃতভাবে', 'স্মরণ', 'স্মরণকালের', 'স্মরণীয়', 'স্মরন', 'স্মরনীয়', 'স্মরনীয়', 'স্মাধীনতা', 'স্মার্ট', 'স্মৃতি', 'স্মৃতিগুলো', 'স্মৃতিচারণ', 'স্মৃতিহত্যা', 'স্যমসাং', 'স্যাটেল', 'স্যাবোট্যাজ', 'স্যার', 'স্যারকে', 'স্যারের', 'স্যালারি', 'স্যালারির', 'স্যালুট', 'স্যুট', 'স্যুটের', 'স্রতাদের', 'স্রষ্টা', 'স্রষ্টায়', 'স্রেফ', 'স্রোতা', 'স্রোতে', 'স্রোতের', 'স্লটে', 'স্লো', 'স্লোগান', 'স্হপতি', 'সৎ', 'সৎলোকের', 'সৎসাহষী', 'সৎসাহস', 'সড়ক', 'সড়কে', 'সড়কের', 'সয়ং', 'সয়তানি', 'সয়াবিন', 'সয়ে', 'হ', 'হংকং', 'হই', 'হইক', 'হইছি', 'হইছিলাম', 'হইছিলো', 'হইছে', 'হইছেন', 'হইত', 'হইতাম', 'হইতে', 'হইতেছে', 'হইতেসেডা', 'হইতো', 'হইবার', 'হইবে', 'হইবোই', 'হইয়া', 'হইল', 'হইলাম', 'হইলে', 'হইলেইতো', 'হইলেও', 'হইলো', 'হইসে', 'হইয়া', 'হউক', 'হউন', 'হও', 'হওক', 'হওয়া', 'হওয়াই', 'হওয়াটা', 'হওয়াতে', 'হওয়ায়', 'হওয়ার', 'হওয়া', 'হওয়াই', 'হওয়াতে', 'হওয়ার', 'হওয়ারও', 'হওয়ায়', 'হক', 'হকারদের', 'হকারমুক্ত', 'হকারের', 'হগলে', 'হচেছ', 'হচ্ছি', 'হচ্ছিল', 'হচ্ছে', 'হচ্ছেও', 'হচ্ছেটা', 'হচ্ছেন', 'হচ্ছেনা', 'হছে', 'হজম', 'হজ্বে', 'হট', 'হটকারি', 'হটাতে', 'হটানো', 'হটাৎ', 'হঠাও', 'হঠাত্', 'হঠাৎ', 'হঠাৎই', 'হত', 'হতদরিদ্র', 'হতদরিদ্রদের', 'হতনা', 'হতবাক', 'হতভাগা', 'হতভাগাদের', 'হতাম', 'হতাশ', 'হতাশজনক', 'হতাশা', 'হতাশাগ্রস্থ', 'হতাশাজনক', 'হতাশায়', 'হতাশার', 'হতাহত', 'হতে', 'হতেই', 'হতো', 'হতোনা', 'হতো', 'হতোনা', 'হত্যা', 'হত্যাকাণ্ড', 'হত্যাকাণ্ডগুলো', 'হত্যাকাণ্ডের', 'হত্যাকান্ড', 'হত্যাকান্ডের', 'হত্যাকারী', 'হত্যাকারীকে', 'হত্যাকারীদের', 'হত্যাকারীর', 'হত্যার', 'হন', 'হননি', 'হপ', 'হব', 'হবা', 'হবার', 'হবে', 'হবেই', 'হবেও', 'হবেন', 'হবেনা', 'হবেরে', 'হবো', 'হবোনা', 'হয', 'হযরত', 'হয়', 'হয়ছে', 'হয়তো', 'হয়না', 'হয়নি', 'হয়রানি', 'হয়রানির', 'হয়ে', 'হয়েও', 'হয়েছি', 'হয়েছিল', 'হয়েছিলাম', 'হয়েছে', 'হয়েছেন', 'হয়েছো', 'হয়ো', 'হরকর', 'হরকরার', 'হরণ', 'হরতার', 'হরতাল', 'হরদম', 'হরর', 'হরহামেশাই', 'হরিন', 'হরিলুট', 'হরিলুটের', 'হল', 'হলগুলা', 'হলগুলোতে', 'হলদে', 'হলমুখী', 'হলাম', 'হলিউড', 'হলিউডের', 'হলুদ', 'হলে', 'হলেই', 'হলেও', 'হলেতো', 'হলেন', 'হলের', 'হলো', 'হলোনা', 'হসপিটাল', 'হসপিটালের', 'হস্তক্ষেপ', 'হস্তক্ষেপে', 'হস্তে', 'হা', 'হাঁটছে', 'হাঁটতে', 'হাঁটবেন', 'হাঁটা', 'হাঁটাচলা', 'হাঁটার', 'হাঁটাহাঁটি', 'হাঁটুপানিতে', 'হাঁটে', 'হাঁস', 'হাঁসগুলো', 'হাঁসি', 'হাঁসের', 'হাঁড়ে', 'হাই', 'হাইওয়ে', 'হাইওয়েতে', 'হাইওয়ে', 'হাইওয়েতে', 'হাইকোর্ট', 'হাইড্রেন্টই', 'হাইড্রোজেন', 'হাইড্রোজেনসপার', 'হাইপ্রোফাইল', 'হাইরে', 'হাইলাইটস', 'হাইস্কুলের', 'হাইস্যকর', 'হাউ', 'হাওড়ে', 'হাওয়া', 'হাওয়ার', 'হাওর', 'হাওরে', 'হাওয়া', 'হাওয়ার', 'হাচান', 'হাছিনা', 'হাজং', 'হাজার', 'হাজারটা', 'হাজারিকা', 'হাজারো', 'হাজির', 'হাজী', 'হাট', 'হাটছি', 'হাটবে', 'হাটলে', 'হাড়িয়ে', 'হাডুডু', 'হাড্ডি', 'হাত', 'হাতকড়া', 'হাতটা', 'হাতাশ', 'হাতি', 'হাতিয়ার', 'হাতুরু', 'হাতে', 'হাতেই', 'হাতেগোনা', 'হাতেনাতে', 'হাতের', 'হানা', 'হানিফ', 'হানিমুন', 'হানির', 'হাফ', 'হাফলেডিস', 'হাফেই', 'হামলা', 'হামলাকারী', 'হামলাকারীদের', 'হামলাগুলো', 'হামলার', 'হামলে', 'হায়', 'হায়রে', 'হায়াত', 'হায়াতে', 'হার', 'হারবা', 'হারবে', 'হারবেই', 'হারলে', 'হারলেই', 'হারলেও', 'হারলো', 'হারা', 'হারাইছে', 'হারাইছেন', 'হারাচ্ছি', 'হারাচ্ছে', 'হারাতে', 'হারানো', 'হারানোতে', 'হারানোর', 'হারাবে', 'হারাবেনা', 'হারাম', 'হারামখোরের', 'হারামজাদা', 'হারামজাদাদের', 'হারামজাদার', 'হারামি', 'হারামির', 'হারামীদের', 'হারামীর', 'হারামীরা', 'হারায়', 'হারার', 'হারাল', 'হারালাম', 'হারালে', 'হারালো', 'হারাস', 'হারায়', 'হারিকেন', 'হারিয়ে', 'হারিয়েছে', 'হারিয়েছেন', 'হারিয়ে', 'হারিয়েও', 'হারিয়েছি', 'হারিয়েছে', 'হারিয়েছেন', 'হারুন', 'হারুনর', 'হারূন', 'হারে', 'হারেনা', 'হারের', 'হার্ট', 'হার্টের', 'হার্ডওয়্যার', 'হাল', 'হালকা', 'হালদার', 'হালা', 'হালাও', 'হালায়', 'হালার', 'হালারপুতেগর', 'হালারপো', 'হালারা', 'হালারাও', 'হালারে', 'হালাল', 'হালায়', 'হালি', 'হাশিম', 'হাস', 'হাসছে', 'হাসতাম', 'হাসতে', 'হাসতেছে', 'হাসতেছেন', 'হাসপাতাল', 'হাসপাতালে', 'হাসপাতালের', 'হাসবে', 'হাসবো', 'হাসলাম', 'হাসলেই', 'হাসান', 'হাসানকে', 'হাসানের', 'হাসানোর', 'হাসালেন', 'হাসাহাসি', 'হাসাহাসিতে', 'হাসি', 'হাসিখুশি', 'হাসিখুশী', 'হাসিছে', 'হাসিটা', 'হাসিটাই', 'হাসিতামাশা', 'হাসিতে', 'হাসিনা', 'হাসিনাকে', 'হাসিনার', 'হাসিমুখে', 'হাসির', 'হাসিল', 'হাসে', 'হাসো', 'হাস্যকর', 'হাস্যজ্জল', 'হাস্যজ্বল', 'হাস্যাকর', 'হাহা', 'হাহাকার', 'হাহাকারে', 'হাহাকারের', 'হাহাহা', 'হাড়িয়ে', 'হায়', 'হায়নাদের', 'হায়নার', 'হায়নারা', 'হায়রে', 'হায়া', 'হায়াত', 'হায়াৎ', 'হায়েনার', 'হিংসা', 'হিংসাত্নক', 'হিংসাত্বক', 'হিংসাত্মক', 'হিংসুক', 'হিংসুটে', 'হিংস্র', 'হিংস্রতা', 'হিউম্যানিটি', 'হিজড়া', 'হিজড়াদের', 'হিজলা', 'হিজলাদের', 'হিজাব', 'হিজড়া', 'হিজড়ার', 'হিট', 'হিটলারের', 'হিটার', 'হিটিং', 'হিতে', 'হিদয়', 'হিনী', 'হিন্দি', 'হিন্দু', 'হিন্দুত্ববাদী', 'হিন্দুদের', 'হিন্দুস্তান', 'হিন্দুস্থান', 'হিন্দোল', 'হিপ', 'হিপহপ', 'হিপোক্রেট', 'হিমশিম', 'হিমসিম', 'হিমেল', 'হিম্মৎ', 'হিরা', 'হিরিক', 'হিরুচুর', 'হিরো', 'হিরো', 'হিরোইনরা', 'হিরোকে', 'হিরোগিরি', 'হিরোদের', 'হিসাব', 'হিসাবও', 'হিসাবে', 'হিসাবেই', 'হিসাবের', 'হিসাবো', 'হিসেব', 'হিসেবিরা', 'হিসেবে', 'হিসেবেই', 'হিসেবেও', 'হিস্র', 'হিড়িকে', 'হীন', 'হীনতায়', 'হীরক', 'হু', 'হুংকার', 'হুক', 'হুকুমের', 'হুক্কা', 'হুজুরদের', 'হুজুরেরা', 'হুটহাট', 'হুতাশ', 'হুদাই', 'হুদায়', 'হুন্ডিতে', 'হুন্ডির', 'হুন্দাই', 'হুম', 'হুমকি', 'হুমকির', 'হুমম', 'হুমায়ুন', 'হুর', 'হুশ', 'হুশিয়ার', 'হুস', 'হুহু', 'হুড়মুড়িয়ে', 'হুয়া', 'হৃদয়', 'হৃদয়বিদারক', 'হৃদয়স্পর্শী', 'হৃদয়ে', 'হৃদয়ের', 'হৃদয়', 'হৃদয়বিদারক', 'হৃদয়হীন', 'হৃদয়ানুভূতির', 'হৃদয়ে', 'হৃদয়ের', 'হে', 'হেঁটে', 'হেটে', 'হেড', 'হেডফোন', 'হেডফোনে', 'হেডলাইট', 'হেডলাইন', 'হেডাম', 'হেডিং', 'হেতে', 'হেতেরায়', 'হেদায়েত', 'হেদায়াত', 'হেদায়েত', 'হেন', 'হেনস্তা', 'হেনস্তার', 'হেনস্থা', 'হেপাজত', 'হেফাজত', 'হেফাজতে', 'হেরে', 'হেলপার', 'হেলপারাই', 'হেলপারের', 'হেলমেট', 'হেলাফেলা', 'হেলিকপ্টার', 'হেলিকপ্টারে', 'হেল্পফুল', 'হেল্পার', 'হেল্পাররাই', 'হেল্পারের', 'হেসে', 'হোক', 'হেয়', 'হোক', 'হোক্', 'হোক্স', 'হোগা', 'হোগার', 'হোগায়', 'হোচ্ছে', 'হোটেল', 'হোটেলে', 'হোটেলের', 'হোতা', 'হোন', 'হোন্ডার', 'হোম', 'হোল', 'হোল্ডার', 'হোসেন', 'হোসেনকে', 'হোস্টেল', 'হোয়াইট', 'হ্যা', 'হ্যাঁ', 'হ্যাটস্', 'হ্যাডম', 'হ্যাপি', 'হ্যারিকেন', 'হ্যাসকর', 'হ্রদয়ে', 'হ্রাস', 'হ্রিদয়', 'হয়', 'হয়এদের', 'হয়ছে', 'হয়ত', 'হয়তো', 'হয়তো', 'হয়তোবা', 'হয়না', 'হয়নাই', 'হয়নি', 'হয়রানি', 'হয়রানির', 'হয়লো', 'হয়ে', 'হয়েই', 'হয়েও', 'হয়েগেছে', 'হয়েচে', 'হয়েছি', 'হয়েছিল', 'হয়েছিলাম', 'হয়েছিলেন', 'হয়েছিলো', 'হয়েছে', 'হয়েছেই', 'হয়েছেন', 'হয়ো', 'া', 'ি', 'িগত', 'ির', 'ে', 'েজাল', 'েতু', 'ের', 'েশের', '্য', '্যই', '্যকর', '্যঙ্গ', '্যতা', '্যবস্থা', '্যবহার', '্যবাদ', '্যবিত্ত', '্যর্থ', '্যসামগ্রীর', '্যস্ত', '্যা', '্যাংক', '্যাকটার', '্যাকান্ড', '্যাক্টিস', '্যাক্তি', '্যাক্তির', '্যাগ', '্যাডাম', '্যাথা', '্যান', '্যান্ট', '্যাপ', '্যাপ্টেন', '্যাব', '্যাবসা', '্যাবস্তা', '্যাবস্থা', '্যাবহার', '্যায', '্যার', '্যার্তদের', '্যাস', '্যায়', '্যিকারের', '্যু', '্যে', '্যেকের', '্যের', 'ৎ', 'ড়াকতের', 'য়ারা', 'য়িাদ', 'য়ে', 'ৠন', '০২', '০৫', '১', '১টা', '১ম', '১০', '১০টা', '১০লাগে', '১০০', '১০০০', '১১', '১১টা', '১১২', '১১৪', '১২', '১২ঃ০০', '১২টা', '১২বছর', '১২০', '১৩', '১৩৩০', '১৪', '১৪০০', '১৪৫', '১৫', '১৫ই', '১৫০', '১৫১', '১৬', '১৮', '১৮কোটি', '১৮০', '১৯', '১৯৫২', '১৯৭১', '২', '২ঘন্টা', '২জি', '২দিন', '২য়', '২য়', '২০', '২০জন', '২০০', '২০০০', '২০০৪', '২০০৭', '২০০৮', '২০১৯', '২০২১', '২০২২', '২০২৪', '২০৩০', '২০৫০', '২১', '২১শে', '২২', '২৪', '২৪টা', '২৪০', '২৪০০', '২৫', '২৬০', '২৭', '৩', '৩য়', '৩০', '৩০০', '৩০০টাকা', '৩১', '৩৪', '৩৫০', '৪', '৪গুন', '৪জি', '৪টা', '৪০', '৪১', '৪৪', '৪৫দিন', '৫', '৫জি', '৫টাকা', '৫০', '৫০পয়সা', '৫০০', '৫০০টাকা', '৫০০০০', '৫০৪', '৫২', '৫২৮', '৫২৯৬৪', '৫৩', '৫৫', '৫৮০', '৬', '৬কোটি', '৬মিলিয়ন', '৬০', '৬০০', '৬৩', '৬৫', '৭', '৭টাকায়', '৭টায়', '৭০', '৭০০', '৭১', '৭২', '৭৪', '৭৫', '৭৬', '৭৭', '৭৮', '৮', '৮০', '৮০০', '৮৮', '৯', '৯টায়', '৯বছরে', '৯০', '৯৫', '৯৯', '৯৯৯']\n"
     ]
    },
    {
     "data": {
      "text/html": [
       "<div>\n",
       "<style scoped>\n",
       "    .dataframe tbody tr th:only-of-type {\n",
       "        vertical-align: middle;\n",
       "    }\n",
       "\n",
       "    .dataframe tbody tr th {\n",
       "        vertical-align: top;\n",
       "    }\n",
       "\n",
       "    .dataframe thead th {\n",
       "        text-align: right;\n",
       "    }\n",
       "</style>\n",
       "<table border=\"1\" class=\"dataframe\">\n",
       "  <thead>\n",
       "    <tr style=\"text-align: right;\">\n",
       "      <th></th>\n",
       "      <th>অ</th>\n",
       "      <th>অংক</th>\n",
       "      <th>অংশ</th>\n",
       "      <th>অংশগ্রহণ</th>\n",
       "      <th>অংশগ্রহন</th>\n",
       "      <th>অংশটি</th>\n",
       "      <th>অংশটুকু</th>\n",
       "      <th>অংশীদার</th>\n",
       "      <th>অংশে</th>\n",
       "      <th>অংশের</th>\n",
       "      <th>...</th>\n",
       "      <th>৮০</th>\n",
       "      <th>৮০০</th>\n",
       "      <th>৮৮</th>\n",
       "      <th>৯</th>\n",
       "      <th>৯টায়</th>\n",
       "      <th>৯বছরে</th>\n",
       "      <th>৯০</th>\n",
       "      <th>৯৫</th>\n",
       "      <th>৯৯</th>\n",
       "      <th>৯৯৯</th>\n",
       "    </tr>\n",
       "  </thead>\n",
       "  <tbody>\n",
       "    <tr>\n",
       "      <th>0</th>\n",
       "      <td>0.0</td>\n",
       "      <td>0.0</td>\n",
       "      <td>0.0</td>\n",
       "      <td>0.0</td>\n",
       "      <td>0.0</td>\n",
       "      <td>0.0</td>\n",
       "      <td>0.0</td>\n",
       "      <td>0.0</td>\n",
       "      <td>0.0</td>\n",
       "      <td>0.0</td>\n",
       "      <td>...</td>\n",
       "      <td>0.0</td>\n",
       "      <td>0.0</td>\n",
       "      <td>0.0</td>\n",
       "      <td>0.0</td>\n",
       "      <td>0.0</td>\n",
       "      <td>0.0</td>\n",
       "      <td>0.0</td>\n",
       "      <td>0.0</td>\n",
       "      <td>0.0</td>\n",
       "      <td>0.0</td>\n",
       "    </tr>\n",
       "    <tr>\n",
       "      <th>1</th>\n",
       "      <td>0.0</td>\n",
       "      <td>0.0</td>\n",
       "      <td>0.0</td>\n",
       "      <td>0.0</td>\n",
       "      <td>0.0</td>\n",
       "      <td>0.0</td>\n",
       "      <td>0.0</td>\n",
       "      <td>0.0</td>\n",
       "      <td>0.0</td>\n",
       "      <td>0.0</td>\n",
       "      <td>...</td>\n",
       "      <td>0.0</td>\n",
       "      <td>0.0</td>\n",
       "      <td>0.0</td>\n",
       "      <td>0.0</td>\n",
       "      <td>0.0</td>\n",
       "      <td>0.0</td>\n",
       "      <td>0.0</td>\n",
       "      <td>0.0</td>\n",
       "      <td>0.0</td>\n",
       "      <td>0.0</td>\n",
       "    </tr>\n",
       "    <tr>\n",
       "      <th>2</th>\n",
       "      <td>0.0</td>\n",
       "      <td>0.0</td>\n",
       "      <td>0.0</td>\n",
       "      <td>0.0</td>\n",
       "      <td>0.0</td>\n",
       "      <td>0.0</td>\n",
       "      <td>0.0</td>\n",
       "      <td>0.0</td>\n",
       "      <td>0.0</td>\n",
       "      <td>0.0</td>\n",
       "      <td>...</td>\n",
       "      <td>0.0</td>\n",
       "      <td>0.0</td>\n",
       "      <td>0.0</td>\n",
       "      <td>0.0</td>\n",
       "      <td>0.0</td>\n",
       "      <td>0.0</td>\n",
       "      <td>0.0</td>\n",
       "      <td>0.0</td>\n",
       "      <td>0.0</td>\n",
       "      <td>0.0</td>\n",
       "    </tr>\n",
       "    <tr>\n",
       "      <th>3</th>\n",
       "      <td>0.0</td>\n",
       "      <td>0.0</td>\n",
       "      <td>0.0</td>\n",
       "      <td>0.0</td>\n",
       "      <td>0.0</td>\n",
       "      <td>0.0</td>\n",
       "      <td>0.0</td>\n",
       "      <td>0.0</td>\n",
       "      <td>0.0</td>\n",
       "      <td>0.0</td>\n",
       "      <td>...</td>\n",
       "      <td>0.0</td>\n",
       "      <td>0.0</td>\n",
       "      <td>0.0</td>\n",
       "      <td>0.0</td>\n",
       "      <td>0.0</td>\n",
       "      <td>0.0</td>\n",
       "      <td>0.0</td>\n",
       "      <td>0.0</td>\n",
       "      <td>0.0</td>\n",
       "      <td>0.0</td>\n",
       "    </tr>\n",
       "    <tr>\n",
       "      <th>4</th>\n",
       "      <td>0.0</td>\n",
       "      <td>0.0</td>\n",
       "      <td>0.0</td>\n",
       "      <td>0.0</td>\n",
       "      <td>0.0</td>\n",
       "      <td>0.0</td>\n",
       "      <td>0.0</td>\n",
       "      <td>0.0</td>\n",
       "      <td>0.0</td>\n",
       "      <td>0.0</td>\n",
       "      <td>...</td>\n",
       "      <td>0.0</td>\n",
       "      <td>0.0</td>\n",
       "      <td>0.0</td>\n",
       "      <td>0.0</td>\n",
       "      <td>0.0</td>\n",
       "      <td>0.0</td>\n",
       "      <td>0.0</td>\n",
       "      <td>0.0</td>\n",
       "      <td>0.0</td>\n",
       "      <td>0.0</td>\n",
       "    </tr>\n",
       "    <tr>\n",
       "      <th>...</th>\n",
       "      <td>...</td>\n",
       "      <td>...</td>\n",
       "      <td>...</td>\n",
       "      <td>...</td>\n",
       "      <td>...</td>\n",
       "      <td>...</td>\n",
       "      <td>...</td>\n",
       "      <td>...</td>\n",
       "      <td>...</td>\n",
       "      <td>...</td>\n",
       "      <td>...</td>\n",
       "      <td>...</td>\n",
       "      <td>...</td>\n",
       "      <td>...</td>\n",
       "      <td>...</td>\n",
       "      <td>...</td>\n",
       "      <td>...</td>\n",
       "      <td>...</td>\n",
       "      <td>...</td>\n",
       "      <td>...</td>\n",
       "      <td>...</td>\n",
       "    </tr>\n",
       "    <tr>\n",
       "      <th>11522</th>\n",
       "      <td>0.0</td>\n",
       "      <td>0.0</td>\n",
       "      <td>0.0</td>\n",
       "      <td>0.0</td>\n",
       "      <td>0.0</td>\n",
       "      <td>0.0</td>\n",
       "      <td>0.0</td>\n",
       "      <td>0.0</td>\n",
       "      <td>0.0</td>\n",
       "      <td>0.0</td>\n",
       "      <td>...</td>\n",
       "      <td>0.0</td>\n",
       "      <td>0.0</td>\n",
       "      <td>0.0</td>\n",
       "      <td>0.0</td>\n",
       "      <td>0.0</td>\n",
       "      <td>0.0</td>\n",
       "      <td>0.0</td>\n",
       "      <td>0.0</td>\n",
       "      <td>0.0</td>\n",
       "      <td>0.0</td>\n",
       "    </tr>\n",
       "    <tr>\n",
       "      <th>11523</th>\n",
       "      <td>0.0</td>\n",
       "      <td>0.0</td>\n",
       "      <td>0.0</td>\n",
       "      <td>0.0</td>\n",
       "      <td>0.0</td>\n",
       "      <td>0.0</td>\n",
       "      <td>0.0</td>\n",
       "      <td>0.0</td>\n",
       "      <td>0.0</td>\n",
       "      <td>0.0</td>\n",
       "      <td>...</td>\n",
       "      <td>0.0</td>\n",
       "      <td>0.0</td>\n",
       "      <td>0.0</td>\n",
       "      <td>0.0</td>\n",
       "      <td>0.0</td>\n",
       "      <td>0.0</td>\n",
       "      <td>0.0</td>\n",
       "      <td>0.0</td>\n",
       "      <td>0.0</td>\n",
       "      <td>0.0</td>\n",
       "    </tr>\n",
       "    <tr>\n",
       "      <th>11524</th>\n",
       "      <td>0.0</td>\n",
       "      <td>0.0</td>\n",
       "      <td>0.0</td>\n",
       "      <td>0.0</td>\n",
       "      <td>0.0</td>\n",
       "      <td>0.0</td>\n",
       "      <td>0.0</td>\n",
       "      <td>0.0</td>\n",
       "      <td>0.0</td>\n",
       "      <td>0.0</td>\n",
       "      <td>...</td>\n",
       "      <td>0.0</td>\n",
       "      <td>0.0</td>\n",
       "      <td>0.0</td>\n",
       "      <td>0.0</td>\n",
       "      <td>0.0</td>\n",
       "      <td>0.0</td>\n",
       "      <td>0.0</td>\n",
       "      <td>0.0</td>\n",
       "      <td>0.0</td>\n",
       "      <td>0.0</td>\n",
       "    </tr>\n",
       "    <tr>\n",
       "      <th>11525</th>\n",
       "      <td>0.0</td>\n",
       "      <td>0.0</td>\n",
       "      <td>0.0</td>\n",
       "      <td>0.0</td>\n",
       "      <td>0.0</td>\n",
       "      <td>0.0</td>\n",
       "      <td>0.0</td>\n",
       "      <td>0.0</td>\n",
       "      <td>0.0</td>\n",
       "      <td>0.0</td>\n",
       "      <td>...</td>\n",
       "      <td>0.0</td>\n",
       "      <td>0.0</td>\n",
       "      <td>0.0</td>\n",
       "      <td>0.0</td>\n",
       "      <td>0.0</td>\n",
       "      <td>0.0</td>\n",
       "      <td>0.0</td>\n",
       "      <td>0.0</td>\n",
       "      <td>0.0</td>\n",
       "      <td>0.0</td>\n",
       "    </tr>\n",
       "    <tr>\n",
       "      <th>11526</th>\n",
       "      <td>0.0</td>\n",
       "      <td>0.0</td>\n",
       "      <td>0.0</td>\n",
       "      <td>0.0</td>\n",
       "      <td>0.0</td>\n",
       "      <td>0.0</td>\n",
       "      <td>0.0</td>\n",
       "      <td>0.0</td>\n",
       "      <td>0.0</td>\n",
       "      <td>0.0</td>\n",
       "      <td>...</td>\n",
       "      <td>0.0</td>\n",
       "      <td>0.0</td>\n",
       "      <td>0.0</td>\n",
       "      <td>0.0</td>\n",
       "      <td>0.0</td>\n",
       "      <td>0.0</td>\n",
       "      <td>0.0</td>\n",
       "      <td>0.0</td>\n",
       "      <td>0.0</td>\n",
       "      <td>0.0</td>\n",
       "    </tr>\n",
       "  </tbody>\n",
       "</table>\n",
       "<p>11527 rows × 17068 columns</p>\n",
       "</div>"
      ],
      "text/plain": [
       "         অ  অংক  অংশ  অংশগ্রহণ  অংশগ্রহন  অংশটি  অংশটুকু  অংশীদার  অংশে  \\\n",
       "0      0.0  0.0  0.0       0.0       0.0    0.0      0.0      0.0   0.0   \n",
       "1      0.0  0.0  0.0       0.0       0.0    0.0      0.0      0.0   0.0   \n",
       "2      0.0  0.0  0.0       0.0       0.0    0.0      0.0      0.0   0.0   \n",
       "3      0.0  0.0  0.0       0.0       0.0    0.0      0.0      0.0   0.0   \n",
       "4      0.0  0.0  0.0       0.0       0.0    0.0      0.0      0.0   0.0   \n",
       "...    ...  ...  ...       ...       ...    ...      ...      ...   ...   \n",
       "11522  0.0  0.0  0.0       0.0       0.0    0.0      0.0      0.0   0.0   \n",
       "11523  0.0  0.0  0.0       0.0       0.0    0.0      0.0      0.0   0.0   \n",
       "11524  0.0  0.0  0.0       0.0       0.0    0.0      0.0      0.0   0.0   \n",
       "11525  0.0  0.0  0.0       0.0       0.0    0.0      0.0      0.0   0.0   \n",
       "11526  0.0  0.0  0.0       0.0       0.0    0.0      0.0      0.0   0.0   \n",
       "\n",
       "       অংশের  ...   ৮০  ৮০০   ৮৮    ৯  ৯টায়  ৯বছরে   ৯০   ৯৫   ৯৯  ৯৯৯  \n",
       "0        0.0  ...  0.0  0.0  0.0  0.0   0.0    0.0  0.0  0.0  0.0  0.0  \n",
       "1        0.0  ...  0.0  0.0  0.0  0.0   0.0    0.0  0.0  0.0  0.0  0.0  \n",
       "2        0.0  ...  0.0  0.0  0.0  0.0   0.0    0.0  0.0  0.0  0.0  0.0  \n",
       "3        0.0  ...  0.0  0.0  0.0  0.0   0.0    0.0  0.0  0.0  0.0  0.0  \n",
       "4        0.0  ...  0.0  0.0  0.0  0.0   0.0    0.0  0.0  0.0  0.0  0.0  \n",
       "...      ...  ...  ...  ...  ...  ...   ...    ...  ...  ...  ...  ...  \n",
       "11522    0.0  ...  0.0  0.0  0.0  0.0   0.0    0.0  0.0  0.0  0.0  0.0  \n",
       "11523    0.0  ...  0.0  0.0  0.0  0.0   0.0    0.0  0.0  0.0  0.0  0.0  \n",
       "11524    0.0  ...  0.0  0.0  0.0  0.0   0.0    0.0  0.0  0.0  0.0  0.0  \n",
       "11525    0.0  ...  0.0  0.0  0.0  0.0   0.0    0.0  0.0  0.0  0.0  0.0  \n",
       "11526    0.0  ...  0.0  0.0  0.0  0.0   0.0    0.0  0.0  0.0  0.0  0.0  \n",
       "\n",
       "[11527 rows x 17068 columns]"
      ]
     },
     "execution_count": 348,
     "metadata": {},
     "output_type": "execute_result"
    }
   ],
   "source": [
    "from sklearn.feature_extraction.text import TfidfVectorizer\n",
    "tfidf = TfidfVectorizer(use_idf=True,tokenizer=lambda x: x.split()) \n",
    "x_train_tf_idf = tfidf.fit_transform(X_train).toarray()\n",
    "x_test_tf_idf= tfidf.transform(X_test).toarray()\n",
    "x_val_tf_idf=tfidf.transform(X_val).toarray()\n",
    "print(x_train_tf_idf.shape)\n",
    "# print(x_1.shape)\n",
    "# print(y_1.shape)\n",
    "print(tfidf.get_feature_names())\n",
    "df = pd.DataFrame(data=x_train_tf_idf,columns = tfidf.get_feature_names())\n",
    "df"
   ]
  },
  {
   "cell_type": "markdown",
   "metadata": {
    "id": "mpLRrmnjFyHK"
   },
   "source": [
    "**Train Test Validation Spliting**"
   ]
  },
  {
   "cell_type": "code",
   "execution_count": 349,
   "metadata": {
    "colab": {
     "base_uri": "https://localhost:8080/"
    },
    "id": "2zseGOOahYIG",
    "outputId": "ac7f0c86-fade-4380-f9e6-433048352819"
   },
   "outputs": [
    {
     "name": "stdout",
     "output_type": "stream",
     "text": [
      "(11527,)\n",
      "(11527,)\n",
      "(1441,)\n",
      "(1441,)\n",
      "(1441,)\n",
      "(1441,)\n"
     ]
    }
   ],
   "source": [
    "print(X_train.shape)\n",
    "print(y_train.shape)\n",
    "print(X_val.shape)\n",
    "print(y_val.shape)\n",
    "print(X_test.shape)\n",
    "print(y_test.shape)"
   ]
  },
  {
   "cell_type": "markdown",
   "metadata": {
    "id": "rDyv4yGeLZNg"
   },
   "source": [
    "**Naive Bayes on TF-IDF**"
   ]
  },
  {
   "cell_type": "code",
   "execution_count": 186,
   "metadata": {
    "colab": {
     "base_uri": "https://localhost:8080/"
    },
    "id": "LNLE6wFiVFfI",
    "outputId": "e7ffa317-a508-44d3-9d6b-76edbbfdf105"
   },
   "outputs": [
    {
     "data": {
      "text/plain": [
       "MultinomialNB()"
      ]
     },
     "execution_count": 186,
     "metadata": {},
     "output_type": "execute_result"
    }
   ],
   "source": [
    "from sklearn.naive_bayes import MultinomialNB\n",
    "model = MultinomialNB()\n",
    "model.fit(x_train_tf_idf,y_train)"
   ]
  },
  {
   "cell_type": "markdown",
   "metadata": {
    "id": "hSPaxoaTCXht"
   },
   "source": [
    "**Test Score**"
   ]
  },
  {
   "cell_type": "code",
   "execution_count": 191,
   "metadata": {
    "colab": {
     "base_uri": "https://localhost:8080/"
    },
    "id": "x3YnIVVFClS4",
    "outputId": "ef01d5df-ded3-45e8-ba00-5b7e26d23145"
   },
   "outputs": [
    {
     "name": "stdout",
     "output_type": "stream",
     "text": [
      "Test Accuracy:  0.5225537820957669\n",
      "Test Pression:  0.5266063078618772\n",
      "Test F1 Score:  0.47633148995099045\n",
      "Test Recall:  0.5225537820957669\n"
     ]
    },
    {
     "name": "stderr",
     "output_type": "stream",
     "text": [
      "C:\\Users\\iaman\\anaconda3\\lib\\site-packages\\sklearn\\metrics\\_classification.py:1245: UndefinedMetricWarning: Precision is ill-defined and being set to 0.0 in labels with no predicted samples. Use `zero_division` parameter to control this behavior.\n",
      "  _warn_prf(average, modifier, msg_start, len(result))\n"
     ]
    }
   ],
   "source": [
    "test_pred = model.predict(x_test_tf_idf)\n",
    "tfidf_mnb_accurary=accuracy_score(y_test, test_pred)\n",
    "tfidf_mnb_pressicion=precision_score(y_test, test_pred, average='weighted')\n",
    "tfidf_mnb_f1_score=f1_score(y_test, test_pred,average='weighted')\n",
    "tfidf_mnb_recall=recall_score(y_test, test_pred, average='weighted')\n",
    "\n",
    "print(\"Test Accuracy: \",tfidf_mnb_accurary)\n",
    "print(\"Test Pression: \",tfidf_mnb_pressicion)\n",
    "print(\"Test F1 Score: \",tfidf_mnb_f1_score)\n",
    "print(\"Test Recall: \",tfidf_mnb_recall)"
   ]
  },
  {
   "cell_type": "code",
   "execution_count": 192,
   "metadata": {},
   "outputs": [
    {
     "name": "stdout",
     "output_type": "stream",
     "text": [
      "Multinomial Naive Bayes Classification Report on Training Data: \n",
      "               precision    recall  f1-score   support\n",
      "\n",
      "       Anger       0.85      0.10      0.18       169\n",
      "     Disgust       0.50      0.42      0.46       350\n",
      "        Fear       0.00      0.00      0.00        76\n",
      "   Happiness       0.68      0.73      0.71       395\n",
      "      Others       0.00      0.00      0.00        52\n",
      "     Sadness       0.42      0.75      0.54       399\n",
      "\n",
      "    accuracy                           0.52      1441\n",
      "   macro avg       0.41      0.33      0.31      1441\n",
      "weighted avg       0.53      0.52      0.48      1441\n",
      "\n"
     ]
    },
    {
     "name": "stderr",
     "output_type": "stream",
     "text": [
      "C:\\Users\\iaman\\anaconda3\\lib\\site-packages\\sklearn\\metrics\\_classification.py:1245: UndefinedMetricWarning: Precision and F-score are ill-defined and being set to 0.0 in labels with no predicted samples. Use `zero_division` parameter to control this behavior.\n",
      "  _warn_prf(average, modifier, msg_start, len(result))\n",
      "C:\\Users\\iaman\\anaconda3\\lib\\site-packages\\sklearn\\metrics\\_classification.py:1245: UndefinedMetricWarning: Precision and F-score are ill-defined and being set to 0.0 in labels with no predicted samples. Use `zero_division` parameter to control this behavior.\n",
      "  _warn_prf(average, modifier, msg_start, len(result))\n",
      "C:\\Users\\iaman\\anaconda3\\lib\\site-packages\\sklearn\\metrics\\_classification.py:1245: UndefinedMetricWarning: Precision and F-score are ill-defined and being set to 0.0 in labels with no predicted samples. Use `zero_division` parameter to control this behavior.\n",
      "  _warn_prf(average, modifier, msg_start, len(result))\n"
     ]
    }
   ],
   "source": [
    "print(\"Multinomial Naive Bayes Classification Report on Training Data: \\n\",classification_report(y_test, test_pred))"
   ]
  },
  {
   "cell_type": "code",
   "execution_count": 193,
   "metadata": {},
   "outputs": [
    {
     "name": "stdout",
     "output_type": "stream",
     "text": [
      "[[ 17  57   0  19   0  76]\n",
      " [  0 147   0  40   0 163]\n",
      " [  0   5   0  11   0  60]\n",
      " [  1  21   0 290   0  83]\n",
      " [  0  20   0   9   0  23]\n",
      " [  2  42   0  56   0 299]]\n"
     ]
    }
   ],
   "source": [
    "cm=confusion_matrix(y_test, test_pred)\n",
    "print(cm)"
   ]
  },
  {
   "cell_type": "code",
   "execution_count": 194,
   "metadata": {},
   "outputs": [
    {
     "data": {
      "image/png": "[encoded data removed]",
      "text/plain": [
       "<Figure size 720x432 with 2 Axes>"
      ]
     },
     "metadata": {
      "needs_background": "light"
     },
     "output_type": "display_data"
    }
   ],
   "source": [
    "plt.figure(figsize=(10,6))\n",
    "sb.heatmap(cm, cmap=\"Greens\", annot=True,\n",
    "           xticklabels=['Anger','Disgust','Fear',' Happiness','Others','Sadness' ],\n",
    "           yticklabels=['Anger','Disgust','Fear',' Happiness','Others','Sadness'], fmt='d')  \n",
    "\n",
    "\n",
    "plt.xlabel(\"Predicted \", size=12)\n",
    "plt.ylabel(\"Actual\", size=12)\n",
    "plt.title(\"Confusion Matrix\", size=20)\n",
    "plt.show()"
   ]
  },
  {
   "cell_type": "markdown",
   "metadata": {
    "id": "xXxdVqr5MHaE"
   },
   "source": [
    "**SVM on TF-IDF**"
   ]
  },
  {
   "cell_type": "code",
   "execution_count": null,
   "metadata": {
    "colab": {
     "base_uri": "https://localhost:8080/"
    },
    "id": "ezvLmUflEScw",
    "outputId": "34343a08-9ca7-429f-e8a1-b44ff3fd0222"
   },
   "outputs": [
    {
     "data": {
      "text/plain": [
       "SVC(C=2000, gamma=0.5)"
      ]
     },
     "execution_count": 76,
     "metadata": {},
     "output_type": "execute_result"
    }
   ],
   "source": [
    "#Test-3 \n",
    "from sklearn.svm import SVC\n",
    "svm_model = SVC(kernel = 'rbf', gamma=0.5,C= 2000)\n",
    "svm_model.fit(x_train_tf_idf,y_train)"
   ]
  },
  {
   "cell_type": "code",
   "execution_count": 352,
   "metadata": {},
   "outputs": [
    {
     "name": "stderr",
     "output_type": "stream",
     "text": [
      "C:\\Users\\iaman\\anaconda3\\lib\\site-packages\\sklearn\\base.py:310: UserWarning: Trying to unpickle estimator SVC from version 1.0.2 when using version 0.24.1. This might lead to breaking code or invalid results. Use at your own risk.\n",
      "  warnings.warn(\n"
     ]
    }
   ],
   "source": [
    "import pickle\n",
    "with open('ML_Models/svm_tfidf_pickle','rb') as f:\n",
    " svm_model= pickle.load(f) "
   ]
  },
  {
   "cell_type": "markdown",
   "metadata": {
    "id": "wWIWAaYwKwva"
   },
   "source": [
    "**Test Score**"
   ]
  },
  {
   "cell_type": "code",
   "execution_count": 357,
   "metadata": {
    "colab": {
     "base_uri": "https://localhost:8080/"
    },
    "id": "JfFQSeFZjWNJ",
    "outputId": "4ceb7c70-436c-4fed-b164-1b07621bce37"
   },
   "outputs": [
    {
     "name": "stdout",
     "output_type": "stream",
     "text": [
      "Test Accuracy:  0.5392088827203331\n",
      "Test Pression:  0.5452585487942536\n",
      "Test F1 Score:  0.5320520776749502\n",
      "Test Recall:  0.5392088827203331\n"
     ]
    }
   ],
   "source": [
    "test_pred = svm_model.predict(x_test_tf_idf)\n",
    "tfidf_svm_test_accurary=accuracy_score(y_test, test_pred)\n",
    "tfidf_svm_test_pressicion=precision_score(y_test, test_pred, average='weighted')\n",
    "tfidf_svm_test_f1_score=f1_score(y_test, test_pred,average='weighted')\n",
    "tfidf_svm_test_recall=recall_score(y_test, test_pred, average='weighted')\n",
    "\n",
    "print(\"Test Accuracy: \",tfidf_svm_test_accurary)\n",
    "print(\"Test Pression: \",tfidf_svm_test_pressicion)\n",
    "print(\"Test F1 Score: \",tfidf_svm_test_f1_score)\n",
    "print(\"Test Recall: \",tfidf_svm_test_recall)"
   ]
  },
  {
   "cell_type": "code",
   "execution_count": 358,
   "metadata": {
    "colab": {
     "base_uri": "https://localhost:8080/"
    },
    "id": "frt7mQYKYfue",
    "outputId": "416762ff-544d-48fe-a7f0-753fcfc2453a"
   },
   "outputs": [
    {
     "name": "stdout",
     "output_type": "stream",
     "text": [
      "SVM Classification Report on Test Data: \n",
      "               precision    recall  f1-score   support\n",
      "\n",
      "       Anger       0.42      0.36      0.38       169\n",
      "     Disgust       0.44      0.49      0.46       350\n",
      "        Fear       0.73      0.25      0.37        76\n",
      "   Happiness       0.72      0.72      0.72       395\n",
      "      Others       0.39      0.13      0.20        52\n",
      "     Sadness       0.50      0.60      0.54       399\n",
      "\n",
      "    accuracy                           0.54      1441\n",
      "   macro avg       0.53      0.42      0.45      1441\n",
      "weighted avg       0.55      0.54      0.53      1441\n",
      "\n"
     ]
    }
   ],
   "source": [
    "print(\"SVM Classification Report on Test Data: \\n\",classification_report(y_test, test_pred))"
   ]
  },
  {
   "cell_type": "code",
   "execution_count": 359,
   "metadata": {
    "colab": {
     "base_uri": "https://localhost:8080/"
    },
    "id": "kQEJGlZzkCbQ",
    "outputId": "db61c6c0-c993-4eb0-c069-a005ed6c1996"
   },
   "outputs": [
    {
     "name": "stdout",
     "output_type": "stream",
     "text": [
      "[[ 60  59   1  16   1  32]\n",
      " [ 44 170   0  33   5  98]\n",
      " [  5   9  19   8   0  35]\n",
      " [ 11  44   1 283   1  55]\n",
      " [  2  19   0   6   7  18]\n",
      " [ 22  85   5  45   4 238]]\n"
     ]
    }
   ],
   "source": [
    "cm=confusion_matrix(y_test, test_pred)\n",
    "print(cm)"
   ]
  },
  {
   "cell_type": "code",
   "execution_count": 360,
   "metadata": {
    "colab": {
     "base_uri": "https://localhost:8080/",
     "height": 412
    },
    "id": "mmSWLZMpkFDb",
    "outputId": "4e63769f-ffa3-4265-e928-1f8ecc0cd54a"
   },
   "outputs": [
    {
     "data": {
      "image/png": "[encoded data removed]",
      "text/plain": [
       "<Figure size 720x432 with 2 Axes>"
      ]
     },
     "metadata": {
      "needs_background": "light"
     },
     "output_type": "display_data"
    }
   ],
   "source": [
    "plt.figure(figsize=(10,6))\n",
    "sb.heatmap(cm, cmap=\"Greens\", annot=True,\n",
    "           xticklabels=['Anger','Disgust','Fear',' Happiness','Others','Sadness' ],\n",
    "           yticklabels=['Anger','Disgust','Fear',' Happiness','Others','Sadness'],fmt='d')  \n",
    "\n",
    "\n",
    "plt.xlabel(\"Predicted \", size=12)\n",
    "plt.ylabel(\"Actual\", size=12)\n",
    "plt.title(\"Confusion Matrix\", size=20)\n",
    "plt.show()"
   ]
  },
  {
   "cell_type": "code",
   "execution_count": null,
   "metadata": {
    "colab": {
     "base_uri": "https://localhost:8080/",
     "height": 350
    },
    "id": "jUwetXZ6l49c",
    "outputId": "9b083897-fb1f-4eca-af63-6e29586b8688"
   },
   "outputs": [
    {
     "data": {
      "image/png": "[encoded data removed]",
      "text/plain": [
       "<Figure size 1000x500 with 1 Axes>"
      ]
     },
     "metadata": {},
     "output_type": "display_data"
    }
   ],
   "source": [
    "#bar chart using matplotlib\n",
    "x_axis = ['Multinomial Niave Bayes', 'SVM']\n",
    "y_axis = [tfidf_mnb_accurary, tfidf_svm_test_accurary]\n",
    "\n",
    "fig = plt.figure(figsize=(10, 5))\n",
    "\n",
    "c=['green','red']\n",
    "plt.bar(x_axis, y_axis, color=c,\n",
    "        width=.5)\n",
    "plt.xlabel(\"Model Name\")\n",
    "plt.ylabel(\"Accuracy\")\n",
    "plt.title(\"Accuracy Comparision\")\n",
    "plt.show()"
   ]
  },
  {
   "cell_type": "code",
   "execution_count": null,
   "metadata": {
    "id": "gwu-zuXYss8i"
   },
   "outputs": [],
   "source": [
    "import pickle\n",
    "with open('ML_Models/svm_tfidf_pickle','wb') as f:\n",
    "    pickle.dump(svm_model,f)"
   ]
  },
  {
   "cell_type": "markdown",
   "metadata": {
    "id": "vhiXJVIZSO0m"
   },
   "source": [
    "**Glove Vectors**"
   ]
  },
  {
   "cell_type": "code",
   "execution_count": 235,
   "metadata": {
    "id": "BzhdqExtRkB9"
   },
   "outputs": [],
   "source": [
    "glove_vectors=dict()\n",
    "with open('bn_glove.39M.300d.txt', 'r',encoding='utf8') as f:\n",
    "  for line in f:\n",
    "    values = line.split()\n",
    "    word = values[0]\n",
    "    vector = np.asarray(values[1:], \"float32\")\n",
    "    glove_vectors[word] = vector\n",
    " "
   ]
  },
  {
   "cell_type": "code",
   "execution_count": 236,
   "metadata": {
    "id": "-IYhqfSPVHTE"
   },
   "outputs": [],
   "source": [
    "# glove_vectors.keys()"
   ]
  },
  {
   "cell_type": "code",
   "execution_count": 237,
   "metadata": {
    "colab": {
     "base_uri": "https://localhost:8080/"
    },
    "id": "YxLUY7U3VbAP",
    "outputId": "7f1ea51d-e9e1-4d9b-bfda-91a9e3ebad7a"
   },
   "outputs": [
    {
     "data": {
      "text/plain": [
       "178153"
      ]
     },
     "execution_count": 237,
     "metadata": {},
     "output_type": "execute_result"
    }
   ],
   "source": [
    "len(glove_vectors.keys())"
   ]
  },
  {
   "cell_type": "code",
   "execution_count": 238,
   "metadata": {
    "colab": {
     "base_uri": "https://localhost:8080/"
    },
    "id": "BS13ZyQTzztV",
    "outputId": "a1413c04-cb47-4140-9107-f2a133f88131"
   },
   "outputs": [
    {
     "name": "stdout",
     "output_type": "stream",
     "text": [
      "[ 0.056722 -0.965338  0.127817 -0.447545 -0.191535 -0.61716  -0.114502\n",
      " -0.292194  0.390322  0.569249 -1.128244 -0.028687  0.125765 -0.571056\n",
      " -0.25704  -0.581712  0.131531  0.262273  0.923596  0.481491  0.127045\n",
      "  0.051868 -0.290623 -0.679539  0.382784  0.402894  0.103682  0.854739\n",
      " -0.058631  1.023818 -0.033157 -0.901606  0.05905  -0.255645  0.552068\n",
      "  0.318846  0.189177  0.206485 -0.038366 -0.157999 -0.289474 -0.082947\n",
      " -1.101873  0.541182 -0.316529  0.485452  0.120027  0.814312  0.161053\n",
      "  0.399553  0.091411 -0.071105 -0.194878  0.017704 -0.02413   0.281282\n",
      "  0.829693  0.217575 -0.361491  0.204021  0.546411  0.170403  0.009369\n",
      " -0.460455 -0.378666 -0.451039  0.547619 -0.404904  0.379756 -0.740009\n",
      " -0.280062 -0.082787  0.933897 -0.511237 -0.650225  0.442801  0.378796\n",
      "  0.262488  0.4504   -0.363852  0.029308 -1.050565  0.317201  0.488549\n",
      " -0.249817 -1.826455  0.603849  0.745679 -0.346589 -0.245405 -0.47148\n",
      " -0.356642 -0.198253 -0.460372 -0.482909 -0.932945  0.149863  0.140925\n",
      " -0.214776  0.925172 -0.220307 -0.231033 -0.232796  0.443522 -0.075905\n",
      "  0.257791 -0.642554  0.533595  0.687699 -0.323503  0.445235 -0.890865\n",
      "  0.507993 -0.154977  0.043474  0.359985  0.314731 -0.423888  0.02726\n",
      "  0.026559  0.439203  0.068659 -0.51752   0.094273 -0.287832 -0.174736\n",
      " -0.034384 -0.037073 -0.357485  1.35067  -0.824438  0.205096  0.086768\n",
      "  0.196664 -0.062658 -0.34592  -0.248327  0.067779  0.126562  0.892002\n",
      " -0.239602  0.585531  0.362406  0.39257   0.367053  0.34545   0.786558\n",
      "  0.519704 -0.435316  0.265365  0.508684  0.270526 -0.437605 -0.879107\n",
      "  0.665869  0.202216  0.528086  0.264183 -0.302575 -0.112013  0.248591\n",
      " -0.243995 -0.163446 -0.028002 -0.605053  0.329869  0.248321 -0.382514\n",
      "  0.721523 -0.009107 -0.051795  0.168903  0.441975  0.344401 -0.026881\n",
      "  0.02872  -0.158326  0.117267 -0.841981  0.731282  0.547968 -0.322442\n",
      " -0.387452 -0.049188 -0.070125 -0.447408 -0.627889 -0.860837  0.170267\n",
      " -0.288787 -0.36852  -0.185746  0.45239  -0.47945   0.524813 -0.69216\n",
      " -0.411017  0.040997  0.380603 -1.055683 -0.02471  -0.145358  0.582822\n",
      " -0.354742 -0.295184  0.513835  0.04128  -0.038773 -0.139616 -0.231152\n",
      " -0.068516 -0.026874 -0.502195 -0.263289  0.468689 -0.42077   0.782306\n",
      "  0.632355  0.8304    0.381065  0.612223 -0.307794 -0.088568 -0.568996\n",
      "  0.379543 -0.972895 -0.333563  0.504177 -0.084324 -0.273258  0.211788\n",
      " -0.007358 -0.905025 -0.567627  0.464792  0.043537 -0.068788  0.248923\n",
      "  0.653033  0.224075  0.609292 -0.245895  0.248233  0.171696 -0.080452\n",
      "  0.696999  0.195923 -0.321703  0.908144 -0.708432 -0.322147  0.056691\n",
      "  0.831886 -0.338078  0.164452  0.510001 -0.664793  0.158388  0.067243\n",
      " -0.003457 -0.219902  0.291536 -0.737412 -0.072758  0.171511  0.132464\n",
      "  0.21058   0.107432  0.528687  0.806792  0.416188  0.565116  0.048404\n",
      " -0.028491 -0.226505  0.024565 -0.005613  0.265882 -0.681286  1.641862\n",
      " -0.562254  0.679371 -0.381882  0.070469 -0.08111  -0.068429 -1.126873\n",
      "  0.490441  0.482965 -0.500546  0.158464 -0.303618  0.354889  0.66816\n",
      " -0.215558 -0.045932  0.131176  0.266203  0.311669  0.143287]\n",
      "[-1.348800e-02  6.030200e-02 -2.246160e-01 -4.067530e-01  2.847710e-01\n",
      " -1.138880e-01 -2.620660e-01  4.588330e-01  4.242900e-02  3.519040e-01\n",
      " -1.146484e+00 -6.113900e-02  1.099550e-01 -3.806800e-02 -2.622370e-01\n",
      "  8.463500e-01 -1.373050e-01  3.192750e-01 -7.502700e-02 -5.877940e-01\n",
      " -3.136200e-02 -8.568240e-01 -4.022920e-01  6.054770e-01 -1.181560e-01\n",
      "  8.779730e-01  1.023905e+00  1.995400e-02 -1.100700e-02 -5.460020e-01\n",
      "  2.485700e-02 -4.859810e-01  3.194460e-01 -5.543680e-01 -8.331700e-02\n",
      "  3.776920e-01 -5.806120e-01  2.152040e-01  6.190740e-01 -9.236930e-01\n",
      "  3.690090e-01 -7.282200e-02  3.785560e-01 -5.735490e-01 -8.773830e-01\n",
      "  1.076120e-01  2.734810e-01  1.603560e-01  2.842840e-01 -4.009380e-01\n",
      "  2.553070e-01  9.591300e-02  1.152320e-01 -1.059510e-01  5.524000e-03\n",
      "  6.017960e-01  3.149880e-01  9.286000e-03  7.110100e-02  3.850300e-01\n",
      " -5.954000e-03  9.880800e-02  1.156910e-01 -1.763600e-01  1.532400e-01\n",
      " -3.825280e-01  6.963330e-01  2.377620e-01  6.466600e-02  5.489860e-01\n",
      " -4.937820e-01  9.670000e-03  1.672410e-01 -1.914150e-01 -1.083632e+00\n",
      " -4.448500e-01  4.880500e-02  1.824400e-01 -9.749000e-02 -4.731000e-03\n",
      "  3.521900e-02 -9.255100e-01  7.914700e-02  3.353280e-01  6.136600e-02\n",
      " -2.065720e+00 -5.293290e-01  5.293310e-01  2.552600e-02 -7.913700e-02\n",
      " -2.163780e-01 -1.203870e-01 -2.260440e-01 -4.802850e-01 -4.998420e-01\n",
      "  8.942300e-02 -6.832200e-02 -4.908550e-01  7.080010e-01  8.636700e-02\n",
      "  5.013080e-01  2.588840e-01  3.495060e-01 -2.029870e-01  1.360530e-01\n",
      "  1.505370e-01 -1.089870e-01  2.476690e-01  6.024310e-01 -3.222120e-01\n",
      " -8.121250e-01  1.802400e-02  2.186540e-01  4.086490e-01  2.079170e-01\n",
      "  1.332300e-02  4.834210e-01 -1.082860e-01 -1.116560e-01 -4.224870e-01\n",
      "  7.316190e-01 -6.706570e-01 -1.281606e+00  1.912140e-01 -9.135700e-02\n",
      " -1.183410e-01 -1.406550e-01  4.328560e-01 -2.949470e-01  9.592020e-01\n",
      " -4.004620e-01  8.695960e-01  2.330070e-01  5.705900e-02 -3.598600e-01\n",
      " -1.156240e-01 -1.098527e+00 -1.070014e+00 -2.493100e-02  6.989990e-01\n",
      "  4.785500e-02  1.837360e-01 -3.914700e-02  2.480490e-01  3.009280e-01\n",
      "  5.425570e-01 -4.692980e-01  2.764510e-01 -1.022080e-01  6.120500e-02\n",
      "  1.949540e-01 -9.338300e-02  8.386440e-01 -9.775900e-01  1.207710e-01\n",
      "  6.037660e-01 -1.063840e-01  3.756620e-01 -5.780670e-01 -6.884900e-01\n",
      "  1.420230e-01 -3.047330e-01  2.930810e-01  6.787000e-03 -5.512100e-02\n",
      " -1.855810e-01 -1.467520e-01  7.422600e-02 -1.747650e-01  3.555160e-01\n",
      "  2.203160e-01  7.771200e-01 -3.207660e-01 -7.257530e-01  3.315920e-01\n",
      "  8.534100e-02 -2.294420e-01 -1.311130e-01 -7.354450e-01 -3.402600e-02\n",
      "  8.232900e-02 -2.711650e-01  3.007550e-01  2.745100e-01 -3.333120e-01\n",
      " -3.800000e-05  3.724040e-01  2.104100e-02 -3.523090e-01  2.429850e-01\n",
      "  8.808650e-01  7.177600e-02 -4.972540e-01  1.081610e-01  2.402930e-01\n",
      "  4.174400e-02  1.052250e-01 -5.885700e-01 -5.756200e-02 -5.406240e-01\n",
      "  1.857080e-01 -5.720630e-01 -5.193200e-01  2.675980e-01  4.910960e-01\n",
      "  4.354840e-01  5.390310e-01 -3.713480e-01  2.795800e-02  2.595400e-02\n",
      " -5.596610e-01  2.211590e-01 -9.970900e-02 -9.552000e-03  4.633620e-01\n",
      "  1.304263e+00  3.901600e-02 -2.214480e-01  7.988680e-01  1.081250e-01\n",
      " -2.433150e-01  2.545000e-03  2.188940e-01  1.732330e-01 -2.068400e-02\n",
      " -5.089730e-01 -2.189910e-01  3.038990e-01  2.964700e-01  4.230690e-01\n",
      " -2.137830e-01  8.142830e-01 -1.592900e-02  5.655230e-01  4.854700e-01\n",
      " -2.853800e-01 -4.438660e-01  2.191460e-01 -4.037580e-01 -2.271820e-01\n",
      "  1.629400e-02  2.325750e-01  4.815780e-01  4.205640e-01 -1.508950e-01\n",
      "  6.842900e-02 -9.055440e-01 -2.273180e-01 -3.218600e-02  3.372320e-01\n",
      " -7.510070e-01  7.676900e-02  1.367520e-01 -3.596750e-01 -6.909450e-01\n",
      "  2.990900e-02 -9.356620e-01  8.002710e-01 -1.536010e-01 -1.727320e-01\n",
      "  8.239050e-01 -1.054930e-01 -1.614240e-01 -8.413790e-01  5.369850e-01\n",
      " -1.318580e-01  4.213300e-01  2.325700e-02 -2.096120e-01 -1.871800e-01\n",
      "  2.154650e-01  6.143880e-01 -3.553970e-01 -3.201750e-01 -3.575270e-01\n",
      " -7.361680e-01 -4.199270e-01  8.801440e-01  8.968300e-02  3.836240e-01\n",
      " -2.877880e-01  5.624310e-01 -2.727940e-01 -5.261430e-01  3.035940e-01\n",
      " -5.904000e-02 -8.459940e-01 -2.468110e-01 -1.147930e-01 -5.285000e-01\n",
      "  5.671150e-01 -5.750040e-01 -4.461320e-01 -2.135200e-02  2.499220e-01\n",
      " -1.156300e-02  9.665590e-01 -1.142300e-01 -3.047040e-01 -2.236050e-01]\n"
     ]
    }
   ],
   "source": [
    "print(glove_vectors['শিক্ষক'])\n",
    "print(glove_vectors['আমাদের'])"
   ]
  },
  {
   "cell_type": "code",
   "execution_count": 239,
   "metadata": {
    "id": "MkAhx1u2Czke"
   },
   "outputs": [],
   "source": [
    "text2vec_data=[]"
   ]
  },
  {
   "cell_type": "code",
   "execution_count": 240,
   "metadata": {
    "id": "p3wbjlYOzReq"
   },
   "outputs": [],
   "source": [
    "# covert each sentence into 300dim vector\n",
    "def sentence2Vector(corpus):\n",
    "  \n",
    "  for entity in corpus:\n",
    "    sentence= np.zeros(300)\n",
    "    entity_words=entity.split()\n",
    "    \n",
    "    for word in entity_words:\n",
    "      if word in glove_vectors.keys():\n",
    "        sentence = sentence + glove_vectors[word]\n",
    "    \n",
    "    text2vec_data.append(sentence)\n",
    "  \n",
    "    "
   ]
  },
  {
   "cell_type": "code",
   "execution_count": 241,
   "metadata": {
    "id": "Moo1fGzc3MD2"
   },
   "outputs": [],
   "source": [
    "sentence2Vector(data['cleaned_comments'].tolist())"
   ]
  },
  {
   "cell_type": "code",
   "execution_count": 242,
   "metadata": {
    "id": "YsHoBAF_CmT5"
   },
   "outputs": [],
   "source": [
    "x = np.array(text2vec_data)"
   ]
  },
  {
   "cell_type": "code",
   "execution_count": 243,
   "metadata": {
    "colab": {
     "base_uri": "https://localhost:8080/"
    },
    "id": "pxrn5F8wE14T",
    "outputId": "ce5c1c3d-8c33-43e3-a796-7c48f3eda571"
   },
   "outputs": [
    {
     "data": {
      "text/plain": [
       "(14409, 300)"
      ]
     },
     "execution_count": 243,
     "metadata": {},
     "output_type": "execute_result"
    }
   ],
   "source": [
    "x.shape"
   ]
  },
  {
   "cell_type": "code",
   "execution_count": 244,
   "metadata": {
    "colab": {
     "base_uri": "https://localhost:8080/"
    },
    "id": "lnq8TeINJq_w",
    "outputId": "36c38ac0-f944-4b37-c63d-7a96d5b560ee"
   },
   "outputs": [
    {
     "data": {
      "text/plain": [
       "array([  1.609751  ,  -1.03640798,   2.27732709,  -5.05959205,\n",
       "         0.29872202,  -3.554662  ,  -0.21348102,   2.14500902,\n",
       "        -4.359326  ,   1.87750192, -10.56484715,  -4.8460601 ,\n",
       "         1.09087794,  -4.24842406,   0.28560099,   0.30425699,\n",
       "        -1.570001  ,   2.77380696,   3.26367706,  -0.86194595,\n",
       "         1.48945098,  -1.80394603,  -0.94121403,  -3.71549497,\n",
       "         1.25263405,   2.88108899,   6.08908411,   2.18757504,\n",
       "         1.08912496,   1.05738097,  -1.16838005,  -2.72229403,\n",
       "        -2.21672303,  -3.30780906,   0.49366099,  -3.98456604,\n",
       "        -0.276085  ,   0.694403  ,   2.26747901,  -4.88857196,\n",
       "         2.56881498,  -3.85211102,  -1.08454403,  -0.94533202,\n",
       "         2.06954602,   2.45659004,   9.72663205,   5.60311592,\n",
       "         1.71258306,   1.17408696,   1.71784101,  -1.06655795,\n",
       "         0.31665598,   1.33673001,   0.05111999,   5.62972697,\n",
       "        -0.20852493,   1.41882496,   4.45277401,  -2.09052401,\n",
       "         1.90923203,   0.44473702,   0.05383001,  -2.70642498,\n",
       "         0.68883299,  -4.97251903,  -0.02775101,  -1.53951698,\n",
       "         2.15087994,   0.72866591,  -1.245552  ,   1.24532199,\n",
       "         7.47902201,   1.43712999,  -3.21994104,  -2.36355102,\n",
       "        -2.24949102,  -0.02578298,  -1.32153   ,  -0.91574799,\n",
       "        -2.44116406,  -5.59607603,   0.65194401,  -0.33353694,\n",
       "         0.92192104, -15.73410786,   0.87669798,  -0.73391197,\n",
       "        -2.393798  ,   3.11206807,  -1.88307302,  -4.7706541 ,\n",
       "         2.857806  ,  -6.50678388,  -4.87986598,  -0.85877812,\n",
       "         3.87772899,   0.55524201,   1.49556405,   5.71426192,\n",
       "         0.06396896,   3.38265492,   1.45921703,   3.49760299,\n",
       "        -2.04485402,   2.51454504,  -2.30208997,  -2.45948302,\n",
       "         5.56596903,  -4.96842501,   1.49729901,  -1.280492  ,\n",
       "        -1.49806103,   4.3397899 ,   2.21603802,  -1.04863803,\n",
       "         2.67383004,   1.76208299,  -1.38981898,  -0.04807303,\n",
       "         0.44057398,   1.53365106, -11.40473794,   1.69961005,\n",
       "        -0.55561893,   3.08603797,   3.87930296,   0.48799004,\n",
       "         0.57232105,   9.270263  ,  -6.54764096,   0.48332995,\n",
       "         2.45104999,   0.51642901,   0.07294103,  -3.48541402,\n",
       "        -1.07169503,  -6.10491005,   0.72474901,   3.95963196,\n",
       "        -1.26332596,   2.82644603,   1.55636301,   0.83132797,\n",
       "         0.35556903,   0.28872605,   1.81447393,   1.82066501,\n",
       "        -0.62091199,   0.23115001,   2.73279996,   2.56669499,\n",
       "         0.43779102, -13.18712601,  -0.41796099,  -1.66900897,\n",
       "         0.843414  ,   0.91159399,   0.60717103,   1.40761906,\n",
       "         1.57987202,  -2.832154  ,  -1.18760398,  -2.35862998,\n",
       "        -2.67718093,  -4.63953497,   0.44865398,  -3.85158801,\n",
       "        -2.69615401,  -1.51459202,  -2.87680903,   5.13566708,\n",
       "         1.72742502,  -1.50185904,   2.42490195,   3.31231693,\n",
       "        -4.08867296,   0.52272193,  -3.75615498,   3.05272697,\n",
       "         3.56964793,   0.95111097,  -0.92753407,  -1.06990102,\n",
       "        -0.45814401,   2.35573198,  -2.61278098,  -5.88494997,\n",
       "        -0.24839096,  -4.14500805,   1.272132  ,   0.94509106,\n",
       "         0.06571903,   0.94317304,   2.99898003,   0.16084699,\n",
       "         0.79499203,   1.715842  ,   2.45740803,  -8.45852002,\n",
       "        -0.29269001,  -4.19523795,   2.07892501,  -2.03152496,\n",
       "         2.32555103,  -0.28763198,  -2.70883497,   2.43009703,\n",
       "        -2.13007699,  -4.74045495,  -2.644887  ,  -1.63849405,\n",
       "        -1.74201297,  -3.77537286,   1.60488307,   0.77019104,\n",
       "         5.02104598,   0.87798795,  11.81330006,   3.63207098,\n",
       "         0.70898201,   0.57370898,   1.24805702,  -1.07101999,\n",
       "         1.39798104,  -5.76823705,  -0.86772901,  -0.18614399,\n",
       "         1.82770103,   0.648477  ,  -2.49455699,   1.08099607,\n",
       "        -3.04075499,  -2.97111496,   1.70702207,   0.68638606,\n",
       "        -3.98620499,  -0.90079999,  -2.03374398,  -0.36190601,\n",
       "         0.133851  ,  -3.15203103,   0.58357703,   3.69340791,\n",
       "         0.28932001,   3.64159099,  -5.11291703,   0.78606399,\n",
       "         0.10499697,   0.34184202,  -2.34355895,   2.68245603,\n",
       "        -1.81060201,  -1.86465199,  -1.04877698,   4.17617303,\n",
       "        -6.44164507,   1.56299805,   1.05323798,  -0.45845104,\n",
       "        -1.35393803,  -0.23650898,  -1.82238493,  -0.71024903,\n",
       "         3.97609598,   1.77408209,   0.56961001,  -1.11860395,\n",
       "         2.79985601,   2.73070002,   4.14463599,  -2.74168397,\n",
       "         3.33412693,   0.75961998,  -1.10530602,   1.89057305,\n",
       "        -0.03802608,   2.51668498,  -0.28297196,   0.35678299,\n",
       "        -1.61237999,   4.772549  ,  -2.460853  ,  -2.93104   ,\n",
       "         3.05355197,  -0.39403799,  -6.71419805,   1.99541702,\n",
       "        -0.60190003,   0.77654104,   5.25693294,  -1.51800498,\n",
       "         3.34282604,  -1.39228102,  -1.24009402,  -2.050256  ,\n",
       "         5.32477494,   0.57329598,   0.41522101,  -1.29033095])"
      ]
     },
     "execution_count": 244,
     "metadata": {},
     "output_type": "execute_result"
    }
   ],
   "source": [
    "x[0]"
   ]
  },
  {
   "cell_type": "markdown",
   "metadata": {
    "id": "q-OzV96N7UCq"
   },
   "source": [
    "**Neural Neywork Model**"
   ]
  },
  {
   "cell_type": "code",
   "execution_count": 363,
   "metadata": {
    "id": "I_wnTAv6YCgB"
   },
   "outputs": [],
   "source": [
    "from sklearn.model_selection import train_test_split\n",
    "X_train, X_main, y_train, y_main = train_test_split(data['cleaned_comments'], data['FinalTag'], test_size = 0.2, random_state = 0)\n",
    "X_test, X_val, y_test, y_val= train_test_split(X_main, y_main, test_size = 0.5, random_state = 0)\n",
    "\n",
    "from sklearn import preprocessing\n",
    "label_encoder = preprocessing.LabelEncoder()\n",
    "y_train= label_encoder.fit_transform(y_train)\n",
    "y_test= label_encoder.fit_transform(y_test)\n",
    "y_val=label_encoder.fit_transform(y_val)\n",
    "\n",
    "from sklearn.utils.class_weight import compute_class_weight\n",
    "weights_compute = compute_class_weight(\n",
    "                                        class_weight = \"balanced\",\n",
    "                                        classes = np.unique(y_train),\n",
    "                                        y = y_train)\n",
    "weights_compute\n",
    "sklearn_weights = dict(enumerate(weights_compute))\n",
    "sklearn_weights\n",
    "\n",
    "\n",
    "\n",
    "\n",
    "import keras\n",
    "y_train= keras.utils.to_categorical(y_train,6)\n",
    "y_test=keras.utils.to_categorical(y_test,6)\n",
    "y_val=keras.utils.to_categorical(y_val,6)"
   ]
  },
  {
   "cell_type": "code",
   "execution_count": 366,
   "metadata": {
    "colab": {
     "base_uri": "https://localhost:8080/"
    },
    "id": "DRPPT2i7pehN",
    "outputId": "7d8a6356-76c2-4b48-91de-42206cb926c5"
   },
   "outputs": [
    {
     "data": {
      "text/plain": [
       "{0: 1.4136620063772383,\n",
       " 1: 0.720347456567929,\n",
       " 2: 3.196616749861342,\n",
       " 3: 0.6147733333333333,\n",
       " 4: 3.493030303030303,\n",
       " 5: 0.5957105943152454}"
      ]
     },
     "execution_count": 366,
     "metadata": {},
     "output_type": "execute_result"
    }
   ],
   "source": [
    "sklearn_weights"
   ]
  },
  {
   "cell_type": "code",
   "execution_count": 367,
   "metadata": {
    "id": "6M-uSnCmss8w",
    "outputId": "452cc67a-f28e-4bc3-efe9-46c97a7a4cb7"
   },
   "outputs": [
    {
     "name": "stdout",
     "output_type": "stream",
     "text": [
      "Requirement already satisfied: Keras-Preprocessing in c:\\users\\iaman\\anaconda3\\lib\\site-packages (1.1.2)Note: you may need to restart the kernel to use updated packages.\n",
      "Requirement already satisfied: six>=1.9.0 in c:\\users\\iaman\\anaconda3\\lib\\site-packages (from Keras-Preprocessing) (1.15.0)\n",
      "Requirement already satisfied: numpy>=1.9.1 in c:\\users\\iaman\\anaconda3\\lib\\site-packages (from Keras-Preprocessing) (1.20.1)\n",
      "\n"
     ]
    }
   ],
   "source": [
    "pip install Keras-Preprocessing"
   ]
  },
  {
   "cell_type": "code",
   "execution_count": 368,
   "metadata": {
    "colab": {
     "base_uri": "https://localhost:8080/"
    },
    "id": "0mR1cQLBBexs",
    "outputId": "579afa37-f23c-4eda-cac2-f328385eb802"
   },
   "outputs": [
    {
     "name": "stdout",
     "output_type": "stream",
     "text": [
      "17068\n"
     ]
    }
   ],
   "source": [
    "from keras import preprocessing\n",
    "from keras.preprocessing.text import Tokenizer\n",
    "from keras_preprocessing.sequence import pad_sequences\n",
    "tokenizer=Tokenizer()\n",
    "tokenizer.fit_on_texts(X_train)\n",
    "print(len(tokenizer.word_index))\n",
    "# print(tokenizer.word_index)"
   ]
  },
  {
   "cell_type": "code",
   "execution_count": 369,
   "metadata": {
    "id": "BhWeAz3yuOKY"
   },
   "outputs": [],
   "source": [
    "maximum_length=128"
   ]
  },
  {
   "cell_type": "code",
   "execution_count": 370,
   "metadata": {
    "id": "OURqeEKmCi8J"
   },
   "outputs": [],
   "source": [
    "X_train= tokenizer.texts_to_sequences(X_train)\n",
    "X_test=tokenizer.texts_to_sequences(X_test)\n",
    "X_val=tokenizer.texts_to_sequences(X_val)\n",
    "\n",
    "X_train=pad_sequences(X_train,padding='post',maxlen=maximum_length)\n",
    "X_test=pad_sequences(X_test,padding='post',maxlen=maximum_length)\n",
    "X_val=pad_sequences(X_val,padding='post',maxlen=maximum_length)"
   ]
  },
  {
   "cell_type": "code",
   "execution_count": 371,
   "metadata": {
    "colab": {
     "base_uri": "https://localhost:8080/"
    },
    "id": "CaqdfrSDFZnW",
    "outputId": "2aa9c1b0-7025-4f6a-c111-be1e070234b3"
   },
   "outputs": [
    {
     "data": {
      "text/plain": [
       "17069"
      ]
     },
     "execution_count": 371,
     "metadata": {},
     "output_type": "execute_result"
    }
   ],
   "source": [
    "vocab_size  = len(tokenizer.word_index) +1\n",
    "vocab_size"
   ]
  },
  {
   "cell_type": "code",
   "execution_count": 372,
   "metadata": {
    "colab": {
     "base_uri": "https://localhost:8080/"
    },
    "id": "pJT4-OqXILI5",
    "outputId": "fea11996-2260-4a13-e3b3-f246d2753812"
   },
   "outputs": [
    {
     "name": "stdout",
     "output_type": "stream",
     "text": [
      "Missing: 3751\n"
     ]
    }
   ],
   "source": [
    "word_vector_matrix = np.zeros((vocab_size, 300))\n",
    "c=0\n",
    "for word, index in tokenizer.word_index.items():\n",
    "   vector = glove_vectors.get(word)\n",
    "   if vector is not None:\n",
    "     word_vector_matrix[index] = vector\n",
    "\n",
    "   else:\n",
    "     c+=1\n",
    "print(\"Missing:\", c)\n"
   ]
  },
  {
   "cell_type": "code",
   "execution_count": 373,
   "metadata": {
    "colab": {
     "base_uri": "https://localhost:8080/"
    },
    "id": "Jey8qoYc72V7",
    "outputId": "edd0a1a5-0c7a-4463-a8bf-0f173b260a22"
   },
   "outputs": [
    {
     "name": "stdout",
     "output_type": "stream",
     "text": [
      "***Train Data***\n",
      "11527\n",
      "11527\n",
      "***Test Data***\n",
      "1441\n",
      "1441\n",
      "***Validation Data***\n",
      "1441\n",
      "1441\n"
     ]
    }
   ],
   "source": [
    "print(\"***Train Data***\")\n",
    "print(len(X_train))\n",
    "print(len(y_train))\n",
    "\n",
    "print(\"***Test Data***\")\n",
    "print(len(X_test))\n",
    "print(len(y_test))\n",
    "\n",
    "print(\"***Validation Data***\")\n",
    "print(len(y_val))\n",
    "print(len(y_val))"
   ]
  },
  {
   "cell_type": "markdown",
   "metadata": {
    "id": "jQsH8AKaqse8"
   },
   "source": [
    "** ## GRU**"
   ]
  },
  {
   "cell_type": "code",
   "execution_count": 121,
   "metadata": {
    "colab": {
     "base_uri": "https://localhost:8080/"
    },
    "id": "iIgyrGt7vrY4",
    "outputId": "67a00dab-5268-49ba-c6fd-dfd23726eff4"
   },
   "outputs": [
    {
     "name": "stdout",
     "output_type": "stream",
     "text": [
      "Model: \"sequential\"\n",
      "_________________________________________________________________\n",
      " Layer (type)                Output Shape              Param #   \n",
      "=================================================================\n",
      " embedding (Embedding)       (None, 128, 300)          5120700   \n",
      "                                                                 \n",
      " spatial_dropout1d (SpatialD  (None, 128, 300)         0         \n",
      " ropout1D)                                                       \n",
      "                                                                 \n",
      " bidirectional (Bidirectiona  (None, 128, 256)         330240    \n",
      " l)                                                              \n",
      "                                                                 \n",
      " bidirectional_1 (Bidirectio  (None, 128, 128)         123648    \n",
      " nal)                                                            \n",
      "                                                                 \n",
      " bidirectional_2 (Bidirectio  (None, 64)               31104     \n",
      " nal)                                                            \n",
      "                                                                 \n",
      " dense (Dense)               (None, 6)                 390       \n",
      "                                                                 \n",
      "=================================================================\n",
      "Total params: 5,606,082\n",
      "Trainable params: 485,382\n",
      "Non-trainable params: 5,120,700\n",
      "_________________________________________________________________\n",
      "None\n",
      "Epoch 1/3000\n",
      "361/361 [==============================] - 204s 536ms/step - loss: 1.4052 - accuracy: 0.4435 - precision: 0.6692 - val_loss: 1.2931 - val_accuracy: 0.5094 - val_precision: 0.7478\n",
      "Epoch 2/3000\n",
      "361/361 [==============================] - 182s 504ms/step - loss: 1.2811 - accuracy: 0.5013 - precision: 0.6706 - val_loss: 1.2704 - val_accuracy: 0.5052 - val_precision: 0.6410\n",
      "Epoch 3/3000\n",
      "361/361 [==============================] - 185s 513ms/step - loss: 1.2142 - accuracy: 0.5267 - precision: 0.6810 - val_loss: 1.2210 - val_accuracy: 0.5274 - val_precision: 0.6694\n",
      "Epoch 4/3000\n",
      "361/361 [==============================] - 182s 503ms/step - loss: 1.1642 - accuracy: 0.5489 - precision: 0.6941 - val_loss: 1.2443 - val_accuracy: 0.5149 - val_precision: 0.6339\n",
      "Epoch 5/3000\n",
      "361/361 [==============================] - 182s 504ms/step - loss: 1.1238 - accuracy: 0.5688 - precision: 0.6999 - val_loss: 1.2157 - val_accuracy: 0.5191 - val_precision: 0.6389\n",
      "Epoch 6/3000\n",
      "361/361 [==============================] - 179s 495ms/step - loss: 1.0729 - accuracy: 0.5917 - precision: 0.7147 - val_loss: 1.2081 - val_accuracy: 0.5434 - val_precision: 0.6262\n",
      "Epoch 7/3000\n",
      "361/361 [==============================] - 182s 504ms/step - loss: 1.0338 - accuracy: 0.6040 - precision: 0.7178 - val_loss: 1.1819 - val_accuracy: 0.5475 - val_precision: 0.6594\n",
      "Epoch 8/3000\n",
      "361/361 [==============================] - 180s 498ms/step - loss: 0.9766 - accuracy: 0.6343 - precision: 0.7357 - val_loss: 1.2009 - val_accuracy: 0.5350 - val_precision: 0.6231\n",
      "Epoch 9/3000\n",
      "361/361 [==============================] - 188s 521ms/step - loss: 0.9187 - accuracy: 0.6570 - precision: 0.7442 - val_loss: 1.2482 - val_accuracy: 0.5295 - val_precision: 0.6043\n",
      "Epoch 10/3000\n",
      "361/361 [==============================] - 179s 495ms/step - loss: 0.8820 - accuracy: 0.6691 - precision: 0.7511 - val_loss: 1.2590 - val_accuracy: 0.5524 - val_precision: 0.6098\n",
      "Epoch 11/3000\n",
      "361/361 [==============================] - 185s 512ms/step - loss: 0.8281 - accuracy: 0.6880 - precision: 0.7663 - val_loss: 1.2719 - val_accuracy: 0.5350 - val_precision: 0.5969\n",
      "Epoch 12/3000\n",
      "361/361 [==============================] - 190s 528ms/step - loss: 0.7717 - accuracy: 0.7152 - precision: 0.7813 - val_loss: 1.3473 - val_accuracy: 0.5482 - val_precision: 0.5870\n",
      "Epoch 13/3000\n",
      "361/361 [==============================] - 185s 513ms/step - loss: 0.7129 - accuracy: 0.7311 - precision: 0.7889 - val_loss: 1.3456 - val_accuracy: 0.5448 - val_precision: 0.5873\n",
      "Epoch 14/3000\n",
      "361/361 [==============================] - 180s 499ms/step - loss: 0.6873 - accuracy: 0.7405 - precision: 0.7938 - val_loss: 1.3773 - val_accuracy: 0.5461 - val_precision: 0.5835\n",
      "Epoch 15/3000\n",
      "361/361 [==============================] - 180s 498ms/step - loss: 0.6380 - accuracy: 0.7615 - precision: 0.8097 - val_loss: 1.4254 - val_accuracy: 0.5184 - val_precision: 0.5653\n",
      "Epoch 15: early stopping\n"
     ]
    }
   ],
   "source": [
    "# Model1\n",
    "\n",
    "from sklearn.utils import class_weight\n",
    "from keras.models import Sequential\n",
    "from keras.layers import Dense,Flatten,Embedding,Activation, Dropout,LSTM, Bidirectional,GRU,SpatialDropout1D\n",
    "from keras.optimizers import Adam\n",
    "from keras import regularizers\n",
    "from keras.callbacks import EarlyStopping\n",
    "\n",
    "vec_size = 300\n",
    "\n",
    "\n",
    "model = Sequential()\n",
    "model.add(Embedding(input_dim=vocab_size,output_dim=vec_size, input_length=maximum_length, weights = [word_vector_matrix],\n",
    "                    trainable = False))\n",
    "model.add(SpatialDropout1D(0.3))\n",
    "model.add(Bidirectional(GRU(128, dropout=0.2,return_sequences=True)))\n",
    "model.add(Bidirectional(GRU(64, dropout=0.2,return_sequences=True)))\n",
    "model.add(Bidirectional(GRU(32, dropout=0.3)))\n",
    "model.add(Dense(6, activation='softmax'))\n",
    "\n",
    "# compile the model\n",
    "model.compile(optimizer='adam', loss='categorical_crossentropy', metrics=['accuracy',keras.metrics.Precision()])\n",
    "\n",
    "\n",
    "print(model.summary())\n",
    "\n",
    "history=model.fit(X_train, y_train, epochs = 3000, validation_data = (X_val, y_val),\n",
    "          callbacks=[EarlyStopping(monitor='val_accuracy',patience=5, verbose=1, min_delta=0.0001)])"
   ]
  },
  {
   "cell_type": "code",
   "execution_count": 125,
   "metadata": {
    "id": "v3fVR1lru66t"
   },
   "outputs": [],
   "source": [
    "model.save('DeepLearning_Models/Model1.h5')"
   ]
  },
  {
   "cell_type": "code",
   "execution_count": 122,
   "metadata": {
    "id": "CQk7C9edss80",
    "outputId": "3ed8791a-4812-4310-8f64-ea8a90235f95"
   },
   "outputs": [
    {
     "name": "stdout",
     "output_type": "stream",
     "text": [
      "46/46 [==============================] - 5s 101ms/step - loss: 1.4651 - accuracy: 0.5260 - precision: 0.5669\n"
     ]
    },
    {
     "data": {
      "text/plain": [
       "[1.4650932550430298, 0.5260235667228699, 0.5669160485267639]"
      ]
     },
     "execution_count": 122,
     "metadata": {},
     "output_type": "execute_result"
    }
   ],
   "source": [
    "model.evaluate(X_test,y_test)"
   ]
  },
  {
   "cell_type": "code",
   "execution_count": null,
   "metadata": {
    "id": "2fvPvPoFss81"
   },
   "outputs": [],
   "source": []
  },
  {
   "cell_type": "code",
   "execution_count": 123,
   "metadata": {
    "id": "ThMozgilss81",
    "outputId": "6e8a4a72-a3f8-4f67-91b4-d0cf87ea87da"
   },
   "outputs": [
    {
     "data": {
      "image/png": "[encoded data removed]",
      "text/plain": [
       "<Figure size 432x288 with 1 Axes>"
      ]
     },
     "metadata": {
      "needs_background": "light"
     },
     "output_type": "display_data"
    }
   ],
   "source": [
    "plt.plot(history.history['accuracy'])\n",
    "plt.plot(history.history['val_accuracy'])\n",
    "plt.ylabel('accuracy')\n",
    "plt.xlabel('epoch')\n",
    "plt.legend(['Training', 'Validation'])\n",
    "plt.show()"
   ]
  },
  {
   "cell_type": "code",
   "execution_count": 124,
   "metadata": {
    "id": "nZo0FrXZss81",
    "outputId": "1fb21f64-2522-473d-be78-1e105f5f267d"
   },
   "outputs": [
    {
     "data": {
      "image/png": "[encoded data removed]",
      "text/plain": [
       "<Figure size 432x288 with 1 Axes>"
      ]
     },
     "metadata": {
      "needs_background": "light"
     },
     "output_type": "display_data"
    }
   ],
   "source": [
    "plt.plot(history.history['loss'])\n",
    "plt.plot(history.history['val_loss'])\n",
    "plt.ylabel('loss')\n",
    "plt.xlabel('epoch')\n",
    "plt.legend(['Training', 'Validation'])\n",
    "plt.show()"
   ]
  },
  {
   "cell_type": "code",
   "execution_count": 262,
   "metadata": {},
   "outputs": [],
   "source": [
    "import keras\n",
    "model=keras.models.load_model('DeepLearning_Models/Model1.h5')"
   ]
  },
  {
   "cell_type": "code",
   "execution_count": 263,
   "metadata": {
    "id": "Ucf4PKgGwuEY"
   },
   "outputs": [],
   "source": [
    "target_names=['Anger','Disgust','Fear','Happiness','Others','Sadness' ]"
   ]
  },
  {
   "cell_type": "code",
   "execution_count": 264,
   "metadata": {
    "colab": {
     "base_uri": "https://localhost:8080/"
    },
    "id": "RBGGyRuWYsFW",
    "outputId": "2d4a43bf-984a-481e-bf12-6a68c3405d60"
   },
   "outputs": [
    {
     "name": "stdout",
     "output_type": "stream",
     "text": [
      "46/46 [==============================] - 9s 125ms/step\n",
      "Bidirectional GRU Classification Report\n",
      "              precision    recall  f1-score   support\n",
      "\n",
      "       Anger       0.40      0.43      0.41       169\n",
      "     Disgust       0.46      0.40      0.43       350\n",
      "        Fear       0.44      0.29      0.35        76\n",
      "   Happiness       0.73      0.75      0.74       395\n",
      "      Others       0.18      0.31      0.23        52\n",
      "     Sadness       0.52      0.53      0.53       399\n",
      "\n",
      "    accuracy                           0.53      1441\n",
      "   macro avg       0.45      0.45      0.45      1441\n",
      "weighted avg       0.53      0.53      0.53      1441\n",
      "\n"
     ]
    }
   ],
   "source": [
    "from sklearn.metrics import classification_report\n",
    "from sklearn.metrics import accuracy_score, recall_score, precision_score, f1_score\n",
    "y_test_arg=np.argmax(y_test,axis=1)\n",
    "test_predicted = np.argmax(model.predict(X_test),axis=1)\n",
    "print('Bidirectional GRU Classification Report')\n",
    "print(classification_report(y_test_arg, test_predicted,target_names=target_names))"
   ]
  },
  {
   "cell_type": "code",
   "execution_count": 265,
   "metadata": {
    "id": "8DrEnQTSss83",
    "outputId": "87fa1950-04e6-4b74-b97c-6170d2486a87"
   },
   "outputs": [
    {
     "name": "stdout",
     "output_type": "stream",
     "text": [
      "Testing Recall 0.5260235947258848\n",
      "Testing Precission 0.531405156279858\n",
      "Testing f1_score 0.5265960026752413\n"
     ]
    }
   ],
   "source": [
    "print(\"Testing Recall\", recall_score(y_test_arg, test_predicted, average='weighted'))\n",
    "print(\"Testing Precission\",  precision_score(y_test_arg, test_predicted, average='weighted'))\n",
    "print(\"Testing f1_score\", f1_score(y_test_arg, test_predicted,average='weighted'))"
   ]
  },
  {
   "cell_type": "code",
   "execution_count": 266,
   "metadata": {
    "id": "vUby80S2uNgj"
   },
   "outputs": [
    {
     "name": "stdout",
     "output_type": "stream",
     "text": [
      "[[ 72  42   3  15  10  27]\n",
      " [ 54 140   6  33  22  95]\n",
      " [  6  12  22   7   5  24]\n",
      " [ 10  24   2 295  19  45]\n",
      " [  3  16   0  10  16   7]\n",
      " [ 37  69  17  45  18 213]]\n"
     ]
    }
   ],
   "source": [
    "cm=confusion_matrix(y_test_arg, test_predicted)\n",
    "print(cm)"
   ]
  },
  {
   "cell_type": "code",
   "execution_count": 267,
   "metadata": {},
   "outputs": [
    {
     "data": {
      "image/png": "[encoded data removed]",
      "text/plain": [
       "<Figure size 720x432 with 2 Axes>"
      ]
     },
     "metadata": {
      "needs_background": "light"
     },
     "output_type": "display_data"
    }
   ],
   "source": [
    "plt.figure(figsize=(10,6))\n",
    "sb.heatmap(cm, cmap=\"Greens\", annot=True,\n",
    "           xticklabels=['Anger','Disgust','Fear',' Happiness','Others','Sadness'],\n",
    "           yticklabels=['Anger','Disgust','Fear',' Happiness','Others','Sadness'],fmt='d')  \n",
    "\n",
    "\n",
    "plt.xlabel(\"Predicted \", size=12)\n",
    "plt.ylabel(\"Actual\", size=12)\n",
    "plt.title(\"Confusion Matrix\", size=20)\n",
    "plt.show()"
   ]
  },
  {
   "cell_type": "markdown",
   "metadata": {
    "id": "kOezJVV4ss9E"
   },
   "source": [
    "# LSTM"
   ]
  },
  {
   "cell_type": "code",
   "execution_count": null,
   "metadata": {
    "id": "sbJFuJRRss9E",
    "outputId": "244d8b69-c323-4c69-99e0-53789cff84d7"
   },
   "outputs": [
    {
     "name": "stdout",
     "output_type": "stream",
     "text": [
      "Model: \"sequential_1\"\n",
      "_________________________________________________________________\n",
      " Layer (type)                Output Shape              Param #   \n",
      "=================================================================\n",
      " embedding_1 (Embedding)     (None, 128, 300)          5120700   \n",
      "                                                                 \n",
      " spatial_dropout1d_1 (Spatia  (None, 128, 300)         0         \n",
      " lDropout1D)                                                     \n",
      "                                                                 \n",
      " bidirectional_3 (Bidirectio  (None, 128, 256)         439296    \n",
      " nal)                                                            \n",
      "                                                                 \n",
      " bidirectional_4 (Bidirectio  (None, 128, 128)         164352    \n",
      " nal)                                                            \n",
      "                                                                 \n",
      " bidirectional_5 (Bidirectio  (None, 64)               41216     \n",
      " nal)                                                            \n",
      "                                                                 \n",
      " dense_1 (Dense)             (None, 6)                 390       \n",
      "                                                                 \n",
      "=================================================================\n",
      "Total params: 5,765,954\n",
      "Trainable params: 645,254\n",
      "Non-trainable params: 5,120,700\n",
      "_________________________________________________________________\n",
      "None\n",
      "Epoch 1/3000\n",
      "361/361 [==============================] - 89s 233ms/step - loss: 1.4204 - accuracy: 0.4303 - precision_1: 0.6802 - val_loss: 1.3221 - val_accuracy: 0.4941 - val_precision_1: 0.6451\n",
      "Epoch 2/3000\n",
      "361/361 [==============================] - 82s 227ms/step - loss: 1.2930 - accuracy: 0.5007 - precision_1: 0.6779 - val_loss: 1.2818 - val_accuracy: 0.5031 - val_precision_1: 0.6797\n",
      "Epoch 3/3000\n",
      "361/361 [==============================] - 82s 227ms/step - loss: 1.2266 - accuracy: 0.5286 - precision_1: 0.6882 - val_loss: 1.2308 - val_accuracy: 0.5392 - val_precision_1: 0.6415\n",
      "Epoch 4/3000\n",
      "361/361 [==============================] - 86s 238ms/step - loss: 1.1722 - accuracy: 0.5538 - precision_1: 0.6891 - val_loss: 1.2257 - val_accuracy: 0.5413 - val_precision_1: 0.6775\n",
      "Epoch 5/3000\n",
      "361/361 [==============================] - 90s 250ms/step - loss: 1.1261 - accuracy: 0.5706 - precision_1: 0.7043 - val_loss: 1.1961 - val_accuracy: 0.5482 - val_precision_1: 0.6732\n",
      "Epoch 6/3000\n",
      "361/361 [==============================] - 89s 246ms/step - loss: 1.0689 - accuracy: 0.5894 - precision_1: 0.7146 - val_loss: 1.2151 - val_accuracy: 0.5184 - val_precision_1: 0.6311\n",
      "Epoch 7/3000\n",
      "361/361 [==============================] - 89s 247ms/step - loss: 1.0158 - accuracy: 0.6152 - precision_1: 0.7290 - val_loss: 1.1977 - val_accuracy: 0.5371 - val_precision_1: 0.6606\n",
      "Epoch 8/3000\n",
      "361/361 [==============================] - 89s 246ms/step - loss: 0.9647 - accuracy: 0.6377 - precision_1: 0.7404 - val_loss: 1.2120 - val_accuracy: 0.5350 - val_precision_1: 0.6303\n",
      "Epoch 9/3000\n",
      "361/361 [==============================] - 89s 246ms/step - loss: 0.9158 - accuracy: 0.6554 - precision_1: 0.7478 - val_loss: 1.2042 - val_accuracy: 0.5427 - val_precision_1: 0.6064\n",
      "Epoch 10/3000\n",
      "361/361 [==============================] - 91s 251ms/step - loss: 0.8662 - accuracy: 0.6772 - precision_1: 0.7576 - val_loss: 1.2121 - val_accuracy: 0.5364 - val_precision_1: 0.6114\n",
      "Epoch 10: early stopping\n"
     ]
    }
   ],
   "source": [
    "# LSTM Model1\n",
    "\n",
    "from sklearn.utils import class_weight\n",
    "from keras.models import Sequential\n",
    "from keras.layers import Dense,Flatten,Embedding,Activation, Dropout,LSTM, Bidirectional,GRU,SpatialDropout1D\n",
    "from keras.optimizers import Adam\n",
    "from keras import regularizers\n",
    "from keras.callbacks import EarlyStopping\n",
    "\n",
    "vec_size = 300\n",
    "\n",
    "\n",
    "model = Sequential()\n",
    "model.add(Embedding(input_dim=vocab_size,output_dim=vec_size, input_length=maximum_length, weights = [word_vector_matrix],\n",
    "                    trainable = False))\n",
    "model.add(SpatialDropout1D(0.3))\n",
    "model.add(Bidirectional(LSTM(128, dropout=0.2,return_sequences=True)))\n",
    "model.add(Bidirectional(LSTM(64, dropout=0.2,return_sequences=True)))\n",
    "model.add(Bidirectional(LSTM(32, dropout=0.3)))\n",
    "model.add(Dense(6, activation='softmax'))\n",
    "\n",
    "# compile the model\n",
    "model.compile(optimizer='adam', loss='categorical_crossentropy', metrics=['accuracy',keras.metrics.Precision()])\n",
    "\n",
    "\n",
    "print(model.summary())\n",
    "\n",
    "history=model.fit(X_train, y_train, epochs = 3000, validation_data = (X_val, y_val),\n",
    "          callbacks=[EarlyStopping(monitor='val_accuracy',patience=5, verbose=1, min_delta=0.0001)])"
   ]
  },
  {
   "cell_type": "code",
   "execution_count": null,
   "metadata": {
    "id": "dJ37D2Mcss9E"
   },
   "outputs": [],
   "source": [
    "model.save('DeepLearning_Models(LSTM)/LSTM_Model1.h5')"
   ]
  },
  {
   "cell_type": "code",
   "execution_count": null,
   "metadata": {
    "id": "e2fgLZh9ss9F",
    "outputId": "7ec3b6dd-a0fb-49a6-c6d9-e4710e3466de"
   },
   "outputs": [
    {
     "name": "stdout",
     "output_type": "stream",
     "text": [
      "46/46 [==============================] - 4s 80ms/step - loss: 1.2014 - accuracy: 0.5357 - precision_1: 0.6276\n"
     ]
    },
    {
     "data": {
      "text/plain": [
       "[1.20139741897583, 0.5357390642166138, 0.6276488304138184]"
      ]
     },
     "execution_count": 48,
     "metadata": {},
     "output_type": "execute_result"
    }
   ],
   "source": [
    "model.evaluate(X_test,y_test)"
   ]
  },
  {
   "cell_type": "code",
   "execution_count": null,
   "metadata": {
    "id": "6X5q4qh3ss9F",
    "outputId": "2090f2c2-2f6d-4d56-b171-f38b1a7bece1",
    "scrolled": true
   },
   "outputs": [
    {
     "data": {
      "image/png": "[encoded data removed]",
      "text/plain": [
       "<Figure size 640x480 with 1 Axes>"
      ]
     },
     "metadata": {},
     "output_type": "display_data"
    }
   ],
   "source": [
    "plt.plot(history.history['accuracy'])\n",
    "plt.plot(history.history['val_accuracy'])\n",
    "plt.ylabel('accuracy')\n",
    "plt.xlabel('epoch')\n",
    "plt.legend(['Training', 'Validation'])\n",
    "plt.show()\n"
   ]
  },
  {
   "cell_type": "code",
   "execution_count": null,
   "metadata": {
    "id": "DWubr6tqss9F",
    "outputId": "0329fe10-efea-418a-cb65-28b8d6ea4db0",
    "scrolled": true
   },
   "outputs": [
    {
     "data": {
      "image/png": "[encoded data removed]",
      "text/plain": [
       "<Figure size 640x480 with 1 Axes>"
      ]
     },
     "metadata": {},
     "output_type": "display_data"
    }
   ],
   "source": [
    "plt.plot(history.history['loss'])\n",
    "plt.plot(history.history['val_loss'])\n",
    "plt.ylabel('loss')\n",
    "plt.xlabel('epoch')\n",
    "plt.legend(['Training', 'Validation'])\n",
    "plt.show()"
   ]
  },
  {
   "cell_type": "code",
   "execution_count": 281,
   "metadata": {},
   "outputs": [],
   "source": [
    "import keras\n",
    "model=keras.models.load_model('DeepLearning_Models(LSTM)/LSTM_Model1.h5')"
   ]
  },
  {
   "cell_type": "code",
   "execution_count": 282,
   "metadata": {
    "id": "puBHjQmcss9G"
   },
   "outputs": [],
   "source": [
    "target_names=['Anger','Disgust','Fear','Happiness','Others','Sadness' ]"
   ]
  },
  {
   "cell_type": "code",
   "execution_count": 283,
   "metadata": {
    "id": "3Cgmo3u6ss9H",
    "outputId": "f2080552-df70-4a8d-e4e3-19c0c3206294"
   },
   "outputs": [
    {
     "name": "stdout",
     "output_type": "stream",
     "text": [
      "46/46 [==============================] - 10s 172ms/step\n",
      "Bidirectional LSTM Classification Report\n",
      "              precision    recall  f1-score   support\n",
      "\n",
      "       Anger       0.37      0.33      0.34       169\n",
      "     Disgust       0.45      0.55      0.49       350\n",
      "        Fear       0.57      0.28      0.37        76\n",
      "   Happiness       0.70      0.72      0.71       395\n",
      "      Others       0.28      0.25      0.26        52\n",
      "     Sadness       0.55      0.52      0.53       399\n",
      "\n",
      "    accuracy                           0.54      1441\n",
      "   macro avg       0.49      0.44      0.45      1441\n",
      "weighted avg       0.54      0.54      0.53      1441\n",
      "\n"
     ]
    }
   ],
   "source": [
    "from sklearn.metrics import classification_report\n",
    "from sklearn.metrics import accuracy_score, recall_score, precision_score, f1_score\n",
    "y_test_arg=np.argmax(y_test,axis=1)\n",
    "test_predicted = np.argmax(model.predict(X_test),axis=1)\n",
    "print('Bidirectional LSTM Classification Report')\n",
    "print(classification_report(y_test_arg, test_predicted,target_names=target_names))"
   ]
  },
  {
   "cell_type": "code",
   "execution_count": 284,
   "metadata": {
    "id": "bNqyl3Ptss9L",
    "outputId": "c8f39592-d280-4122-91bf-d864ed2b1566"
   },
   "outputs": [
    {
     "name": "stdout",
     "output_type": "stream",
     "text": [
      "Testing Recall 0.5357390700902152\n",
      "Testing Precission 0.5366183875373658\n",
      "Testing f1_score 0.5319785979208369\n"
     ]
    }
   ],
   "source": [
    "print(\"Testing Recall\", recall_score(y_test_arg, test_predicted, average='weighted'))\n",
    "print(\"Testing Precission\",  precision_score(y_test_arg, test_predicted, average='weighted'))\n",
    "print(\"Testing f1_score\", f1_score(y_test_arg, test_predicted,average='weighted'))"
   ]
  },
  {
   "cell_type": "code",
   "execution_count": 285,
   "metadata": {},
   "outputs": [
    {
     "name": "stdout",
     "output_type": "stream",
     "text": [
      "[[ 55  63   2  23   2  24]\n",
      " [ 43 191   3  36   8  69]\n",
      " [  9  18  21   3   3  22]\n",
      " [ 14  44   1 286   8  42]\n",
      " [  2  18   0  10  13   9]\n",
      " [ 27  91  10  52  13 206]]\n"
     ]
    }
   ],
   "source": [
    "cm=confusion_matrix(y_test_arg, test_predicted)\n",
    "print(cm)"
   ]
  },
  {
   "cell_type": "code",
   "execution_count": 286,
   "metadata": {},
   "outputs": [
    {
     "data": {
      "image/png": "[encoded data removed]",
      "text/plain": [
       "<Figure size 720x432 with 2 Axes>"
      ]
     },
     "metadata": {
      "needs_background": "light"
     },
     "output_type": "display_data"
    }
   ],
   "source": [
    "plt.figure(figsize=(10,6))\n",
    "sb.heatmap(cm, cmap=\"Greens\", annot=True,\n",
    "           xticklabels=['Anger','Disgust','Fear',' Happiness','Others','Sadness'],\n",
    "           yticklabels=['Anger','Disgust','Fear',' Happiness','Others','Sadness'],fmt='d')  \n",
    "\n",
    "\n",
    "plt.xlabel(\"Predicted \", size=12)\n",
    "plt.ylabel(\"Actual\", size=12)\n",
    "plt.title(\"Confusion Matrix\", size=20)\n",
    "plt.show()"
   ]
  }
 ],
 "metadata": {
  "accelerator": "TPU",
  "colab": {
   "provenance": []
  },
  "gpuClass": "standard",
  "kernelspec": {
   "display_name": "Python 3",
   "language": "python",
   "name": "python3"
  },
  "language_info": {
   "codemirror_mode": {
    "name": "ipython",
    "version": 3
   },
   "file_extension": ".py",
   "mimetype": "text/x-python",
   "name": "python",
   "nbconvert_exporter": "python",
   "pygments_lexer": "ipython3",
   "version": "3.8.8"
  },
  "widgets": {
   "application/vnd.jupyter.widget-state+json": {
    "06a9abb4d4464b2aa5048ec56b741317": {
     "model_module": "@jupyter-widgets/controls",
     "model_module_version": "1.5.0",
     "model_name": "DescriptionStyleModel",
     "state": {
      "_model_module": "@jupyter-widgets/controls",
      "_model_module_version": "1.5.0",
      "_model_name": "DescriptionStyleModel",
      "_view_count": null,
      "_view_module": "@jupyter-widgets/base",
      "_view_module_version": "1.2.0",
      "_view_name": "StyleView",
      "description_width": ""
     }
    },
    "085d72a2d32048828b2284311f49029f": {
     "model_module": "@jupyter-widgets/base",
     "model_module_version": "1.2.0",
     "model_name": "LayoutModel",
     "state": {
      "_model_module": "@jupyter-widgets/base",
      "_model_module_version": "1.2.0",
      "_model_name": "LayoutModel",
      "_view_count": null,
      "_view_module": "@jupyter-widgets/base",
      "_view_module_version": "1.2.0",
      "_view_name": "LayoutView",
      "align_content": null,
      "align_items": null,
      "align_self": null,
      "border": null,
      "bottom": null,
      "display": null,
      "flex": null,
      "flex_flow": null,
      "grid_area": null,
      "grid_auto_columns": null,
      "grid_auto_flow": null,
      "grid_auto_rows": null,
      "grid_column": null,
      "grid_gap": null,
      "grid_row": null,
      "grid_template_areas": null,
      "grid_template_columns": null,
      "grid_template_rows": null,
      "height": null,
      "justify_content": null,
      "justify_items": null,
      "left": null,
      "margin": null,
      "max_height": null,
      "max_width": null,
      "min_height": null,
      "min_width": null,
      "object_fit": null,
      "object_position": null,
      "order": null,
      "overflow": null,
      "overflow_x": null,
      "overflow_y": null,
      "padding": null,
      "right": null,
      "top": null,
      "visibility": null,
      "width": null
     }
    },
    "1a1d0c5578c94236b3d6beffec78ced7": {
     "model_module": "@jupyter-widgets/controls",
     "model_module_version": "1.5.0",
     "model_name": "FloatProgressModel",
     "state": {
      "_dom_classes": [],
      "_model_module": "@jupyter-widgets/controls",
      "_model_module_version": "1.5.0",
      "_model_name": "FloatProgressModel",
      "_view_count": null,
      "_view_module": "@jupyter-widgets/controls",
      "_view_module_version": "1.5.0",
      "_view_name": "ProgressView",
      "bar_style": "success",
      "description": "",
      "description_tooltip": null,
      "layout": "IPY_MODEL_1e62c27eb0ad46e4aac0417258470673",
      "max": 528316,
      "min": 0,
      "orientation": "horizontal",
      "style": "IPY_MODEL_7bf3f66c26db49bdba37c7d59cbfdb4d",
      "value": 528316
     }
    },
    "1c887e1a2b7244f5a8304db2f22b2ae4": {
     "model_module": "@jupyter-widgets/base",
     "model_module_version": "1.2.0",
     "model_name": "LayoutModel",
     "state": {
      "_model_module": "@jupyter-widgets/base",
      "_model_module_version": "1.2.0",
      "_model_name": "LayoutModel",
      "_view_count": null,
      "_view_module": "@jupyter-widgets/base",
      "_view_module_version": "1.2.0",
      "_view_name": "LayoutView",
      "align_content": null,
      "align_items": null,
      "align_self": null,
      "border": null,
      "bottom": null,
      "display": null,
      "flex": null,
      "flex_flow": null,
      "grid_area": null,
      "grid_auto_columns": null,
      "grid_auto_flow": null,
      "grid_auto_rows": null,
      "grid_column": null,
      "grid_gap": null,
      "grid_row": null,
      "grid_template_areas": null,
      "grid_template_columns": null,
      "grid_template_rows": null,
      "height": null,
      "justify_content": null,
      "justify_items": null,
      "left": null,
      "margin": null,
      "max_height": null,
      "max_width": null,
      "min_height": null,
      "min_width": null,
      "object_fit": null,
      "object_position": null,
      "order": null,
      "overflow": null,
      "overflow_x": null,
      "overflow_y": null,
      "padding": null,
      "right": null,
      "top": null,
      "visibility": null,
      "width": null
     }
    },
    "1daa225d49a3488496166aca08da440b": {
     "model_module": "@jupyter-widgets/controls",
     "model_module_version": "1.5.0",
     "model_name": "HTMLModel",
     "state": {
      "_dom_classes": [],
      "_model_module": "@jupyter-widgets/controls",
      "_model_module_version": "1.5.0",
      "_model_name": "HTMLModel",
      "_view_count": null,
      "_view_module": "@jupyter-widgets/controls",
      "_view_module_version": "1.5.0",
      "_view_name": "HTMLView",
      "description": "",
      "description_tooltip": null,
      "layout": "IPY_MODEL_50435db760cc4023824609885b307265",
      "placeholder": "​",
      "style": "IPY_MODEL_b80aa9588de94e6ba288961e418d0bb1",
      "value": " 112/112 [00:00&lt;00:00, 4.74kB/s]"
     }
    },
    "1e62c27eb0ad46e4aac0417258470673": {
     "model_module": "@jupyter-widgets/base",
     "model_module_version": "1.2.0",
     "model_name": "LayoutModel",
     "state": {
      "_model_module": "@jupyter-widgets/base",
      "_model_module_version": "1.2.0",
      "_model_name": "LayoutModel",
      "_view_count": null,
      "_view_module": "@jupyter-widgets/base",
      "_view_module_version": "1.2.0",
      "_view_name": "LayoutView",
      "align_content": null,
      "align_items": null,
      "align_self": null,
      "border": null,
      "bottom": null,
      "display": null,
      "flex": null,
      "flex_flow": null,
      "grid_area": null,
      "grid_auto_columns": null,
      "grid_auto_flow": null,
      "grid_auto_rows": null,
      "grid_column": null,
      "grid_gap": null,
      "grid_row": null,
      "grid_template_areas": null,
      "grid_template_columns": null,
      "grid_template_rows": null,
      "height": null,
      "justify_content": null,
      "justify_items": null,
      "left": null,
      "margin": null,
      "max_height": null,
      "max_width": null,
      "min_height": null,
      "min_width": null,
      "object_fit": null,
      "object_position": null,
      "order": null,
      "overflow": null,
      "overflow_x": null,
      "overflow_y": null,
      "padding": null,
      "right": null,
      "top": null,
      "visibility": null,
      "width": null
     }
    },
    "31babaf515e64599b07c62fa8cdd6c87": {
     "model_module": "@jupyter-widgets/controls",
     "model_module_version": "1.5.0",
     "model_name": "DescriptionStyleModel",
     "state": {
      "_model_module": "@jupyter-widgets/controls",
      "_model_module_version": "1.5.0",
      "_model_name": "DescriptionStyleModel",
      "_view_count": null,
      "_view_module": "@jupyter-widgets/base",
      "_view_module_version": "1.2.0",
      "_view_name": "StyleView",
      "description_width": ""
     }
    },
    "35aa2fa720f243c2bca74d5affb18fd5": {
     "model_module": "@jupyter-widgets/controls",
     "model_module_version": "1.5.0",
     "model_name": "FloatProgressModel",
     "state": {
      "_dom_classes": [],
      "_model_module": "@jupyter-widgets/controls",
      "_model_module_version": "1.5.0",
      "_model_name": "FloatProgressModel",
      "_view_count": null,
      "_view_module": "@jupyter-widgets/controls",
      "_view_module_version": "1.5.0",
      "_view_name": "ProgressView",
      "bar_style": "success",
      "description": "",
      "description_tooltip": null,
      "layout": "IPY_MODEL_1c887e1a2b7244f5a8304db2f22b2ae4",
      "max": 112,
      "min": 0,
      "orientation": "horizontal",
      "style": "IPY_MODEL_bce0ad5e89a6403cb8883e3190813b93",
      "value": 112
     }
    },
    "4722d1e7eb0947b8a151c23090e4e230": {
     "model_module": "@jupyter-widgets/controls",
     "model_module_version": "1.5.0",
     "model_name": "DescriptionStyleModel",
     "state": {
      "_model_module": "@jupyter-widgets/controls",
      "_model_module_version": "1.5.0",
      "_model_name": "DescriptionStyleModel",
      "_view_count": null,
      "_view_module": "@jupyter-widgets/base",
      "_view_module_version": "1.2.0",
      "_view_name": "StyleView",
      "description_width": ""
     }
    },
    "50435db760cc4023824609885b307265": {
     "model_module": "@jupyter-widgets/base",
     "model_module_version": "1.2.0",
     "model_name": "LayoutModel",
     "state": {
      "_model_module": "@jupyter-widgets/base",
      "_model_module_version": "1.2.0",
      "_model_name": "LayoutModel",
      "_view_count": null,
      "_view_module": "@jupyter-widgets/base",
      "_view_module_version": "1.2.0",
      "_view_name": "LayoutView",
      "align_content": null,
      "align_items": null,
      "align_self": null,
      "border": null,
      "bottom": null,
      "display": null,
      "flex": null,
      "flex_flow": null,
      "grid_area": null,
      "grid_auto_columns": null,
      "grid_auto_flow": null,
      "grid_auto_rows": null,
      "grid_column": null,
      "grid_gap": null,
      "grid_row": null,
      "grid_template_areas": null,
      "grid_template_columns": null,
      "grid_template_rows": null,
      "height": null,
      "justify_content": null,
      "justify_items": null,
      "left": null,
      "margin": null,
      "max_height": null,
      "max_width": null,
      "min_height": null,
      "min_width": null,
      "object_fit": null,
      "object_position": null,
      "order": null,
      "overflow": null,
      "overflow_x": null,
      "overflow_y": null,
      "padding": null,
      "right": null,
      "top": null,
      "visibility": null,
      "width": null
     }
    },
    "51978a13c517429c9e60dd6fd2527edf": {
     "model_module": "@jupyter-widgets/base",
     "model_module_version": "1.2.0",
     "model_name": "LayoutModel",
     "state": {
      "_model_module": "@jupyter-widgets/base",
      "_model_module_version": "1.2.0",
      "_model_name": "LayoutModel",
      "_view_count": null,
      "_view_module": "@jupyter-widgets/base",
      "_view_module_version": "1.2.0",
      "_view_name": "LayoutView",
      "align_content": null,
      "align_items": null,
      "align_self": null,
      "border": null,
      "bottom": null,
      "display": null,
      "flex": null,
      "flex_flow": null,
      "grid_area": null,
      "grid_auto_columns": null,
      "grid_auto_flow": null,
      "grid_auto_rows": null,
      "grid_column": null,
      "grid_gap": null,
      "grid_row": null,
      "grid_template_areas": null,
      "grid_template_columns": null,
      "grid_template_rows": null,
      "height": null,
      "justify_content": null,
      "justify_items": null,
      "left": null,
      "margin": null,
      "max_height": null,
      "max_width": null,
      "min_height": null,
      "min_width": null,
      "object_fit": null,
      "object_position": null,
      "order": null,
      "overflow": null,
      "overflow_x": null,
      "overflow_y": null,
      "padding": null,
      "right": null,
      "top": null,
      "visibility": null,
      "width": null
     }
    },
    "5239c3417fc84f6ea34c864db3ab74d0": {
     "model_module": "@jupyter-widgets/base",
     "model_module_version": "1.2.0",
     "model_name": "LayoutModel",
     "state": {
      "_model_module": "@jupyter-widgets/base",
      "_model_module_version": "1.2.0",
      "_model_name": "LayoutModel",
      "_view_count": null,
      "_view_module": "@jupyter-widgets/base",
      "_view_module_version": "1.2.0",
      "_view_name": "LayoutView",
      "align_content": null,
      "align_items": null,
      "align_self": null,
      "border": null,
      "bottom": null,
      "display": null,
      "flex": null,
      "flex_flow": null,
      "grid_area": null,
      "grid_auto_columns": null,
      "grid_auto_flow": null,
      "grid_auto_rows": null,
      "grid_column": null,
      "grid_gap": null,
      "grid_row": null,
      "grid_template_areas": null,
      "grid_template_columns": null,
      "grid_template_rows": null,
      "height": null,
      "justify_content": null,
      "justify_items": null,
      "left": null,
      "margin": null,
      "max_height": null,
      "max_width": null,
      "min_height": null,
      "min_width": null,
      "object_fit": null,
      "object_position": null,
      "order": null,
      "overflow": null,
      "overflow_x": null,
      "overflow_y": null,
      "padding": null,
      "right": null,
      "top": null,
      "visibility": null,
      "width": null
     }
    },
    "5822656176f842c6939697ce2cd89b1c": {
     "model_module": "@jupyter-widgets/controls",
     "model_module_version": "1.5.0",
     "model_name": "HBoxModel",
     "state": {
      "_dom_classes": [],
      "_model_module": "@jupyter-widgets/controls",
      "_model_module_version": "1.5.0",
      "_model_name": "HBoxModel",
      "_view_count": null,
      "_view_module": "@jupyter-widgets/controls",
      "_view_module_version": "1.5.0",
      "_view_name": "HBoxView",
      "box_style": "",
      "children": [
       "IPY_MODEL_68964eb4ff124b5da8c87d5d4216dfd7",
       "IPY_MODEL_35aa2fa720f243c2bca74d5affb18fd5",
       "IPY_MODEL_1daa225d49a3488496166aca08da440b"
      ],
      "layout": "IPY_MODEL_9a8c8970fcab4367a59900183874ed16"
     }
    },
    "59cad97be3294194bd0091be10ec0858": {
     "model_module": "@jupyter-widgets/controls",
     "model_module_version": "1.5.0",
     "model_name": "DescriptionStyleModel",
     "state": {
      "_model_module": "@jupyter-widgets/controls",
      "_model_module_version": "1.5.0",
      "_model_name": "DescriptionStyleModel",
      "_view_count": null,
      "_view_module": "@jupyter-widgets/base",
      "_view_module_version": "1.2.0",
      "_view_name": "StyleView",
      "description_width": ""
     }
    },
    "5e21e21640154539b5a3bed98e0edffa": {
     "model_module": "@jupyter-widgets/controls",
     "model_module_version": "1.5.0",
     "model_name": "ProgressStyleModel",
     "state": {
      "_model_module": "@jupyter-widgets/controls",
      "_model_module_version": "1.5.0",
      "_model_name": "ProgressStyleModel",
      "_view_count": null,
      "_view_module": "@jupyter-widgets/base",
      "_view_module_version": "1.2.0",
      "_view_name": "StyleView",
      "bar_color": null,
      "description_width": ""
     }
    },
    "68964eb4ff124b5da8c87d5d4216dfd7": {
     "model_module": "@jupyter-widgets/controls",
     "model_module_version": "1.5.0",
     "model_name": "HTMLModel",
     "state": {
      "_dom_classes": [],
      "_model_module": "@jupyter-widgets/controls",
      "_model_module_version": "1.5.0",
      "_model_name": "HTMLModel",
      "_view_count": null,
      "_view_module": "@jupyter-widgets/controls",
      "_view_module_version": "1.5.0",
      "_view_name": "HTMLView",
      "description": "",
      "description_tooltip": null,
      "layout": "IPY_MODEL_fc0be9d633574dda843c6ca0839762c7",
      "placeholder": "​",
      "style": "IPY_MODEL_59cad97be3294194bd0091be10ec0858",
      "value": "Downloading: 100%"
     }
    },
    "7bf3f66c26db49bdba37c7d59cbfdb4d": {
     "model_module": "@jupyter-widgets/controls",
     "model_module_version": "1.5.0",
     "model_name": "ProgressStyleModel",
     "state": {
      "_model_module": "@jupyter-widgets/controls",
      "_model_module_version": "1.5.0",
      "_model_name": "ProgressStyleModel",
      "_view_count": null,
      "_view_module": "@jupyter-widgets/base",
      "_view_module_version": "1.2.0",
      "_view_name": "StyleView",
      "bar_color": null,
      "description_width": ""
     }
    },
    "7c629642cdd4478fbad3081651c1fe2d": {
     "model_module": "@jupyter-widgets/controls",
     "model_module_version": "1.5.0",
     "model_name": "HTMLModel",
     "state": {
      "_dom_classes": [],
      "_model_module": "@jupyter-widgets/controls",
      "_model_module_version": "1.5.0",
      "_model_name": "HTMLModel",
      "_view_count": null,
      "_view_module": "@jupyter-widgets/controls",
      "_view_module_version": "1.5.0",
      "_view_name": "HTMLView",
      "description": "",
      "description_tooltip": null,
      "layout": "IPY_MODEL_983e5615a68944b9826f10c76631fca5",
      "placeholder": "​",
      "style": "IPY_MODEL_f111c1baf9e941c9ad44546a14394616",
      "value": "Downloading: 100%"
     }
    },
    "80c242f9679c40a9907124c41a8c26cf": {
     "model_module": "@jupyter-widgets/controls",
     "model_module_version": "1.5.0",
     "model_name": "FloatProgressModel",
     "state": {
      "_dom_classes": [],
      "_model_module": "@jupyter-widgets/controls",
      "_model_module_version": "1.5.0",
      "_model_name": "FloatProgressModel",
      "_view_count": null,
      "_view_module": "@jupyter-widgets/controls",
      "_view_module_version": "1.5.0",
      "_view_name": "ProgressView",
      "bar_style": "success",
      "description": "",
      "description_tooltip": null,
      "layout": "IPY_MODEL_e2e4a430c0564f4495538eded8125f8a",
      "max": 586,
      "min": 0,
      "orientation": "horizontal",
      "style": "IPY_MODEL_e18c22804aa245fea1279fe2e2567240",
      "value": 586
     }
    },
    "8152c89e7d2b475c9fbc60238e1632d0": {
     "model_module": "@jupyter-widgets/controls",
     "model_module_version": "1.5.0",
     "model_name": "HTMLModel",
     "state": {
      "_dom_classes": [],
      "_model_module": "@jupyter-widgets/controls",
      "_model_module_version": "1.5.0",
      "_model_name": "HTMLModel",
      "_view_count": null,
      "_view_module": "@jupyter-widgets/controls",
      "_view_module_version": "1.5.0",
      "_view_name": "HTMLView",
      "description": "",
      "description_tooltip": null,
      "layout": "IPY_MODEL_81a5d7347dd8450e8f0a71a149254e1f",
      "placeholder": "​",
      "style": "IPY_MODEL_a7fc5a58d3a445e0907ee3f001807fe4",
      "value": "Downloading: 100%"
     }
    },
    "81a5d7347dd8450e8f0a71a149254e1f": {
     "model_module": "@jupyter-widgets/base",
     "model_module_version": "1.2.0",
     "model_name": "LayoutModel",
     "state": {
      "_model_module": "@jupyter-widgets/base",
      "_model_module_version": "1.2.0",
      "_model_name": "LayoutModel",
      "_view_count": null,
      "_view_module": "@jupyter-widgets/base",
      "_view_module_version": "1.2.0",
      "_view_name": "LayoutView",
      "align_content": null,
      "align_items": null,
      "align_self": null,
      "border": null,
      "bottom": null,
      "display": null,
      "flex": null,
      "flex_flow": null,
      "grid_area": null,
      "grid_auto_columns": null,
      "grid_auto_flow": null,
      "grid_auto_rows": null,
      "grid_column": null,
      "grid_gap": null,
      "grid_row": null,
      "grid_template_areas": null,
      "grid_template_columns": null,
      "grid_template_rows": null,
      "height": null,
      "justify_content": null,
      "justify_items": null,
      "left": null,
      "margin": null,
      "max_height": null,
      "max_width": null,
      "min_height": null,
      "min_width": null,
      "object_fit": null,
      "object_position": null,
      "order": null,
      "overflow": null,
      "overflow_x": null,
      "overflow_y": null,
      "padding": null,
      "right": null,
      "top": null,
      "visibility": null,
      "width": null
     }
    },
    "886d83c9cf2b4f3586062b975d770181": {
     "model_module": "@jupyter-widgets/controls",
     "model_module_version": "1.5.0",
     "model_name": "HBoxModel",
     "state": {
      "_dom_classes": [],
      "_model_module": "@jupyter-widgets/controls",
      "_model_module_version": "1.5.0",
      "_model_name": "HBoxModel",
      "_view_count": null,
      "_view_module": "@jupyter-widgets/controls",
      "_view_module_version": "1.5.0",
      "_view_name": "HBoxView",
      "box_style": "",
      "children": [
       "IPY_MODEL_7c629642cdd4478fbad3081651c1fe2d",
       "IPY_MODEL_ec678dca35234b17b9ddcd7d497ff26c",
       "IPY_MODEL_a5b87ea74c01424084aa79b5246eae94"
      ],
      "layout": "IPY_MODEL_a84f60c86937440f870b8d12b0d5ea2e"
     }
    },
    "977860e9dcd2437f962ff63e0df1d8e4": {
     "model_module": "@jupyter-widgets/base",
     "model_module_version": "1.2.0",
     "model_name": "LayoutModel",
     "state": {
      "_model_module": "@jupyter-widgets/base",
      "_model_module_version": "1.2.0",
      "_model_name": "LayoutModel",
      "_view_count": null,
      "_view_module": "@jupyter-widgets/base",
      "_view_module_version": "1.2.0",
      "_view_name": "LayoutView",
      "align_content": null,
      "align_items": null,
      "align_self": null,
      "border": null,
      "bottom": null,
      "display": null,
      "flex": null,
      "flex_flow": null,
      "grid_area": null,
      "grid_auto_columns": null,
      "grid_auto_flow": null,
      "grid_auto_rows": null,
      "grid_column": null,
      "grid_gap": null,
      "grid_row": null,
      "grid_template_areas": null,
      "grid_template_columns": null,
      "grid_template_rows": null,
      "height": null,
      "justify_content": null,
      "justify_items": null,
      "left": null,
      "margin": null,
      "max_height": null,
      "max_width": null,
      "min_height": null,
      "min_width": null,
      "object_fit": null,
      "object_position": null,
      "order": null,
      "overflow": null,
      "overflow_x": null,
      "overflow_y": null,
      "padding": null,
      "right": null,
      "top": null,
      "visibility": null,
      "width": null
     }
    },
    "983e5615a68944b9826f10c76631fca5": {
     "model_module": "@jupyter-widgets/base",
     "model_module_version": "1.2.0",
     "model_name": "LayoutModel",
     "state": {
      "_model_module": "@jupyter-widgets/base",
      "_model_module_version": "1.2.0",
      "_model_name": "LayoutModel",
      "_view_count": null,
      "_view_module": "@jupyter-widgets/base",
      "_view_module_version": "1.2.0",
      "_view_name": "LayoutView",
      "align_content": null,
      "align_items": null,
      "align_self": null,
      "border": null,
      "bottom": null,
      "display": null,
      "flex": null,
      "flex_flow": null,
      "grid_area": null,
      "grid_auto_columns": null,
      "grid_auto_flow": null,
      "grid_auto_rows": null,
      "grid_column": null,
      "grid_gap": null,
      "grid_row": null,
      "grid_template_areas": null,
      "grid_template_columns": null,
      "grid_template_rows": null,
      "height": null,
      "justify_content": null,
      "justify_items": null,
      "left": null,
      "margin": null,
      "max_height": null,
      "max_width": null,
      "min_height": null,
      "min_width": null,
      "object_fit": null,
      "object_position": null,
      "order": null,
      "overflow": null,
      "overflow_x": null,
      "overflow_y": null,
      "padding": null,
      "right": null,
      "top": null,
      "visibility": null,
      "width": null
     }
    },
    "9894810715bd4b6f9b29e7d9b285514e": {
     "model_module": "@jupyter-widgets/controls",
     "model_module_version": "1.5.0",
     "model_name": "HTMLModel",
     "state": {
      "_dom_classes": [],
      "_model_module": "@jupyter-widgets/controls",
      "_model_module_version": "1.5.0",
      "_model_name": "HTMLModel",
      "_view_count": null,
      "_view_module": "@jupyter-widgets/controls",
      "_view_module_version": "1.5.0",
      "_view_name": "HTMLView",
      "description": "",
      "description_tooltip": null,
      "layout": "IPY_MODEL_977860e9dcd2437f962ff63e0df1d8e4",
      "placeholder": "​",
      "style": "IPY_MODEL_06a9abb4d4464b2aa5048ec56b741317",
      "value": " 528k/528k [00:00&lt;00:00, 1.61MB/s]"
     }
    },
    "9a4a60dd843d4eebb405798402a08edb": {
     "model_module": "@jupyter-widgets/base",
     "model_module_version": "1.2.0",
     "model_name": "LayoutModel",
     "state": {
      "_model_module": "@jupyter-widgets/base",
      "_model_module_version": "1.2.0",
      "_model_name": "LayoutModel",
      "_view_count": null,
      "_view_module": "@jupyter-widgets/base",
      "_view_module_version": "1.2.0",
      "_view_name": "LayoutView",
      "align_content": null,
      "align_items": null,
      "align_self": null,
      "border": null,
      "bottom": null,
      "display": null,
      "flex": null,
      "flex_flow": null,
      "grid_area": null,
      "grid_auto_columns": null,
      "grid_auto_flow": null,
      "grid_auto_rows": null,
      "grid_column": null,
      "grid_gap": null,
      "grid_row": null,
      "grid_template_areas": null,
      "grid_template_columns": null,
      "grid_template_rows": null,
      "height": null,
      "justify_content": null,
      "justify_items": null,
      "left": null,
      "margin": null,
      "max_height": null,
      "max_width": null,
      "min_height": null,
      "min_width": null,
      "object_fit": null,
      "object_position": null,
      "order": null,
      "overflow": null,
      "overflow_x": null,
      "overflow_y": null,
      "padding": null,
      "right": null,
      "top": null,
      "visibility": null,
      "width": null
     }
    },
    "9a8c8970fcab4367a59900183874ed16": {
     "model_module": "@jupyter-widgets/base",
     "model_module_version": "1.2.0",
     "model_name": "LayoutModel",
     "state": {
      "_model_module": "@jupyter-widgets/base",
      "_model_module_version": "1.2.0",
      "_model_name": "LayoutModel",
      "_view_count": null,
      "_view_module": "@jupyter-widgets/base",
      "_view_module_version": "1.2.0",
      "_view_name": "LayoutView",
      "align_content": null,
      "align_items": null,
      "align_self": null,
      "border": null,
      "bottom": null,
      "display": null,
      "flex": null,
      "flex_flow": null,
      "grid_area": null,
      "grid_auto_columns": null,
      "grid_auto_flow": null,
      "grid_auto_rows": null,
      "grid_column": null,
      "grid_gap": null,
      "grid_row": null,
      "grid_template_areas": null,
      "grid_template_columns": null,
      "grid_template_rows": null,
      "height": null,
      "justify_content": null,
      "justify_items": null,
      "left": null,
      "margin": null,
      "max_height": null,
      "max_width": null,
      "min_height": null,
      "min_width": null,
      "object_fit": null,
      "object_position": null,
      "order": null,
      "overflow": null,
      "overflow_x": null,
      "overflow_y": null,
      "padding": null,
      "right": null,
      "top": null,
      "visibility": null,
      "width": null
     }
    },
    "a0b5b21bd32f4618909c1ffc522ba368": {
     "model_module": "@jupyter-widgets/controls",
     "model_module_version": "1.5.0",
     "model_name": "DescriptionStyleModel",
     "state": {
      "_model_module": "@jupyter-widgets/controls",
      "_model_module_version": "1.5.0",
      "_model_name": "DescriptionStyleModel",
      "_view_count": null,
      "_view_module": "@jupyter-widgets/base",
      "_view_module_version": "1.2.0",
      "_view_name": "StyleView",
      "description_width": ""
     }
    },
    "a5b87ea74c01424084aa79b5246eae94": {
     "model_module": "@jupyter-widgets/controls",
     "model_module_version": "1.5.0",
     "model_name": "HTMLModel",
     "state": {
      "_dom_classes": [],
      "_model_module": "@jupyter-widgets/controls",
      "_model_module_version": "1.5.0",
      "_model_name": "HTMLModel",
      "_view_count": null,
      "_view_module": "@jupyter-widgets/controls",
      "_view_module_version": "1.5.0",
      "_view_name": "HTMLView",
      "description": "",
      "description_tooltip": null,
      "layout": "IPY_MODEL_cf25aaa685244666b0db3e2f2fb18119",
      "placeholder": "​",
      "style": "IPY_MODEL_a0b5b21bd32f4618909c1ffc522ba368",
      "value": " 119/119 [00:00&lt;00:00, 5.57kB/s]"
     }
    },
    "a7fc5a58d3a445e0907ee3f001807fe4": {
     "model_module": "@jupyter-widgets/controls",
     "model_module_version": "1.5.0",
     "model_name": "DescriptionStyleModel",
     "state": {
      "_model_module": "@jupyter-widgets/controls",
      "_model_module_version": "1.5.0",
      "_model_name": "DescriptionStyleModel",
      "_view_count": null,
      "_view_module": "@jupyter-widgets/base",
      "_view_module_version": "1.2.0",
      "_view_name": "StyleView",
      "description_width": ""
     }
    },
    "a84f60c86937440f870b8d12b0d5ea2e": {
     "model_module": "@jupyter-widgets/base",
     "model_module_version": "1.2.0",
     "model_name": "LayoutModel",
     "state": {
      "_model_module": "@jupyter-widgets/base",
      "_model_module_version": "1.2.0",
      "_model_name": "LayoutModel",
      "_view_count": null,
      "_view_module": "@jupyter-widgets/base",
      "_view_module_version": "1.2.0",
      "_view_name": "LayoutView",
      "align_content": null,
      "align_items": null,
      "align_self": null,
      "border": null,
      "bottom": null,
      "display": null,
      "flex": null,
      "flex_flow": null,
      "grid_area": null,
      "grid_auto_columns": null,
      "grid_auto_flow": null,
      "grid_auto_rows": null,
      "grid_column": null,
      "grid_gap": null,
      "grid_row": null,
      "grid_template_areas": null,
      "grid_template_columns": null,
      "grid_template_rows": null,
      "height": null,
      "justify_content": null,
      "justify_items": null,
      "left": null,
      "margin": null,
      "max_height": null,
      "max_width": null,
      "min_height": null,
      "min_width": null,
      "object_fit": null,
      "object_position": null,
      "order": null,
      "overflow": null,
      "overflow_x": null,
      "overflow_y": null,
      "padding": null,
      "right": null,
      "top": null,
      "visibility": null,
      "width": null
     }
    },
    "a9173b681265483094353c3bb578d1e9": {
     "model_module": "@jupyter-widgets/base",
     "model_module_version": "1.2.0",
     "model_name": "LayoutModel",
     "state": {
      "_model_module": "@jupyter-widgets/base",
      "_model_module_version": "1.2.0",
      "_model_name": "LayoutModel",
      "_view_count": null,
      "_view_module": "@jupyter-widgets/base",
      "_view_module_version": "1.2.0",
      "_view_name": "LayoutView",
      "align_content": null,
      "align_items": null,
      "align_self": null,
      "border": null,
      "bottom": null,
      "display": null,
      "flex": null,
      "flex_flow": null,
      "grid_area": null,
      "grid_auto_columns": null,
      "grid_auto_flow": null,
      "grid_auto_rows": null,
      "grid_column": null,
      "grid_gap": null,
      "grid_row": null,
      "grid_template_areas": null,
      "grid_template_columns": null,
      "grid_template_rows": null,
      "height": null,
      "justify_content": null,
      "justify_items": null,
      "left": null,
      "margin": null,
      "max_height": null,
      "max_width": null,
      "min_height": null,
      "min_width": null,
      "object_fit": null,
      "object_position": null,
      "order": null,
      "overflow": null,
      "overflow_x": null,
      "overflow_y": null,
      "padding": null,
      "right": null,
      "top": null,
      "visibility": null,
      "width": null
     }
    },
    "aaa8d57948c94158873aee8283605a85": {
     "model_module": "@jupyter-widgets/controls",
     "model_module_version": "1.5.0",
     "model_name": "HBoxModel",
     "state": {
      "_dom_classes": [],
      "_model_module": "@jupyter-widgets/controls",
      "_model_module_version": "1.5.0",
      "_model_name": "HBoxModel",
      "_view_count": null,
      "_view_module": "@jupyter-widgets/controls",
      "_view_module_version": "1.5.0",
      "_view_name": "HBoxView",
      "box_style": "",
      "children": [
       "IPY_MODEL_d1b06728712845f3845f6199af7af243",
       "IPY_MODEL_1a1d0c5578c94236b3d6beffec78ced7",
       "IPY_MODEL_9894810715bd4b6f9b29e7d9b285514e"
      ],
      "layout": "IPY_MODEL_b9352fcb1c1a4e1c97d4425ce97ff2c0"
     }
    },
    "b0f26983279c474988e495a12d68372e": {
     "model_module": "@jupyter-widgets/controls",
     "model_module_version": "1.5.0",
     "model_name": "FloatProgressModel",
     "state": {
      "_dom_classes": [],
      "_model_module": "@jupyter-widgets/controls",
      "_model_module_version": "1.5.0",
      "_model_name": "FloatProgressModel",
      "_view_count": null,
      "_view_module": "@jupyter-widgets/controls",
      "_view_module_version": "1.5.0",
      "_view_name": "ProgressView",
      "bar_style": "success",
      "description": "",
      "description_tooltip": null,
      "layout": "IPY_MODEL_51978a13c517429c9e60dd6fd2527edf",
      "max": 442560329,
      "min": 0,
      "orientation": "horizontal",
      "style": "IPY_MODEL_5e21e21640154539b5a3bed98e0edffa",
      "value": 442560329
     }
    },
    "b3ae57acbc17455eb1b5b0871a94d39e": {
     "model_module": "@jupyter-widgets/base",
     "model_module_version": "1.2.0",
     "model_name": "LayoutModel",
     "state": {
      "_model_module": "@jupyter-widgets/base",
      "_model_module_version": "1.2.0",
      "_model_name": "LayoutModel",
      "_view_count": null,
      "_view_module": "@jupyter-widgets/base",
      "_view_module_version": "1.2.0",
      "_view_name": "LayoutView",
      "align_content": null,
      "align_items": null,
      "align_self": null,
      "border": null,
      "bottom": null,
      "display": null,
      "flex": null,
      "flex_flow": null,
      "grid_area": null,
      "grid_auto_columns": null,
      "grid_auto_flow": null,
      "grid_auto_rows": null,
      "grid_column": null,
      "grid_gap": null,
      "grid_row": null,
      "grid_template_areas": null,
      "grid_template_columns": null,
      "grid_template_rows": null,
      "height": null,
      "justify_content": null,
      "justify_items": null,
      "left": null,
      "margin": null,
      "max_height": null,
      "max_width": null,
      "min_height": null,
      "min_width": null,
      "object_fit": null,
      "object_position": null,
      "order": null,
      "overflow": null,
      "overflow_x": null,
      "overflow_y": null,
      "padding": null,
      "right": null,
      "top": null,
      "visibility": null,
      "width": null
     }
    },
    "b47bdeb8c1844a5c8018589f69bad3e9": {
     "model_module": "@jupyter-widgets/controls",
     "model_module_version": "1.5.0",
     "model_name": "ProgressStyleModel",
     "state": {
      "_model_module": "@jupyter-widgets/controls",
      "_model_module_version": "1.5.0",
      "_model_name": "ProgressStyleModel",
      "_view_count": null,
      "_view_module": "@jupyter-widgets/base",
      "_view_module_version": "1.2.0",
      "_view_name": "StyleView",
      "bar_color": null,
      "description_width": ""
     }
    },
    "b71d8c5111ae4028b32a6c400f1571ac": {
     "model_module": "@jupyter-widgets/controls",
     "model_module_version": "1.5.0",
     "model_name": "DescriptionStyleModel",
     "state": {
      "_model_module": "@jupyter-widgets/controls",
      "_model_module_version": "1.5.0",
      "_model_name": "DescriptionStyleModel",
      "_view_count": null,
      "_view_module": "@jupyter-widgets/base",
      "_view_module_version": "1.2.0",
      "_view_name": "StyleView",
      "description_width": ""
     }
    },
    "b80aa9588de94e6ba288961e418d0bb1": {
     "model_module": "@jupyter-widgets/controls",
     "model_module_version": "1.5.0",
     "model_name": "DescriptionStyleModel",
     "state": {
      "_model_module": "@jupyter-widgets/controls",
      "_model_module_version": "1.5.0",
      "_model_name": "DescriptionStyleModel",
      "_view_count": null,
      "_view_module": "@jupyter-widgets/base",
      "_view_module_version": "1.2.0",
      "_view_name": "StyleView",
      "description_width": ""
     }
    },
    "b9352fcb1c1a4e1c97d4425ce97ff2c0": {
     "model_module": "@jupyter-widgets/base",
     "model_module_version": "1.2.0",
     "model_name": "LayoutModel",
     "state": {
      "_model_module": "@jupyter-widgets/base",
      "_model_module_version": "1.2.0",
      "_model_name": "LayoutModel",
      "_view_count": null,
      "_view_module": "@jupyter-widgets/base",
      "_view_module_version": "1.2.0",
      "_view_name": "LayoutView",
      "align_content": null,
      "align_items": null,
      "align_self": null,
      "border": null,
      "bottom": null,
      "display": null,
      "flex": null,
      "flex_flow": null,
      "grid_area": null,
      "grid_auto_columns": null,
      "grid_auto_flow": null,
      "grid_auto_rows": null,
      "grid_column": null,
      "grid_gap": null,
      "grid_row": null,
      "grid_template_areas": null,
      "grid_template_columns": null,
      "grid_template_rows": null,
      "height": null,
      "justify_content": null,
      "justify_items": null,
      "left": null,
      "margin": null,
      "max_height": null,
      "max_width": null,
      "min_height": null,
      "min_width": null,
      "object_fit": null,
      "object_position": null,
      "order": null,
      "overflow": null,
      "overflow_x": null,
      "overflow_y": null,
      "padding": null,
      "right": null,
      "top": null,
      "visibility": null,
      "width": null
     }
    },
    "bb6a5508a876498f9025c02f145f4441": {
     "model_module": "@jupyter-widgets/base",
     "model_module_version": "1.2.0",
     "model_name": "LayoutModel",
     "state": {
      "_model_module": "@jupyter-widgets/base",
      "_model_module_version": "1.2.0",
      "_model_name": "LayoutModel",
      "_view_count": null,
      "_view_module": "@jupyter-widgets/base",
      "_view_module_version": "1.2.0",
      "_view_name": "LayoutView",
      "align_content": null,
      "align_items": null,
      "align_self": null,
      "border": null,
      "bottom": null,
      "display": null,
      "flex": null,
      "flex_flow": null,
      "grid_area": null,
      "grid_auto_columns": null,
      "grid_auto_flow": null,
      "grid_auto_rows": null,
      "grid_column": null,
      "grid_gap": null,
      "grid_row": null,
      "grid_template_areas": null,
      "grid_template_columns": null,
      "grid_template_rows": null,
      "height": null,
      "justify_content": null,
      "justify_items": null,
      "left": null,
      "margin": null,
      "max_height": null,
      "max_width": null,
      "min_height": null,
      "min_width": null,
      "object_fit": null,
      "object_position": null,
      "order": null,
      "overflow": null,
      "overflow_x": null,
      "overflow_y": null,
      "padding": null,
      "right": null,
      "top": null,
      "visibility": null,
      "width": null
     }
    },
    "bce0ad5e89a6403cb8883e3190813b93": {
     "model_module": "@jupyter-widgets/controls",
     "model_module_version": "1.5.0",
     "model_name": "ProgressStyleModel",
     "state": {
      "_model_module": "@jupyter-widgets/controls",
      "_model_module_version": "1.5.0",
      "_model_name": "ProgressStyleModel",
      "_view_count": null,
      "_view_module": "@jupyter-widgets/base",
      "_view_module_version": "1.2.0",
      "_view_name": "StyleView",
      "bar_color": null,
      "description_width": ""
     }
    },
    "c15e18c828f6463faeb652bae1fee805": {
     "model_module": "@jupyter-widgets/controls",
     "model_module_version": "1.5.0",
     "model_name": "HTMLModel",
     "state": {
      "_dom_classes": [],
      "_model_module": "@jupyter-widgets/controls",
      "_model_module_version": "1.5.0",
      "_model_name": "HTMLModel",
      "_view_count": null,
      "_view_module": "@jupyter-widgets/controls",
      "_view_module_version": "1.5.0",
      "_view_name": "HTMLView",
      "description": "",
      "description_tooltip": null,
      "layout": "IPY_MODEL_9a4a60dd843d4eebb405798402a08edb",
      "placeholder": "​",
      "style": "IPY_MODEL_31babaf515e64599b07c62fa8cdd6c87",
      "value": " 443M/443M [00:23&lt;00:00, 10.9MB/s]"
     }
    },
    "c45f79b6f6c748338be96c08b0b796ec": {
     "model_module": "@jupyter-widgets/controls",
     "model_module_version": "1.5.0",
     "model_name": "DescriptionStyleModel",
     "state": {
      "_model_module": "@jupyter-widgets/controls",
      "_model_module_version": "1.5.0",
      "_model_name": "DescriptionStyleModel",
      "_view_count": null,
      "_view_module": "@jupyter-widgets/base",
      "_view_module_version": "1.2.0",
      "_view_name": "StyleView",
      "description_width": ""
     }
    },
    "cf25aaa685244666b0db3e2f2fb18119": {
     "model_module": "@jupyter-widgets/base",
     "model_module_version": "1.2.0",
     "model_name": "LayoutModel",
     "state": {
      "_model_module": "@jupyter-widgets/base",
      "_model_module_version": "1.2.0",
      "_model_name": "LayoutModel",
      "_view_count": null,
      "_view_module": "@jupyter-widgets/base",
      "_view_module_version": "1.2.0",
      "_view_name": "LayoutView",
      "align_content": null,
      "align_items": null,
      "align_self": null,
      "border": null,
      "bottom": null,
      "display": null,
      "flex": null,
      "flex_flow": null,
      "grid_area": null,
      "grid_auto_columns": null,
      "grid_auto_flow": null,
      "grid_auto_rows": null,
      "grid_column": null,
      "grid_gap": null,
      "grid_row": null,
      "grid_template_areas": null,
      "grid_template_columns": null,
      "grid_template_rows": null,
      "height": null,
      "justify_content": null,
      "justify_items": null,
      "left": null,
      "margin": null,
      "max_height": null,
      "max_width": null,
      "min_height": null,
      "min_width": null,
      "object_fit": null,
      "object_position": null,
      "order": null,
      "overflow": null,
      "overflow_x": null,
      "overflow_y": null,
      "padding": null,
      "right": null,
      "top": null,
      "visibility": null,
      "width": null
     }
    },
    "d1b06728712845f3845f6199af7af243": {
     "model_module": "@jupyter-widgets/controls",
     "model_module_version": "1.5.0",
     "model_name": "HTMLModel",
     "state": {
      "_dom_classes": [],
      "_model_module": "@jupyter-widgets/controls",
      "_model_module_version": "1.5.0",
      "_model_name": "HTMLModel",
      "_view_count": null,
      "_view_module": "@jupyter-widgets/controls",
      "_view_module_version": "1.5.0",
      "_view_name": "HTMLView",
      "description": "",
      "description_tooltip": null,
      "layout": "IPY_MODEL_d8e8fc46d7864d2493d900183c887fb8",
      "placeholder": "​",
      "style": "IPY_MODEL_4722d1e7eb0947b8a151c23090e4e230",
      "value": "Downloading: 100%"
     }
    },
    "d1c38f3a164c4936a49932f8d3aa3e8c": {
     "model_module": "@jupyter-widgets/controls",
     "model_module_version": "1.5.0",
     "model_name": "HTMLModel",
     "state": {
      "_dom_classes": [],
      "_model_module": "@jupyter-widgets/controls",
      "_model_module_version": "1.5.0",
      "_model_name": "HTMLModel",
      "_view_count": null,
      "_view_module": "@jupyter-widgets/controls",
      "_view_module_version": "1.5.0",
      "_view_name": "HTMLView",
      "description": "",
      "description_tooltip": null,
      "layout": "IPY_MODEL_b3ae57acbc17455eb1b5b0871a94d39e",
      "placeholder": "​",
      "style": "IPY_MODEL_c45f79b6f6c748338be96c08b0b796ec",
      "value": "Downloading: 100%"
     }
    },
    "d3f76b2192914242bab55c9b6c1c0ab4": {
     "model_module": "@jupyter-widgets/controls",
     "model_module_version": "1.5.0",
     "model_name": "HBoxModel",
     "state": {
      "_dom_classes": [],
      "_model_module": "@jupyter-widgets/controls",
      "_model_module_version": "1.5.0",
      "_model_name": "HBoxModel",
      "_view_count": null,
      "_view_module": "@jupyter-widgets/controls",
      "_view_module_version": "1.5.0",
      "_view_name": "HBoxView",
      "box_style": "",
      "children": [
       "IPY_MODEL_8152c89e7d2b475c9fbc60238e1632d0",
       "IPY_MODEL_80c242f9679c40a9907124c41a8c26cf",
       "IPY_MODEL_e8e558281ba1446e8a8449620e43dce6"
      ],
      "layout": "IPY_MODEL_5239c3417fc84f6ea34c864db3ab74d0"
     }
    },
    "d8e8fc46d7864d2493d900183c887fb8": {
     "model_module": "@jupyter-widgets/base",
     "model_module_version": "1.2.0",
     "model_name": "LayoutModel",
     "state": {
      "_model_module": "@jupyter-widgets/base",
      "_model_module_version": "1.2.0",
      "_model_name": "LayoutModel",
      "_view_count": null,
      "_view_module": "@jupyter-widgets/base",
      "_view_module_version": "1.2.0",
      "_view_name": "LayoutView",
      "align_content": null,
      "align_items": null,
      "align_self": null,
      "border": null,
      "bottom": null,
      "display": null,
      "flex": null,
      "flex_flow": null,
      "grid_area": null,
      "grid_auto_columns": null,
      "grid_auto_flow": null,
      "grid_auto_rows": null,
      "grid_column": null,
      "grid_gap": null,
      "grid_row": null,
      "grid_template_areas": null,
      "grid_template_columns": null,
      "grid_template_rows": null,
      "height": null,
      "justify_content": null,
      "justify_items": null,
      "left": null,
      "margin": null,
      "max_height": null,
      "max_width": null,
      "min_height": null,
      "min_width": null,
      "object_fit": null,
      "object_position": null,
      "order": null,
      "overflow": null,
      "overflow_x": null,
      "overflow_y": null,
      "padding": null,
      "right": null,
      "top": null,
      "visibility": null,
      "width": null
     }
    },
    "e18c22804aa245fea1279fe2e2567240": {
     "model_module": "@jupyter-widgets/controls",
     "model_module_version": "1.5.0",
     "model_name": "ProgressStyleModel",
     "state": {
      "_model_module": "@jupyter-widgets/controls",
      "_model_module_version": "1.5.0",
      "_model_name": "ProgressStyleModel",
      "_view_count": null,
      "_view_module": "@jupyter-widgets/base",
      "_view_module_version": "1.2.0",
      "_view_name": "StyleView",
      "bar_color": null,
      "description_width": ""
     }
    },
    "e2e4a430c0564f4495538eded8125f8a": {
     "model_module": "@jupyter-widgets/base",
     "model_module_version": "1.2.0",
     "model_name": "LayoutModel",
     "state": {
      "_model_module": "@jupyter-widgets/base",
      "_model_module_version": "1.2.0",
      "_model_name": "LayoutModel",
      "_view_count": null,
      "_view_module": "@jupyter-widgets/base",
      "_view_module_version": "1.2.0",
      "_view_name": "LayoutView",
      "align_content": null,
      "align_items": null,
      "align_self": null,
      "border": null,
      "bottom": null,
      "display": null,
      "flex": null,
      "flex_flow": null,
      "grid_area": null,
      "grid_auto_columns": null,
      "grid_auto_flow": null,
      "grid_auto_rows": null,
      "grid_column": null,
      "grid_gap": null,
      "grid_row": null,
      "grid_template_areas": null,
      "grid_template_columns": null,
      "grid_template_rows": null,
      "height": null,
      "justify_content": null,
      "justify_items": null,
      "left": null,
      "margin": null,
      "max_height": null,
      "max_width": null,
      "min_height": null,
      "min_width": null,
      "object_fit": null,
      "object_position": null,
      "order": null,
      "overflow": null,
      "overflow_x": null,
      "overflow_y": null,
      "padding": null,
      "right": null,
      "top": null,
      "visibility": null,
      "width": null
     }
    },
    "e8e558281ba1446e8a8449620e43dce6": {
     "model_module": "@jupyter-widgets/controls",
     "model_module_version": "1.5.0",
     "model_name": "HTMLModel",
     "state": {
      "_dom_classes": [],
      "_model_module": "@jupyter-widgets/controls",
      "_model_module_version": "1.5.0",
      "_model_name": "HTMLModel",
      "_view_count": null,
      "_view_module": "@jupyter-widgets/controls",
      "_view_module_version": "1.5.0",
      "_view_name": "HTMLView",
      "description": "",
      "description_tooltip": null,
      "layout": "IPY_MODEL_a9173b681265483094353c3bb578d1e9",
      "placeholder": "​",
      "style": "IPY_MODEL_b71d8c5111ae4028b32a6c400f1571ac",
      "value": " 586/586 [00:00&lt;00:00, 26.3kB/s]"
     }
    },
    "ec678dca35234b17b9ddcd7d497ff26c": {
     "model_module": "@jupyter-widgets/controls",
     "model_module_version": "1.5.0",
     "model_name": "FloatProgressModel",
     "state": {
      "_dom_classes": [],
      "_model_module": "@jupyter-widgets/controls",
      "_model_module_version": "1.5.0",
      "_model_name": "FloatProgressModel",
      "_view_count": null,
      "_view_module": "@jupyter-widgets/controls",
      "_view_module_version": "1.5.0",
      "_view_name": "ProgressView",
      "bar_style": "success",
      "description": "",
      "description_tooltip": null,
      "layout": "IPY_MODEL_bb6a5508a876498f9025c02f145f4441",
      "max": 119,
      "min": 0,
      "orientation": "horizontal",
      "style": "IPY_MODEL_b47bdeb8c1844a5c8018589f69bad3e9",
      "value": 119
     }
    },
    "f111c1baf9e941c9ad44546a14394616": {
     "model_module": "@jupyter-widgets/controls",
     "model_module_version": "1.5.0",
     "model_name": "DescriptionStyleModel",
     "state": {
      "_model_module": "@jupyter-widgets/controls",
      "_model_module_version": "1.5.0",
      "_model_name": "DescriptionStyleModel",
      "_view_count": null,
      "_view_module": "@jupyter-widgets/base",
      "_view_module_version": "1.2.0",
      "_view_name": "StyleView",
      "description_width": ""
     }
    },
    "fc0be9d633574dda843c6ca0839762c7": {
     "model_module": "@jupyter-widgets/base",
     "model_module_version": "1.2.0",
     "model_name": "LayoutModel",
     "state": {
      "_model_module": "@jupyter-widgets/base",
      "_model_module_version": "1.2.0",
      "_model_name": "LayoutModel",
      "_view_count": null,
      "_view_module": "@jupyter-widgets/base",
      "_view_module_version": "1.2.0",
      "_view_name": "LayoutView",
      "align_content": null,
      "align_items": null,
      "align_self": null,
      "border": null,
      "bottom": null,
      "display": null,
      "flex": null,
      "flex_flow": null,
      "grid_area": null,
      "grid_auto_columns": null,
      "grid_auto_flow": null,
      "grid_auto_rows": null,
      "grid_column": null,
      "grid_gap": null,
      "grid_row": null,
      "grid_template_areas": null,
      "grid_template_columns": null,
      "grid_template_rows": null,
      "height": null,
      "justify_content": null,
      "justify_items": null,
      "left": null,
      "margin": null,
      "max_height": null,
      "max_width": null,
      "min_height": null,
      "min_width": null,
      "object_fit": null,
      "object_position": null,
      "order": null,
      "overflow": null,
      "overflow_x": null,
      "overflow_y": null,
      "padding": null,
      "right": null,
      "top": null,
      "visibility": null,
      "width": null
     }
    },
    "fca8448ffdc94e71a2580579c7ca2178": {
     "model_module": "@jupyter-widgets/controls",
     "model_module_version": "1.5.0",
     "model_name": "HBoxModel",
     "state": {
      "_dom_classes": [],
      "_model_module": "@jupyter-widgets/controls",
      "_model_module_version": "1.5.0",
      "_model_name": "HBoxModel",
      "_view_count": null,
      "_view_module": "@jupyter-widgets/controls",
      "_view_module_version": "1.5.0",
      "_view_name": "HBoxView",
      "box_style": "",
      "children": [
       "IPY_MODEL_d1c38f3a164c4936a49932f8d3aa3e8c",
       "IPY_MODEL_b0f26983279c474988e495a12d68372e",
       "IPY_MODEL_c15e18c828f6463faeb652bae1fee805"
      ],
      "layout": "IPY_MODEL_085d72a2d32048828b2284311f49029f"
     }
    }
   }
  }
 },
 "nbformat": 4,
 "nbformat_minor": 1
}
